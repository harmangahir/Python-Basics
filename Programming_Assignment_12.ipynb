{
  "cells": [
    {
      "cell_type": "markdown",
      "metadata": {
        "id": "T15F3s9eW-LM"
      },
      "source": [
        "1. Write a Python program to Extract Unique values dictionary values?\n"
      ]
    },
    {
      "cell_type": "code",
      "execution_count": 3,
      "metadata": {
        "colab": {
          "base_uri": "https://localhost:8080/"
        },
        "id": "FAqsg9PyW-LR",
        "outputId": "259f5dcf-182f-4d38-a0e8-13fe60bc6c12"
      },
      "outputs": [
        {
          "output_type": "stream",
          "name": "stdout",
          "text": [
            "{1, 2, 3, 4, 5, 6, 7, 8, 9, 11, 12, 13}\n"
          ]
        }
      ],
      "source": [
        "dict1 = {'a' : [1,2,3,4],\n",
        "             'b' : [3,4,5,6],\n",
        "             'c' : [4,7,8,9],\n",
        "             'd' : [12,11,12,13]}\n",
        "\n",
        "lstSet = set([ele for value in dict1.values() for ele in value])\n",
        "print(lstSet)\n",
        "        "
      ]
    },
    {
      "cell_type": "markdown",
      "metadata": {
        "id": "kdwX-ixwW-Le"
      },
      "source": [
        "2. Write a Python program to find the sum of all items in a dictionary?\n"
      ]
    },
    {
      "cell_type": "code",
      "execution_count": 12,
      "metadata": {
        "colab": {
          "base_uri": "https://localhost:8080/"
        },
        "id": "9bDu_OBwW-Li",
        "outputId": "90af36c7-cb3b-4823-a2bb-48b8a8408dbb"
      },
      "outputs": [
        {
          "output_type": "stream",
          "name": "stdout",
          "text": [
            "Sun of all items is : 137\n"
          ]
        }
      ],
      "source": [
        "test_dict = {'a' : 8,\n",
        "             'b' :  11,\n",
        "             'c' : 12,\n",
        "             'd' : 5}\n",
        "\n",
        "sum = 0\n",
        "for i in test_dict.values():\n",
        "    sum +=sum + i\n",
        "print(\"Sun of all items is : {}\".format(sum))"
      ]
    },
    {
      "cell_type": "markdown",
      "metadata": {
        "id": "I6GKjWbJW-Lo"
      },
      "source": [
        "3. Write a Python program to Merging two Dictionaries?\n"
      ]
    },
    {
      "cell_type": "code",
      "execution_count": 11,
      "metadata": {
        "colab": {
          "base_uri": "https://localhost:8080/"
        },
        "id": "vmkYX1dtW-Ls",
        "outputId": "3d1cb951-7f3e-4443-c22f-cd5424d36cf4"
      },
      "outputs": [
        {
          "output_type": "stream",
          "name": "stdout",
          "text": [
            "dict a :  {'x': 1, 'y': 2}\n",
            "Dict b :  {'y': 3, 'z': 4}\n",
            "updated dictionary : {'x': 1, 'y': 3, 'z': 4}\n"
          ]
        }
      ],
      "source": [
        "a = { 'x': 1, 'y': 2}\n",
        "b = { 'y': 3, 'z': 4}\n",
        "c = a.copy()\n",
        "c.update(b)\n",
        "print(\"dict a : \", a)\n",
        "print(\"Dict b : \", b)\n",
        "print('updated dictionary : {}'.format(c))"
      ]
    },
    {
      "cell_type": "markdown",
      "metadata": {
        "id": "yMyH7Q9fW-Lz"
      },
      "source": [
        "4. Write a Python program to convert key-values list to flat dictionary?\n"
      ]
    },
    {
      "cell_type": "code",
      "execution_count": 4,
      "metadata": {
        "colab": {
          "base_uri": "https://localhost:8080/"
        },
        "id": "Dsu4OEOZW-L3",
        "outputId": "22cc39d6-3e5a-4e1e-b687-c80ac7d93ba4"
      },
      "outputs": [
        {
          "output_type": "stream",
          "name": "stdout",
          "text": [
            "The original dictionary is : {'month': [1, 2, 3], 'name': ['Jan', 'Feb', 'March']}\n",
            "Flattened dictionary : {1: 'Jan', 2: 'Feb', 3: 'March'}\n"
          ]
        }
      ],
      "source": [
        "test_dict = {'month' : [1, 2, 3],\n",
        "             'name' : ['Jan', 'Feb', 'March']}\n",
        "  \n",
        "print(\"The original dictionary is : \" + str(test_dict))\n",
        "res = dict(zip(test_dict['month'], test_dict['name']))\n",
        "  \n",
        "print(\"Flattened dictionary : \" + str(res)) "
      ]
    },
    {
      "cell_type": "markdown",
      "metadata": {
        "id": "npMIJkPOW-L9"
      },
      "source": [
        "5. Write a Python program to insertion at the beginning in OrderedDict?\n"
      ]
    },
    {
      "cell_type": "code",
      "execution_count": 5,
      "metadata": {
        "colab": {
          "base_uri": "https://localhost:8080/"
        },
        "id": "rvu4no3wW-MB",
        "outputId": "d88722cf-a5fe-4927-92c5-5851148ec56e"
      },
      "outputs": [
        {
          "output_type": "stream",
          "name": "stdout",
          "text": [
            "Ordered Dictionary after insertion : OrderedDict([('Jan', '1'), ('Feb', '2'), ('Mar', '3')])\n"
          ]
        }
      ],
      "source": [
        "from collections import OrderedDict\n",
        "iniordered_dict = OrderedDict([('Feb', '2'), ('Mar', '3')])\n",
        "\n",
        "iniordered_dict.update({'Jan':'1'})\n",
        "iniordered_dict.move_to_end('Jan', last = False)\n",
        "\n",
        "print (\"Ordered Dictionary after insertion : \"+str(iniordered_dict))"
      ]
    },
    {
      "cell_type": "markdown",
      "metadata": {
        "id": "hZj2CtdPW-MF"
      },
      "source": [
        "6. Write a Python program to check order of character in string using OrderedDict()?\n"
      ]
    },
    {
      "cell_type": "code",
      "execution_count": 9,
      "metadata": {
        "colab": {
          "base_uri": "https://localhost:8080/"
        },
        "id": "Ye8P64cXW-MH",
        "outputId": "b74dfe44-5f99-4493-cadd-432dda15e6e2"
      },
      "outputs": [
        {
          "output_type": "stream",
          "name": "stdout",
          "text": [
            "enter string : This is INeuron session on Machine Learning\n",
            "Enter Pattern : INeuron\n",
            "OrderedDict([('T', None), ('h', None), ('i', None), ('s', None), (' ', None), ('I', None), ('N', None), ('e', None), ('u', None), ('r', None), ('o', None), ('n', None), ('M', None), ('a', None), ('c', None), ('L', None), ('g', None)])\n",
            "Pattern matched\n"
          ]
        }
      ],
      "source": [
        "from collections import OrderedDict \n",
        "  \n",
        "def checkOrderofString(str, pattern): \n",
        "    dict = OrderedDict.fromkeys(str) \n",
        "    print(dict)   \n",
        "    ptrlen = 0\n",
        "    for key,value in dict.items(): \n",
        "        \n",
        "        if (key == pattern[ptrlen]): \n",
        "            ptrlen = ptrlen + 1\n",
        "          \n",
        "        \n",
        "        if (ptrlen == (len(pattern))):            \n",
        "            return 'true'\n",
        "  \n",
        "    return 'false'\n",
        "  \n",
        "\n",
        "string = input(\"enter string : \")\n",
        "pattern = input(\"Enter Pattern : \")\n",
        "if checkOrderofString(string,pattern):\n",
        "    print(\"Pattern matched\")\n",
        "else:\n",
        "    print(\"Pattern not matched\")\n"
      ]
    },
    {
      "cell_type": "markdown",
      "metadata": {
        "id": "FpXaPwgeW-ML"
      },
      "source": [
        "7. Write a Python program to sort Python Dictionaries by Key or Value?"
      ]
    },
    {
      "cell_type": "code",
      "execution_count": 10,
      "metadata": {
        "colab": {
          "base_uri": "https://localhost:8080/"
        },
        "id": "wXbB3jOqW-MN",
        "outputId": "01061e28-7a30-4b5a-aad9-4f793ede8167"
      },
      "outputs": [
        {
          "output_type": "stream",
          "name": "stdout",
          "text": [
            "[1, 2, 3, 4, 5, 6]\n",
            "[(1, 2), (2, 1), (3, 4), (4, 3), (5, 6), (6, 5)]\n"
          ]
        }
      ],
      "source": [
        "a = {1:2 ,2:1 ,4:3 ,3:4 ,6:5 ,5:6 }\n",
        "print(sorted(a.keys()))\n",
        "print(sorted(a.items()))"
      ]
    },
    {
      "cell_type": "code",
      "execution_count": 8,
      "metadata": {
        "colab": {
          "base_uri": "https://localhost:8080/"
        },
        "id": "2NNgitz3W-MP",
        "outputId": "79672398-543b-4fe0-fa53-da8efbd40e03"
      },
      "outputs": [
        {
          "output_type": "stream",
          "name": "stdout",
          "text": [
            "[1, 2, 3, 4, 5, 6]\n"
          ]
        }
      ],
      "source": [
        "a = {1:2 ,2:1 ,4:3 ,3:4 ,6:5 ,5:6 }\n",
        "print(sorted(a.values()))"
      ]
    },
    {
      "cell_type": "code",
      "execution_count": null,
      "metadata": {
        "id": "YE_cvXQHW-MS"
      },
      "outputs": [],
      "source": []
    }
  ],
  "metadata": {
    "kernelspec": {
      "display_name": "Python 3",
      "language": "python",
      "name": "python3"
    },
    "language_info": {
      "codemirror_mode": {
        "name": "ipython",
        "version": 3
      },
      "file_extension": ".py",
      "mimetype": "text/x-python",
      "name": "python",
      "nbconvert_exporter": "python",
      "pygments_lexer": "ipython3",
      "version": "3.8.3"
    },
    "colab": {
      "provenance": []
    }
  },
  "nbformat": 4,
  "nbformat_minor": 0
}