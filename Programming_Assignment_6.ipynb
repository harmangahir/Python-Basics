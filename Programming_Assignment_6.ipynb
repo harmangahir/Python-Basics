{
  "nbformat": 4,
  "nbformat_minor": 0,
  "metadata": {
    "colab": {
      "provenance": []
    },
    "kernelspec": {
      "name": "python3",
      "display_name": "Python 3"
    },
    "language_info": {
      "name": "python"
    }
  },
  "cells": [
    {
      "cell_type": "markdown",
      "source": [
        "1. Write a Python Program to Display Fibonacci Sequence Using Recursion?"
      ],
      "metadata": {
        "id": "4Zc_KuULcmx3"
      }
    },
    {
      "cell_type": "code",
      "execution_count": 10,
      "metadata": {
        "id": "H5W32b4Dbb_7",
        "colab": {
          "base_uri": "https://localhost:8080/"
        },
        "outputId": "392a8d01-e9dd-45c9-b8e2-414b8761049e"
      },
      "outputs": [
        {
          "output_type": "stream",
          "name": "stdout",
          "text": [
            "Enter a number:15\n",
            "0\n",
            "1\n",
            "1\n",
            "2\n",
            "3\n",
            "5\n",
            "8\n",
            "13\n",
            "21\n",
            "34\n",
            "55\n",
            "89\n",
            "144\n",
            "233\n",
            "377\n"
          ]
        }
      ],
      "source": [
        "def cal_fibonacci(number):\n",
        "  return number if (number<=1) else cal_fibonacci(number-1) + cal_fibonacci(number-2)\n",
        "\n",
        "\n",
        "number = int(input('Enter a number:'))\n",
        "\n",
        "for item in range(0, number):\n",
        "  print(cal_fibonacci(item))\n"
      ]
    },
    {
      "cell_type": "markdown",
      "source": [
        "2. Write a Python Program to Find Factorial of Number Using Recursion?"
      ],
      "metadata": {
        "id": "roUd-LLKd_uo"
      }
    },
    {
      "cell_type": "code",
      "source": [
        "def cal_factorial(number):\n",
        "  return 1 if (number==1) else number * cal_factorial(number-1)\n",
        "\n",
        "number = int(input('Enter a number:'))\n",
        "\n",
        "print('Factorial of {} is {}'.format(number, cal_factorial(number)))"
      ],
      "metadata": {
        "colab": {
          "base_uri": "https://localhost:8080/"
        },
        "id": "smcd29aEdPVL",
        "outputId": "ddd8d641-15ec-4905-f283-bfbe2505d3ad"
      },
      "execution_count": 4,
      "outputs": [
        {
          "output_type": "stream",
          "name": "stdout",
          "text": [
            "Enter a number:9\n",
            "Factorial of 9 is 362880\n"
          ]
        }
      ]
    },
    {
      "cell_type": "markdown",
      "source": [
        "3. Write a Python Program to calculate your Body Mass Index?"
      ],
      "metadata": {
        "id": "lgKWoW4okaXj"
      }
    },
    {
      "cell_type": "code",
      "source": [
        "import math\n",
        "age = int(input('Enter age:'))\n",
        "weight_kg = float(input('Enter weight in kg:'))\n",
        "height_cms = int(input('Enter height in cms:'))\n",
        "height_meters = height_cms/100\n",
        "bmi = round(weight_kg / (height_meters * height_meters))\n",
        "if bmi < 15:\n",
        "  print('Your BMI is {0}. BMI Category is {1}'.format(bmi, 'Very severely underweight'))\n",
        "elif(bmi >= 15 and bmi <= 16):\n",
        "  print('Your BMI is {0}. BMI Category is {1}'.format(bmi, 'Severely underweight'))\n",
        "elif bmi >= 16 and bmi <= 18.5:\n",
        "  print('Your BMI is {0}. BMI Category is {1}'.format(bmi, 'Severely underweight'))\n",
        "elif bmi >= 18.5 and bmi <= 25: \n",
        "  print('Your BMI is {0}. BMI Category is {1}'.format(bmi, 'Severely underweight'))\n",
        "elif bmi >= 25 and bmi <= 30:\n",
        "  print('Your BMI is {0}. BMI Category is {1}'.format(bmi, 'Severely underweight'))\n",
        "elif bmi >= 30 and bmi <= 35:\n",
        "  print('Your BMI is {0}. BMI Category is {1}'.format(bmi, 'Severely underweight'))\n",
        "elif bmi >= 35 and bmi <= 40:\n",
        "  print('Your BMI is {0}. BMI Category is {1}'.format(bmi, 'Severely underweight'))\n",
        "else:\n",
        "  print('Your BMI is {0}. BMI Category is {1}'.format(bmi, 'Very severely overweight'))\n",
        "  \n",
        "\n"
      ],
      "metadata": {
        "colab": {
          "base_uri": "https://localhost:8080/"
        },
        "id": "eN--YyOMiN4s",
        "outputId": "55af4bed-f620-40ea-ef70-1ac80d0a10ed"
      },
      "execution_count": null,
      "outputs": [
        {
          "output_type": "stream",
          "name": "stdout",
          "text": [
            "Enter age:23\n",
            "Enter weight in kg:23\n",
            "Enter height in cms:123\n",
            "Your BMI is 15. BMI Category is Severely underweight\n"
          ]
        }
      ]
    },
    {
      "cell_type": "markdown",
      "source": [
        "4. Write a Python Program to calculate the natural logarithm of any number?"
      ],
      "metadata": {
        "id": "ywcO3CA7nnbC"
      }
    },
    {
      "cell_type": "code",
      "source": [
        "import math\n",
        "number = int(input('Enter a number:')) \n",
        "\n",
        "print ('Natural logarithm of {} is {}'.format(number, round(math.log(number))))\n"
      ],
      "metadata": {
        "colab": {
          "base_uri": "https://localhost:8080/"
        },
        "id": "7Bf2r4Yqlb2L",
        "outputId": "1a804bdc-19bd-42d4-d931-199cb306f605"
      },
      "execution_count": null,
      "outputs": [
        {
          "output_type": "stream",
          "name": "stdout",
          "text": [
            "Enter a number:13\n",
            "Natural logarithm of 13 is 3\n"
          ]
        }
      ]
    },
    {
      "cell_type": "markdown",
      "source": [
        "5. Write a Python Program for cube sum of first n natural numbers?"
      ],
      "metadata": {
        "id": "k0VPxPpJoUCy"
      }
    },
    {
      "cell_type": "code",
      "source": [
        "def calculate_cube(number,sum):\n",
        "  for item in range(0, number + 1):\n",
        "    sum  += item**3\n",
        "  return sum\n",
        "\n",
        "number = int(input('Enter a number:')) \n",
        "print ('Cube sum of {} is {}'.format(number, calculate_cube(number,0)))\n"
      ],
      "metadata": {
        "colab": {
          "base_uri": "https://localhost:8080/"
        },
        "id": "XfEBIEBcoIZq",
        "outputId": "703983b6-302a-4e92-99f6-b5a4c0a86aba"
      },
      "execution_count": null,
      "outputs": [
        {
          "output_type": "stream",
          "name": "stdout",
          "text": [
            "Enter a number:5\n",
            "Cube sum of 5 is 225\n"
          ]
        }
      ]
    },
    {
      "cell_type": "code",
      "source": [],
      "metadata": {
        "id": "vUiZrh7RpExc"
      },
      "execution_count": null,
      "outputs": []
    }
  ]
}