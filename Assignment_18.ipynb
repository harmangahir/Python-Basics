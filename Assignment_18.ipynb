{
  "nbformat": 4,
  "nbformat_minor": 0,
  "metadata": {
    "colab": {
      "provenance": []
    },
    "kernelspec": {
      "name": "python3",
      "display_name": "Python 3"
    },
    "language_info": {
      "name": "python"
    }
  },
  "cells": [
    {
      "cell_type": "markdown",
      "source": [
        "**Question:1** Create a zoo.py file first. Define the hours() function, which prints the string &#39;Open 9-5 daily&#39;.\n",
        "Then, use the interactive interpreter to import the zoo module and call its hours() function."
      ],
      "metadata": {
        "id": "fByOAB0PABds"
      }
    },
    {
      "cell_type": "markdown",
      "source": [
        "#In zoo.py\n",
        "\n",
        "def hours():\n",
        "    print('Open 9-5 daily')\n",
        "\n",
        "Save file with zoo.py in some directory\n",
        "\n",
        "#Now create new python file demo.py and type\n",
        "\n",
        "import zoo\n",
        "\n",
        "zoo.hours()\n",
        "\n",
        "#Save this file in same diredctory where zoo.py saved\n"
      ],
      "metadata": {
        "id": "igwd7ACv23hF"
      }
    },
    {
      "cell_type": "markdown",
      "source": [
        "**Question2:** In the interactive interpreter, import the zoo module as menagerie and call its hours() function."
      ],
      "metadata": {
        "id": "W0QDsChX3VYY"
      }
    },
    {
      "cell_type": "markdown",
      "source": [
        "import zoo as menagerie\n",
        "\n",
        "menagerie.hours()"
      ],
      "metadata": {
        "id": "TTQsLD4B3dOa"
      }
    },
    {
      "cell_type": "markdown",
      "source": [
        "**Question3:** Using the interpreter, explicitly import and call the hours() function from zoo."
      ],
      "metadata": {
        "id": "bLOAYG-r32r8"
      }
    },
    {
      "cell_type": "markdown",
      "source": [
        "from zoo import hours\n",
        "\n",
        "hours()"
      ],
      "metadata": {
        "id": "I8L8jNjO4GN7"
      }
    },
    {
      "cell_type": "markdown",
      "source": [
        "**Question4:** Import the hours() function as info and call it."
      ],
      "metadata": {
        "id": "70b4dZY94Lux"
      }
    },
    {
      "cell_type": "markdown",
      "source": [
        "from zoo import hours as info\n",
        "\n",
        "info()"
      ],
      "metadata": {
        "id": "ZKfmF17T4UAl"
      }
    },
    {
      "cell_type": "markdown",
      "source": [
        "**Question5:** Create a plain dictionary with the key-value pairs &#39;a&#39;: 1, &#39;b&#39;: 2, and &#39;c&#39;: 3, and print it out."
      ],
      "metadata": {
        "id": "fPEJG32F4cec"
      }
    },
    {
      "cell_type": "code",
      "source": [
        "dict1 = {'a':1,'b':2,'c':3}\n",
        "print(dict1)"
      ],
      "metadata": {
        "colab": {
          "base_uri": "https://localhost:8080/"
        },
        "id": "GLG8-VTC4FLh",
        "outputId": "dd82df2c-4fe3-49aa-dc87-fd26246f9059"
      },
      "execution_count": 2,
      "outputs": [
        {
          "output_type": "stream",
          "name": "stdout",
          "text": [
            "{'a': 1, 'b': 2, 'c': 3}\n"
          ]
        }
      ]
    },
    {
      "cell_type": "markdown",
      "source": [
        "**Question 6:** Make an OrderedDict called fancy from the same pairs listed in 5 and print it. Did it print in the\n",
        "same order as plain?"
      ],
      "metadata": {
        "id": "MSUh1NYI4ted"
      }
    },
    {
      "cell_type": "code",
      "source": [
        "from collections import OrderedDict\n",
        "dict1 = OrderedDict()\n",
        "dict1['a'] = 1\n",
        "dict1['b'] = 2\n",
        "dict1['c'] = 3\n",
        "\n",
        "for key, value in dict1.items():\n",
        "  print(key,value)"
      ],
      "metadata": {
        "colab": {
          "base_uri": "https://localhost:8080/"
        },
        "id": "pWaOOhfH4pCf",
        "outputId": "a0bb229f-8b11-401c-a674-53c067fb28a6"
      },
      "execution_count": 8,
      "outputs": [
        {
          "output_type": "stream",
          "name": "stdout",
          "text": [
            "a 1\n",
            "b 2\n",
            "c 3\n"
          ]
        }
      ]
    },
    {
      "cell_type": "markdown",
      "source": [
        "From above, it has been observed OrderedDict preserve the order of items as inserted"
      ],
      "metadata": {
        "id": "e4KWVboe6j57"
      }
    },
    {
      "cell_type": "markdown",
      "source": [
        "**Question7:**  Make a default dictionary called dict_of_lists and pass it the argument list. Make the list\n",
        "dict_of_lists[&#39;a&#39;] and append the value &#39;something for a&#39; to it in one assignment. Print\n",
        "dict_of_lists[&#39;a&#39;]."
      ],
      "metadata": {
        "id": "zhM0GUGB6wnW"
      }
    },
    {
      "cell_type": "code",
      "source": [
        "from collections import defaultdict\n",
        "dict_of_lists = defaultdict(list)\n",
        "\n",
        "dict_of_lists['a'].append('something for a')\n",
        "\n",
        "dict_of_lists['a']"
      ],
      "metadata": {
        "colab": {
          "base_uri": "https://localhost:8080/"
        },
        "id": "dDDckRys6bWW",
        "outputId": "d3e88b9c-d3e7-4d1f-eb17-227bef940b9e"
      },
      "execution_count": 17,
      "outputs": [
        {
          "output_type": "execute_result",
          "data": {
            "text/plain": [
              "['something for a']"
            ]
          },
          "metadata": {},
          "execution_count": 17
        }
      ]
    },
    {
      "cell_type": "code",
      "source": [],
      "metadata": {
        "id": "zi4wBQNm8bC4"
      },
      "execution_count": null,
      "outputs": []
    }
  ]
}