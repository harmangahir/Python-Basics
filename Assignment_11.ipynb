{
  "nbformat": 4,
  "nbformat_minor": 0,
  "metadata": {
    "colab": {
      "provenance": []
    },
    "kernelspec": {
      "name": "python3",
      "display_name": "Python 3"
    },
    "language_info": {
      "name": "python"
    }
  },
  "cells": [
    {
      "cell_type": "markdown",
      "source": [
        "**Question 1:** Create an assert statement that throws an AssertionError if the variable spam is a negative\n",
        "integer."
      ],
      "metadata": {
        "id": "4G_P0r7zRb0m"
      }
    },
    {
      "cell_type": "code",
      "execution_count": 4,
      "metadata": {
        "colab": {
          "base_uri": "https://localhost:8080/"
        },
        "id": "kUUM5ixPRHsG",
        "outputId": "111c00f7-b611-40f5-82be-9a630bb88f33"
      },
      "outputs": [
        {
          "output_type": "stream",
          "name": "stdout",
          "text": [
            "Looking in indexes: https://pypi.org/simple, https://us-python.pkg.dev/colab-wheels/public/simple/\n",
            "Collecting pyinputplus\n",
            "  Downloading PyInputPlus-0.2.12.tar.gz (20 kB)\n",
            "  Installing build dependencies ... \u001b[?25l\u001b[?25hdone\n",
            "  Getting requirements to build wheel ... \u001b[?25l\u001b[?25hdone\n",
            "    Preparing wheel metadata ... \u001b[?25l\u001b[?25hdone\n",
            "Collecting stdiomask>=0.0.3\n",
            "  Downloading stdiomask-0.0.6.tar.gz (3.6 kB)\n",
            "  Installing build dependencies ... \u001b[?25l\u001b[?25hdone\n",
            "  Getting requirements to build wheel ... \u001b[?25l\u001b[?25hdone\n",
            "    Preparing wheel metadata ... \u001b[?25l\u001b[?25hdone\n",
            "Collecting pysimplevalidate>=0.2.7\n",
            "  Downloading PySimpleValidate-0.2.12.tar.gz (22 kB)\n",
            "  Installing build dependencies ... \u001b[?25l\u001b[?25hdone\n",
            "  Getting requirements to build wheel ... \u001b[?25l\u001b[?25hdone\n",
            "    Preparing wheel metadata ... \u001b[?25l\u001b[?25hdone\n",
            "Building wheels for collected packages: pyinputplus, pysimplevalidate, stdiomask\n",
            "  Building wheel for pyinputplus (PEP 517) ... \u001b[?25l\u001b[?25hdone\n",
            "  Created wheel for pyinputplus: filename=PyInputPlus-0.2.12-py3-none-any.whl size=11315 sha256=ce63d682f4c7c4c32581623d4d73ef504a6df821b4b74e4fb02ee18d82f2bd30\n",
            "  Stored in directory: /root/.cache/pip/wheels/e7/33/73/719f8f1bd984d39face880fd22f6c5ef1b85f726e84c687094\n",
            "  Building wheel for pysimplevalidate (PEP 517) ... \u001b[?25l\u001b[?25hdone\n",
            "  Created wheel for pysimplevalidate: filename=PySimpleValidate-0.2.12-py3-none-any.whl size=16193 sha256=e07749797e852c182ec44b644d943b1e2f33a35388a50af4d16ed6f7bb68eb89\n",
            "  Stored in directory: /root/.cache/pip/wheels/5a/8b/6c/2925d22b93860bdc9b8ce02c3d2cf79336606f7469cef66065\n",
            "  Building wheel for stdiomask (PEP 517) ... \u001b[?25l\u001b[?25hdone\n",
            "  Created wheel for stdiomask: filename=stdiomask-0.0.6-py3-none-any.whl size=3321 sha256=5b7a8cfa260dfa89c899cecc41a908539f0f196cde084eff2c1b9a3cd06fd3a9\n",
            "  Stored in directory: /root/.cache/pip/wheels/cf/13/89/64d0d3b167759523f4c1e68f883bbc30e7bfa27050edeb418e\n",
            "Successfully built pyinputplus pysimplevalidate stdiomask\n",
            "Installing collected packages: stdiomask, pysimplevalidate, pyinputplus\n",
            "Successfully installed pyinputplus-0.2.12 pysimplevalidate-0.2.12 stdiomask-0.0.6\n"
          ]
        }
      ],
      "source": [
        "!pip install pyinputplus\n",
        "import pyinputplus as pypi"
      ]
    },
    {
      "cell_type": "code",
      "source": [
        "spam = pypi.inputNum('Enter a number:',min=-10, max=100)\n",
        "assert spam > 0, \"Negative number enterned\"\n",
        "print('You enterned spam value as {}'.format(spam))"
      ],
      "metadata": {
        "colab": {
          "base_uri": "https://localhost:8080/",
          "height": 217
        },
        "id": "cUZ9fANdRrqo",
        "outputId": "85360238-30a1-4155-f34f-50e207e241f5"
      },
      "execution_count": 15,
      "outputs": [
        {
          "name": "stdout",
          "output_type": "stream",
          "text": [
            "Enter a number:-1\n"
          ]
        },
        {
          "output_type": "error",
          "ename": "AssertionError",
          "evalue": "ignored",
          "traceback": [
            "\u001b[0;31m---------------------------------------------------------------------------\u001b[0m",
            "\u001b[0;31mAssertionError\u001b[0m                            Traceback (most recent call last)",
            "\u001b[0;32m<ipython-input-15-5632e9c8d3b1>\u001b[0m in \u001b[0;36m<module>\u001b[0;34m\u001b[0m\n\u001b[1;32m      1\u001b[0m \u001b[0mspam\u001b[0m \u001b[0;34m=\u001b[0m \u001b[0mpypi\u001b[0m\u001b[0;34m.\u001b[0m\u001b[0minputNum\u001b[0m\u001b[0;34m(\u001b[0m\u001b[0;34m'Enter a number:'\u001b[0m\u001b[0;34m,\u001b[0m\u001b[0mmin\u001b[0m\u001b[0;34m=\u001b[0m\u001b[0;34m-\u001b[0m\u001b[0;36m10\u001b[0m\u001b[0;34m,\u001b[0m \u001b[0mmax\u001b[0m\u001b[0;34m=\u001b[0m\u001b[0;36m100\u001b[0m\u001b[0;34m)\u001b[0m\u001b[0;34m\u001b[0m\u001b[0;34m\u001b[0m\u001b[0m\n\u001b[0;32m----> 2\u001b[0;31m \u001b[0;32massert\u001b[0m \u001b[0mspam\u001b[0m \u001b[0;34m>\u001b[0m \u001b[0;36m0\u001b[0m\u001b[0;34m,\u001b[0m \u001b[0;34m\"Negative number enterned\"\u001b[0m\u001b[0;34m\u001b[0m\u001b[0;34m\u001b[0m\u001b[0m\n\u001b[0m\u001b[1;32m      3\u001b[0m \u001b[0mprint\u001b[0m\u001b[0;34m(\u001b[0m\u001b[0;34m'You enterned spam value as {}'\u001b[0m\u001b[0;34m.\u001b[0m\u001b[0mformat\u001b[0m\u001b[0;34m(\u001b[0m\u001b[0mspam\u001b[0m\u001b[0;34m)\u001b[0m\u001b[0;34m)\u001b[0m\u001b[0;34m\u001b[0m\u001b[0;34m\u001b[0m\u001b[0m\n",
            "\u001b[0;31mAssertionError\u001b[0m: Negative number enterned"
          ]
        }
      ]
    },
    {
      "cell_type": "markdown",
      "source": [
        "**Question 2:** Write an assert statement that triggers an AssertionError if the variables eggs and bacon contain strings that are the same as each other, even if their cases are different (that is, &#39;hello&#39; and &#39;hello&#39; are considered the same, and &#39;goodbye&#39; and &#39;GOODbye&#39; are also considered the same)."
      ],
      "metadata": {
        "id": "vVIExFzMUsVL"
      }
    },
    {
      "cell_type": "code",
      "source": [
        "eggs = pypi.inputStr('Enter String:')\n",
        "bacon = pypi.inputStr('Enter String:')\n",
        "assert eggs.lower()!=bacon.lower(),'eggs and bacon are similar'"
      ],
      "metadata": {
        "colab": {
          "base_uri": "https://localhost:8080/",
          "height": 235
        },
        "id": "LBR-tgcfSsEH",
        "outputId": "4e168baf-b6fc-4ade-f03c-f1c376998625"
      },
      "execution_count": 18,
      "outputs": [
        {
          "name": "stdout",
          "output_type": "stream",
          "text": [
            "Enter String:goodbye\n",
            "Enter String:GOODbye\n"
          ]
        },
        {
          "output_type": "error",
          "ename": "AssertionError",
          "evalue": "ignored",
          "traceback": [
            "\u001b[0;31m---------------------------------------------------------------------------\u001b[0m",
            "\u001b[0;31mAssertionError\u001b[0m                            Traceback (most recent call last)",
            "\u001b[0;32m<ipython-input-18-c735ddeb4989>\u001b[0m in \u001b[0;36m<module>\u001b[0;34m\u001b[0m\n\u001b[1;32m      1\u001b[0m \u001b[0meggs\u001b[0m \u001b[0;34m=\u001b[0m \u001b[0mpypi\u001b[0m\u001b[0;34m.\u001b[0m\u001b[0minputStr\u001b[0m\u001b[0;34m(\u001b[0m\u001b[0;34m'Enter String:'\u001b[0m\u001b[0;34m)\u001b[0m\u001b[0;34m\u001b[0m\u001b[0;34m\u001b[0m\u001b[0m\n\u001b[1;32m      2\u001b[0m \u001b[0mbacon\u001b[0m \u001b[0;34m=\u001b[0m \u001b[0mpypi\u001b[0m\u001b[0;34m.\u001b[0m\u001b[0minputStr\u001b[0m\u001b[0;34m(\u001b[0m\u001b[0;34m'Enter String:'\u001b[0m\u001b[0;34m)\u001b[0m\u001b[0;34m\u001b[0m\u001b[0;34m\u001b[0m\u001b[0m\n\u001b[0;32m----> 3\u001b[0;31m \u001b[0;32massert\u001b[0m \u001b[0meggs\u001b[0m\u001b[0;34m.\u001b[0m\u001b[0mlower\u001b[0m\u001b[0;34m(\u001b[0m\u001b[0;34m)\u001b[0m\u001b[0;34m!=\u001b[0m\u001b[0mbacon\u001b[0m\u001b[0;34m.\u001b[0m\u001b[0mlower\u001b[0m\u001b[0;34m(\u001b[0m\u001b[0;34m)\u001b[0m\u001b[0;34m,\u001b[0m\u001b[0;34m'eggs and bacon are similar'\u001b[0m\u001b[0;34m\u001b[0m\u001b[0;34m\u001b[0m\u001b[0m\n\u001b[0m",
            "\u001b[0;31mAssertionError\u001b[0m: eggs and bacon are similar"
          ]
        }
      ]
    },
    {
      "cell_type": "markdown",
      "source": [
        "**Question 3:** Create an assert statement that throws an AssertionError every time."
      ],
      "metadata": {
        "id": "fXRlAk2rVxGF"
      }
    },
    {
      "cell_type": "code",
      "source": [
        "assert False"
      ],
      "metadata": {
        "colab": {
          "base_uri": "https://localhost:8080/",
          "height": 165
        },
        "id": "jD6mD6ruVcwA",
        "outputId": "1626bb4e-77a6-440a-def0-17a9bab85e07"
      },
      "execution_count": 20,
      "outputs": [
        {
          "output_type": "error",
          "ename": "AssertionError",
          "evalue": "ignored",
          "traceback": [
            "\u001b[0;31m---------------------------------------------------------------------------\u001b[0m",
            "\u001b[0;31mAssertionError\u001b[0m                            Traceback (most recent call last)",
            "\u001b[0;32m<ipython-input-20-a871fdc9ebee>\u001b[0m in \u001b[0;36m<module>\u001b[0;34m\u001b[0m\n\u001b[0;32m----> 1\u001b[0;31m \u001b[0;32massert\u001b[0m \u001b[0;32mFalse\u001b[0m\u001b[0;34m\u001b[0m\u001b[0;34m\u001b[0m\u001b[0m\n\u001b[0m",
            "\u001b[0;31mAssertionError\u001b[0m: "
          ]
        }
      ]
    },
    {
      "cell_type": "markdown",
      "source": [
        "**Question 4:** What are the two lines that must be present in your software in order to call logging.debug()?"
      ],
      "metadata": {
        "id": "43-E08sZWYNi"
      }
    },
    {
      "cell_type": "code",
      "source": [
        "import logging\n",
        "logging.basicConfig(level= logging.DEBUG, format = '%(asctime)s %(levelname) %(message)s')"
      ],
      "metadata": {
        "id": "zfetFntGWDSl"
      },
      "execution_count": 22,
      "outputs": []
    },
    {
      "cell_type": "markdown",
      "source": [
        "**Question 5:** What are the two lines that your program must have in order to have logging.debug() send a\n",
        "logging message to a file named programLog.txt?\n"
      ],
      "metadata": {
        "id": "6ybU8qIQZ5eU"
      }
    },
    {
      "cell_type": "code",
      "source": [
        "import logging\n",
        "logging.basicConfig(filename = 'programLog.txt', level= logging.DEBUG, format = '%(asctime)s %(levelname) %(message)s')"
      ],
      "metadata": {
        "id": "xjNA_WkuWjKY"
      },
      "execution_count": 23,
      "outputs": []
    },
    {
      "cell_type": "markdown",
      "source": [
        "**Question 6:** What are the five levels of logging?\n",
        "\n",
        "**Answer:**\n",
        "\n",
        "\n",
        "\n",
        "1.   DEBUG - returns detail information about problem which is diagnosed\n",
        "2.   INFO - returns confirmation about program is working fine\n",
        "3. WARNING - returns indication that unexpected about to happen\n",
        "4. ERROR - returns indication that program may not execute functions\n",
        "5. CRITICAL - fatal error, program itself stop from running\n",
        "\n"
      ],
      "metadata": {
        "id": "IEGq0awQaLP9"
      }
    },
    {
      "cell_type": "markdown",
      "source": [
        "**Question 7:** What line of code would you add to your software to disable all logging messages?"
      ],
      "metadata": {
        "id": "e0cZFmppbXyi"
      }
    },
    {
      "cell_type": "code",
      "source": [
        "import logging as lg\n",
        "lg.disable(lg.DEBUG)\n",
        "lg.disable(lg.INFO)\n",
        "lg.disable(lg.WARNING)\n",
        "lg.disable(lg.ERROR)\n",
        "lg.disable(lg.CRITICAL)\n"
      ],
      "metadata": {
        "id": "N5P6bMmbaJx-"
      },
      "execution_count": 26,
      "outputs": []
    },
    {
      "cell_type": "markdown",
      "source": [
        "**Question 8:** Why is using logging messages better than using print() to display the same message?\n",
        "\n",
        "**Answer:** Technically, it is recommendable to use logging statements instead of print() function in order to diagnose code. print() function can be use where we have simple or short code where as logging is fast mechanism and returns dianose report at fast pace even when we encounter with complex and lengthy code. Inspite, with logging, one can disable any selective logging level as per requirement and logging message also provides timestamp which may helps to understand what went wrong at what time"
      ],
      "metadata": {
        "id": "XRRnjn7db2F2"
      }
    },
    {
      "cell_type": "markdown",
      "source": [
        "**Question 9:** What are the differences between the Step Over, Step In, and Step Out buttons in the debugger?\n",
        "\n",
        "**Answer:**\n",
        "\n",
        "\n",
        "\n",
        "1.   **Step Over** will execute function call without let debugger step into it\n",
        "\n",
        "2. **Step in** will allows debugger to get inside a function call  \n",
        "\n",
        "\n",
        "3. **Step Out** will execute rest of the code until it step out from current function\n",
        "\n"
      ],
      "metadata": {
        "id": "tEZuHheJc85G"
      }
    },
    {
      "cell_type": "markdown",
      "source": [
        "**Question 10:** After you click Continue, when will the debugger stop ?\n",
        "\n",
        "**Answer:** It stops at next breakpoint in a code if available otherwise after the complete execution of code "
      ],
      "metadata": {
        "id": "rMtikffXeA-x"
      }
    },
    {
      "cell_type": "markdown",
      "source": [
        "**Question 11:** What is the concept of a breakpoint?\n",
        "\n",
        "**Answer:** Breakpoint is a mechanism through which developer use debugger to find out the bugs inside a code. Debugger debug the code line by line where breakpoint added.\n",
        "\n"
      ],
      "metadata": {
        "id": "jQuxXqQWeZ2D"
      }
    },
    {
      "cell_type": "code",
      "source": [
        "def debug(list1):\n",
        "  for i in range(len(list1)):\n",
        "    import pdb; pdb.set_trace()\n",
        "    if i > 100:\n",
        "      list2.append(i)\n",
        "  return list2\n",
        "\n",
        "list1 = [4,5,123,243,11,13]\n",
        "\n",
        "print(debug(list1))"
      ],
      "metadata": {
        "colab": {
          "base_uri": "https://localhost:8080/"
        },
        "id": "qkZbtFyKbhKa",
        "outputId": "6d7ccbe5-b674-4f74-97c6-7fb42f1a4ab7"
      },
      "execution_count": null,
      "outputs": [
        {
          "output_type": "stream",
          "name": "stderr",
          "text": [
            "\n",
            "PYDEV DEBUGGER WARNING:\n",
            "sys.settrace() should not be used when the debugger is being used.\n",
            "This may cause the debugger to stop working correctly.\n",
            "If this is needed, please check: \n",
            "http://pydev.blogspot.com/2007/06/why-cant-pydev-debugger-work-with.html\n",
            "to see how to restore the debug tracing back correctly.\n",
            "Call Location:\n",
            "  File \"/usr/lib/python3.7/bdb.py\", line 332, in set_trace\n",
            "    sys.settrace(self.trace_dispatch)\n",
            "\n"
          ]
        },
        {
          "name": "stdout",
          "output_type": "stream",
          "text": [
            "> <ipython-input-27-384f5330a34c>(4)debug()\n",
            "-> if i > 100:\n",
            "(Pdb) i\n",
            "0\n",
            "(Pdb) c\n"
          ]
        },
        {
          "output_type": "stream",
          "name": "stderr",
          "text": [
            "\n",
            "PYDEV DEBUGGER WARNING:\n",
            "sys.settrace() should not be used when the debugger is being used.\n",
            "This may cause the debugger to stop working correctly.\n",
            "If this is needed, please check: \n",
            "http://pydev.blogspot.com/2007/06/why-cant-pydev-debugger-work-with.html\n",
            "to see how to restore the debug tracing back correctly.\n",
            "Call Location:\n",
            "  File \"/usr/lib/python3.7/bdb.py\", line 343, in set_continue\n",
            "    sys.settrace(None)\n",
            "\n"
          ]
        },
        {
          "output_type": "stream",
          "name": "stdout",
          "text": [
            "> <ipython-input-27-384f5330a34c>(3)debug()\n",
            "-> import pdb; pdb.set_trace()\n",
            "(Pdb) t\n",
            "*** NameError: name 't' is not defined\n",
            "(Pdb) l\n",
            "  1  \tdef debug(list1):\n",
            "  2  \t  for i in range(len(list1)):\n",
            "  3  ->\t    import pdb; pdb.set_trace()\n",
            "  4  \t    if i > 100:\n",
            "  5  \t      list2.append(i)\n",
            "  6  \t  return list2\n",
            "  7  \t\n",
            "  8  \tlist1 = [4,5,123,243,11,13]\n",
            "  9  \t\n",
            " 10  \tprint(debug(list1))\n",
            "[EOF]\n",
            "--KeyboardInterrupt--\n"
          ]
        }
      ]
    },
    {
      "cell_type": "code",
      "source": [],
      "metadata": {
        "id": "Mqh48CTufxrh"
      },
      "execution_count": null,
      "outputs": []
    }
  ]
}