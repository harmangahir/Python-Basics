{
  "nbformat": 4,
  "nbformat_minor": 0,
  "metadata": {
    "colab": {
      "provenance": []
    },
    "kernelspec": {
      "name": "python3",
      "display_name": "Python 3"
    },
    "language_info": {
      "name": "python"
    }
  },
  "cells": [
    {
      "cell_type": "markdown",
      "source": [
        "**Question 1:** What is the result of the code, and explain?\n",
        "\n",
        "&gt;&gt;&gt; X = &#39;iNeuron&#39;\n",
        "\n",
        "&gt;&gt;&gt; def func():\n",
        " print(X)\n",
        "\n",
        "&gt;&gt;&gt; func()"
      ],
      "metadata": {
        "id": "Q-WpuJfTbweF"
      }
    },
    {
      "cell_type": "markdown",
      "source": [
        "**Answer:** In above, iNeuron as string value assign to global variable X which makes X as string type variable.Further, value of variable X display through print function inside func().In  later stage, func() called and it generates output iNeuron"
      ],
      "metadata": {
        "id": "Cn6yolUdcCqD"
      }
    },
    {
      "cell_type": "code",
      "source": [
        "X = 'INeuron'\n",
        "def func():\n",
        "  print(X)\n",
        "\n",
        "func()"
      ],
      "metadata": {
        "colab": {
          "base_uri": "https://localhost:8080/"
        },
        "id": "u2k5vp1Ec5aV",
        "outputId": "2d670671-56b0-489f-9954-7fd1f4ba5def"
      },
      "execution_count": 1,
      "outputs": [
        {
          "output_type": "stream",
          "name": "stdout",
          "text": [
            "INeuron\n"
          ]
        }
      ]
    },
    {
      "cell_type": "markdown",
      "source": [
        "**Question 2:** What is the result of the code, and explain?\n",
        "\n",
        "&gt;&gt;&gt; X = &#39;iNeuron&#39;\n",
        "&gt;&gt;&gt; def func():\n",
        "X = &#39;NI!&#39;\n",
        "\n",
        "&gt;&gt;&gt; func()\n",
        "&gt;&gt;&gt; print(X)"
      ],
      "metadata": {
        "id": "yRCtPlygcm4_"
      }
    },
    {
      "cell_type": "markdown",
      "source": [
        "**Answer:** In above, iNeuron as string value assign to global variable X which makes X as string type variable.Further, value of variable X changes inside function func() and become Ni! with local scope.In  later stage, func() called and here value of X  become Ni!.In last statement, print function is used to display X. Now X value become INeuron because of global scope"
      ],
      "metadata": {
        "id": "p-6nTOlfcpxo"
      }
    },
    {
      "cell_type": "code",
      "execution_count": 7,
      "metadata": {
        "colab": {
          "base_uri": "https://localhost:8080/"
        },
        "id": "E-VYkiCnbl4G",
        "outputId": "167bbea9-99c2-46a5-a8f7-e29b0a2d78fc"
      },
      "outputs": [
        {
          "output_type": "stream",
          "name": "stdout",
          "text": [
            "INeuron\n"
          ]
        }
      ],
      "source": [
        "X = 'INeuron'\n",
        "def func():\n",
        "  X = 'Ni!'\n",
        "\n",
        "func()\n",
        "print(X)"
      ]
    },
    {
      "cell_type": "markdown",
      "source": [
        "**Question 3:** What does this code print, and why?\n",
        "\n",
        "&gt;&gt;&gt; X = &#39;iNeuron&#39;\n",
        "&gt;&gt;&gt; def func():\n",
        "X = &#39;NI&#39;\n",
        "print(X)\n",
        "\n",
        "&gt;&gt;&gt; func()\n",
        "&gt;&gt;&gt; print(X)"
      ],
      "metadata": {
        "id": "0PYw4o4JeUYn"
      }
    },
    {
      "cell_type": "markdown",
      "source": [
        "**Answer:** In above, iNeuron as string value assign to global variable X which makes X as string type variable.Further, value of variable X changes inside function func() and become Ni! with local scope and printed with print() function.In last statement, print function is used to display X. Now X value become INeuron because of global scope"
      ],
      "metadata": {
        "id": "9k12lhY4ednO"
      }
    },
    {
      "cell_type": "code",
      "source": [
        "X = 'INeuron'\n",
        "def func():\n",
        "  X = 'Ni!'\n",
        "  print(X)\n",
        "\n",
        "func()\n",
        "print(X)"
      ],
      "metadata": {
        "colab": {
          "base_uri": "https://localhost:8080/"
        },
        "id": "uhP2blT0dwzJ",
        "outputId": "600c0ae2-a7d6-4a2d-a1b8-b1c120b195f5"
      },
      "execution_count": 8,
      "outputs": [
        {
          "output_type": "stream",
          "name": "stdout",
          "text": [
            "Ni!\n",
            "INeuron\n"
          ]
        }
      ]
    },
    {
      "cell_type": "markdown",
      "source": [
        "**Question 4:** What output does this code produce? Why?\n",
        "\n",
        "&gt;&gt;&gt; X = &#39;iNeuron&#39;\n",
        "&gt;&gt;&gt; def func():\n",
        "global X\n",
        "X = &#39;NI&#39;\n",
        "\n",
        "&gt;&gt;&gt; func()\n",
        "&gt;&gt;&gt; print(X)\n",
        "\n",
        "\n"
      ],
      "metadata": {
        "id": "ErVBroejeqRO"
      }
    },
    {
      "cell_type": "markdown",
      "source": [
        "**Answer:** In above, variable X given a global access inside function func() and also changes the value Ni from INeuron. Now X has new global value Ni"
      ],
      "metadata": {
        "id": "H_4L8SLPfFYA"
      }
    },
    {
      "cell_type": "code",
      "source": [
        "X = 'INeuron'\n",
        "def func():\n",
        "  global X\n",
        "  X = 'Ni!'\n",
        "\n",
        "print(func())\n",
        "print(X)"
      ],
      "metadata": {
        "colab": {
          "base_uri": "https://localhost:8080/"
        },
        "id": "m1ifj5MYea9C",
        "outputId": "2f5f964a-3dae-4378-c31b-a3da0899e6da"
      },
      "execution_count": 10,
      "outputs": [
        {
          "output_type": "stream",
          "name": "stdout",
          "text": [
            "Ni!\n",
            "Ni!\n"
          ]
        }
      ]
    },
    {
      "cell_type": "markdown",
      "source": [
        "**Question 5:** What about this code—what’s the output, and why?\n",
        "\n",
        "&gt;&gt;&gt; X = &#39;iNeuron&#39;\n",
        "&gt;&gt;&gt; def func():\n",
        "X = &#39;NI&#39;\n",
        "def nested():\n",
        "print(X)\n",
        "nested()\n",
        "\n",
        "&gt;&gt;&gt; func()\n",
        "&gt;&gt;&gt; X"
      ],
      "metadata": {
        "id": "5RUWTmrjfkCq"
      }
    },
    {
      "cell_type": "markdown",
      "source": [
        "**Answer:** In above, For function func(), value of X changes to Ni in local scope. In function nested(), value of X remain INeuron because of its global scope. At last print(X) will print INeuron because of its global scope"
      ],
      "metadata": {
        "id": "93qWUCDkgUD9"
      }
    },
    {
      "cell_type": "code",
      "source": [
        "X = 'INeuron'\n",
        "def func():\n",
        "  X = 'Ni'\n",
        "def nested():\n",
        "  print(X)\n",
        "  \n",
        "nested()\n",
        "func()\n",
        "print(X)"
      ],
      "metadata": {
        "colab": {
          "base_uri": "https://localhost:8080/"
        },
        "id": "ReHNh-ofe36f",
        "outputId": "8ede6d21-a179-42ad-957a-5c0df5e844cc"
      },
      "execution_count": 15,
      "outputs": [
        {
          "output_type": "stream",
          "name": "stdout",
          "text": [
            "INeuron\n",
            "INeuron\n"
          ]
        }
      ]
    },
    {
      "cell_type": "markdown",
      "source": [
        "**Question 6:** How about this code: what is its output in Python 3, and explain?\n",
        "\n",
        "&gt;&gt;&gt; def func():\n",
        "X = &#39;NI&#39;\n",
        "def nested():\n",
        "nonlocal X\n",
        "X = &#39;Spam&#39;\n",
        "nested()\n",
        "print(X)\n",
        "\n",
        "&gt;&gt;&gt; func()"
      ],
      "metadata": {
        "id": "moz6WF3ig4IW"
      }
    },
    {
      "cell_type": "markdown",
      "source": [
        "**Answer:** In above X is neither in local scope nor in global scope because of nonlocal in nested function. "
      ],
      "metadata": {
        "id": "IPzWW5vZhvEo"
      }
    },
    {
      "cell_type": "code",
      "source": [
        "X = 'INeuron'\n",
        "def func(): \n",
        "  X = 'NI'\n",
        "  def nested(): \n",
        "    nonlocal X \n",
        "    X = 'Spam' \n",
        "  \n",
        "nested() \n",
        "print(X)"
      ],
      "metadata": {
        "colab": {
          "base_uri": "https://localhost:8080/"
        },
        "id": "tbwNkdQUf7tS",
        "outputId": "5f08fe81-f937-488d-928a-9f01017d52fa"
      },
      "execution_count": 20,
      "outputs": [
        {
          "output_type": "stream",
          "name": "stdout",
          "text": [
            "INeuron\n",
            "INeuron\n"
          ]
        }
      ]
    },
    {
      "cell_type": "code",
      "source": [],
      "metadata": {
        "id": "z_vUnEQYhRry"
      },
      "execution_count": null,
      "outputs": []
    }
  ]
}