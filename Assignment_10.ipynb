{
  "nbformat": 4,
  "nbformat_minor": 0,
  "metadata": {
    "colab": {
      "provenance": []
    },
    "kernelspec": {
      "name": "python3",
      "display_name": "Python 3"
    },
    "language_info": {
      "name": "python"
    }
  },
  "cells": [
    {
      "cell_type": "markdown",
      "source": [
        "**Question 1:** How do you distinguish between shutil.copy() and shutil.copytree()?\n",
        "\n",
        "**Answer:** In python, shutil.copy() will copy either the file's contents to the target file or copy the file from source directory to target directory\n",
        "\n",
        "shutil.copytree() function will copy the entire tree(directory-subdirectories-files) from source directory to target directory"
      ],
      "metadata": {
        "id": "HNrPdJoFA1zP"
      }
    },
    {
      "cell_type": "markdown",
      "source": [
        "**Question 2:** What function is used to rename files??\n",
        "\n",
        "**Answer:** os.rename()"
      ],
      "metadata": {
        "id": "i335-kTNBokX"
      }
    },
    {
      "cell_type": "code",
      "source": [
        "import os\n",
        "with open('sample1.txt','w') as f:\n",
        "  f.write('INeuron')\n",
        "\n",
        "os.rename('sample1.txt', 'sample2.txt')"
      ],
      "metadata": {
        "id": "TMtI3mrwBliP"
      },
      "execution_count": 2,
      "outputs": []
    },
    {
      "cell_type": "markdown",
      "source": [
        "**Question 3:** What is the difference between the delete functions in the send2trash and shutil modules?\n",
        "\n",
        "**Answer:** **Delete funtion using send2trash** will send files or/and folders into trash/recycle bin when deletion operation perform. In this case, deleted files/folder sent to trash can be recover\n",
        "\n",
        "**Delete function using shutil module** will delete files or folder permanently from a system. No recovery can be done even if deletion accidently done\n",
        "\n"
      ],
      "metadata": {
        "id": "pCJJEi_PCj58"
      }
    },
    {
      "cell_type": "code",
      "source": [
        "import send2trash\n",
        "send2trash.send2trash('path')"
      ],
      "metadata": {
        "id": "Z54B4uNKDsuQ"
      },
      "execution_count": null,
      "outputs": []
    },
    {
      "cell_type": "code",
      "source": [
        "import shutil\n",
        "shutil.rmtree('path')"
      ],
      "metadata": {
        "id": "Sq1nnPc4D3gN"
      },
      "execution_count": null,
      "outputs": []
    },
    {
      "cell_type": "markdown",
      "source": [
        "**Question 4:** ZipFile objects have a close() method just like File objects’ close() method. What ZipFile method is equivalent to File objects’ open() method?\n",
        "\n",
        "**Answer:** zipfile.Zipfile('filename', 'mode')"
      ],
      "metadata": {
        "id": "hU2S_fnkD9_q"
      }
    },
    {
      "cell_type": "code",
      "source": [
        "import zipfile\n",
        "f = 'sample.zip'\n",
        "with zipfile.ZipFile(f,'r') as zip:\n",
        "  zip.printdir()"
      ],
      "metadata": {
        "id": "RNl1eLZAGRLE"
      },
      "execution_count": null,
      "outputs": []
    },
    {
      "cell_type": "markdown",
      "source": [
        "**Question 5:** Create a programme that searches a folder tree for files with a certain file extension (such as .pdf\n",
        "or .jpg). Copy these files from whatever location they are in to a new folder."
      ],
      "metadata": {
        "id": "52wttuGrGOv9"
      }
    },
    {
      "cell_type": "code",
      "source": [
        "from google.colab import drive\n",
        "drive.mount('/content/drive')\n",
        "import os\n",
        "import shutil\n",
        "\n",
        "def searchFolder(source, target,extensions):\n",
        "    sourceFolder = os.path.abspath(source)\n",
        "    targetFolder = os.path.abspath(target)\n",
        "    for foldername, subfolders, filenames in os.walk(source):\n",
        "        for filename in filenames:\n",
        "            name, extension = os.path.splitext(filename)\n",
        "            if extension in extensions:\n",
        "                fileAbsPath = foldername + os.path.sep + filename\n",
        "                print('Files copying from {} to {}'.format(fileAbsPath,target))\n",
        "                shutil.copy(fileAbsPath, target)\n",
        "\n",
        "extensions = ['.mp4', '.pdf','.jpg']\n",
        "source = \"/content/drive/MyDrive/INeuron/Modules Assignments/Python Fundamentals(Submitted)/SourceFolder\"\n",
        "target = \"/content/drive/MyDrive/INeuron/Modules Assignments/Python Fundamentals(Submitted)/TargetFolder\"\n",
        "searchFolder(source, target, extensions)\n",
        "\n",
        "      "
      ],
      "metadata": {
        "colab": {
          "base_uri": "https://localhost:8080/"
        },
        "id": "agB1Do1GEZ22",
        "outputId": "b17b9c69-3d58-482b-8bd2-23b25aea0b0a"
      },
      "execution_count": 24,
      "outputs": [
        {
          "output_type": "stream",
          "name": "stdout",
          "text": [
            "Drive already mounted at /content/drive; to attempt to forcibly remount, call drive.mount(\"/content/drive\", force_remount=True).\n",
            "Files copying from /content/drive/MyDrive/INeuron/Modules Assignments/Python Fundamentals(Submitted)/SourceFolder/Battery Screenshot.jpg to /content/drive/MyDrive/INeuron/Modules Assignments/Python Fundamentals(Submitted)/TargetFolder\n"
          ]
        }
      ]
    },
    {
      "cell_type": "code",
      "source": [],
      "metadata": {
        "id": "dn6lku0hGyw7"
      },
      "execution_count": null,
      "outputs": []
    }
  ]
}