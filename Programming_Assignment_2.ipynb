{
  "nbformat": 4,
  "nbformat_minor": 0,
  "metadata": {
    "colab": {
      "provenance": []
    },
    "kernelspec": {
      "name": "python3",
      "display_name": "Python 3"
    },
    "language_info": {
      "name": "python"
    }
  },
  "cells": [
    {
      "cell_type": "markdown",
      "source": [
        "1. Write a Python program to convert kilometers to miles?"
      ],
      "metadata": {
        "id": "1tIGvcfF2yVA"
      }
    },
    {
      "cell_type": "code",
      "execution_count": 1,
      "metadata": {
        "colab": {
          "base_uri": "https://localhost:8080/"
        },
        "id": "2IFaLO9c2nqq",
        "outputId": "453cf766-ea1d-48a7-86e0-aac2088009cb"
      },
      "outputs": [
        {
          "output_type": "stream",
          "name": "stdout",
          "text": [
            "Enter kilometers:3\n",
            "Caculated miles are:1.8639\n"
          ]
        }
      ],
      "source": [
        "kilometer = int(input('Enter kilometers:'))\n",
        "miles = kilometer * 0.6213\n",
        "print('Caculated miles are:{0}'.format(miles))"
      ]
    },
    {
      "cell_type": "markdown",
      "source": [
        "2. Write a Python program to convert Celsius to Fahrenheit?"
      ],
      "metadata": {
        "id": "HsBk6ZlF4AWv"
      }
    },
    {
      "cell_type": "code",
      "execution_count": 2,
      "metadata": {
        "colab": {
          "base_uri": "https://localhost:8080/"
        },
        "outputId": "0246c89b-bc26-4cdc-b3ac-85ba79cf5116",
        "id": "LDAicAm94EYQ"
      },
      "outputs": [
        {
          "output_type": "stream",
          "name": "stdout",
          "text": [
            "Enter celcius:1\n",
            "Calculated Fahrenheit is:33.8\n"
          ]
        }
      ],
      "source": [
        "celcius = int(input('Enter celcius:'))\n",
        "Fahrenheit = celcius * 33.8\n",
        "print('Calculated Fahrenheit is:{0}'.format(Fahrenheit))"
      ]
    },
    {
      "cell_type": "markdown",
      "source": [
        "3. Write a Python program to display calendar?"
      ],
      "metadata": {
        "id": "evAmhZCD4bwa"
      }
    },
    {
      "cell_type": "code",
      "source": [
        "import calendar\n",
        "\n",
        "year = 2022\n",
        "month = 11\n",
        "\n",
        "print(calendar.month(year,month))"
      ],
      "metadata": {
        "colab": {
          "base_uri": "https://localhost:8080/"
        },
        "id": "axzLk-KS4YVN",
        "outputId": "5364a18b-6352-46c3-beaa-bb51a36961b4"
      },
      "execution_count": 3,
      "outputs": [
        {
          "output_type": "stream",
          "name": "stdout",
          "text": [
            "   November 2022\n",
            "Mo Tu We Th Fr Sa Su\n",
            "    1  2  3  4  5  6\n",
            " 7  8  9 10 11 12 13\n",
            "14 15 16 17 18 19 20\n",
            "21 22 23 24 25 26 27\n",
            "28 29 30\n",
            "\n"
          ]
        }
      ]
    },
    {
      "cell_type": "markdown",
      "source": [
        "4. Write a Python program to solve quadratic equation?"
      ],
      "metadata": {
        "id": "wxy451VU40Sg"
      }
    },
    {
      "cell_type": "code",
      "source": [
        "import math\n",
        "def quadratic_equation(num1,num2,num3):\n",
        "  discriminant = num2 * num2 - 4 * num1 * num3\n",
        "  discriminant_square_root = math.sqrt(abs(discriminant))\n",
        "\n",
        "  if discriminant > 0:\n",
        "    print('Real and different roots')\n",
        "    print((-num2 +  discriminant)/(2 * num1))\n",
        "    print((-num2 -  discriminant)/(2 * num1))\n",
        "  \n",
        "  elif discriminant == 0:\n",
        "    print('Real and same roots')\n",
        "    print(-num2 /(2 * num1))\n",
        "  else:\n",
        "    print('Complex roots')\n",
        "    print((-num2 / 2 * num1),\"+ i\",discriminant)\n",
        "    print((-num2 / 2 * num1),\"- i\",discriminant)\n",
        "\n",
        "\n",
        "\n",
        "a = int(input('Enter a:'))\n",
        "b = int(input('Enter b:'))\n",
        "c = int(input('Enter c:'))\n",
        "if(a==0):\n",
        "  print('Incorrect quadratic equation')\n",
        "else:\n",
        "  quadratic_equation(a,b,c)\n"
      ],
      "metadata": {
        "colab": {
          "base_uri": "https://localhost:8080/"
        },
        "id": "V2YwaG2n4vLr",
        "outputId": "5f8e8714-086f-42c5-da09-cba17b8704a0"
      },
      "execution_count": 4,
      "outputs": [
        {
          "output_type": "stream",
          "name": "stdout",
          "text": [
            "Enter a:3\n",
            "Enter b:5\n",
            "Enter c:3\n",
            "Complex roots\n",
            "-7.5 + i -11\n",
            "-7.5 - i -11\n"
          ]
        }
      ]
    },
    {
      "cell_type": "markdown",
      "source": [
        "5. Write a Python program to swap two variables without temp variable?"
      ],
      "metadata": {
        "id": "f5yaJcyx75s5"
      }
    },
    {
      "cell_type": "code",
      "source": [
        "number1 = int(input('Enter Numnber 1:'))\n",
        "number2 = int(input('Enter Numnber 2:'))\n",
        "print('Before swapping Number_1 is {0} and Number_2 is {1}'.format(number1, number2))\n",
        "number1 = number1 + number2\n",
        "number2 = number1 - number2\n",
        "number1 = number1 - number2\n",
        "print('After swapping Number_1 is {0} and Number_2 is {1}'.format(number1, number2))"
      ],
      "metadata": {
        "colab": {
          "base_uri": "https://localhost:8080/"
        },
        "id": "L2Fb8AMe7zyA",
        "outputId": "014af53b-32ea-464a-83d6-816601fc48cb"
      },
      "execution_count": 5,
      "outputs": [
        {
          "output_type": "stream",
          "name": "stdout",
          "text": [
            "Enter Numnber 1:4\n",
            "Enter Numnber 2:7\n",
            "Before swapping Number_1 is 4 and Number_2 is 7\n",
            "After swapping Number_1 is 7 and Number_2 is 4\n"
          ]
        }
      ]
    },
    {
      "cell_type": "code",
      "source": [],
      "metadata": {
        "id": "K5e6CBXk8vuS"
      },
      "execution_count": null,
      "outputs": []
    }
  ]
}