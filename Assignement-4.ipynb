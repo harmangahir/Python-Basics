{
 "cells": [
  {
   "cell_type": "markdown",
   "id": "33145486",
   "metadata": {},
   "source": [
    "\n",
    "# Question 1. What exactly is []?\n"
   ]
  },
  {
   "cell_type": "markdown",
   "id": "b1b354c7",
   "metadata": {},
   "source": [
    "Answer: Empty List"
   ]
  },
  {
   "cell_type": "markdown",
   "id": "2f6aa327",
   "metadata": {},
   "source": [
    "# Question 2. In a list of values stored in a variable called spam, how would you assign the value 'hello' as the third value? (Assume [2, 4, 6, 8, 10] are in spam.)\n",
    "\n",
    "    "
   ]
  },
  {
   "cell_type": "code",
   "execution_count": 3,
   "id": "82d5d977",
   "metadata": {},
   "outputs": [
    {
     "data": {
      "text/plain": [
       "[2, 4, 'hello', 6, 8, 10]"
      ]
     },
     "execution_count": 3,
     "metadata": {},
     "output_type": "execute_result"
    }
   ],
   "source": [
    "spam = [2,4,6,8,10]\n",
    "spam.insert(2,'hello')\n",
    "spam"
   ]
  },
  {
   "cell_type": "markdown",
   "id": "787361cb",
   "metadata": {},
   "source": [
    "Let's pretend the spam includes the list ['a', 'b', 'c', 'd'] for the next three queries."
   ]
  },
  {
   "cell_type": "markdown",
   "id": "324c1020",
   "metadata": {},
   "source": [
    "# Question 3. What is the value of spam[int(int('3' * 2) / 11)]?\n"
   ]
  },
  {
   "cell_type": "code",
   "execution_count": 7,
   "id": "0cc5a8a0",
   "metadata": {},
   "outputs": [
    {
     "data": {
      "text/plain": [
       "'d'"
      ]
     },
     "execution_count": 7,
     "metadata": {},
     "output_type": "execute_result"
    }
   ],
   "source": [
    "spam = ['a','b','c','d']\n",
    "spam[int(int('3'*2)/11)]"
   ]
  },
  {
   "cell_type": "markdown",
   "id": "90538205",
   "metadata": {},
   "source": [
    "# Question 4. What is the value of spam[-1]?\n"
   ]
  },
  {
   "cell_type": "code",
   "execution_count": 9,
   "id": "baea4bce",
   "metadata": {},
   "outputs": [
    {
     "data": {
      "text/plain": [
       "'d'"
      ]
     },
     "execution_count": 9,
     "metadata": {},
     "output_type": "execute_result"
    }
   ],
   "source": [
    "spam[-1]"
   ]
  },
  {
   "cell_type": "markdown",
   "id": "8e4f5566",
   "metadata": {},
   "source": [
    "# Question 5. What is the value of spam[:2]?\n",
    "\n"
   ]
  },
  {
   "cell_type": "code",
   "execution_count": 10,
   "id": "cd895480",
   "metadata": {},
   "outputs": [
    {
     "data": {
      "text/plain": [
       "['a', 'b']"
      ]
     },
     "execution_count": 10,
     "metadata": {},
     "output_type": "execute_result"
    }
   ],
   "source": [
    "spam[:2]"
   ]
  },
  {
   "cell_type": "markdown",
   "id": "304b608e",
   "metadata": {},
   "source": [
    "Let's pretend bacon has the list [3.14, 'cat,' 11, 'cat,' True] for the next three questions."
   ]
  },
  {
   "cell_type": "markdown",
   "id": "f531a852",
   "metadata": {},
   "source": [
    "\n",
    "# Question 6. What is the value of bacon.index('cat')?\n"
   ]
  },
  {
   "cell_type": "code",
   "execution_count": 19,
   "id": "5170e7cf",
   "metadata": {},
   "outputs": [
    {
     "data": {
      "text/plain": [
       "1"
      ]
     },
     "execution_count": 19,
     "metadata": {},
     "output_type": "execute_result"
    }
   ],
   "source": [
    "bacon = [3.14, 'cat', 11, 'cat', True]\n",
    "bacon.index('cat')"
   ]
  },
  {
   "cell_type": "markdown",
   "id": "aa503e74",
   "metadata": {},
   "source": [
    "# Question 7. How does bacon.append(99) change the look of the list value in bacon?\n"
   ]
  },
  {
   "cell_type": "code",
   "execution_count": 20,
   "id": "8d9ab1f4",
   "metadata": {},
   "outputs": [
    {
     "data": {
      "text/plain": [
       "[3.14, 'cat', 11, 'cat', True, 99]"
      ]
     },
     "execution_count": 20,
     "metadata": {},
     "output_type": "execute_result"
    }
   ],
   "source": [
    "bacon.append(99)\n",
    "bacon"
   ]
  },
  {
   "cell_type": "markdown",
   "id": "2fe5693d",
   "metadata": {},
   "source": [
    "# Question 8. How does bacon.remove('cat') change the look of the list in bacon?\n"
   ]
  },
  {
   "cell_type": "code",
   "execution_count": 21,
   "id": "644d945e",
   "metadata": {},
   "outputs": [
    {
     "data": {
      "text/plain": [
       "[3.14, 11, 'cat', True, 99]"
      ]
     },
     "execution_count": 21,
     "metadata": {},
     "output_type": "execute_result"
    }
   ],
   "source": [
    "bacon.remove('cat')\n",
    "bacon"
   ]
  },
  {
   "cell_type": "markdown",
   "id": "bd2fd4a6",
   "metadata": {},
   "source": [
    "# Question 9. What are the list concatenation and list replication operators?\n"
   ]
  },
  {
   "cell_type": "code",
   "execution_count": 24,
   "id": "2f080268",
   "metadata": {},
   "outputs": [
    {
     "data": {
      "text/plain": [
       "[1, 4, 2, 'str']"
      ]
     },
     "execution_count": 24,
     "metadata": {},
     "output_type": "execute_result"
    }
   ],
   "source": [
    "list1 = [1,4,2,'str']\n",
    "list2 = [5,2,3,'etr']\n",
    "\n",
    "#List Concatenation\n",
    "list3 = list1 + list2\n",
    "list3\n",
    "\n"
   ]
  },
  {
   "cell_type": "code",
   "execution_count": 26,
   "id": "6b3f9871",
   "metadata": {},
   "outputs": [
    {
     "name": "stdout",
     "output_type": "stream",
     "text": [
      "[1, 4, 2, 'str', 1, 4, 2, 'str', 1, 4, 2, 'str']\n"
     ]
    }
   ],
   "source": [
    "#List Replication\n",
    "print(list1*3)\n"
   ]
  },
  {
   "cell_type": "markdown",
   "id": "635e4fe1",
   "metadata": {},
   "source": [
    "# Question 10. What is difference between the list methods append() and insert()?\n"
   ]
  },
  {
   "cell_type": "markdown",
   "id": "0d831675",
   "metadata": {},
   "source": [
    "append() means add element at the end of list whereas insert() means insert element at location given as first parameter in insert function."
   ]
  },
  {
   "cell_type": "markdown",
   "id": "8a3ec736",
   "metadata": {},
   "source": [
    "# Question 11. What are the two methods for removing items from a list?\n"
   ]
  },
  {
   "cell_type": "code",
   "execution_count": 27,
   "id": "43bdcbe7",
   "metadata": {},
   "outputs": [
    {
     "name": "stdout",
     "output_type": "stream",
     "text": [
      "[3, 5, 2]\n"
     ]
    }
   ],
   "source": [
    "# First Method, remove() function removes element given inside bracket\n",
    "\n",
    "list2 = [3,5,2,6]\n",
    "list2.remove(6)\n",
    "print(list2)\n",
    "\n",
    "\n",
    "\n"
   ]
  },
  {
   "cell_type": "code",
   "execution_count": 28,
   "id": "075db17d",
   "metadata": {},
   "outputs": [
    {
     "name": "stdout",
     "output_type": "stream",
     "text": [
      "[5, 2]\n"
     ]
    }
   ],
   "source": [
    "#Second Method, del keyword, remove element from index value\n",
    "del list2[0]\n",
    "print(list2)"
   ]
  },
  {
   "cell_type": "markdown",
   "id": "b8084c80",
   "metadata": {},
   "source": [
    "# Question 12. Describe how list values and string values are identical.\n"
   ]
  },
  {
   "cell_type": "markdown",
   "id": "24ccceac",
   "metadata": {},
   "source": [
    "1. Both list and string are indexed\n",
    "2. Both list and string can be sliced\n",
    "3. Both list and string have len() function\n",
    "4. Both list and string replicated and can concatenate"
   ]
  },
  {
   "cell_type": "markdown",
   "id": "c2478eaf",
   "metadata": {},
   "source": [
    "# Question 13. What's the difference between tuples and lists?\n"
   ]
  },
  {
   "cell_type": "markdown",
   "id": "f63be9e5",
   "metadata": {},
   "source": [
    "List is mutable whereas tuple is immutable\n",
    "\n",
    "list can be written as []\n",
    "tuple can be written as ()"
   ]
  },
  {
   "cell_type": "markdown",
   "id": "7403a471",
   "metadata": {},
   "source": [
    "# Question 14. How do you type a tuple value that only contains the integer 42?\n"
   ]
  },
  {
   "cell_type": "code",
   "execution_count": 30,
   "id": "5e6468f6",
   "metadata": {},
   "outputs": [
    {
     "data": {
      "text/plain": [
       "(42,)"
      ]
     },
     "execution_count": 30,
     "metadata": {},
     "output_type": "execute_result"
    }
   ],
   "source": [
    "(42,)"
   ]
  },
  {
   "cell_type": "markdown",
   "id": "91b38f57",
   "metadata": {},
   "source": [
    "# Question 15. How do you get a list value's tuple form? How do you get a tuple value's list form?\n"
   ]
  },
  {
   "cell_type": "code",
   "execution_count": 32,
   "id": "844d7b62",
   "metadata": {},
   "outputs": [
    {
     "name": "stdout",
     "output_type": "stream",
     "text": [
      "7\n"
     ]
    }
   ],
   "source": [
    "# List Value's tuple form\n",
    "list1 = [1,4,7,8]\n",
    "tuple_Value = tuple(list1)\n",
    "print(tuple_Value[2])"
   ]
  },
  {
   "cell_type": "code",
   "execution_count": 33,
   "id": "0d124853",
   "metadata": {},
   "outputs": [
    {
     "name": "stdout",
     "output_type": "stream",
     "text": [
      "6\n"
     ]
    }
   ],
   "source": [
    "# Tuple Value's list form\n",
    "tuple1 = (1,2,6,8)\n",
    "list_Value = list(tuple1)\n",
    "print(list_Value[2])"
   ]
  },
  {
   "cell_type": "markdown",
   "id": "ee1d744f",
   "metadata": {},
   "source": [
    "# Question 16. Variables that \"contain\" list values are not necessarily lists themselves. Instead, what do they contain?\n"
   ]
  },
  {
   "cell_type": "markdown",
   "id": "cda003e7",
   "metadata": {},
   "source": [
    "Reference to the list value"
   ]
  },
  {
   "cell_type": "markdown",
   "id": "8bd4c944",
   "metadata": {},
   "source": [
    "# Question 17. How do you distinguish between copy.copy() and copy.deepcopy()?\n"
   ]
  },
  {
   "cell_type": "code",
   "execution_count": null,
   "id": "7bd5a4bc",
   "metadata": {},
   "outputs": [],
   "source": [
    "copy.copy() is a shallow copy where any change in copied object will change in the source object too\n",
    "\n",
    "copy.deepcopy() is a deep copy where any change in copied object will not change in source object."
   ]
  }
 ],
 "metadata": {
  "kernelspec": {
   "display_name": "Python 3 (ipykernel)",
   "language": "python",
   "name": "python3"
  },
  "language_info": {
   "codemirror_mode": {
    "name": "ipython",
    "version": 3
   },
   "file_extension": ".py",
   "mimetype": "text/x-python",
   "name": "python",
   "nbconvert_exporter": "python",
   "pygments_lexer": "ipython3",
   "version": "3.9.12"
  }
 },
 "nbformat": 4,
 "nbformat_minor": 5
}
