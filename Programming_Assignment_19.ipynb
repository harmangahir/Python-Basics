{
  "nbformat": 4,
  "nbformat_minor": 0,
  "metadata": {
    "colab": {
      "provenance": []
    },
    "kernelspec": {
      "name": "python3",
      "display_name": "Python 3"
    },
    "language_info": {
      "name": "python"
    }
  },
  "cells": [
    {
      "cell_type": "markdown",
      "source": [
        "Question1\n",
        "Create a function that takes a string and returns a string in which each character is repeated\n",
        "once.\n",
        "Examples\n",
        "double_char(&quot;String&quot;) ➞ &quot;SSttrriinngg&quot;\n",
        "double_char(&quot;Hello World!&quot;) ➞ &quot;HHeelllloo WWoorrlldd!!&quot;\n",
        "double_char(&quot;1234!_ &quot;) ➞ &quot;11223344!!__ &quot;"
      ],
      "metadata": {
        "id": "q7-esep-6YLW"
      }
    },
    {
      "cell_type": "code",
      "execution_count": 4,
      "metadata": {
        "colab": {
          "base_uri": "https://localhost:8080/"
        },
        "id": "2Hs0o1To6S3P",
        "outputId": "bbd0f02d-2680-491f-e2ab-f8760c634930"
      },
      "outputs": [
        {
          "output_type": "stream",
          "name": "stdout",
          "text": [
            "HHeelllloo  WWoorrlldd!!\n",
            "11223344!!__\n"
          ]
        }
      ],
      "source": [
        "import string\n",
        "def double_char(str1):\n",
        "  str1 = ''.join(item*2 for item in str1)\n",
        "  return str1\n",
        "\n",
        "\n",
        "print(double_char('Hello World!')) \n",
        "print(double_char('1234!_')) "
      ]
    },
    {
      "cell_type": "markdown",
      "source": [
        "Question2\n",
        "Create a function that reverses a boolean value and returns the string &quot;boolean expected&quot;\n",
        "if another variable type is given.\n",
        "Examples\n",
        "reverse(True) ➞ False\n",
        "reverse(False) ➞ True\n",
        "reverse(0) ➞ &quot;boolean expected&quot;\n",
        "reverse(None) ➞ &quot;boolean expected&quot;"
      ],
      "metadata": {
        "id": "Tn7G1Hrm8ghb"
      }
    },
    {
      "cell_type": "code",
      "source": [
        "def reverse(parameter):\n",
        "  if(type(parameter)==int) and (parameter==0):\n",
        "    return 'Boolean Expected'\n",
        "  elif (parameter==True):\n",
        "    return False\n",
        "  elif (parameter==False):\n",
        "    return True\n",
        "  else:\n",
        "    return 'Boolean Expected'\n",
        "\n",
        "print(reverse(True))\n",
        "print(reverse(False))\n",
        "print(reverse(0))\n",
        "print(reverse(None))\n",
        "\n"
      ],
      "metadata": {
        "colab": {
          "base_uri": "https://localhost:8080/"
        },
        "id": "kSTxIGqt6xT4",
        "outputId": "1a978076-495c-429d-916d-c1537ea46e55"
      },
      "execution_count": 20,
      "outputs": [
        {
          "output_type": "stream",
          "name": "stdout",
          "text": [
            "False\n",
            "True\n",
            "Boolean Expected\n",
            "Boolean Expected\n"
          ]
        }
      ]
    },
    {
      "cell_type": "markdown",
      "source": [
        "Question3\n",
        "Create a function that returns the thickness (in meters) of a piece of paper after folding it n\n",
        "number of times. The paper starts off with a thickness of 0.5mm.\n",
        "Examples\n",
        "num_layers(1) ➞ &quot;0.001m&quot;\n",
        " Paper folded once is 1mm (equal to 0.001m)\n",
        "num_layers(4) ➞ &quot;0.008m&quot;\n",
        " Paper folded 4 times is 8mm (equal to 0.008m)\n",
        "num_layers(21) ➞ &quot;1048.576m&quot;\n",
        " Paper folded 21 times is 1048576mm (equal to 1048.576m)"
      ],
      "metadata": {
        "id": "BwYEfJy6_LVp"
      }
    },
    {
      "cell_type": "code",
      "source": [
        "def num_layers(number):\n",
        "    thickness = 0.5\n",
        "    for _ in range(number):\n",
        "        thickness *= 2\n",
        "    \n",
        "    return str(thickness / 1000) + 'm'\n",
        "\n",
        "print(num_layers(1))\n",
        "print(num_layers(4))\n",
        "print(num_layers(21))\n"
      ],
      "metadata": {
        "colab": {
          "base_uri": "https://localhost:8080/"
        },
        "id": "m_uTIeCb-RUu",
        "outputId": "cab1c20d-6b38-4832-c454-91feee2a2fc6"
      },
      "execution_count": 26,
      "outputs": [
        {
          "output_type": "stream",
          "name": "stdout",
          "text": [
            "0.001m\n",
            "0.008m\n",
            "1048.576m\n"
          ]
        }
      ]
    },
    {
      "cell_type": "markdown",
      "source": [
        "Question 4\n",
        "\n",
        "Create a function that takes a single string as argument and returns an ordered list containing\n",
        "the indices of all capital letters in the string.\n",
        "Examples\n",
        "index_of_caps(&quot;eDaBiT&quot;) ➞ [1, 3, 5]\n",
        "index_of_caps(&quot;eQuINoX&quot;) ➞ [1, 3, 4, 6]\n",
        "index_of_caps(&quot;determine&quot;) ➞ []\n",
        "index_of_caps(&quot;STRIKE&quot;) ➞ [0, 1, 2, 3, 4, 5]\n",
        "index_of_caps(&quot;sUn&quot;) ➞ [1]"
      ],
      "metadata": {
        "id": "C-Hz25EKCVYf"
      }
    },
    {
      "cell_type": "code",
      "source": [
        "def index_of_caps(str1):\n",
        "    indices = []\n",
        "\n",
        "    for item in range(len(str1)):\n",
        "        if str1[item].isupper():\n",
        "             indices.append(item)\n",
        "    \n",
        "    return indices\n",
        "\n",
        "print(index_of_caps('BhaNu'))\n",
        "print(index_of_caps('eDaBiT'))\n",
        "print(index_of_caps('eQuINoX')) \n",
        "print(index_of_caps('determine'))\n",
        "print(index_of_caps('STRIKE'))\n",
        "print(index_of_caps('sUn'))"
      ],
      "metadata": {
        "colab": {
          "base_uri": "https://localhost:8080/"
        },
        "id": "NmZEhBaVA38H",
        "outputId": "71238496-4a4a-4bf4-8b5c-daf063ee5f12"
      },
      "execution_count": 30,
      "outputs": [
        {
          "output_type": "stream",
          "name": "stdout",
          "text": [
            "[0, 3]\n",
            "[1, 3, 5]\n",
            "[1, 3, 4, 6]\n",
            "[]\n",
            "[0, 1, 2, 3, 4, 5]\n",
            "[1]\n"
          ]
        }
      ]
    },
    {
      "cell_type": "markdown",
      "source": [
        "Question5\n",
        "Using list comprehensions, create a function that finds all even numbers from 1 to the given\n",
        "number.\n",
        "Examples\n",
        "find_even_nums(8) ➞ [2, 4, 6, 8]\n",
        "find_even_nums(4) ➞ [2, 4]\n",
        "find_even_nums(2) ➞ [2]"
      ],
      "metadata": {
        "id": "eVbA76g8CuK6"
      }
    },
    {
      "cell_type": "code",
      "source": [
        "def find_even_nums(number):\n",
        "    result =[item for item in range(2,number + 1) if item % 2 == 0]\n",
        "    return result\n",
        "\n",
        "number = int(input('Enter number: '))\n",
        "print(find_even_nums(number))"
      ],
      "metadata": {
        "colab": {
          "base_uri": "https://localhost:8080/"
        },
        "id": "iyU4etmNCe37",
        "outputId": "194b1bb9-920a-49c1-9d89-8fe2de31d649"
      },
      "execution_count": 32,
      "outputs": [
        {
          "output_type": "stream",
          "name": "stdout",
          "text": [
            "Enter number: 50\n",
            "[2, 4, 6, 8, 10, 12, 14, 16, 18, 20, 22, 24, 26, 28, 30, 32, 34, 36, 38, 40, 42, 44, 46, 48, 50]\n"
          ]
        }
      ]
    },
    {
      "cell_type": "code",
      "source": [],
      "metadata": {
        "id": "5huYyWrZC9wJ"
      },
      "execution_count": null,
      "outputs": []
    }
  ]
}