{
  "nbformat": 4,
  "nbformat_minor": 0,
  "metadata": {
    "colab": {
      "provenance": []
    },
    "kernelspec": {
      "name": "python3",
      "display_name": "Python 3"
    },
    "language_info": {
      "name": "python"
    }
  },
  "cells": [
    {
      "cell_type": "markdown",
      "source": [
        "1. Write a Python program to find sum of elements in list?"
      ],
      "metadata": {
        "id": "CsZWOVJHFXhi"
      }
    },
    {
      "cell_type": "code",
      "execution_count": 7,
      "metadata": {
        "colab": {
          "base_uri": "https://localhost:8080/"
        },
        "id": "7lijbrF_FO-N",
        "outputId": "2d7d2a4b-61c5-4aaa-e022-eb72b4cc32fb"
      },
      "outputs": [
        {
          "output_type": "stream",
          "name": "stdout",
          "text": [
            "36\n"
          ]
        }
      ],
      "source": [
        "list1 = [3,6,2,7,8,9,1]\n",
        "sum = 0\n",
        "for item in range(0,len(list1)):\n",
        "  sum += list1[item]\n",
        "print(sum)"
      ]
    },
    {
      "cell_type": "markdown",
      "source": [
        "2. Write a Python program to Multiply all numbers in the list?"
      ],
      "metadata": {
        "id": "AkIkWsN4FZng"
      }
    },
    {
      "cell_type": "code",
      "source": [
        "list1 = [1,2,3]\n",
        "mul = 1\n",
        "for item in range(0,len(list1)):\n",
        "  mul *= list1[item]\n",
        "print(sum)"
      ],
      "metadata": {
        "colab": {
          "base_uri": "https://localhost:8080/"
        },
        "id": "IXyRI9OXFbQX",
        "outputId": "24600f7c-998a-48c0-a322-91237ff60185"
      },
      "execution_count": 6,
      "outputs": [
        {
          "output_type": "stream",
          "name": "stdout",
          "text": [
            "6\n"
          ]
        }
      ]
    },
    {
      "cell_type": "markdown",
      "source": [
        "3. Write a Python program to find smallest number in a list?"
      ],
      "metadata": {
        "id": "aJ5v6SyZFcx8"
      }
    },
    {
      "cell_type": "code",
      "source": [
        "list1 = [3,6,2,7,8,9,1]\n",
        "for item in range(0,len(list1)):\n",
        "  if(list1[item] < smallest):\n",
        "    smallest = list1[item]\n",
        "print(smallest)"
      ],
      "metadata": {
        "colab": {
          "base_uri": "https://localhost:8080/"
        },
        "id": "f-IMIBk4FdWZ",
        "outputId": "bb5eacfd-aafa-493e-e759-0d5bd22ae53f"
      },
      "execution_count": 9,
      "outputs": [
        {
          "output_type": "stream",
          "name": "stdout",
          "text": [
            "1\n"
          ]
        }
      ]
    },
    {
      "cell_type": "markdown",
      "source": [
        "4. Write a Python program to find largest number in a list?"
      ],
      "metadata": {
        "id": "lT6Q_V5-Fe13"
      }
    },
    {
      "cell_type": "code",
      "source": [
        "list1 = [3,6,2,7,8,9,1]\n",
        "largest = 0\n",
        "for item in range(0,len(list1)):\n",
        "  if(list1[item] > largest):\n",
        "    largest = list1[item]\n",
        "print(largest)"
      ],
      "metadata": {
        "colab": {
          "base_uri": "https://localhost:8080/"
        },
        "id": "78Qif7d4Ffbm",
        "outputId": "a4d0581b-9c8b-4010-b62c-aadb35a83473"
      },
      "execution_count": 11,
      "outputs": [
        {
          "output_type": "stream",
          "name": "stdout",
          "text": [
            "9\n"
          ]
        }
      ]
    },
    {
      "cell_type": "markdown",
      "source": [
        "5. Write a Python program to find second largest number in a list?"
      ],
      "metadata": {
        "id": "hrDhLj4JFhjN"
      }
    },
    {
      "cell_type": "code",
      "source": [
        "list1 = [3,6,2,7,8,9,1]\n",
        "list1.sort()\n",
        "print(list1[-2])"
      ],
      "metadata": {
        "colab": {
          "base_uri": "https://localhost:8080/"
        },
        "id": "7kJa6dFBFifd",
        "outputId": "29f18c5f-e531-49f5-969c-1fa39f89021f"
      },
      "execution_count": 25,
      "outputs": [
        {
          "output_type": "stream",
          "name": "stdout",
          "text": [
            "8\n"
          ]
        }
      ]
    },
    {
      "cell_type": "markdown",
      "source": [
        "6. Write a Python program to find N largest elements from a list?"
      ],
      "metadata": {
        "id": "94lT0rsLFkXt"
      }
    },
    {
      "cell_type": "code",
      "source": [
        "list1 = [3,6,2,7,8,9,1]\n",
        "N = int(input('Enter N:'))\n",
        "list1.sort()\n",
        "print(list1[-N])\n"
      ],
      "metadata": {
        "colab": {
          "base_uri": "https://localhost:8080/"
        },
        "id": "8-wALMBkFk5n",
        "outputId": "81d086a7-5102-429f-af8c-570f61d19b8d"
      },
      "execution_count": 30,
      "outputs": [
        {
          "output_type": "stream",
          "name": "stdout",
          "text": [
            "Enter N:3\n",
            "7\n"
          ]
        }
      ]
    },
    {
      "cell_type": "markdown",
      "source": [
        "7. Write a Python program to print even numbers in a list?"
      ],
      "metadata": {
        "id": "deBUDzfEFmzV"
      }
    },
    {
      "cell_type": "code",
      "source": [
        "list1 = [3,6,2,7,8,9,1]\n",
        "for item in list1:\n",
        "  if item%2 == 0:\n",
        "    print(item,end = \" \")\n",
        "\n"
      ],
      "metadata": {
        "colab": {
          "base_uri": "https://localhost:8080/"
        },
        "id": "2pQ59fHcFnXp",
        "outputId": "02cb869e-39d4-4cae-eb51-656a60e8bf7e"
      },
      "execution_count": 46,
      "outputs": [
        {
          "output_type": "stream",
          "name": "stdout",
          "text": [
            "6 2 8 "
          ]
        }
      ]
    },
    {
      "cell_type": "markdown",
      "source": [
        "8. Write a Python program to print odd numbers in a List?"
      ],
      "metadata": {
        "id": "fPJNRymqFo_t"
      }
    },
    {
      "cell_type": "code",
      "source": [
        "list1 = [3,6,2,7,8,9,1]\n",
        "for item in list1:\n",
        "  if item%2 == 1:\n",
        "    print(item,end = \" \")"
      ],
      "metadata": {
        "colab": {
          "base_uri": "https://localhost:8080/"
        },
        "id": "w00IgSzLFpj8",
        "outputId": "3a03405d-49fb-4030-dc75-f509a6eae308"
      },
      "execution_count": 47,
      "outputs": [
        {
          "output_type": "stream",
          "name": "stdout",
          "text": [
            "3 7 9 1 "
          ]
        }
      ]
    },
    {
      "cell_type": "markdown",
      "source": [
        "9. Write a Python program to Remove empty List from List?"
      ],
      "metadata": {
        "id": "QzC-u36rFrS7"
      }
    },
    {
      "cell_type": "code",
      "source": [
        "list1 = [3,6,2,7,8,[],9,[],1]\n",
        "for item in list1:\n",
        "  if item == []:\n",
        "    list1.remove(item)\n",
        "\n",
        "print(list1)"
      ],
      "metadata": {
        "colab": {
          "base_uri": "https://localhost:8080/"
        },
        "id": "YelBpbwDFr0G",
        "outputId": "aeef4f73-75a5-49e0-e47f-20b818bfe65a"
      },
      "execution_count": 51,
      "outputs": [
        {
          "output_type": "stream",
          "name": "stdout",
          "text": [
            "[3, 6, 2, 7, 8, 9, 1]\n"
          ]
        }
      ]
    },
    {
      "cell_type": "markdown",
      "source": [
        "10. Write a Python program to Cloning or Copying a list?"
      ],
      "metadata": {
        "id": "Bn4y3kzhFt50"
      }
    },
    {
      "cell_type": "code",
      "source": [
        "list1 = [3,6,9,2,7,8,9,1]\n",
        "list2 = list1\n",
        "print(list2)"
      ],
      "metadata": {
        "colab": {
          "base_uri": "https://localhost:8080/"
        },
        "id": "AlOKCry0Fuzb",
        "outputId": "47cde7c8-188f-40bf-e51a-2c370e28706b"
      },
      "execution_count": 59,
      "outputs": [
        {
          "output_type": "stream",
          "name": "stdout",
          "text": [
            "[3, 6, 9, 2, 7, 8, 9, 1]\n"
          ]
        }
      ]
    },
    {
      "cell_type": "markdown",
      "source": [
        "11. Write a Python program to Count occurrences of an element in a list?"
      ],
      "metadata": {
        "id": "zhfBn-18Fwpf"
      }
    },
    {
      "cell_type": "code",
      "source": [
        "list1 = [3,6,9,2,7,8,9,1]\n",
        "occurance = {item:list1.count(item) for item in list1}\n",
        "print(occurance.get(9))\n",
        "  \n",
        "  "
      ],
      "metadata": {
        "colab": {
          "base_uri": "https://localhost:8080/"
        },
        "id": "KYftqL3xFxOx",
        "outputId": "46e93087-baf8-459e-84c9-6ef50b9e61a1"
      },
      "execution_count": 58,
      "outputs": [
        {
          "output_type": "stream",
          "name": "stdout",
          "text": [
            "2\n"
          ]
        }
      ]
    },
    {
      "cell_type": "code",
      "source": [],
      "metadata": {
        "id": "HzM4MXWoOoTP"
      },
      "execution_count": null,
      "outputs": []
    }
  ]
}