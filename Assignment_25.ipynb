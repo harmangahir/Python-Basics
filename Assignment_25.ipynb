{
  "nbformat": 4,
  "nbformat_minor": 0,
  "metadata": {
    "colab": {
      "provenance": []
    },
    "kernelspec": {
      "name": "python3",
      "display_name": "Python 3"
    },
    "language_info": {
      "name": "python"
    }
  },
  "cells": [
    {
      "cell_type": "markdown",
      "source": [
        "**Question 1:** What is the difference between enclosing a list comprehension in square brackets and\n",
        "parentheses?"
      ],
      "metadata": {
        "id": "8YRJxpu9BtcI"
      }
    },
    {
      "cell_type": "markdown",
      "source": [
        "**Answer:**  List compression with square brackets returns list of elements where as list comprehension with parentheses returns generator tuple"
      ],
      "metadata": {
        "id": "U-d-XI432Kgy"
      }
    },
    {
      "cell_type": "code",
      "execution_count": 1,
      "metadata": {
        "colab": {
          "base_uri": "https://localhost:8080/"
        },
        "id": "nxo10ushBo_U",
        "outputId": "e651ac5f-aab6-4f32-fb5b-994b90feafa8"
      },
      "outputs": [
        {
          "output_type": "execute_result",
          "data": {
            "text/plain": [
              "[0, 2, 4, 6, 8, 10, 12, 14, 16, 18]"
            ]
          },
          "metadata": {},
          "execution_count": 1
        }
      ],
      "source": [
        "list1 = [item for item in range(20) if item%2==0]\n",
        "list1\n"
      ]
    },
    {
      "cell_type": "code",
      "source": [
        "x"
      ],
      "metadata": {
        "id": "LK5LAc4TOMom"
      },
      "execution_count": null,
      "outputs": []
    },
    {
      "cell_type": "code",
      "source": [
        "list1 = (item for item in range(20) if item%2==0)\n",
        "print(list1)"
      ],
      "metadata": {
        "colab": {
          "base_uri": "https://localhost:8080/"
        },
        "id": "HaVU9dImB475",
        "outputId": "48f67bde-66b2-4d6e-e4a0-0d2a286e3690"
      },
      "execution_count": 2,
      "outputs": [
        {
          "output_type": "stream",
          "name": "stdout",
          "text": [
            "<generator object <genexpr> at 0x7fba4fb5e150>\n"
          ]
        }
      ]
    },
    {
      "cell_type": "markdown",
      "source": [
        "**Question 2:** What is the relationship between generators and iterators?"
      ],
      "metadata": {
        "id": "VVXP6RWZ2sAk"
      }
    },
    {
      "cell_type": "markdown",
      "source": [
        "**Answer:**\n",
        "\n",
        "**Generators:** Generators is a function which iterators each element from iterable data structure. It has following properties:\n",
        "\n",
        "\n",
        "1.   Instead of return statement in tradition function, generator return yield\n",
        "2.   Yield statement can pause a function for a while and can save states of objects/variable in memory and then can resume execution when sucessive function called.\n",
        "3. Multiple yeild statement can be passed in single generator function\n",
        "\n"
      ],
      "metadata": {
        "id": "4Ocs6Tiu2xJA"
      }
    },
    {
      "cell_type": "code",
      "source": [
        "def function():\n",
        "  for item in range(10):\n",
        "    if item%2==0:\n",
        "      yield item\n",
        "\n",
        "object = function()\n",
        "print(next(object))\n",
        "print(next(object))\n",
        "print(next(object))\n",
        "print(next(object))\n",
        "print(next(object))"
      ],
      "metadata": {
        "id": "P0AEIODDX-nh",
        "colab": {
          "base_uri": "https://localhost:8080/"
        },
        "outputId": "8fd6a304-7b1c-44fb-90e2-a9cdd079a730"
      },
      "execution_count": 5,
      "outputs": [
        {
          "output_type": "stream",
          "name": "stdout",
          "text": [
            "0\n",
            "2\n",
            "4\n",
            "6\n",
            "8\n"
          ]
        }
      ]
    },
    {
      "cell_type": "code",
      "source": [
        "def function():\n",
        "  str1 = 'String1'\n",
        "  yield str1\n",
        "\n",
        "  str2 = 'String2'\n",
        "  yield str2\n",
        "\n",
        "  str3 = 'String3'\n",
        "  yield str3\n",
        "\n",
        "object = function()\n",
        "print(next(object))\n",
        "print(next(object))\n",
        "print(next(object))"
      ],
      "metadata": {
        "colab": {
          "base_uri": "https://localhost:8080/"
        },
        "id": "ClL048wq5V41",
        "outputId": "1eb6cc8c-3773-4d77-df88-a021524adb45"
      },
      "execution_count": 7,
      "outputs": [
        {
          "output_type": "stream",
          "name": "stdout",
          "text": [
            "String1\n",
            "String2\n",
            "String3\n"
          ]
        }
      ]
    },
    {
      "cell_type": "markdown",
      "source": [
        "**Iterator**: Iterator is an object which iterate elements from iterable data structure such as list, tuple, set etc. It used iter() to create a iterator object and by using next(), iter object will itrerate/traverse successive element from iterable object. Iterator can be use in  class too "
      ],
      "metadata": {
        "id": "7PROWNWI5rCI"
      }
    },
    {
      "cell_type": "code",
      "source": [
        "list1 = [4,5,2,7,6,1,89,234]\n",
        "iterObject = iter(list1)\n",
        "print(next(iterObject))\n",
        "print(next(iterObject))\n",
        "print(next(iterObject))"
      ],
      "metadata": {
        "colab": {
          "base_uri": "https://localhost:8080/"
        },
        "id": "GQTZN_us5nF6",
        "outputId": "e91269da-d2be-42e5-af02-2658f1197b58"
      },
      "execution_count": 10,
      "outputs": [
        {
          "output_type": "stream",
          "name": "stdout",
          "text": [
            "4\n",
            "5\n",
            "2\n"
          ]
        }
      ]
    },
    {
      "cell_type": "markdown",
      "source": [
        "**Question 3:** What are the signs that a function is a generator function?"
      ],
      "metadata": {
        "id": "EuN2pgyZ6oRv"
      }
    },
    {
      "cell_type": "markdown",
      "source": [
        "Answer: Function with yield statement indicates that function is a generator. Genrator can have single or multiple yield statement"
      ],
      "metadata": {
        "id": "QCljG6DH6xM4"
      }
    },
    {
      "cell_type": "markdown",
      "source": [
        "**Question 4:** What is the purpose of a yield statement?"
      ],
      "metadata": {
        "id": "mGtim8Ja7DZB"
      }
    },
    {
      "cell_type": "markdown",
      "source": [
        "**Answer:**  Yield statement works almost same as return statement in normal function except yield statment can pause generator function execution for a while and can store generator function states before resume of successive call to generator"
      ],
      "metadata": {
        "id": "rFPXuSfm7JHw"
      }
    },
    {
      "cell_type": "markdown",
      "source": [
        "**Question 5:** What is the relationship between map calls and list comprehensions? Make a comparison and\n",
        "contrast between the two."
      ],
      "metadata": {
        "id": "oTMj_5j-7kcM"
      }
    },
    {
      "cell_type": "markdown",
      "source": [
        "**Answer:** \n",
        "\n",
        "**Map Calls:** Map function returns list of element after apply given function on each element of iterable data structure such as list, tuple, sets etc"
      ],
      "metadata": {
        "id": "cJB1P2Ej7pnw"
      }
    },
    {
      "cell_type": "code",
      "source": [
        "def cubeRoot(num):\n",
        "  return num*num*num\n",
        "\n",
        "list1 = [1,2,3,4,5,6]\n",
        "result = map(cubeRoot,list1)\n",
        "print(list(result))"
      ],
      "metadata": {
        "colab": {
          "base_uri": "https://localhost:8080/"
        },
        "id": "eWsO0Cai6OPW",
        "outputId": "b1306356-818f-407b-ab4e-313ff7b7e11b"
      },
      "execution_count": 15,
      "outputs": [
        {
          "output_type": "stream",
          "name": "stdout",
          "text": [
            "[1, 8, 27, 64, 125, 216]\n"
          ]
        }
      ]
    },
    {
      "cell_type": "markdown",
      "source": [
        "**List Comprehension:** List comprension is way to reduce number of line in writing a code in order to traverse list element using lambda, map, reduce and filter function"
      ],
      "metadata": {
        "id": "uk3guKBc8-7P"
      }
    },
    {
      "cell_type": "code",
      "source": [
        "result = [item for item in list1 if item%2==0]\n",
        "print(result)"
      ],
      "metadata": {
        "colab": {
          "base_uri": "https://localhost:8080/"
        },
        "id": "Isw6ddDV8fsX",
        "outputId": "00c66ab4-9657-4ee4-8482-3e7defacec1a"
      },
      "execution_count": 17,
      "outputs": [
        {
          "output_type": "stream",
          "name": "stdout",
          "text": [
            "[2, 4, 6]\n"
          ]
        }
      ]
    },
    {
      "cell_type": "markdown",
      "source": [
        "**Comparison**\n",
        "\n",
        "\n",
        "1.   List compression will return list of elements whereas map returns map object.\n",
        "2.   List compression works fast and efficient in situation of solve expression whereas map works good during function calling\n",
        "\n"
      ],
      "metadata": {
        "id": "bd_cbxd-9wbr"
      }
    },
    {
      "cell_type": "code",
      "source": [],
      "metadata": {
        "id": "vnEaOPeA9reo"
      },
      "execution_count": null,
      "outputs": []
    }
  ]
}