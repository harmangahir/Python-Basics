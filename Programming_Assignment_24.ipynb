{
  "nbformat": 4,
  "nbformat_minor": 0,
  "metadata": {
    "colab": {
      "provenance": []
    },
    "kernelspec": {
      "name": "python3",
      "display_name": "Python 3"
    },
    "language_info": {
      "name": "python"
    }
  },
  "cells": [
    {
      "cell_type": "markdown",
      "source": [
        "Question1\n",
        "Create a function that takes an integer and returns a list from 1 to the given number, where:\n",
        "1. If the number can be divided evenly by 4, amplify it by 10 (i.e. return 10 times the\n",
        "number).\n",
        "2. If the number cannot be divided evenly by 4, simply return the number.\n",
        "Examples\n",
        "amplify(4) ➞ [1, 2, 3, 40]\n",
        "amplify(3) ➞ [1, 2, 3]\n",
        "amplify(25) ➞ [1, 2, 3, 40, 5, 6, 7, 80, 9, 10, 11, 120, 13, 14, 15, 160,\n",
        "17, 18, 19, 200, 21, 22, 23, 240, 25]\n",
        "Notes\n",
        " The given integer will always be equal to or greater than 1.\n",
        " Include the number (see example above).\n",
        " To perform this problem with its intended purpose, try doing it with list\n",
        "comprehensions. If that&#39;s too difficult, just solve the challenge any way you can."
      ],
      "metadata": {
        "id": "8i92NbP7WB-P"
      }
    },
    {
      "cell_type": "code",
      "execution_count": 30,
      "metadata": {
        "colab": {
          "base_uri": "https://localhost:8080/"
        },
        "id": "lDT8R0ASVtQy",
        "outputId": "6d1b3522-cf23-459f-d862-d04b7295aa38"
      },
      "outputs": [
        {
          "output_type": "stream",
          "name": "stdout",
          "text": [
            "[1, 2, 3, 40]\n",
            "[1, 2, 3]\n",
            "[1, 2, 3, 40, 5, 6, 7, 80, 9, 10, 11, 120, 13, 14, 15, 160, 17, 18, 19, 200, 21, 22, 23, 240, 25]\n"
          ]
        }
      ],
      "source": [
        "def amplify(number):\n",
        "  list2 = []\n",
        "\n",
        "  list2 = [item for item in range(1,number+1)]\n",
        "\n",
        "  for item in range(len(list2)):\n",
        "    if list2[item]%4==0:\n",
        "      list2[item]*=10\n",
        "      \n",
        "  return list2\n",
        "\n",
        "print(amplify(4))\n",
        "print(amplify(3))\n",
        "print(amplify(25))"
      ]
    },
    {
      "cell_type": "markdown",
      "source": [
        "Question2\n",
        "Create a function that takes a list of numbers and return the number that&#39;s unique.\n",
        "Examples\n",
        "unique([3, 3, 3, 7, 3, 3]) ➞ 7\n",
        "unique([0, 0, 0.77, 0, 0]) ➞ 0.77\n",
        "unique([0, 1, 1, 1, 1, 1, 1, 1]) ➞ 0\n",
        "Notes\n",
        "Test cases will always have exactly one unique number while all others are the same."
      ],
      "metadata": {
        "id": "HpbTwbkCo6K2"
      }
    },
    {
      "cell_type": "code",
      "source": [
        "def unique(list1):\n",
        "  for item in list1:\n",
        "    if(list1.count(item)==1):\n",
        "      return item\n",
        "      \n",
        "\n",
        "print(unique([3,3,3,7,3,3]))\n",
        "print(unique([0,0,0.77,0,0]))\n",
        "print(unique([0,1,1,1,1,1,1]))\n"
      ],
      "metadata": {
        "colab": {
          "base_uri": "https://localhost:8080/"
        },
        "id": "AHcG9ILyhhIW",
        "outputId": "1ef50833-2f9f-480c-fefc-b1c19fea7f72"
      },
      "execution_count": 43,
      "outputs": [
        {
          "output_type": "stream",
          "name": "stdout",
          "text": [
            "7\n",
            "0.77\n",
            "0\n"
          ]
        }
      ]
    },
    {
      "cell_type": "markdown",
      "source": [
        "Question3\n",
        "Your task is to create a Circle constructor that creates a circle with a radius provided by an\n",
        "argument. The circles constructed must have two getters getArea() (PIr^2) and\n",
        "getPerimeter() (2PI*r) which give both respective areas and perimeter (circumference).For help with this class, I have provided you with a Rectangle constructor which you can use\n",
        "as a base example.\n",
        "Examples\n",
        "circy = Circle(11)\n",
        "circy.getArea()\n",
        " Should return 380.132711084365\n",
        "circy = Circle(4.44)\n",
        "circy.getPerimeter()\n",
        " Should return 27.897342763877365\n",
        "Notes\n",
        "Round results up to the nearest integer."
      ],
      "metadata": {
        "id": "VnHH3Gw7rfYL"
      }
    },
    {
      "cell_type": "code",
      "source": [
        "import math\n",
        "class Circle:\n",
        "  radius=0\n",
        "  def __init__(self, radius):\n",
        "    self.radius = radius\n",
        "\n",
        "  def getArea(self):\n",
        "    return round(math.pi * self.radius**2,2)\n",
        "\n",
        "  def getPerimeter(self):\n",
        "    return round(2 * math.pi * self.radius,2)\n",
        "\n",
        "circy = Circle(11)\n",
        "print(circy.getArea())\n",
        "\n",
        "circy = Circle(4.44)\n",
        "print(circy.getPerimeter())\n",
        "  "
      ],
      "metadata": {
        "colab": {
          "base_uri": "https://localhost:8080/"
        },
        "id": "_IuWpxGlpbgm",
        "outputId": "16e7fd14-05a6-4b72-fd74-8613f0541670"
      },
      "execution_count": 51,
      "outputs": [
        {
          "output_type": "stream",
          "name": "stdout",
          "text": [
            "380.13\n",
            "27.9\n"
          ]
        }
      ]
    },
    {
      "cell_type": "markdown",
      "source": [
        "Question4\n",
        "Create a function that takes a list of strings and return a list, sorted from shortest to longest.\n",
        "Examples\n",
        "sort_by_length([&quot;Google&quot;, &quot;Apple&quot;, &quot;Microsoft&quot;])\n",
        "➞ [&quot;Apple&quot;, &quot;Google&quot;, &quot;Microsoft&quot;]\n",
        "sort_by_length([&quot;Leonardo&quot;, &quot;Michelangelo&quot;, &quot;Raphael&quot;, &quot;Donatello&quot;])\n",
        "➞ [&quot;Raphael&quot;, &quot;Leonardo&quot;, &quot;Donatello&quot;, &quot;Michelangelo&quot;]\n",
        "sort_by_length([&quot;Turing&quot;, &quot;Einstein&quot;, &quot;Jung&quot;])\n",
        "➞ [&quot;Jung&quot;, &quot;Turing&quot;, &quot;Einstein&quot;]\n",
        "Notes\n",
        "All test cases contain lists with strings of different lengths, so you won&#39;t have to deal with\n",
        "multiple strings of the same length."
      ],
      "metadata": {
        "id": "mjN9zEEltm-c"
      }
    },
    {
      "cell_type": "code",
      "source": [
        "def sort_by_length(list1):\n",
        "  return sorted(list1, key = lambda item: len(item))\n",
        "\n",
        "\n",
        "print(sort_by_length([\"Google\", \"Apple\", \"Microsoft\"]))\n",
        "print(sort_by_length([\"Leonardo\", \"Michelangelo\", \"Raphael\", \"Donatello\"]))\n",
        "print(sort_by_length([\"Turing\", \"Einstein\", \"Jung\"]))"
      ],
      "metadata": {
        "colab": {
          "base_uri": "https://localhost:8080/"
        },
        "id": "G40OxUoysml0",
        "outputId": "b8ac81e0-faac-4b69-deae-f985ea86f740"
      },
      "execution_count": 72,
      "outputs": [
        {
          "output_type": "stream",
          "name": "stdout",
          "text": [
            "['Apple', 'Google', 'Microsoft']\n",
            "['Raphael', 'Leonardo', 'Donatello', 'Michelangelo']\n",
            "['Jung', 'Turing', 'Einstein']\n"
          ]
        }
      ]
    },
    {
      "cell_type": "markdown",
      "source": [
        "Question5\n",
        "Create a function that validates whether three given integers form a Pythagorean triplet. The\n",
        "sum of the squares of the two smallest integers must equal the square of the largest number to\n",
        "be validated.Examples\n",
        "is_triplet(3, 4, 5) ➞ True\n",
        " 3² + 4² = 25\n",
        " 5² = 25\n",
        "is_triplet(13, 5, 12) ➞ True\n",
        " 5² + 12² = 169\n",
        " 13² = 169\n",
        "is_triplet(1, 2, 3) ➞ False\n",
        " 1² + 2² = 5\n",
        " 3² = 9\n",
        "Notes\n",
        "Numbers may not be given in a sorted order."
      ],
      "metadata": {
        "id": "LBEmYUbW3LF_"
      }
    },
    {
      "cell_type": "code",
      "source": [
        "def is_triple(number1, number2, number3):\n",
        "  list1 = [number1, number2, number3]\n",
        "  list1.sort()\n",
        "  maximum_square = math.pow(max(list1),2)\n",
        "  \n",
        "  return True if math.pow((list1[0]),2) + math.pow((list1[1]),2)== maximum_square else False\n",
        "\n",
        "\n",
        "\n",
        "print(is_triple(3,4,5))\n",
        "print(is_triple(13,5,12))\n",
        "print(is_triple(1,2,3))"
      ],
      "metadata": {
        "colab": {
          "base_uri": "https://localhost:8080/"
        },
        "id": "yGP-09e7xsu7",
        "outputId": "d68956dc-0f5c-4570-8420-ce416909ebbb"
      },
      "execution_count": 99,
      "outputs": [
        {
          "output_type": "stream",
          "name": "stdout",
          "text": [
            "True\n",
            "True\n",
            "False\n"
          ]
        }
      ]
    },
    {
      "cell_type": "code",
      "source": [],
      "metadata": {
        "id": "uo6W38De32SE"
      },
      "execution_count": null,
      "outputs": []
    }
  ]
}