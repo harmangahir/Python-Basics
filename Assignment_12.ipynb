{
  "nbformat": 4,
  "nbformat_minor": 0,
  "metadata": {
    "colab": {
      "provenance": []
    },
    "kernelspec": {
      "name": "python3",
      "display_name": "Python 3"
    },
    "language_info": {
      "name": "python"
    }
  },
  "cells": [
    {
      "cell_type": "markdown",
      "source": [
        "**Question 1:** In what modes should the PdfFileReader() and PdfFileWriter() File objects will be opened?\n",
        "\n",
        "**Answer:** Both PdfFileReader() and PdfFileWriter() opened in binary mode.\n",
        "\n",
        "In PdfFileReader(), 'rb'(Read Binary) mode will use as second argument.\n",
        "\n",
        "In PdfFileWriter(), 'wb'(Write Binary) mode will use as second argument."
      ],
      "metadata": {
        "id": "y6hMQLArcUEz"
      }
    },
    {
      "cell_type": "code",
      "execution_count": 17,
      "metadata": {
        "colab": {
          "base_uri": "https://localhost:8080/"
        },
        "id": "xBpiIgNZcIvf",
        "outputId": "eeb99af8-e162-4a8b-fd9c-839f01d3f5a4"
      },
      "outputs": [
        {
          "output_type": "stream",
          "name": "stdout",
          "text": [
            "Drive already mounted at /content/drive; to attempt to forcibly remount, call drive.mount(\"/content/drive\", force_remount=True).\n"
          ]
        }
      ],
      "source": [
        "# PdfFileReader()\n",
        "from google.colab import drive\n",
        "drive.mount('/content/drive')\n",
        "fileReader = open('/content/drive/MyDrive/INeuron/Modules Assignments/Python Fundamentals(Submitted)/Misc Files/Demo.pdf','rb')"
      ]
    },
    {
      "cell_type": "code",
      "source": [
        "# PdfFileWriter()\n",
        "fileWriter = open('/content/drive/MyDrive/INeuron/Modules Assignments/Python Fundamentals(Submitted)/Misc Files/Demo.pdf','wb')"
      ],
      "metadata": {
        "id": "6GPl4Emhc07j"
      },
      "execution_count": 18,
      "outputs": []
    },
    {
      "cell_type": "markdown",
      "source": [
        "**Question 2:** From a PdfFileReader object, how do you get a Page object for page 5?"
      ],
      "metadata": {
        "id": "DZCqlYUNd5WS"
      }
    },
    {
      "cell_type": "code",
      "source": [
        "!pip install PyPDF2\n"
      ],
      "metadata": {
        "colab": {
          "base_uri": "https://localhost:8080/"
        },
        "id": "vUzAQnBUdjZy",
        "outputId": "7bb59837-08f5-48c2-d3b6-66b11cbd8329"
      },
      "execution_count": 9,
      "outputs": [
        {
          "output_type": "stream",
          "name": "stdout",
          "text": [
            "Looking in indexes: https://pypi.org/simple, https://us-python.pkg.dev/colab-wheels/public/simple/\n",
            "Collecting PyPDF2\n",
            "  Downloading PyPDF2-2.11.1-py3-none-any.whl (220 kB)\n",
            "\u001b[?25l\r\u001b[K     |█▌                              | 10 kB 33.8 MB/s eta 0:00:01\r\u001b[K     |███                             | 20 kB 45.7 MB/s eta 0:00:01\r\u001b[K     |████▌                           | 30 kB 58.3 MB/s eta 0:00:01\r\u001b[K     |██████                          | 40 kB 20.8 MB/s eta 0:00:01\r\u001b[K     |███████▍                        | 51 kB 24.6 MB/s eta 0:00:01\r\u001b[K     |█████████                       | 61 kB 28.6 MB/s eta 0:00:01\r\u001b[K     |██████████▍                     | 71 kB 22.4 MB/s eta 0:00:01\r\u001b[K     |████████████                    | 81 kB 24.6 MB/s eta 0:00:01\r\u001b[K     |█████████████▍                  | 92 kB 26.7 MB/s eta 0:00:01\r\u001b[K     |██████████████▉                 | 102 kB 27.8 MB/s eta 0:00:01\r\u001b[K     |████████████████▍               | 112 kB 27.8 MB/s eta 0:00:01\r\u001b[K     |█████████████████▉              | 122 kB 27.8 MB/s eta 0:00:01\r\u001b[K     |███████████████████▎            | 133 kB 27.8 MB/s eta 0:00:01\r\u001b[K     |████████████████████▉           | 143 kB 27.8 MB/s eta 0:00:01\r\u001b[K     |██████████████████████▎         | 153 kB 27.8 MB/s eta 0:00:01\r\u001b[K     |███████████████████████▉        | 163 kB 27.8 MB/s eta 0:00:01\r\u001b[K     |█████████████████████████▎      | 174 kB 27.8 MB/s eta 0:00:01\r\u001b[K     |██████████████████████████▊     | 184 kB 27.8 MB/s eta 0:00:01\r\u001b[K     |████████████████████████████▎   | 194 kB 27.8 MB/s eta 0:00:01\r\u001b[K     |█████████████████████████████▊  | 204 kB 27.8 MB/s eta 0:00:01\r\u001b[K     |███████████████████████████████▎| 215 kB 27.8 MB/s eta 0:00:01\r\u001b[K     |████████████████████████████████| 220 kB 27.8 MB/s \n",
            "\u001b[?25hRequirement already satisfied: typing-extensions>=3.10.0.0 in /usr/local/lib/python3.7/dist-packages (from PyPDF2) (4.1.1)\n",
            "Installing collected packages: PyPDF2\n",
            "Successfully installed PyPDF2-2.11.1\n"
          ]
        }
      ]
    },
    {
      "cell_type": "code",
      "source": [
        "import PyPDF2\n",
        "Reader = open('/content/drive/MyDrive/INeuron/Modules Assignments/Python Fundamentals(Submitted)/Misc Files/Demo.pdf','rb')\n",
        "reader = PyPDF2.PdfFileReader(Reader, strict=True,warndest=None,overwriteWarnings=True)"
      ],
      "metadata": {
        "colab": {
          "base_uri": "https://localhost:8080/",
          "height": 287
        },
        "id": "4fgoSCNAex7r",
        "outputId": "b0f976af-829f-4cec-cefd-623c76e63bb1"
      },
      "execution_count": 25,
      "outputs": [
        {
          "output_type": "error",
          "ename": "TypeError",
          "evalue": "ignored",
          "traceback": [
            "\u001b[0;31m---------------------------------------------------------------------------\u001b[0m",
            "\u001b[0;31mTypeError\u001b[0m                                 Traceback (most recent call last)",
            "\u001b[0;32m<ipython-input-25-a8ccb843da86>\u001b[0m in \u001b[0;36m<module>\u001b[0;34m\u001b[0m\n\u001b[1;32m      1\u001b[0m \u001b[0;32mimport\u001b[0m \u001b[0mPyPDF2\u001b[0m\u001b[0;34m\u001b[0m\u001b[0;34m\u001b[0m\u001b[0m\n\u001b[1;32m      2\u001b[0m \u001b[0mReader\u001b[0m \u001b[0;34m=\u001b[0m \u001b[0mopen\u001b[0m\u001b[0;34m(\u001b[0m\u001b[0;34m'/content/drive/MyDrive/INeuron/Modules Assignments/Python Fundamentals(Submitted)/Misc Files/Demo.pdf'\u001b[0m\u001b[0;34m,\u001b[0m\u001b[0;34m'rb'\u001b[0m\u001b[0;34m)\u001b[0m\u001b[0;34m\u001b[0m\u001b[0;34m\u001b[0m\u001b[0m\n\u001b[0;32m----> 3\u001b[0;31m \u001b[0mreader\u001b[0m \u001b[0;34m=\u001b[0m \u001b[0mPyPDF2\u001b[0m\u001b[0;34m.\u001b[0m\u001b[0mPdfFileReader\u001b[0m\u001b[0;34m(\u001b[0m\u001b[0mReader\u001b[0m\u001b[0;34m,\u001b[0m \u001b[0mstrict\u001b[0m\u001b[0;34m=\u001b[0m\u001b[0;32mTrue\u001b[0m\u001b[0;34m,\u001b[0m\u001b[0mwarndest\u001b[0m\u001b[0;34m=\u001b[0m\u001b[0;32mNone\u001b[0m\u001b[0;34m,\u001b[0m\u001b[0moverwriteWarnings\u001b[0m\u001b[0;34m=\u001b[0m\u001b[0;32mTrue\u001b[0m\u001b[0;34m)\u001b[0m\u001b[0;34m\u001b[0m\u001b[0;34m\u001b[0m\u001b[0m\n\u001b[0m",
            "\u001b[0;32m/usr/local/lib/python3.7/dist-packages/PyPDF2/_reader.py\u001b[0m in \u001b[0;36m__init__\u001b[0;34m(self, *args, **kwargs)\u001b[0m\n\u001b[1;32m   1942\u001b[0m         \u001b[0;32mif\u001b[0m \u001b[0;34m\"strict\"\u001b[0m \u001b[0;32mnot\u001b[0m \u001b[0;32min\u001b[0m \u001b[0mkwargs\u001b[0m \u001b[0;32mand\u001b[0m \u001b[0mlen\u001b[0m\u001b[0;34m(\u001b[0m\u001b[0margs\u001b[0m\u001b[0;34m)\u001b[0m \u001b[0;34m<\u001b[0m \u001b[0;36m2\u001b[0m\u001b[0;34m:\u001b[0m\u001b[0;34m\u001b[0m\u001b[0;34m\u001b[0m\u001b[0m\n\u001b[1;32m   1943\u001b[0m             \u001b[0mkwargs\u001b[0m\u001b[0;34m[\u001b[0m\u001b[0;34m\"strict\"\u001b[0m\u001b[0;34m]\u001b[0m \u001b[0;34m=\u001b[0m \u001b[0;32mTrue\u001b[0m  \u001b[0;31m# maintain the default\u001b[0m\u001b[0;34m\u001b[0m\u001b[0;34m\u001b[0m\u001b[0m\n\u001b[0;32m-> 1944\u001b[0;31m         \u001b[0msuper\u001b[0m\u001b[0;34m(\u001b[0m\u001b[0;34m)\u001b[0m\u001b[0;34m.\u001b[0m\u001b[0m__init__\u001b[0m\u001b[0;34m(\u001b[0m\u001b[0;34m*\u001b[0m\u001b[0margs\u001b[0m\u001b[0;34m,\u001b[0m \u001b[0;34m**\u001b[0m\u001b[0mkwargs\u001b[0m\u001b[0;34m)\u001b[0m\u001b[0;34m\u001b[0m\u001b[0;34m\u001b[0m\u001b[0m\n\u001b[0m",
            "\u001b[0;31mTypeError\u001b[0m: __init__() got an unexpected keyword argument 'warndest'"
          ]
        }
      ]
    },
    {
      "cell_type": "markdown",
      "source": [
        "**Question 3:** What PdfFileReader variable stores the number of pages in the PDF document?\n",
        "\n",
        "**Answer:** numPages is an attribute which stores the number of pages in the PDF document"
      ],
      "metadata": {
        "id": "Pi6ix-Fpi9Bj"
      }
    },
    {
      "cell_type": "markdown",
      "source": [
        "**Question 4:** If a PdfFileReader object’s PDF is encrypted with the password swordfish, what must you do before you can obtain Page objects from it?\n",
        "\n",
        "**Answer:** I will invoke function pdfreader.decrypt('swordfish')\n",
        "and then invole getpage() function to obtain page object\n"
      ],
      "metadata": {
        "id": "vqt0t-XvjPi7"
      }
    },
    {
      "cell_type": "markdown",
      "source": [
        "**Question 5:** What methods do you use to rotate a page?\n",
        "\n",
        "**Answer:** There are two methods to rotate a page such as clockwise rotation and anti clock wise rotation\n",
        "\n",
        "1. rotateclockwise() which rotates page clockwise direction\n",
        "2. rotatecounterclockwise() which rotates page in anticlockwise directrion\n",
        "\n"
      ],
      "metadata": {
        "id": "1sHaWyvVjzgC"
      }
    },
    {
      "cell_type": "markdown",
      "source": [
        "**Question 6:** What is the difference between a Run object and a Paragraph object?\n",
        "\n",
        "**Answer:** These objects comes under python-docx module used for formatted text wrap. \n",
        "\n",
        "**Paragraph Object:** Every paragraph starts on new line with multiple runs\n",
        "\n",
        "**Run Objects:** This object contains series of alphanumeric characters in a paragraph with same style"
      ],
      "metadata": {
        "id": "FZBplU20kT8C"
      }
    },
    {
      "cell_type": "code",
      "source": [
        "pip install python-docx"
      ],
      "metadata": {
        "colab": {
          "base_uri": "https://localhost:8080/"
        },
        "id": "QfJcQsOqe7Hf",
        "outputId": "6a472a45-0ee8-42dc-d548-638ca6e1dd3a"
      },
      "execution_count": 26,
      "outputs": [
        {
          "output_type": "stream",
          "name": "stdout",
          "text": [
            "Looking in indexes: https://pypi.org/simple, https://us-python.pkg.dev/colab-wheels/public/simple/\n",
            "Collecting python-docx\n",
            "  Downloading python-docx-0.8.11.tar.gz (5.6 MB)\n",
            "\u001b[K     |████████████████████████████████| 5.6 MB 29.9 MB/s \n",
            "\u001b[?25hRequirement already satisfied: lxml>=2.3.2 in /usr/local/lib/python3.7/dist-packages (from python-docx) (4.9.1)\n",
            "Building wheels for collected packages: python-docx\n",
            "  Building wheel for python-docx (setup.py) ... \u001b[?25l\u001b[?25hdone\n",
            "  Created wheel for python-docx: filename=python_docx-0.8.11-py3-none-any.whl size=184507 sha256=206bdfe2cf6d093824f0c2b997c588cf0febaae89ad4718b3923a51cfbee1734\n",
            "  Stored in directory: /root/.cache/pip/wheels/f6/6f/b9/d798122a8b55b74ad30b5f52b01482169b445fbb84a11797a6\n",
            "Successfully built python-docx\n",
            "Installing collected packages: python-docx\n",
            "Successfully installed python-docx-0.8.11\n"
          ]
        }
      ]
    },
    {
      "cell_type": "code",
      "source": [
        "import docx\n",
        "doc = docx.Document()\n",
        "doc.add_paragraph('''India, officially the Republic of India (Hindi: Bhārat Gaṇarājya), is a country in South Asia. \n",
        "It is the seventh-largest country by area, the second-most populous country, and the most populous democracy in the world. \n",
        "Bounded by the Indian Ocean on the south, the Arabian Sea on the southwest, and the Bay of Bengal\n",
        "\n",
        "\n",
        "India, officially the Republic of India (Hindi: Bhārat Gaṇarājya), is a country in South Asia. \n",
        "It is the seventh-largest country by area, the second-most populous country, and the most populous democracy in the world. \n",
        "Bounded by the Indian Ocean on the south, the Arabian Sea on the southwest, and the Bay of Bengal\n",
        "\n",
        "India, officially the Republic of India (Hindi: Bhārat Gaṇarājya), is a country in South Asia. \n",
        "It is the seventh-largest country by area, the second-most populous country, and the most populous democracy in the world. \n",
        "Bounded by the Indian Ocean on the south, the Arabian Sea on the southwest, and the Bay of Bengal\n",
        "\n",
        "\n",
        "India, officially the Republic of India (Hindi: Bhārat Gaṇarājya), is a country in South Asia. \n",
        "It is the seventh-largest country by area, the second-most populous country, and the most populous democracy in the world. \n",
        "Bounded by the Indian Ocean on the south, the Arabian Sea on the southwest, and the Bay of Bengal''')\n",
        "doc.save('demo.docx')"
      ],
      "metadata": {
        "id": "NwOt2OF6lc2p"
      },
      "execution_count": 44,
      "outputs": []
    },
    {
      "cell_type": "markdown",
      "source": [
        "**Question 7:** How do you obtain a list of Paragraph objects for a Document object that’s stored in a variable\n",
        "named doc?"
      ],
      "metadata": {
        "id": "Y8cUyPZ6nnQB"
      }
    },
    {
      "cell_type": "code",
      "source": [
        "doc.paragraphs"
      ],
      "metadata": {
        "colab": {
          "base_uri": "https://localhost:8080/"
        },
        "id": "SEvD32FulntE",
        "outputId": "6d4d77e9-ce19-4fac-9047-0b2c9acee32e"
      },
      "execution_count": 45,
      "outputs": [
        {
          "output_type": "execute_result",
          "data": {
            "text/plain": [
              "[<docx.text.paragraph.Paragraph at 0x7fb7109dacd0>]"
            ]
          },
          "metadata": {},
          "execution_count": 45
        }
      ]
    },
    {
      "cell_type": "markdown",
      "source": [
        "**Question 8:** What type of object has bold, underline, italic, strike, and outline variables?\n",
        "\n",
        "**Answer:** Only the run object has bold, underline,italic,strike and outline variables because run object follow same style in a paragraph."
      ],
      "metadata": {
        "id": "0pBpuAL8oRqX"
      }
    },
    {
      "cell_type": "markdown",
      "source": [
        "**Question 9:** What is the difference between False, True, and None for the bold variable?\n",
        "\n",
        "**Answer:** In addition, text attributes may be used to further format run object. The attributes may be adjusted to one of three values:\n",
        "\n",
        "\n",
        "1.   **True** This property is always enabled, no matter what additional styles are applied to the run) (the attribute is always enabled, no matter what other styles are applied to the run)\n",
        "2.   **False** This property is always disabled\n",
        "3. **None** (use the run's default style) "
      ],
      "metadata": {
        "id": "As7bp8WMoo5B"
      }
    },
    {
      "cell_type": "markdown",
      "source": [
        "**Question 10:** How do you create a Document object for a new Word document?"
      ],
      "metadata": {
        "id": "5pnl22mEpZq0"
      }
    },
    {
      "cell_type": "code",
      "source": [
        "import docx\n",
        "doc = docx.Document()"
      ],
      "metadata": {
        "id": "a5c3ua1cnwUq"
      },
      "execution_count": 46,
      "outputs": []
    },
    {
      "cell_type": "markdown",
      "source": [
        "**Question 11:** How do you add a paragraph with the text &#39;Hello, there!&#39; to a Document object stored in a\n",
        "variable named doc?"
      ],
      "metadata": {
        "id": "g_Vni3Hypjf8"
      }
    },
    {
      "cell_type": "code",
      "source": [
        "import docx\n",
        "doc = docx.Document()\n",
        "doc.add_paragraph('Hello, there!')\n",
        "doc.save('demo.docx')"
      ],
      "metadata": {
        "id": "89u4G0yJphzR"
      },
      "execution_count": 47,
      "outputs": []
    },
    {
      "cell_type": "markdown",
      "source": [
        "**Question12:** What integers represent the levels of headings available in Word documents?"
      ],
      "metadata": {
        "id": "iNB9jMGKpysl"
      }
    },
    {
      "cell_type": "code",
      "source": [
        "import docx\n",
        "doc = docx.Document()\n",
        "doc.add_heading('INeuron',1)\n",
        "doc.add_heading('INeuron',2)\n",
        "doc.add_heading('INeuron',3)\n",
        "doc.add_heading('INeuron',4)\n",
        "doc.save('demo.docx')"
      ],
      "metadata": {
        "id": "vVhwfHe6puI1"
      },
      "execution_count": 49,
      "outputs": []
    },
    {
      "cell_type": "code",
      "source": [],
      "metadata": {
        "id": "jC8JVjmiqWcy"
      },
      "execution_count": null,
      "outputs": []
    }
  ]
}