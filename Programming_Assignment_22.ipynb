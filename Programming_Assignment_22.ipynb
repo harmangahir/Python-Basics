{
  "nbformat": 4,
  "nbformat_minor": 0,
  "metadata": {
    "colab": {
      "provenance": []
    },
    "kernelspec": {
      "name": "python3",
      "display_name": "Python 3"
    },
    "language_info": {
      "name": "python"
    }
  },
  "cells": [
    {
      "cell_type": "markdown",
      "source": [
        "Question1\n",
        "Create a function that takes three parameters where:\n",
        " x is the start of the range (inclusive).\n",
        " y is the end of the range (inclusive).\n",
        " n is the divisor to be checked against.\n",
        "Return an ordered list with numbers in the range that are divisible by the third parameter n.\n",
        "Return an empty list if there are no numbers that are divisible by n.\n",
        "Examples\n",
        "list_operation(1, 10, 3) ➞ [3, 6, 9]\n",
        "list_operation(7, 9, 2) ➞ [8]\n",
        "list_operation(15, 20, 7) ➞ []"
      ],
      "metadata": {
        "id": "LCrNHbBeGXla"
      }
    },
    {
      "cell_type": "code",
      "execution_count": null,
      "metadata": {
        "colab": {
          "base_uri": "https://localhost:8080/"
        },
        "id": "gplb8bEoGR76",
        "outputId": "113a52c1-53f1-4655-df8a-719b02564116"
      },
      "outputs": [
        {
          "output_type": "stream",
          "name": "stdout",
          "text": [
            "[3, 6, 9]\n",
            "[8]\n",
            "[]\n"
          ]
        }
      ],
      "source": [
        "def list_operation(x, y, n):\n",
        "  list2 = []\n",
        "  for item in range(x,y):\n",
        "    if item % n==0:\n",
        "      list2.append(item)\n",
        "  return list2\n",
        "\n",
        "print(list_operation(1, 10, 3))\n",
        "print(list_operation(7, 9, 2))\n",
        "print(list_operation(15, 20, 7))"
      ]
    },
    {
      "cell_type": "markdown",
      "source": [
        "Question2\n",
        "Create a function that takes in two lists and returns True if the second list follows the first list\n",
        "by one element, and False otherwise. In other words, determine if the second list is the first\n",
        "list shifted to the right by 1.\n",
        "Examples\n",
        "simon_says([1, 2], [5, 1]) ➞ True\n",
        "simon_says([1, 2], [5, 5]) ➞ False\n",
        "simon_says([1, 2, 3, 4, 5], [0, 1, 2, 3, 4]) ➞ True\n",
        "simon_says([1, 2, 3, 4, 5], [5, 5, 1, 2, 3]) ➞ False\n",
        "Notes\n",
        " Both input lists will be of the same length, and will have a minimum length of 2.\n",
        " The values of the 0-indexed element in the second list and the n-1th indexed element\n",
        "in the first list do not matter."
      ],
      "metadata": {
        "id": "de15SeVjHx54"
      }
    },
    {
      "cell_type": "code",
      "source": [
        "def simon_says(list1, list2):\n",
        "  if len(list1)==len(list2):\n",
        "    if len(list1)>=2 and len(list2)>=2:\n",
        "      list3 = []\n",
        "      list4 = []\n",
        "      for item1 in range(len(list1)):\n",
        "        for item2 in range(len(list2)):\n",
        "          if list1[item1] == list2[item2 + 1]:\n",
        "            return True\n",
        "          else:\n",
        "            return False\n",
        "\n",
        "  else:\n",
        "      return 'Invalid lists'\n",
        "  \n",
        "print(simon_says([1,2],[5,1]))\n",
        "print(simon_says([1,2],[5,5]))\n",
        "print(simon_says([1,2,3,4,5],[0,1,2,3,4]))\n",
        "print(simon_says([1,2,3,4,5],[5,5,1,2,3]))\n",
        "print(simon_says([1,2,3],[5,1]))\n",
        "print(simon_says([1],[5,1]))\n",
        "\n"
      ],
      "metadata": {
        "colab": {
          "base_uri": "https://localhost:8080/"
        },
        "id": "XfLZF1D1GrcQ",
        "outputId": "f1ced013-bc41-4978-cc89-f24939a90fd5"
      },
      "execution_count": null,
      "outputs": [
        {
          "output_type": "stream",
          "name": "stdout",
          "text": [
            "True\n",
            "False\n",
            "True\n",
            "False\n",
            "Invalid lists\n",
            "Invalid lists\n"
          ]
        }
      ]
    },
    {
      "cell_type": "markdown",
      "source": [
        "Question3\n",
        "A group of friends have decided to start a secret society. The name will be the first letter of\n",
        "each of their names, sorted in alphabetical order.\n",
        "Create a function that takes in a list of names and returns the name of the secret society.\n",
        "\n",
        "Examples\n",
        "society_name([&quot;Adam&quot;, &quot;Sarah&quot;, &quot;Malcolm&quot;]) ➞ &quot;AMS&quot;\n",
        "society_name([&quot;Harry&quot;, &quot;Newt&quot;, &quot;Luna&quot;, &quot;Cho&quot;]) ➞ &quot;CHLN&quot;\n",
        "society_name([&quot;Phoebe&quot;, &quot;Chandler&quot;, &quot;Rachel&quot;, &quot;Ross&quot;, &quot;Monica&quot;, &quot;Joey&quot;])"
      ],
      "metadata": {
        "id": "p7mV7Q4AJ1-G"
      }
    },
    {
      "cell_type": "code",
      "source": [
        "def society_name(list1):\n",
        "  s = ''\n",
        "  s = ''.join(item[0] for item in sorted(list1))\n",
        "  \n",
        "  return s\n",
        "\n",
        "print(society_name([\"Adam\", \"Sarah\", \"Malcolm\"]))\n",
        "print(society_name([\"Harry\", \"Newt\", \"Luna\", \"Cho\"]))\n",
        "print(society_name([\"Phoebe\", \"Chandler\", \"Rachel\", \"Ross\", \"Monica\", \"Joey\"]))\n",
        "  "
      ],
      "metadata": {
        "colab": {
          "base_uri": "https://localhost:8080/"
        },
        "id": "N8NvflNgItP1",
        "outputId": "97f28b8c-6606-4d65-f0df-48f56d6ff626"
      },
      "execution_count": 64,
      "outputs": [
        {
          "output_type": "stream",
          "name": "stdout",
          "text": [
            "AMS\n",
            "CHLN\n",
            "CJMPRR\n"
          ]
        }
      ]
    },
    {
      "cell_type": "markdown",
      "source": [
        "Question4\n",
        "An isogram is a word that has no duplicate letters. Create a function that takes a string and\n",
        "returns either True or False depending on whether or not it&#39;s an &quot;isogram&quot;.\n",
        "Examples\n",
        "is_isogram(&quot;Algorism&quot;) ➞ True\n",
        "is_isogram(&quot;PasSword&quot;) ➞ False\n",
        "\n",
        "**Not case sensitive.**\n",
        "is_isogram(&quot;Consecutive&quot;) ➞ False\n",
        "Notes\n",
        "1. Ignore letter case (should not be case sensitive).\n",
        "2. All test cases contain valid one word strings.\n"
      ],
      "metadata": {
        "id": "UHqYrmP0ufE0"
      }
    },
    {
      "cell_type": "code",
      "source": [
        "def is_isogram(string):\n",
        "    for item in range(len(string)):\n",
        "      if string.lower().count(string[item]) > 1:\n",
        "        return False\n",
        "    else:\n",
        "      return True\n",
        "  \n",
        "  \n",
        "\n",
        "print(is_isogram('Algorism'))\n",
        "print(is_isogram('PasSword'))\n",
        "print(is_isogram('Consecutive'))"
      ],
      "metadata": {
        "id": "IOr4zYoVKSev",
        "colab": {
          "base_uri": "https://localhost:8080/"
        },
        "outputId": "8c3d75be-4f27-4018-b780-2fd999943d97"
      },
      "execution_count": 95,
      "outputs": [
        {
          "output_type": "stream",
          "name": "stdout",
          "text": [
            "True\n",
            "False\n",
            "False\n"
          ]
        }
      ]
    },
    {
      "cell_type": "markdown",
      "source": [
        "Question5\n",
        "Create a function that takes a string and returns True or False, depending on whether the\n",
        "characters are in order or not.\n",
        "Examples\n",
        "is_in_order(&quot;abc&quot;) ➞ True\n",
        "is_in_order(&quot;edabit&quot;) ➞ False\n",
        "is_in_order(&quot;123&quot;) ➞ True\n",
        "is_in_order(&quot;xyzz&quot;) ➞ True\n",
        "Notes\n",
        "You don&#39;t have to handle empty strings."
      ],
      "metadata": {
        "id": "KPAd8jzcz8OV"
      }
    },
    {
      "cell_type": "code",
      "source": [
        "def is_in_order(string):\n",
        "  list1 = ''.join(sorted(string))\n",
        "  length = len(string)\n",
        "  count = 0\n",
        "\n",
        "  for item in range(len(string)):\n",
        "    if string[item]==list1[item]:\n",
        "      count+=1\n",
        "    else:\n",
        "      count = count\n",
        "\n",
        "  return True if count==length else False\n",
        "\n",
        "print(is_in_order('abc'))\n",
        "print(is_in_order('edabit'))\n",
        "print(is_in_order('123'))\n",
        "print(is_in_order('xyzz'))"
      ],
      "metadata": {
        "colab": {
          "base_uri": "https://localhost:8080/"
        },
        "id": "4OcVhCewvms_",
        "outputId": "e7bb96e5-c78c-4932-bfaf-a4acf7686270"
      },
      "execution_count": 106,
      "outputs": [
        {
          "output_type": "stream",
          "name": "stdout",
          "text": [
            "True\n",
            "False\n",
            "True\n",
            "True\n"
          ]
        }
      ]
    },
    {
      "cell_type": "code",
      "source": [],
      "metadata": {
        "id": "JLWC-nS10VGH"
      },
      "execution_count": null,
      "outputs": []
    }
  ]
}