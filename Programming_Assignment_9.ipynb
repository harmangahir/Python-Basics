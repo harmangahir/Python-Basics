{
  "nbformat": 4,
  "nbformat_minor": 0,
  "metadata": {
    "colab": {
      "provenance": []
    },
    "kernelspec": {
      "name": "python3",
      "display_name": "Python 3"
    },
    "language_info": {
      "name": "python"
    }
  },
  "cells": [
    {
      "cell_type": "markdown",
      "source": [
        "1. Write a Python program to check if the given number is a Disarium Number?"
      ],
      "metadata": {
        "id": "lSugJ6cGVU7x"
      }
    },
    {
      "cell_type": "code",
      "source": [
        "def cal_length(number):\n",
        "  length = 0\n",
        "  while(number != 0):\n",
        "    length += 1\n",
        "    number = number // 10\n",
        "  return length\n",
        "    \n",
        "number = int(input('Enter a number:'))\n",
        "test_value=number\n",
        "length_number = cal_length(test_value)\n",
        "reminder= sum = 0\n",
        "while(test_value > 0):\n",
        "  reminder = test_value % 10\n",
        "  sum += int(reminder ** length_number)\n",
        "  test_value = test_value // 10\n",
        "  length_number -= 1\n",
        "\n",
        "\n",
        "if(sum==number):\n",
        "  print('Given number is disarium number')\n",
        "else:\n",
        "  print('Given number is not disarium number')\n"
      ],
      "metadata": {
        "colab": {
          "base_uri": "https://localhost:8080/"
        },
        "id": "6DhguQfUVSd4",
        "outputId": "50562ab8-dadf-4651-8c43-c4c881580997"
      },
      "execution_count": 17,
      "outputs": [
        {
          "output_type": "stream",
          "name": "stdout",
          "text": [
            "Enter a number:175\n",
            "Given number is disarium number\n"
          ]
        }
      ]
    },
    {
      "cell_type": "markdown",
      "source": [
        "2. Write a Python program to print all disarium numbers between 1 to 100?"
      ],
      "metadata": {
        "id": "JVxAY7_HVW9q"
      }
    },
    {
      "cell_type": "code",
      "source": [
        "def cal_length(number):\n",
        "  length = 0\n",
        "  while(number != 0):\n",
        "    length += 1\n",
        "    number = number // 10\n",
        "  return length\n",
        "    \n",
        "for item in range(1,100+1):\n",
        "  test_value=item\n",
        "  length_number = cal_length(test_value)\n",
        "  reminder= sum = 0\n",
        "  while(test_value > 0):\n",
        "    reminder = test_value % 10\n",
        "    sum += int(reminder ** length_number)\n",
        "    test_value = test_value // 10\n",
        "    length_number -= 1\n",
        "  if(sum==item):\n",
        "    print(sum)\n",
        "  "
      ],
      "metadata": {
        "id": "-yZO-vMSVXkO",
        "colab": {
          "base_uri": "https://localhost:8080/"
        },
        "outputId": "d551ff05-b662-4714-8aff-cf562b1196ad"
      },
      "execution_count": 18,
      "outputs": [
        {
          "output_type": "stream",
          "name": "stdout",
          "text": [
            "1\n",
            "2\n",
            "3\n",
            "4\n",
            "5\n",
            "6\n",
            "7\n",
            "8\n",
            "9\n",
            "89\n"
          ]
        }
      ]
    },
    {
      "cell_type": "markdown",
      "source": [
        "3. Write a Python program to check if the given number is Happy Number?"
      ],
      "metadata": {
        "id": "Q30-kuj7VZ9n"
      }
    },
    {
      "cell_type": "code",
      "source": [
        "def cal_happy(number):\n",
        "  sum=0\n",
        "  reminder = 0\n",
        "  while(number > 0):\n",
        "    reminder = number % 10\n",
        "    sum += reminder*reminder\n",
        "    number = number //10\n",
        "    \n",
        "  return sum\n",
        "\n",
        "\n",
        "number = int(input('Enter a number'))\n",
        "result = number\n",
        "\n",
        "while(result !=1 and result !=4):\n",
        "  result = cal_happy(result)\n",
        "\n",
        "if(result==1):\n",
        "  print('Given number is Happy Number')\n",
        "elif(result==4):\n",
        "  print('Given number is not Happy Number')\n"
      ],
      "metadata": {
        "colab": {
          "base_uri": "https://localhost:8080/"
        },
        "id": "ba2o5pwz-n7E",
        "outputId": "bf09eb7d-2684-4a1a-ae7f-b654155100de"
      },
      "execution_count": 25,
      "outputs": [
        {
          "output_type": "stream",
          "name": "stdout",
          "text": [
            "Enter a number32\n",
            "Given number is Happy Number\n"
          ]
        }
      ]
    },
    {
      "cell_type": "markdown",
      "source": [
        "4. Write a Python program to print all happy numbers between 1 and 100?"
      ],
      "metadata": {
        "id": "Ld1A3i6mVcmJ"
      }
    },
    {
      "cell_type": "code",
      "source": [
        "def cal_happy(number):\n",
        "  sum=0\n",
        "  reminder = 0\n",
        "  while(number > 0):\n",
        "    reminder = number % 10\n",
        "    sum += reminder*reminder\n",
        "    number = number //10\n",
        "    \n",
        "  return sum\n",
        "\n",
        "\n",
        "for item in range(1,100+1):\n",
        "  result = item\n",
        "  while(result !=1 and result !=4):\n",
        "    result = cal_happy(result)\n",
        "  if(result==1):\n",
        "    print(item)\n"
      ],
      "metadata": {
        "colab": {
          "base_uri": "https://localhost:8080/"
        },
        "id": "tCYldduUA0Pd",
        "outputId": "c1703321-cfc6-4046-fbff-1f9788daba11"
      },
      "execution_count": 29,
      "outputs": [
        {
          "output_type": "stream",
          "name": "stdout",
          "text": [
            "1\n",
            "7\n",
            "10\n",
            "13\n",
            "19\n",
            "23\n",
            "28\n",
            "31\n",
            "32\n",
            "44\n",
            "49\n",
            "68\n",
            "70\n",
            "79\n",
            "82\n",
            "86\n",
            "91\n",
            "94\n",
            "97\n",
            "100\n"
          ]
        }
      ]
    },
    {
      "cell_type": "markdown",
      "source": [
        "5. Write a Python program to determine whether the given number is a Harshad Number?"
      ],
      "metadata": {
        "id": "GOm4kd2mVgXg"
      }
    },
    {
      "cell_type": "code",
      "source": [
        "def cal_sum(number):\n",
        "  reminder=sum=0\n",
        "  while(number>0):\n",
        "    reminder = number % 10\n",
        "    number = number//10\n",
        "    sum+= reminder\n",
        "  return sum\n",
        "number = int(input('Enter a number:'))\n",
        "if((number % cal_sum(number))==0):\n",
        "  print('Given number is harshed number')\n",
        "else:\n",
        "  print('Given number is not harshed number')\n",
        "\n",
        "\n"
      ],
      "metadata": {
        "colab": {
          "base_uri": "https://localhost:8080/"
        },
        "id": "RDpdGHceBUmu",
        "outputId": "21db169b-d623-441b-efbb-c700c9413d0b"
      },
      "execution_count": 34,
      "outputs": [
        {
          "output_type": "stream",
          "name": "stdout",
          "text": [
            "Enter a number:54\n",
            "Given number is harshed number\n"
          ]
        }
      ]
    },
    {
      "cell_type": "markdown",
      "source": [
        "6. Write a Python program to print all pronic numbers between 1 and 100?"
      ],
      "metadata": {
        "id": "UOtr0zEKVjFF"
      }
    },
    {
      "cell_type": "code",
      "source": [
        "def is_pronic(number):\n",
        "  status = False\n",
        "\n",
        "  for item in range(number):\n",
        "    if(item*(item + 1)==number):\n",
        "      status = True\n",
        "      break\n",
        "\n",
        "  return status\n",
        "\n",
        "for item in range(1, 100+1):\n",
        "  if(is_pronic(item)):\n",
        "    print(item)"
      ],
      "metadata": {
        "colab": {
          "base_uri": "https://localhost:8080/"
        },
        "id": "fbXXUuQ3CxJd",
        "outputId": "68af2cb8-4f42-4931-fa41-26d02be1ce42"
      },
      "execution_count": 36,
      "outputs": [
        {
          "output_type": "stream",
          "name": "stdout",
          "text": [
            "2\n",
            "6\n",
            "12\n",
            "20\n",
            "30\n",
            "42\n",
            "56\n",
            "72\n",
            "90\n"
          ]
        }
      ]
    },
    {
      "cell_type": "code",
      "source": [],
      "metadata": {
        "id": "kXIQdsueDLPz"
      },
      "execution_count": null,
      "outputs": []
    }
  ]
}