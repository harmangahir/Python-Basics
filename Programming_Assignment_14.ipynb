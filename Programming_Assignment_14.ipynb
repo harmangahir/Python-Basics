{
  "nbformat": 4,
  "nbformat_minor": 0,
  "metadata": {
    "colab": {
      "provenance": []
    },
    "kernelspec": {
      "name": "python3",
      "display_name": "Python 3"
    },
    "language_info": {
      "name": "python"
    }
  },
  "cells": [
    {
      "cell_type": "markdown",
      "source": [
        "Question 1:\n",
        "Define a class with a generator which can iterate the numbers, which are divisible by\n",
        "7, between a given range 0 and n."
      ],
      "metadata": {
        "id": "JtHdmM0UuS-D"
      }
    },
    {
      "cell_type": "code",
      "execution_count": 3,
      "metadata": {
        "colab": {
          "base_uri": "https://localhost:8080/"
        },
        "id": "saTJnU_Stzw-",
        "outputId": "3dc6096b-7ef9-407b-c12c-c7a741055f3b"
      },
      "outputs": [
        {
          "output_type": "stream",
          "name": "stdout",
          "text": [
            "Enter a number:50\n",
            "0\n",
            "7\n",
            "14\n",
            "21\n",
            "28\n",
            "35\n",
            "42\n",
            "49\n"
          ]
        }
      ],
      "source": [
        "class generator:\n",
        "  def cal_divisible(self,number):\n",
        "    for item in range(0,number):\n",
        "      if item % 7 == 0:\n",
        "        yield item\n",
        "\n",
        "object = generator()\n",
        "number = int(input('Enter a number:'))\n",
        "for item in object.cal_divisible(number):\n",
        "  print(item)\n",
        "\n",
        "\n"
      ]
    },
    {
      "cell_type": "markdown",
      "source": [
        "Question 2:\n",
        "Write a program to compute the frequency of the words from the input. The output\n",
        "should output after sorting the key alphanumerically.\n",
        "Suppose the following input is supplied to the program:\n",
        "New to Python or choosing between Python 2 and Python 3? Read Python 2 or\n",
        "Python 3.\n",
        "Then, the output should be:\n",
        "2:2\n",
        "3.:1\n",
        "3?:1\n",
        "New:1\n",
        "Python:5\n",
        "Read:1\n",
        "and:1\n",
        "between:1\n",
        "choosing:1\n",
        "or:2\n",
        "to:1"
      ],
      "metadata": {
        "id": "AU_hVDvoxNhw"
      }
    },
    {
      "cell_type": "code",
      "source": [
        "from posixpath import split\n",
        "input_string = input('Enter a string:')\n",
        "split_input = input_string.split(' ')\n",
        "\n",
        "for item in split_input:\n",
        "  print(item,':',split_input.count(item))\n"
      ],
      "metadata": {
        "colab": {
          "base_uri": "https://localhost:8080/"
        },
        "id": "98wpk8JYwONk",
        "outputId": "fbb14841-c62a-4b08-b88a-c8618200bcee"
      },
      "execution_count": 8,
      "outputs": [
        {
          "output_type": "stream",
          "name": "stdout",
          "text": [
            "Enter a string:New to Python or choosing between Python 2 and Python 3? Read Python 2 or Python 3.\n",
            "New : 1\n",
            "to : 1\n",
            "Python : 5\n",
            "or : 2\n",
            "choosing : 1\n",
            "between : 1\n",
            "Python : 5\n",
            "2 : 2\n",
            "and : 1\n",
            "Python : 5\n",
            "3? : 1\n",
            "Read : 1\n",
            "Python : 5\n",
            "2 : 2\n",
            "or : 2\n",
            "Python : 5\n",
            "3. : 1\n"
          ]
        }
      ]
    },
    {
      "cell_type": "markdown",
      "source": [
        "Question 3:\n",
        "\n",
        "Define a class Person and its two child classes: Male and Female. All classes have a\n",
        "method &quot;getGender&quot; which can print &quot;Male&quot; for Male class and &quot;Female&quot; for Female\n",
        "class."
      ],
      "metadata": {
        "id": "r9hlveNFyMWT"
      }
    },
    {
      "cell_type": "code",
      "source": [
        "class Person:\n",
        "  def getGender(self):\n",
        "    return 'nothing'\n",
        "    \n",
        "\n",
        "class Male(Person):\n",
        "  def getGender(self):\n",
        "    return 'Male'\n",
        "\n",
        "class Female(Person):\n",
        "  def getGender(self):\n",
        "    return 'Female'\n",
        "\n",
        "object_male = Male()\n",
        "object_female = Female()\n",
        "print(object_male.getGender())\n",
        "print(object_female.getGender())\n",
        "\n"
      ],
      "metadata": {
        "colab": {
          "base_uri": "https://localhost:8080/"
        },
        "id": "lDRVR_7yxkKN",
        "outputId": "3e0f79a2-e909-4bce-ddc9-540ee3cf57d6"
      },
      "execution_count": 11,
      "outputs": [
        {
          "output_type": "stream",
          "name": "stdout",
          "text": [
            "Male\n",
            "Female\n"
          ]
        }
      ]
    },
    {
      "cell_type": "markdown",
      "source": [
        "Question 4:\n",
        "Please write a program to generate all sentences where subject is in [&quot;I&quot;, &quot;You&quot;] and\n",
        "verb is in [&quot;Play&quot;, &quot;Love&quot;] and the object is in [&quot;Hockey&quot;,&quot;Football&quot;]."
      ],
      "metadata": {
        "id": "WonFdneo4oOq"
      }
    },
    {
      "cell_type": "code",
      "source": [
        "subject = [\"I\", \"You\"]\n",
        "verb = [\"Play\",\"Love\"]\n",
        "objects = [\"Hockey\",\"Football\"]\n",
        "\n",
        "\n",
        "sentences = [(x + \" \" + y + \" \" + z) for x in subject for y in verb for z in objects]\n",
        "for item in sentences:\n",
        "  print(item)"
      ],
      "metadata": {
        "colab": {
          "base_uri": "https://localhost:8080/"
        },
        "id": "aweYIkHF4ZwY",
        "outputId": "0ae65b4e-3eec-4bdc-f6f0-707d30ad2076"
      },
      "execution_count": 15,
      "outputs": [
        {
          "output_type": "stream",
          "name": "stdout",
          "text": [
            "I Play Hockey\n",
            "I Play Football\n",
            "I Love Hockey\n",
            "I Love Football\n",
            "You Play Hockey\n",
            "You Play Football\n",
            "You Love Hockey\n",
            "You Love Football\n"
          ]
        }
      ]
    },
    {
      "cell_type": "markdown",
      "source": [
        "Question 5:\n",
        "Please write a program to compress and decompress the string &quot;hello world!hello\n",
        "world!hello world!hello world!&quot;."
      ],
      "metadata": {
        "id": "7iTq5NDR6blO"
      }
    },
    {
      "cell_type": "code",
      "source": [
        "import zlib\n",
        "input_string = \"hello world!hello world!hello world!hello world!\"\n",
        "byte_string = bytes(input_string, 'utf8')\n",
        "\n",
        "compressed_string = zlib.compress(byte_string)\n",
        "\n",
        "print('Compressed String:',compressed_string)\n",
        "print('De-compressed String:',zlib.decompress(compressed_string))"
      ],
      "metadata": {
        "colab": {
          "base_uri": "https://localhost:8080/"
        },
        "id": "NEqR32Ti5Z_w",
        "outputId": "6c51338d-b458-46a2-a590-30f8e413dc3a"
      },
      "execution_count": 18,
      "outputs": [
        {
          "output_type": "stream",
          "name": "stdout",
          "text": [
            "Compressed String: b'x\\x9c\\xcbH\\xcd\\xc9\\xc9W(\\xcf/\\xcaIQ\\xcc \\x82\\r\\x00\\xbd[\\x11\\xf5'\n",
            "De-compressed String: b'hello world!hello world!hello world!hello world!'\n"
          ]
        }
      ]
    },
    {
      "cell_type": "markdown",
      "source": [
        "Question 6:\n",
        "Please write a binary search function which searches an item in a sorted list. The\n",
        "function should return the index of element to be searched in the list."
      ],
      "metadata": {
        "id": "I7yUrJOA8Ckn"
      }
    },
    {
      "cell_type": "code",
      "source": [
        "def cal_binary_search(sorted_list, beg, end, number):\n",
        "  if end >= beg:\n",
        "    mid = (beg + end) // 2\n",
        "    \n",
        "    if sorted_list[mid] == number:\n",
        "      return mid\n",
        "    elif sorted_list[mid] > number:\n",
        "      return cal_binary_search(sorted_list, beg, mid - 1, number)\n",
        "    else:\n",
        "      return cal_binary_search(sorted_list, mid + 1, end, number)\n",
        "  else:\n",
        "   return -1\n",
        " \n",
        "\n",
        "list1 = [5,8,2,5,7,0,9,3]\n",
        "sorted_list = sorted(list1)\n",
        "print(sorted_list)\n",
        "beg = 0\n",
        "end = len(list1)-1\n",
        "\n",
        "number = int(input('Enter element to search:'))\n",
        "result = cal_binary_search(sorted_list, beg, end, number)\n",
        "\n",
        "if result != -1:\n",
        "    print(\"Element is present at index\", str(result))\n",
        "else:\n",
        "    print(\"Element is not present in array\")\n"
      ],
      "metadata": {
        "colab": {
          "base_uri": "https://localhost:8080/"
        },
        "id": "zopzVsCX7sd4",
        "outputId": "b4348897-b91b-48de-a8ff-051b2060ca0d"
      },
      "execution_count": 34,
      "outputs": [
        {
          "output_type": "stream",
          "name": "stdout",
          "text": [
            "[0, 2, 3, 5, 5, 7, 8, 9]\n",
            "Enter element to search:2\n",
            "Element is present at index 1\n"
          ]
        }
      ]
    },
    {
      "cell_type": "code",
      "source": [],
      "metadata": {
        "id": "znnkAete8WrE"
      },
      "execution_count": null,
      "outputs": []
    }
  ]
}