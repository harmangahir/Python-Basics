{
  "nbformat": 4,
  "nbformat_minor": 0,
  "metadata": {
    "colab": {
      "provenance": []
    },
    "kernelspec": {
      "name": "python3",
      "display_name": "Python 3"
    },
    "language_info": {
      "name": "python"
    }
  },
  "cells": [
    {
      "cell_type": "markdown",
      "source": [
        "Question1\n",
        "Write a function that takes a list and a number as arguments. Add the number to the end of\n",
        "the list, then remove the first element of the list. The function should then return the updated\n",
        "list.\n",
        "Examples\n",
        "next_in_line([5, 6, 7, 8, 9], 1) ➞ [6, 7, 8, 9, 1]\n",
        "next_in_line([7, 6, 3, 23, 17], 10) ➞ [6, 3, 23, 17, 10]\n",
        "next_in_line([1, 10, 20, 42 ], 6) ➞ [10, 20, 42, 6]\n",
        "next_in_line([], 6) ➞ &quot;No list has been selected&quot;"
      ],
      "metadata": {
        "id": "OVQm0QrANL15"
      }
    },
    {
      "cell_type": "code",
      "execution_count": 6,
      "metadata": {
        "colab": {
          "base_uri": "https://localhost:8080/"
        },
        "id": "_HclI2vvI-Tg",
        "outputId": "956bd4c6-20ca-4964-e87f-c045f9e09b5d"
      },
      "outputs": [
        {
          "output_type": "stream",
          "name": "stdout",
          "text": [
            "[6, 7, 8, 9, 1]\n",
            "[6, 3, 23, 17, 10]\n",
            "[10, 20, 42, 6]\n",
            "No list has been selected\n"
          ]
        }
      ],
      "source": [
        "def next_in_line(list1, number):\n",
        "  beg = 0\n",
        "  list2 = []\n",
        "\n",
        "  for item in list1:\n",
        "    list2.append(item)\n",
        "\n",
        "  if len(list2)==0:\n",
        "    return 'No list has been selected'\n",
        "  else:\n",
        "    list2.append(number)\n",
        "    list2.pop(beg)\n",
        "\n",
        "  return list2\n",
        "\n",
        "print(next_in_line([5, 6, 7, 8, 9], 1))\n",
        "print(next_in_line([7, 6, 3, 23, 17], 10))\n",
        "print(next_in_line([1, 10, 20, 42 ], 6))\n",
        "print(next_in_line([], 6))\n"
      ]
    },
    {
      "cell_type": "markdown",
      "source": [
        "Question2\n",
        "Create the function that takes a list of dictionaries and returns the sum of people&#39;s budgets.\n",
        "Examples\n",
        "get_budgets([\n",
        "{ &quot;name&quot;: &quot;John&quot;, &quot;age&quot;: 21, &quot;budget&quot;: 23000 },\n",
        "{ &quot;name&quot;: &quot;Steve&quot;, &quot;age&quot;: 32, &quot;budget&quot;: 40000 },\n",
        "{ &quot;name&quot;: &quot;Martin&quot;, &quot;age&quot;: 16, &quot;budget&quot;: 2700 }\n",
        "]) ➞ 65700\n",
        "get_budgets([\n",
        "{ &quot;name&quot;: &quot;John&quot;, &quot;age&quot;: 21, &quot;budget&quot;: 29000 },\n",
        "{ &quot;name&quot;: &quot;Steve&quot;, &quot;age&quot;: 32, &quot;budget&quot;: 32000 },\n",
        "{ &quot;name&quot;: &quot;Martin&quot;, &quot;age&quot;: 16, &quot;budget&quot;: 1600 }\n",
        "]) ➞ 62600"
      ],
      "metadata": {
        "id": "0ciWbGZJOXdn"
      }
    },
    {
      "cell_type": "code",
      "source": [
        "def get_budgets(list1):\n",
        "  budget = 0\n",
        "  for item in list1:\n",
        "    budget += item['budget']\n",
        "  return budget\n",
        "\n",
        "print(get_budgets([{ \"name\": \"John\", \"age\": 21, \"budget\": 23000 }, { \"name\": \"Steve\", \"age\": 32, \"budget\": 40000 }, { \"name\": \"Martin\", \"age\": 16, \"budget\": 2700 } ]))\n",
        "print(get_budgets([ { \"name\": \"John\", \"age\": 21, \"budget\": 29000 }, { \"name\": \"Steve\", \"age\": 32, \"budget\": 32000 }, { \"name\": \"Martin\", \"age\": 16, \"budget\": 1600 } ]))\n"
      ],
      "metadata": {
        "colab": {
          "base_uri": "https://localhost:8080/"
        },
        "id": "_efCPmwaNwSE",
        "outputId": "d663ef4f-d207-4aa0-a4c5-e1d3a31d17bb"
      },
      "execution_count": 11,
      "outputs": [
        {
          "output_type": "stream",
          "name": "stdout",
          "text": [
            "65700\n",
            "62600\n"
          ]
        }
      ]
    },
    {
      "cell_type": "markdown",
      "source": [
        "Question3\n",
        "Create a function that takes a string and returns a string with its letters in alphabetical order.\n",
        "Examples\n",
        "alphabet_soup(&quot;hello&quot;) ➞ &quot;ehllo&quot;\n",
        "alphabet_soup(&quot;edabit&quot;) ➞ &quot;abdeit&quot;\n",
        "alphabet_soup(&quot;hacker&quot;) ➞ &quot;acehkr&quot;\n",
        "alphabet_soup(&quot;geek&quot;) ➞ &quot;eegk&quot;\n",
        "alphabet_soup(&quot;javascript&quot;) ➞ &quot;aacijprstv&quot;\n"
      ],
      "metadata": {
        "id": "ba2_z3qaZ8Bc"
      }
    },
    {
      "cell_type": "code",
      "source": [
        "def alphabet_soup(string):\n",
        "  str3 = \"\"\n",
        "  str3 = ''.join(item for item in string)  \n",
        "  return ''.join(sorted(str3))\n",
        "\n",
        "print(alphabet_soup('hello'))\n",
        "print(alphabet_soup('edabit'))\n",
        "print(alphabet_soup('hacker'))\n",
        "print(alphabet_soup('geek'))"
      ],
      "metadata": {
        "colab": {
          "base_uri": "https://localhost:8080/"
        },
        "id": "qUQ0A03KPwnR",
        "outputId": "45443173-c57d-4167-8e74-1a4ef1625198"
      },
      "execution_count": 22,
      "outputs": [
        {
          "output_type": "stream",
          "name": "stdout",
          "text": [
            "ehllo\n",
            "abdeit\n",
            "acehkr\n",
            "eegk\n"
          ]
        }
      ]
    },
    {
      "cell_type": "markdown",
      "source": [
        "Question4\n",
        "Suppose that you invest $10,000 for 10 years at an interest rate of 6% compounded monthly.\n",
        "What will be the value of your investment at the end of the 10 year period?\n",
        "Create a function that accepts the principal p, the term in years t, the interest rate r, and the\n",
        "number of compounding periods per year n. The function returns the value at the end of term\n",
        "rounded to the nearest cent.\n",
        "For the example above:\n",
        "compound_interest(10000, 10, 0.06, 12) ➞ 18193.97\n",
        "Note that the interest rate is given as a decimal and n=12 because with monthly compounding\n",
        "there are 12 periods per year. Compounding can also be done annually, quarterly, weekly, or\n",
        "daily.\n",
        "Examples\n",
        "compound_interest(100, 1, 0.05, 1) ➞ 105.0\n",
        "compound_interest(3500, 15, 0.1, 4) ➞ 15399.26\n",
        "compound_interest(100000, 20, 0.15, 365) ➞ 2007316.26"
      ],
      "metadata": {
        "id": "B700xRFdjVjU"
      }
    },
    {
      "cell_type": "code",
      "source": [
        "def compound_interest(principal, time, rate, period):\n",
        "  return principal +(principal * (1 + (rate/period))**(period * time) - principal)\n",
        "\n",
        "print(compound_interest(10000,10,0.06,12))\n",
        "print(compound_interest(100,1,0.05,1))\n",
        "print(compound_interest(3500,15,0.1,4))\n",
        "print(compound_interest(100000,20,0.15,365)) "
      ],
      "metadata": {
        "colab": {
          "base_uri": "https://localhost:8080/"
        },
        "id": "CpUXhLq0aOd1",
        "outputId": "d327c3ae-0fa2-4823-a6aa-ebcbd82621f7"
      },
      "execution_count": 32,
      "outputs": [
        {
          "output_type": "stream",
          "name": "stdout",
          "text": [
            "18193.9673403229\n",
            "105.0\n",
            "15399.264120852586\n",
            "2007316.2632325366\n"
          ]
        }
      ]
    },
    {
      "cell_type": "markdown",
      "source": [
        "Question5\n",
        "Write a function that takes a list of elements and returns only the integers.\n",
        "Examples\n",
        "return_only_integer([9, 2, &quot;space&quot;, &quot;car&quot;, &quot;lion&quot;, 16]) ➞ [9, 2, 16]\n",
        "return_only_integer([&quot;hello&quot;, 81, &quot;basketball&quot;, 123, &quot;fox&quot;]) ➞ [81, 123]\n",
        "return_only_integer([10, &quot;121&quot;, 56, 20, &quot;car&quot;, 3, &quot;lion&quot;]) ➞ [10, 56, 20,\n",
        "3]\n",
        "return_only_integer([&quot;String&quot;, True, 3.3, 1]) ➞ [1]"
      ],
      "metadata": {
        "id": "nYfPufCBljmE"
      }
    },
    {
      "cell_type": "code",
      "source": [
        "def return_only_integer(list1):\n",
        "  list2 = []\n",
        "  for item in list1:\n",
        "    if type(item)==int:\n",
        "      list2.append(item)\n",
        "  return list2\n",
        "\n",
        "print(return_only_integer([9, 2, \"space\", \"car\", \"lion\", 16]))\n",
        "print(return_only_integer([\"hello\", 81, \"basketball\", 123, \"fox\"]))\n",
        "print(return_only_integer([10, \"121\", 56, 20, \"car\", 3, \"lion\"]))\n",
        "print(return_only_integer([\"String\", True, 3.3, 1]))\n"
      ],
      "metadata": {
        "colab": {
          "base_uri": "https://localhost:8080/"
        },
        "id": "mRpWTQgkkRT8",
        "outputId": "cd89a923-75d3-49a4-a707-be73047ef512"
      },
      "execution_count": 35,
      "outputs": [
        {
          "output_type": "stream",
          "name": "stdout",
          "text": [
            "[9, 2, 16]\n",
            "[81, 123]\n",
            "[10, 56, 20, 3]\n",
            "[1]\n"
          ]
        }
      ]
    },
    {
      "cell_type": "code",
      "source": [],
      "metadata": {
        "id": "6LknITo0l5UB"
      },
      "execution_count": null,
      "outputs": []
    }
  ]
}