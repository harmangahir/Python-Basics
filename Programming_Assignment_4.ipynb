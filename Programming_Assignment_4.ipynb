{
  "nbformat": 4,
  "nbformat_minor": 0,
  "metadata": {
    "colab": {
      "provenance": []
    },
    "kernelspec": {
      "name": "python3",
      "display_name": "Python 3"
    },
    "language_info": {
      "name": "python"
    }
  },
  "cells": [
    {
      "cell_type": "markdown",
      "source": [
        "1. Write a Python Program to Find the Factorial of a Number?"
      ],
      "metadata": {
        "id": "MH9zWbTwW9PW"
      }
    },
    {
      "cell_type": "code",
      "source": [
        "def factorial(number):\n",
        "  if number==1:\n",
        "    return number\n",
        "  else:\n",
        "    return number * factorial(number-1)\n",
        "\n",
        "number = int(input('Enter number:'))\n",
        "print(factorial(number))"
      ],
      "metadata": {
        "colab": {
          "base_uri": "https://localhost:8080/"
        },
        "id": "8VIH_oj2W-tu",
        "outputId": "68a2f33f-aaac-4f92-8f37-ed7e20b18baa"
      },
      "execution_count": 5,
      "outputs": [
        {
          "output_type": "stream",
          "name": "stdout",
          "text": [
            "Enter number:5\n",
            "120\n"
          ]
        }
      ]
    },
    {
      "cell_type": "markdown",
      "source": [
        "2. Write a Python Program to Display the multiplication Table?"
      ],
      "metadata": {
        "id": "s5zdUt3UYGY3"
      }
    },
    {
      "cell_type": "code",
      "source": [
        "number = int(input('Enter a number:'))\n",
        "for item in range(1, 11):\n",
        "  print(number, 'X' , item ,  '=' , number * item)\n"
      ],
      "metadata": {
        "colab": {
          "base_uri": "https://localhost:8080/"
        },
        "id": "UDGYVRUFXQET",
        "outputId": "70a8e31e-7dc4-4157-ca0b-264a6183fc14"
      },
      "execution_count": 13,
      "outputs": [
        {
          "output_type": "stream",
          "name": "stdout",
          "text": [
            "Enter a number:4\n",
            "4 X 1 = 4\n",
            "4 X 2 = 8\n",
            "4 X 3 = 12\n",
            "4 X 4 = 16\n",
            "4 X 5 = 20\n",
            "4 X 6 = 24\n",
            "4 X 7 = 28\n",
            "4 X 8 = 32\n",
            "4 X 9 = 36\n",
            "4 X 10 = 40\n"
          ]
        }
      ]
    },
    {
      "cell_type": "markdown",
      "source": [
        "3. Write a Python Program to Print the Fibonacci sequence?"
      ],
      "metadata": {
        "id": "L1OAl-pYZ5Q2"
      }
    },
    {
      "cell_type": "code",
      "source": [
        "def fibonacci(number):\n",
        "    if number < 0:\n",
        "        print(\"Incorrect input\")\n",
        "    elif number == 0:\n",
        "        return 0\n",
        " \n",
        "    elif number == 1 or number == 2:\n",
        "        return 1\n",
        "    else:\n",
        "        return fibonacci(number - 1) + fibonacci(number - 2)\n",
        " \n",
        "print(fibonacci(10))"
      ],
      "metadata": {
        "colab": {
          "base_uri": "https://localhost:8080/"
        },
        "id": "Znne4ANGZGbJ",
        "outputId": "629511e5-1b62-4f77-be21-15ddbeb0041a"
      },
      "execution_count": 17,
      "outputs": [
        {
          "output_type": "stream",
          "name": "stdout",
          "text": [
            "55\n"
          ]
        }
      ]
    },
    {
      "cell_type": "markdown",
      "source": [
        "4. Write a Python Program to Check Armstrong Number?"
      ],
      "metadata": {
        "id": "A07iTNRfaZg8"
      }
    },
    {
      "cell_type": "code",
      "source": [
        "number = int(input('Enter number:'))\n",
        "sum = 0\n",
        "temp = number\n",
        "while temp > 0:\n",
        "   digit = temp % 10\n",
        "   sum += digit ** 3\n",
        "   temp //= 10\n",
        "if number == sum:\n",
        "   print(number,\"is an Armstrong number\")\n",
        "else:\n",
        "   print(number,\"is not an Armstrong number\")"
      ],
      "metadata": {
        "colab": {
          "base_uri": "https://localhost:8080/"
        },
        "id": "rZDeCkh-aQ6A",
        "outputId": "41c2fa75-b072-491e-bff3-04d0693613ba"
      },
      "execution_count": 24,
      "outputs": [
        {
          "output_type": "stream",
          "name": "stdout",
          "text": [
            "Enter number:153\n",
            "153 is an Armstrong number\n"
          ]
        }
      ]
    },
    {
      "cell_type": "markdown",
      "source": [
        "5. Write a Python Program to Find Armstrong Number in an Interval?"
      ],
      "metadata": {
        "id": "ngd5W1lma-Xv"
      }
    },
    {
      "cell_type": "code",
      "source": [
        "lower_bound = 100\n",
        "upper_bound = 2000\n",
        "\n",
        "for item in range(lower_bound, upper_bound + 1):\n",
        "  order = len(str(item))\n",
        "  sum = 0\n",
        "  temp = item\n",
        "  while temp > 0:\n",
        "    digit = temp % 10\n",
        "    sum += digit ** order\n",
        "    temp //= 10\n",
        "    if item == sum:\n",
        "      print(item)"
      ],
      "metadata": {
        "colab": {
          "base_uri": "https://localhost:8080/"
        },
        "id": "xEdsalEbasmu",
        "outputId": "4e9f070c-83f7-4e57-b821-bb43a4f54491"
      },
      "execution_count": 25,
      "outputs": [
        {
          "output_type": "stream",
          "name": "stdout",
          "text": [
            "125\n",
            "153\n",
            "216\n",
            "370\n",
            "371\n",
            "407\n",
            "729\n",
            "1296\n",
            "1634\n"
          ]
        }
      ]
    },
    {
      "cell_type": "markdown",
      "source": [
        "6. Write a Python Program to Find the Sum of Natural Numbers?"
      ],
      "metadata": {
        "id": "01MJzuOabcY6"
      }
    },
    {
      "cell_type": "code",
      "source": [
        "number = int(input('Enter number:'))  \n",
        "\n",
        "if number < 0:  \n",
        "   print(\"Enter a positive number\")  \n",
        "else:  \n",
        "   sum = 0  \n",
        "   while(number > 0):  \n",
        "       sum += number  \n",
        "       number -= 1  \n",
        "   print(\"The sum is\",sum)  "
      ],
      "metadata": {
        "colab": {
          "base_uri": "https://localhost:8080/"
        },
        "id": "9DicPfCnbStV",
        "outputId": "303d8400-93f3-472c-8707-982ce49d8335"
      },
      "execution_count": 27,
      "outputs": [
        {
          "output_type": "stream",
          "name": "stdout",
          "text": [
            "Enter number:17\n",
            "The sum is 153\n"
          ]
        }
      ]
    },
    {
      "cell_type": "code",
      "source": [],
      "metadata": {
        "id": "Sg2X7WRpbqsR"
      },
      "execution_count": null,
      "outputs": []
    }
  ]
}