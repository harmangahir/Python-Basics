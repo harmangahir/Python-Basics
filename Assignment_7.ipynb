{
  "nbformat": 4,
  "nbformat_minor": 0,
  "metadata": {
    "colab": {
      "provenance": []
    },
    "kernelspec": {
      "name": "python3",
      "display_name": "Python 3"
    },
    "language_info": {
      "name": "python"
    }
  },
  "cells": [
    {
      "cell_type": "markdown",
      "source": [
        "\n",
        "\n",
        "\n",
        "\n",
        "\n",
        "\n",
        "\n",
        "\n",
        "\n",
        "\n",
        "\n",
        "\n"
      ],
      "metadata": {
        "id": "TsxUSl4TspTJ"
      }
    },
    {
      "cell_type": "markdown",
      "source": [
        "**Question 1:** What is the name of the feature responsible for generating Regex objects?\n",
        "\n",
        "**Answer:** \n",
        "\n",
        "For Regex object, first import re library and then invoke compile method to compile string argument mention inside compile method."
      ],
      "metadata": {
        "id": "Uj8Wi5KHtfUW"
      }
    },
    {
      "cell_type": "code",
      "execution_count": null,
      "metadata": {
        "colab": {
          "base_uri": "https://localhost:8080/"
        },
        "id": "V_-0DprgsbuT",
        "outputId": "92f6b22d-def2-4c71-8150-1b3fc765a622"
      },
      "outputs": [
        {
          "output_type": "execute_result",
          "data": {
            "text/plain": [
              "re.compile(r'23', re.UNICODE)"
            ]
          },
          "metadata": {},
          "execution_count": 2
        }
      ],
      "source": [
        "import re\n",
        "re.compile('23')"
      ]
    },
    {
      "cell_type": "markdown",
      "source": [
        "**Question 2:** Why do raw strings often appear in Regex objects?\n",
        "\n",
        "**Answer:**  Raw strings are used to avoid having to escape backslashes."
      ],
      "metadata": {
        "id": "gxX7FEF9uT6T"
      }
    },
    {
      "cell_type": "markdown",
      "source": [
        "**Question 3:** What is the return value of the search() method?\n",
        "\n",
        "**Answer:** The actual use of search() function is to return the location of given string mentioned inside search function as an argument.If no match is discovered, then function returns -1. A string or a regular expression may be used as the search value."
      ],
      "metadata": {
        "id": "8NCPvobtu7-h"
      }
    },
    {
      "cell_type": "markdown",
      "source": [
        "**Question 4:** From a Match item, how do you get the actual strings that match the pattern?"
      ],
      "metadata": {
        "id": "fbggi5DSvwqJ"
      }
    },
    {
      "cell_type": "code",
      "source": [
        "import re\n",
        "dateRegex = re.compile(r'\\d\\d-\\d\\d-\\d\\d\\d\\d')\n",
        "searchRegex = dateRegex.search(r'Today\\'s date is 02-10-2022')\n",
        "print('Date found: ' + searchRegex.group())"
      ],
      "metadata": {
        "colab": {
          "base_uri": "https://localhost:8080/"
        },
        "id": "Q4oo1wR3tvi5",
        "outputId": "30a91a19-cbec-446d-db89-d6bc6305f444"
      },
      "execution_count": null,
      "outputs": [
        {
          "output_type": "stream",
          "name": "stdout",
          "text": [
            "Date found: 02-10-2022\n"
          ]
        }
      ]
    },
    {
      "cell_type": "markdown",
      "source": [
        "**Question 5:** In the regex which created from the r'(\\d\\d\\d)-(\\d\\d\\d-\\d\\d\\d\\d)', what does group zero cover? Group 2? Group 1?"
      ],
      "metadata": {
        "id": "2myS6rugyaSE"
      }
    },
    {
      "cell_type": "markdown",
      "source": [
        "**Answer:**\n",
        "\n",
        "In asked question, group zero contains whole match, group one contains regex in first pair of parenthesis and froup two contains regex in second pair pf parenthesis "
      ],
      "metadata": {
        "id": "6XWsByJBPPbw"
      }
    },
    {
      "cell_type": "markdown",
      "source": [
        "**Question 6:** In standard expression syntax, parentheses and intervals have distinct meanings. How can you tell a regex that you want it to fit real parentheses and periods?"
      ],
      "metadata": {
        "id": "qADr4K9pP5bz"
      }
    },
    {
      "cell_type": "markdown",
      "source": [
        "**Answer:** In standard expression syntax, real parenthesis and periods can be escaped by backslash \\.\n",
        "\n",
        "Backslash dilute the special meaning of any character.\n",
        "\n",
        "Example: \\., \\(, and \\)"
      ],
      "metadata": {
        "id": "x036st0xSbNR"
      }
    },
    {
      "cell_type": "markdown",
      "source": [
        "Question 7: The findall() method returns a string list or a list of string tuples. What causes it to return one of the two options?"
      ],
      "metadata": {
        "id": "OAPUrU6gS7Pf"
      }
    },
    {
      "cell_type": "markdown",
      "source": [
        "**Answer:** Presence of group.A text list is returned if the regex does not include any groups. If the regular expression contains groups, the results will be a sequence of string tuples."
      ],
      "metadata": {
        "id": "DuDBeHHoTDkr"
      }
    },
    {
      "cell_type": "markdown",
      "source": [
        "**Question 8:** In standard expressions, what does the | character mean?\n",
        "\n",
        "**Answer:** The pipe (|) symbol represents \"either/or\" pairing between two groups. It only returns the first occurance of text which comes true"
      ],
      "metadata": {
        "id": "ApsNC2DnUnci"
      }
    },
    {
      "cell_type": "code",
      "source": [
        "import re \n",
        "str = 'INeuron provides Datacamp course on Machine Learning and Deep Learning. INeuron also provides training on full stack development'\n",
        "pattern = re.compile('INeuron | Machine Learning')\n",
        "searchResult = re.search(pattern,str)\n",
        "searchResult.group()"
      ],
      "metadata": {
        "colab": {
          "base_uri": "https://localhost:8080/",
          "height": 35
        },
        "id": "y5szr8C0VJs4",
        "outputId": "ec45c3bd-cf02-43f3-9a57-78a4f718268f"
      },
      "execution_count": null,
      "outputs": [
        {
          "output_type": "execute_result",
          "data": {
            "text/plain": [
              "'INeuron '"
            ],
            "application/vnd.google.colaboratory.intrinsic+json": {
              "type": "string"
            }
          },
          "metadata": {},
          "execution_count": 11
        }
      ]
    },
    {
      "cell_type": "markdown",
      "source": [
        "**Question 9:** In regular expressions, what does the ? character stand for?\n",
        "\n",
        "**Answer**: The regex question mark(?) verifies if the preceeding text appears at least once or not at all.It returns first instance of text if pattern matches.The preceeding text will be optional. Here's an illustration:"
      ],
      "metadata": {
        "id": "Y0GrG-jHWKSw"
      }
    },
    {
      "cell_type": "code",
      "source": [
        "str = '''INeuron provides Datacamp course on Machine Learning, Machine Leaning and Deep Learning. INeuron also provides training on full stack development and \n",
        "query leanring'''\n",
        "pattern = re.compile('Lea(r)?ning')\n",
        "searchResult = re.search(pattern,str)\n",
        "searchResult.group()"
      ],
      "metadata": {
        "colab": {
          "base_uri": "https://localhost:8080/",
          "height": 35
        },
        "id": "Gj5nLdbPQk1d",
        "outputId": "c195f8f9-dc02-4671-cfa0-6dc662e0041b"
      },
      "execution_count": null,
      "outputs": [
        {
          "output_type": "execute_result",
          "data": {
            "text/plain": [
              "'Learning'"
            ],
            "application/vnd.google.colaboratory.intrinsic+json": {
              "type": "string"
            }
          },
          "metadata": {},
          "execution_count": 17
        }
      ]
    },
    {
      "cell_type": "markdown",
      "source": [
        "**Question 10**: In regular expressions, what is the difference between the + and * characters? \n",
        "\n",
        "**Answer**: There's a + if it's a match for one or more. This * is equivalent to zero or more"
      ],
      "metadata": {
        "id": "5qGP-ttWYO5u"
      }
    },
    {
      "cell_type": "markdown",
      "source": [
        "**Question 11:** What is the difference between {4} and {4,5} in regular expression? \n",
        "\n",
        "**Answer:** {4} means exactly matches four instances of the preceeding group whereas {4,5} means matches either four or five instances of the preceeding group "
      ],
      "metadata": {
        "id": "tBR5Ash5YoHT"
      }
    },
    {
      "cell_type": "markdown",
      "source": [
        "**Question 12:** What do you mean by the \\d, \\w, and \\s shorthand character classes signify in regular expressions?\n",
        "\n",
        "**Answer:**\n",
        "\n",
        "\\d stands for single numeric digits. Example any digit from [0-9].\n",
        "\n",
        "\\w stands for single alphanumeric. It will be single word or single letter.Example [a-z,A-Z,0-9]\n",
        "\n",
        "\\s for single space characters \\t,\\n,\\f,\\r,\\v\n",
        "\n"
      ],
      "metadata": {
        "id": "Y5p1WzNPZPnj"
      }
    },
    {
      "cell_type": "markdown",
      "source": [
        "**Question 13:** What do means by \\D, \\W, and \\S shorthand character classes signify in regular expressions?\n",
        "\n",
        "**Answer:** Just opposite to previous question\n",
        "\n",
        "'\\D' stands for not numeric digit from 0-9\n",
        "\n",
        "'\\W' stands for not alphanumeric word, letter\n",
        "\n",
        "'\\S' stands for not single space character"
      ],
      "metadata": {
        "id": "BpiTCOtTaI84"
      }
    },
    {
      "cell_type": "markdown",
      "source": [
        "**Question 14:** What is the difference between .* and .*?\n",
        "\n",
        "**Answer:** .* is greedy in nature where it tries to capture maximum patterns from text where as .*? is non greedy in nature where it tries to capture minimal or required pattern from text"
      ],
      "metadata": {
        "id": "kEaHUhkoa7Ox"
      }
    },
    {
      "cell_type": "code",
      "source": [
        "str = '<This is INeuron session on Full Stack> Data Science Bootcamp 2.0  '\n",
        "pattern = re.compile(r'<.*>')\n",
        "matchResult = re.search(pattern,str)\n",
        "matchResult.group()"
      ],
      "metadata": {
        "colab": {
          "base_uri": "https://localhost:8080/",
          "height": 35
        },
        "id": "WeKnGh1Zc-zI",
        "outputId": "911bdb61-9eba-493c-fa04-0edc82689b10"
      },
      "execution_count": null,
      "outputs": [
        {
          "output_type": "execute_result",
          "data": {
            "text/plain": [
              "'<This is INeuron session on Full Stack>'"
            ],
            "application/vnd.google.colaboratory.intrinsic+json": {
              "type": "string"
            }
          },
          "metadata": {},
          "execution_count": 35
        }
      ]
    },
    {
      "cell_type": "code",
      "source": [
        "str = 'This is <INeuron session on Full Stack> Data Science Bootcamp 2.0'\n",
        "pattern = re.compile(r'<.*?>')\n",
        "matchResult = re.search(pattern,str)\n",
        "matchResult.group()"
      ],
      "metadata": {
        "colab": {
          "base_uri": "https://localhost:8080/",
          "height": 35
        },
        "id": "b8OQRiOrXfj8",
        "outputId": "d4d44fb5-2297-4039-f7d1-0de5822061a7"
      },
      "execution_count": null,
      "outputs": [
        {
          "output_type": "execute_result",
          "data": {
            "text/plain": [
              "'<INeuron session on Full Stack>'"
            ],
            "application/vnd.google.colaboratory.intrinsic+json": {
              "type": "string"
            }
          },
          "metadata": {},
          "execution_count": 36
        }
      ]
    },
    {
      "cell_type": "markdown",
      "source": [
        "**Question 15:** What is the syntax for matching both numbers and lowercase letters with a character class?\n",
        "\n",
        "**Answer**: There are two ways to perform asked matching:\n",
        "\n",
        "1. [a-z0-9]\n",
        "2. [0-9a-z]]"
      ],
      "metadata": {
        "id": "9PBL2T2gQHxg"
      }
    },
    {
      "cell_type": "code",
      "source": [
        "import re\n",
        "str = \"This is INeuron session on Full Stack Development starts with range 10 to 999\"\n",
        "\n",
        "pattern = re.compile(r'[a-z0-9]')\n",
        "searchResult = re.search(pattern, str)\n",
        "searchResult.group()"
      ],
      "metadata": {
        "id": "dWl74G1BeXPo",
        "colab": {
          "base_uri": "https://localhost:8080/",
          "height": 35
        },
        "outputId": "d2514043-18cc-4e4b-ecae-69ca5008c820"
      },
      "execution_count": 2,
      "outputs": [
        {
          "output_type": "execute_result",
          "data": {
            "text/plain": [
              "'h'"
            ],
            "application/vnd.google.colaboratory.intrinsic+json": {
              "type": "string"
            }
          },
          "metadata": {},
          "execution_count": 2
        }
      ]
    },
    {
      "cell_type": "code",
      "source": [
        "import re\n",
        "str = \"This is INeuron session on Full Stack Development starts with range 10 to 999\"\n",
        "\n",
        "pattern = re.compile(r'[0-9a-z]')\n",
        "searchResult = re.search(pattern, str)\n",
        "searchResult.group()"
      ],
      "metadata": {
        "colab": {
          "base_uri": "https://localhost:8080/",
          "height": 35
        },
        "id": "415Veh7UQxdo",
        "outputId": "13b72664-bfd3-44ae-f4b7-ad1e71135a7a"
      },
      "execution_count": 3,
      "outputs": [
        {
          "output_type": "execute_result",
          "data": {
            "text/plain": [
              "'h'"
            ],
            "application/vnd.google.colaboratory.intrinsic+json": {
              "type": "string"
            }
          },
          "metadata": {},
          "execution_count": 3
        }
      ]
    },
    {
      "cell_type": "markdown",
      "source": [
        "**Question 16:** What is the procedure for making a normal expression in regax case insensitive?\n",
        "\n",
        "**Answer:** There are two ways to handle such situation with as follows:\n",
        "1. re.I\n",
        "2. re.IGNORECASE \n",
        "\n",
        "Both will pass as second argument in re.compiles()"
      ],
      "metadata": {
        "id": "C0GF0A3ORkv5"
      }
    },
    {
      "cell_type": "code",
      "source": [
        "str = \"This is INeuron session on Full Stack Development starts with range 10 to 999\"\n",
        "\n",
        "pattern = re.compile(r'ineuron',re.IGNORECASE)\n",
        "searchResult = re.search(pattern, str)\n",
        "searchResult.group()"
      ],
      "metadata": {
        "colab": {
          "base_uri": "https://localhost:8080/",
          "height": 35
        },
        "id": "mFIAqQmdRRc1",
        "outputId": "a49e7fb6-ed95-41ba-e1cc-5555890d10a3"
      },
      "execution_count": 4,
      "outputs": [
        {
          "output_type": "execute_result",
          "data": {
            "text/plain": [
              "'INeuron'"
            ],
            "application/vnd.google.colaboratory.intrinsic+json": {
              "type": "string"
            }
          },
          "metadata": {},
          "execution_count": 4
        }
      ]
    },
    {
      "cell_type": "code",
      "source": [
        "pattern = re.compile(r'ineuron',re.I)\n",
        "searchResult = re.search(pattern, str)\n",
        "searchResult.group()"
      ],
      "metadata": {
        "colab": {
          "base_uri": "https://localhost:8080/",
          "height": 35
        },
        "id": "AcMsTWHYR4zx",
        "outputId": "0fe8071a-109f-41e1-a7a5-33a343fb2b18"
      },
      "execution_count": 5,
      "outputs": [
        {
          "output_type": "execute_result",
          "data": {
            "text/plain": [
              "'INeuron'"
            ],
            "application/vnd.google.colaboratory.intrinsic+json": {
              "type": "string"
            }
          },
          "metadata": {},
          "execution_count": 5
        }
      ]
    },
    {
      "cell_type": "markdown",
      "source": [
        "**Question 17:** What does the . character normally match? What does it match if re.DOTALL is passed as 2nd argument in re.compile()?\n",
        "\n",
        "**Answer:** '.' character will match any character except new line character whereas DOTALL extended the functionality by match new line character too"
      ],
      "metadata": {
        "id": "rb41RqKYST-2"
      }
    },
    {
      "cell_type": "code",
      "source": [
        "str = '''This is INeuron session on Full Stack Development.\n",
        "Hope you like this.\n",
        "Best of luck'''\n",
        "\n",
        "searchResult = re.findall('.*', str)\n",
        "searchResult"
      ],
      "metadata": {
        "colab": {
          "base_uri": "https://localhost:8080/"
        },
        "id": "39wXZD4_R8N9",
        "outputId": "35e9046e-ee3d-4023-cefe-abc794231c28"
      },
      "execution_count": 21,
      "outputs": [
        {
          "output_type": "execute_result",
          "data": {
            "text/plain": [
              "['This is INeuron session on Full Stack Development.',\n",
              " '',\n",
              " 'Hope you like this.',\n",
              " '',\n",
              " 'Best of luck',\n",
              " '']"
            ]
          },
          "metadata": {},
          "execution_count": 21
        }
      ]
    },
    {
      "cell_type": "code",
      "source": [
        "str = '''This is INeuron session on Full Stack Development.\n",
        "Hope you like this.\n",
        "Best of luck'''\n",
        "\n",
        "searchResult = re.findall('.*', str,re.DOTALL)\n",
        "searchResult"
      ],
      "metadata": {
        "colab": {
          "base_uri": "https://localhost:8080/"
        },
        "id": "NaUYKfJVSlUi",
        "outputId": "7814ebac-4246-4b96-f367-5a94a7b28e7c"
      },
      "execution_count": 18,
      "outputs": [
        {
          "output_type": "execute_result",
          "data": {
            "text/plain": [
              "['This is INeuron session on Full Stack Development.\\nHope you like this.\\nBest of luck',\n",
              " '']"
            ]
          },
          "metadata": {},
          "execution_count": 18
        }
      ]
    },
    {
      "cell_type": "markdown",
      "source": [
        "**Question 18:** If numReg = re.compile(r'\\d+'), what will numRegex.sub('X', '11 drummers, 10 pipers, five rings, 4 hen') return?\n",
        "\n",
        "**Answer:**"
      ],
      "metadata": {
        "id": "Md_Au2nwUdxf"
      }
    },
    {
      "cell_type": "code",
      "source": [
        "numRegex = re.compile(r'\\d+')\n",
        "numRegex.sub('X', '11 drummers, 10 pipers, five rings, 4 hen')"
      ],
      "metadata": {
        "colab": {
          "base_uri": "https://localhost:8080/",
          "height": 35
        },
        "id": "tYxpMgibTDac",
        "outputId": "dd33f645-37a3-4e02-e677-c722409830e3"
      },
      "execution_count": 23,
      "outputs": [
        {
          "output_type": "execute_result",
          "data": {
            "text/plain": [
              "'X drummers, X pipers, five rings, X hen'"
            ],
            "application/vnd.google.colaboratory.intrinsic+json": {
              "type": "string"
            }
          },
          "metadata": {},
          "execution_count": 23
        }
      ]
    },
    {
      "cell_type": "markdown",
      "source": [
        "**Question 19:** What does passing re.VERBOSE as the 2nd argument to re.compile() allow to do?\n",
        "\n",
        "**Answer:** re.VERBOSE allows to write comment against code statement "
      ],
      "metadata": {
        "id": "cJNH2mG6U5gK"
      }
    },
    {
      "cell_type": "code",
      "source": [
        "pattern  = re.compile(r\"\"\"\n",
        "            ([a-z0-9]_\\.-]+)  #emailID\n",
        "            @                 #@ Sign\n",
        "            ([a-z0-9]_\\.-]+)  # DOmain Name\n",
        "            \\.        #Dot .\n",
        "            ([a-z{2,6}])$ #Top Level Domain\n",
        "             \"\"\",re.VERBOSE | re.IGNORECASE) \n"
      ],
      "metadata": {
        "id": "KXTraUbYUvKA"
      },
      "execution_count": 27,
      "outputs": []
    },
    {
      "cell_type": "markdown",
      "source": [
        "**Question 20:** How would you write a regex that match a number with comma for every three digits? It must match the given following:\n",
        "'42'\n",
        "'1,234'\n",
        "'6,368,745'\n",
        "but not the following:\n",
        "'12,34,567' (which has only two digits between the commas)\n",
        "'1234' (which lacks commas)\n",
        "\n",
        "**ANswer:**"
      ],
      "metadata": {
        "id": "LPrYg80iXIhw"
      }
    },
    {
      "cell_type": "code",
      "source": [
        "str =  '42'\n",
        "import re\n",
        "pattern = re.compile(r'^\\d{1,3}(,\\d{3})*$')\n",
        "searchResult = pattern.search(str)\n",
        "searchResult.group()"
      ],
      "metadata": {
        "colab": {
          "base_uri": "https://localhost:8080/",
          "height": 35
        },
        "id": "hLWn_kq0aeSj",
        "outputId": "79d446ee-2572-4084-bb22-db1ae93550e3"
      },
      "execution_count": 78,
      "outputs": [
        {
          "output_type": "execute_result",
          "data": {
            "text/plain": [
              "'42'"
            ],
            "application/vnd.google.colaboratory.intrinsic+json": {
              "type": "string"
            }
          },
          "metadata": {},
          "execution_count": 78
        }
      ]
    },
    {
      "cell_type": "code",
      "source": [
        "str =  '1,234'\n",
        "import re\n",
        "pattern = re.compile(r'^\\d{1,3}(,\\d{3})*$')\n",
        "searchResult = pattern.search(str)\n",
        "searchResult.group()"
      ],
      "metadata": {
        "colab": {
          "base_uri": "https://localhost:8080/",
          "height": 35
        },
        "id": "3NdGoRAFfzyw",
        "outputId": "83505767-a2a6-4959-f492-ce02bde57630"
      },
      "execution_count": 77,
      "outputs": [
        {
          "output_type": "execute_result",
          "data": {
            "text/plain": [
              "'1,234'"
            ],
            "application/vnd.google.colaboratory.intrinsic+json": {
              "type": "string"
            }
          },
          "metadata": {},
          "execution_count": 77
        }
      ]
    },
    {
      "cell_type": "code",
      "source": [
        "str =  '6,368,745'\n",
        "import re\n",
        "pattern = re.compile(r'^\\d{1,3}(,\\d{3})*$')\n",
        "searchResult = pattern.search(str)\n",
        "searchResult.group()"
      ],
      "metadata": {
        "colab": {
          "base_uri": "https://localhost:8080/",
          "height": 35
        },
        "id": "vWnVEkfKf5vz",
        "outputId": "06130d70-c356-4951-d6b3-a17ac43fbf3a"
      },
      "execution_count": 76,
      "outputs": [
        {
          "output_type": "execute_result",
          "data": {
            "text/plain": [
              "'6,368,745'"
            ],
            "application/vnd.google.colaboratory.intrinsic+json": {
              "type": "string"
            }
          },
          "metadata": {},
          "execution_count": 76
        }
      ]
    },
    {
      "cell_type": "code",
      "source": [
        "str =  '12,34,567'\n",
        "import re\n",
        "pattern = re.compile(r'^\\d{1,3}(,\\d{3})*$')\n",
        "searchResult = pattern.search(str)\n",
        "searchResult.group()"
      ],
      "metadata": {
        "colab": {
          "base_uri": "https://localhost:8080/",
          "height": 200
        },
        "id": "HE1USyuNgYAE",
        "outputId": "5a5ae5fa-3941-4945-d886-70e73592c4ad"
      },
      "execution_count": 75,
      "outputs": [
        {
          "output_type": "error",
          "ename": "AttributeError",
          "evalue": "ignored",
          "traceback": [
            "\u001b[0;31m---------------------------------------------------------------------------\u001b[0m",
            "\u001b[0;31mAttributeError\u001b[0m                            Traceback (most recent call last)",
            "\u001b[0;32m<ipython-input-75-39deef8e5dbf>\u001b[0m in \u001b[0;36m<module>\u001b[0;34m\u001b[0m\n\u001b[1;32m      3\u001b[0m \u001b[0mpattern\u001b[0m \u001b[0;34m=\u001b[0m \u001b[0mre\u001b[0m\u001b[0;34m.\u001b[0m\u001b[0mcompile\u001b[0m\u001b[0;34m(\u001b[0m\u001b[0;34mr'^\\d{1,3}(,\\d{3})*$'\u001b[0m\u001b[0;34m)\u001b[0m\u001b[0;34m\u001b[0m\u001b[0;34m\u001b[0m\u001b[0m\n\u001b[1;32m      4\u001b[0m \u001b[0msearchResult\u001b[0m \u001b[0;34m=\u001b[0m \u001b[0mpattern\u001b[0m\u001b[0;34m.\u001b[0m\u001b[0msearch\u001b[0m\u001b[0;34m(\u001b[0m\u001b[0mstr\u001b[0m\u001b[0;34m)\u001b[0m\u001b[0;34m\u001b[0m\u001b[0;34m\u001b[0m\u001b[0m\n\u001b[0;32m----> 5\u001b[0;31m \u001b[0msearchResult\u001b[0m\u001b[0;34m.\u001b[0m\u001b[0mgroup\u001b[0m\u001b[0;34m(\u001b[0m\u001b[0;34m)\u001b[0m\u001b[0;34m\u001b[0m\u001b[0;34m\u001b[0m\u001b[0m\n\u001b[0m",
            "\u001b[0;31mAttributeError\u001b[0m: 'NoneType' object has no attribute 'group'"
          ]
        }
      ]
    },
    {
      "cell_type": "code",
      "source": [
        "str =  '1234'\n",
        "import re\n",
        "pattern = re.compile(r'^\\d{1,3}(,\\d{3})*$')\n",
        "searchResult = pattern.search(str)\n",
        "searchResult.group()"
      ],
      "metadata": {
        "colab": {
          "base_uri": "https://localhost:8080/",
          "height": 200
        },
        "id": "N8PTRyBWgrm7",
        "outputId": "f0d80ff0-0d07-4476-e6be-42bb91bb0c3b"
      },
      "execution_count": 79,
      "outputs": [
        {
          "output_type": "error",
          "ename": "AttributeError",
          "evalue": "ignored",
          "traceback": [
            "\u001b[0;31m---------------------------------------------------------------------------\u001b[0m",
            "\u001b[0;31mAttributeError\u001b[0m                            Traceback (most recent call last)",
            "\u001b[0;32m<ipython-input-79-b0d50c67edac>\u001b[0m in \u001b[0;36m<module>\u001b[0;34m\u001b[0m\n\u001b[1;32m      3\u001b[0m \u001b[0mpattern\u001b[0m \u001b[0;34m=\u001b[0m \u001b[0mre\u001b[0m\u001b[0;34m.\u001b[0m\u001b[0mcompile\u001b[0m\u001b[0;34m(\u001b[0m\u001b[0;34mr'^\\d{1,3}(,\\d{3})*$'\u001b[0m\u001b[0;34m)\u001b[0m\u001b[0;34m\u001b[0m\u001b[0;34m\u001b[0m\u001b[0m\n\u001b[1;32m      4\u001b[0m \u001b[0msearchResult\u001b[0m \u001b[0;34m=\u001b[0m \u001b[0mpattern\u001b[0m\u001b[0;34m.\u001b[0m\u001b[0msearch\u001b[0m\u001b[0;34m(\u001b[0m\u001b[0mstr\u001b[0m\u001b[0;34m)\u001b[0m\u001b[0;34m\u001b[0m\u001b[0;34m\u001b[0m\u001b[0m\n\u001b[0;32m----> 5\u001b[0;31m \u001b[0msearchResult\u001b[0m\u001b[0;34m.\u001b[0m\u001b[0mgroup\u001b[0m\u001b[0;34m(\u001b[0m\u001b[0;34m)\u001b[0m\u001b[0;34m\u001b[0m\u001b[0;34m\u001b[0m\u001b[0m\n\u001b[0m",
            "\u001b[0;31mAttributeError\u001b[0m: 'NoneType' object has no attribute 'group'"
          ]
        }
      ]
    },
    {
      "cell_type": "markdown",
      "source": [
        "**Question 21:** How would you write a regex that matches the full name of someone whose last name is Watanabe? You can assume that the first name that comes before it will always be one word that begins with a capital letter. The regex must match the following:\n",
        "'Haruto Watanabe'\n",
        "'Alice Watanabe'\n",
        "'RoboCop Watanabe'\n",
        "but not the following:\n",
        "'haruto Watanabe' (where the first name is not capitalized)\n",
        "'Mr. Watanabe' (where the preceding word has a nonletter character)\n",
        "'Watanabe' (which has no first name)\n",
        "'Haruto watanabe' (where Watanabe is not capitalized)"
      ],
      "metadata": {
        "id": "Mj584DU3cw9L"
      }
    },
    {
      "cell_type": "code",
      "source": [
        "str = 'Haruto Watanabe'\n",
        "pattern = re.compile(r'[A-Z][a-z]*\\sWatanabe')\n",
        "searchResult = re.search(pattern,str)\n",
        "searchResult.group()"
      ],
      "metadata": {
        "colab": {
          "base_uri": "https://localhost:8080/",
          "height": 35
        },
        "id": "cJIhTxNUbNE7",
        "outputId": "98941a2b-e53f-4473-d5ba-0876ca2c3dd9"
      },
      "execution_count": 52,
      "outputs": [
        {
          "output_type": "execute_result",
          "data": {
            "text/plain": [
              "'Haruto Watanabe'"
            ],
            "application/vnd.google.colaboratory.intrinsic+json": {
              "type": "string"
            }
          },
          "metadata": {},
          "execution_count": 52
        }
      ]
    },
    {
      "cell_type": "code",
      "source": [
        "str = 'Alice Watanabe'\n",
        "pattern = re.compile(r'[A-Z][a-z]*\\sWatanabe')\n",
        "searchResult = re.search(pattern,str)\n",
        "searchResult.group()"
      ],
      "metadata": {
        "colab": {
          "base_uri": "https://localhost:8080/",
          "height": 35
        },
        "id": "jXEzamHIc-az",
        "outputId": "0185217e-c000-42cc-b6e5-0201e7c2ef48"
      },
      "execution_count": 53,
      "outputs": [
        {
          "output_type": "execute_result",
          "data": {
            "text/plain": [
              "'Alice Watanabe'"
            ],
            "application/vnd.google.colaboratory.intrinsic+json": {
              "type": "string"
            }
          },
          "metadata": {},
          "execution_count": 53
        }
      ]
    },
    {
      "cell_type": "code",
      "source": [
        "str = 'Robocop Watanabe'\n",
        "pattern = re.compile(r'[A-Z][a-z]*\\sWatanabe')\n",
        "searchResult = re.search(pattern,str)\n",
        "searchResult.group()"
      ],
      "metadata": {
        "colab": {
          "base_uri": "https://localhost:8080/",
          "height": 35
        },
        "id": "wuWXxYwHd6bE",
        "outputId": "49d17b79-86a0-458b-d96d-2f68271911b3"
      },
      "execution_count": 54,
      "outputs": [
        {
          "output_type": "execute_result",
          "data": {
            "text/plain": [
              "'Robocop Watanabe'"
            ],
            "application/vnd.google.colaboratory.intrinsic+json": {
              "type": "string"
            }
          },
          "metadata": {},
          "execution_count": 54
        }
      ]
    },
    {
      "cell_type": "code",
      "source": [
        "str = 'haruto Watanabe'\n",
        "pattern = re.compile(r'[A-Z][a-z]*\\sWatanabe')\n",
        "searchResult = re.search(pattern,str)\n",
        "searchResult.group()"
      ],
      "metadata": {
        "colab": {
          "base_uri": "https://localhost:8080/",
          "height": 200
        },
        "id": "K9JjfKfId_ZI",
        "outputId": "a5fbafb7-7171-4f70-da6c-dcb3902a76a8"
      },
      "execution_count": 55,
      "outputs": [
        {
          "output_type": "error",
          "ename": "AttributeError",
          "evalue": "ignored",
          "traceback": [
            "\u001b[0;31m---------------------------------------------------------------------------\u001b[0m",
            "\u001b[0;31mAttributeError\u001b[0m                            Traceback (most recent call last)",
            "\u001b[0;32m<ipython-input-55-cd8a95622a4f>\u001b[0m in \u001b[0;36m<module>\u001b[0;34m\u001b[0m\n\u001b[1;32m      2\u001b[0m \u001b[0mpattern\u001b[0m \u001b[0;34m=\u001b[0m \u001b[0mre\u001b[0m\u001b[0;34m.\u001b[0m\u001b[0mcompile\u001b[0m\u001b[0;34m(\u001b[0m\u001b[0;34mr'[A-Z][a-z]*\\sWatanabe'\u001b[0m\u001b[0;34m)\u001b[0m\u001b[0;34m\u001b[0m\u001b[0;34m\u001b[0m\u001b[0m\n\u001b[1;32m      3\u001b[0m \u001b[0msearchResult\u001b[0m \u001b[0;34m=\u001b[0m \u001b[0mre\u001b[0m\u001b[0;34m.\u001b[0m\u001b[0msearch\u001b[0m\u001b[0;34m(\u001b[0m\u001b[0mpattern\u001b[0m\u001b[0;34m,\u001b[0m\u001b[0mstr\u001b[0m\u001b[0;34m)\u001b[0m\u001b[0;34m\u001b[0m\u001b[0;34m\u001b[0m\u001b[0m\n\u001b[0;32m----> 4\u001b[0;31m \u001b[0msearchResult\u001b[0m\u001b[0;34m.\u001b[0m\u001b[0mgroup\u001b[0m\u001b[0;34m(\u001b[0m\u001b[0;34m)\u001b[0m\u001b[0;34m\u001b[0m\u001b[0;34m\u001b[0m\u001b[0m\n\u001b[0m",
            "\u001b[0;31mAttributeError\u001b[0m: 'NoneType' object has no attribute 'group'"
          ]
        }
      ]
    },
    {
      "cell_type": "code",
      "source": [
        "str = 'Mr. Watanabe'\n",
        "pattern = re.compile(r'[A-Z][a-z]*\\sWatanabe')\n",
        "searchResult = re.search(pattern,str)\n",
        "searchResult.group()"
      ],
      "metadata": {
        "colab": {
          "base_uri": "https://localhost:8080/",
          "height": 200
        },
        "id": "KUgHNMlseEbY",
        "outputId": "feb60af2-9a99-4db4-bb2e-38ff6afd891d"
      },
      "execution_count": 56,
      "outputs": [
        {
          "output_type": "error",
          "ename": "AttributeError",
          "evalue": "ignored",
          "traceback": [
            "\u001b[0;31m---------------------------------------------------------------------------\u001b[0m",
            "\u001b[0;31mAttributeError\u001b[0m                            Traceback (most recent call last)",
            "\u001b[0;32m<ipython-input-56-a213c6317287>\u001b[0m in \u001b[0;36m<module>\u001b[0;34m\u001b[0m\n\u001b[1;32m      2\u001b[0m \u001b[0mpattern\u001b[0m \u001b[0;34m=\u001b[0m \u001b[0mre\u001b[0m\u001b[0;34m.\u001b[0m\u001b[0mcompile\u001b[0m\u001b[0;34m(\u001b[0m\u001b[0;34mr'[A-Z][a-z]*\\sWatanabe'\u001b[0m\u001b[0;34m)\u001b[0m\u001b[0;34m\u001b[0m\u001b[0;34m\u001b[0m\u001b[0m\n\u001b[1;32m      3\u001b[0m \u001b[0msearchResult\u001b[0m \u001b[0;34m=\u001b[0m \u001b[0mre\u001b[0m\u001b[0;34m.\u001b[0m\u001b[0msearch\u001b[0m\u001b[0;34m(\u001b[0m\u001b[0mpattern\u001b[0m\u001b[0;34m,\u001b[0m\u001b[0mstr\u001b[0m\u001b[0;34m)\u001b[0m\u001b[0;34m\u001b[0m\u001b[0;34m\u001b[0m\u001b[0m\n\u001b[0;32m----> 4\u001b[0;31m \u001b[0msearchResult\u001b[0m\u001b[0;34m.\u001b[0m\u001b[0mgroup\u001b[0m\u001b[0;34m(\u001b[0m\u001b[0;34m)\u001b[0m\u001b[0;34m\u001b[0m\u001b[0;34m\u001b[0m\u001b[0m\n\u001b[0m",
            "\u001b[0;31mAttributeError\u001b[0m: 'NoneType' object has no attribute 'group'"
          ]
        }
      ]
    },
    {
      "cell_type": "code",
      "source": [
        "str = 'Watanabe'\n",
        "pattern = re.compile(r'[A-Z][a-z]*\\sWatanabe')\n",
        "searchResult = re.search(pattern,str)\n",
        "searchResult.group()"
      ],
      "metadata": {
        "colab": {
          "base_uri": "https://localhost:8080/",
          "height": 200
        },
        "id": "zaIYLDykeMXI",
        "outputId": "7556a519-4465-49ad-f77b-30e08c29b560"
      },
      "execution_count": 57,
      "outputs": [
        {
          "output_type": "error",
          "ename": "AttributeError",
          "evalue": "ignored",
          "traceback": [
            "\u001b[0;31m---------------------------------------------------------------------------\u001b[0m",
            "\u001b[0;31mAttributeError\u001b[0m                            Traceback (most recent call last)",
            "\u001b[0;32m<ipython-input-57-e3e02aa5bc6f>\u001b[0m in \u001b[0;36m<module>\u001b[0;34m\u001b[0m\n\u001b[1;32m      2\u001b[0m \u001b[0mpattern\u001b[0m \u001b[0;34m=\u001b[0m \u001b[0mre\u001b[0m\u001b[0;34m.\u001b[0m\u001b[0mcompile\u001b[0m\u001b[0;34m(\u001b[0m\u001b[0;34mr'[A-Z][a-z]*\\sWatanabe'\u001b[0m\u001b[0;34m)\u001b[0m\u001b[0;34m\u001b[0m\u001b[0;34m\u001b[0m\u001b[0m\n\u001b[1;32m      3\u001b[0m \u001b[0msearchResult\u001b[0m \u001b[0;34m=\u001b[0m \u001b[0mre\u001b[0m\u001b[0;34m.\u001b[0m\u001b[0msearch\u001b[0m\u001b[0;34m(\u001b[0m\u001b[0mpattern\u001b[0m\u001b[0;34m,\u001b[0m\u001b[0mstr\u001b[0m\u001b[0;34m)\u001b[0m\u001b[0;34m\u001b[0m\u001b[0;34m\u001b[0m\u001b[0m\n\u001b[0;32m----> 4\u001b[0;31m \u001b[0msearchResult\u001b[0m\u001b[0;34m.\u001b[0m\u001b[0mgroup\u001b[0m\u001b[0;34m(\u001b[0m\u001b[0;34m)\u001b[0m\u001b[0;34m\u001b[0m\u001b[0;34m\u001b[0m\u001b[0m\n\u001b[0m",
            "\u001b[0;31mAttributeError\u001b[0m: 'NoneType' object has no attribute 'group'"
          ]
        }
      ]
    },
    {
      "cell_type": "code",
      "source": [
        "str = 'Haruto watanabe'\n",
        "pattern = re.compile(r'[A-Z][a-z]*\\sWatanabe')\n",
        "searchResult = re.search(pattern,str)\n",
        "searchResult.group()"
      ],
      "metadata": {
        "colab": {
          "base_uri": "https://localhost:8080/",
          "height": 200
        },
        "id": "wtKbqIDueRIz",
        "outputId": "b9cab4ca-7fb4-4e10-a9ab-ddc40c2142b5"
      },
      "execution_count": 58,
      "outputs": [
        {
          "output_type": "error",
          "ename": "AttributeError",
          "evalue": "ignored",
          "traceback": [
            "\u001b[0;31m---------------------------------------------------------------------------\u001b[0m",
            "\u001b[0;31mAttributeError\u001b[0m                            Traceback (most recent call last)",
            "\u001b[0;32m<ipython-input-58-043e3b363114>\u001b[0m in \u001b[0;36m<module>\u001b[0;34m\u001b[0m\n\u001b[1;32m      2\u001b[0m \u001b[0mpattern\u001b[0m \u001b[0;34m=\u001b[0m \u001b[0mre\u001b[0m\u001b[0;34m.\u001b[0m\u001b[0mcompile\u001b[0m\u001b[0;34m(\u001b[0m\u001b[0;34mr'[A-Z][a-z]*\\sWatanabe'\u001b[0m\u001b[0;34m)\u001b[0m\u001b[0;34m\u001b[0m\u001b[0;34m\u001b[0m\u001b[0m\n\u001b[1;32m      3\u001b[0m \u001b[0msearchResult\u001b[0m \u001b[0;34m=\u001b[0m \u001b[0mre\u001b[0m\u001b[0;34m.\u001b[0m\u001b[0msearch\u001b[0m\u001b[0;34m(\u001b[0m\u001b[0mpattern\u001b[0m\u001b[0;34m,\u001b[0m\u001b[0mstr\u001b[0m\u001b[0;34m)\u001b[0m\u001b[0;34m\u001b[0m\u001b[0;34m\u001b[0m\u001b[0m\n\u001b[0;32m----> 4\u001b[0;31m \u001b[0msearchResult\u001b[0m\u001b[0;34m.\u001b[0m\u001b[0mgroup\u001b[0m\u001b[0;34m(\u001b[0m\u001b[0;34m)\u001b[0m\u001b[0;34m\u001b[0m\u001b[0;34m\u001b[0m\u001b[0m\n\u001b[0m",
            "\u001b[0;31mAttributeError\u001b[0m: 'NoneType' object has no attribute 'group'"
          ]
        }
      ]
    },
    {
      "cell_type": "markdown",
      "source": [
        "**Question 22:** How would you write a regex that matches a sentence where the first word is either Alice, Bob, or Carol; the second word is either eats, pets, or throws; the third word is apples, cats, or baseballs; and the sentence ends with a period? This regex should be case-insensitive. It must match the following:\n",
        "'Alice eats apples.'\n",
        "'Bob pets cats.'\n",
        "'Carol throws baseballs.'\n",
        "'Alice throws Apples.'\n",
        "'BOB EATS CATS.'\n",
        "but not the following:\n",
        "'RoboCop eats apples.'\n",
        "'ALICE THROWS FOOTBALLS.'\n",
        "'Carol eats 7 cats.'\n"
      ],
      "metadata": {
        "id": "JUTRv_mxedNO"
      }
    },
    {
      "cell_type": "code",
      "source": [
        "pattern = re.compile(r'(ALice|Bob|Carol)\\s(eats|pets|throws)\\s(apples|cats|baseballs)',re.IGNORECASE)\n",
        "str = 'Alice eats apples.'\n",
        "searchResult = re.search(pattern,str)\n",
        "searchResult.group()"
      ],
      "metadata": {
        "colab": {
          "base_uri": "https://localhost:8080/",
          "height": 35
        },
        "id": "ya93myn7eWd0",
        "outputId": "373a65f5-5dd3-4d91-f353-9546b9443b25"
      },
      "execution_count": 60,
      "outputs": [
        {
          "output_type": "execute_result",
          "data": {
            "text/plain": [
              "'Alice eats apples'"
            ],
            "application/vnd.google.colaboratory.intrinsic+json": {
              "type": "string"
            }
          },
          "metadata": {},
          "execution_count": 60
        }
      ]
    },
    {
      "cell_type": "code",
      "source": [
        "pattern = re.compile(r'(ALice|Bob|Carol)\\s(eats|pets|throws)\\s(apples|cats|baseballs)',re.IGNORECASE)\n",
        "str = 'Bob pets cats.'\n",
        "searchResult = re.search(pattern,str)\n",
        "searchResult.group()"
      ],
      "metadata": {
        "colab": {
          "base_uri": "https://localhost:8080/",
          "height": 35
        },
        "id": "wPvGG1iefIwX",
        "outputId": "63877493-0801-4ca5-e8ae-da4f39d03b52"
      },
      "execution_count": 61,
      "outputs": [
        {
          "output_type": "execute_result",
          "data": {
            "text/plain": [
              "'Bob pets cats'"
            ],
            "application/vnd.google.colaboratory.intrinsic+json": {
              "type": "string"
            }
          },
          "metadata": {},
          "execution_count": 61
        }
      ]
    },
    {
      "cell_type": "code",
      "source": [
        "pattern = re.compile(r'(ALice|Bob|Carol)\\s(eats|pets|throws)\\s(apples|cats|baseballs)',re.IGNORECASE)\n",
        "str = 'Carol throws baseballs.'\n",
        "searchResult = re.search(pattern,str)\n",
        "searchResult.group()"
      ],
      "metadata": {
        "colab": {
          "base_uri": "https://localhost:8080/",
          "height": 35
        },
        "id": "DkLk08aJfPbS",
        "outputId": "347b8ffd-ad1b-4492-96b6-84452173b0e8"
      },
      "execution_count": 62,
      "outputs": [
        {
          "output_type": "execute_result",
          "data": {
            "text/plain": [
              "'Carol throws baseballs'"
            ],
            "application/vnd.google.colaboratory.intrinsic+json": {
              "type": "string"
            }
          },
          "metadata": {},
          "execution_count": 62
        }
      ]
    },
    {
      "cell_type": "code",
      "source": [
        "pattern = re.compile(r'(ALice|Bob|Carol)\\s(eats|pets|throws)\\s(apples|cats|baseballs)',re.IGNORECASE)\n",
        "str = 'Alice throws Apples.'\n",
        "searchResult = re.search(pattern,str)\n",
        "searchResult.group()"
      ],
      "metadata": {
        "colab": {
          "base_uri": "https://localhost:8080/",
          "height": 35
        },
        "id": "wxMnHQjjfUuO",
        "outputId": "cd32edfa-70f8-4042-81de-e0e6f7c5f7fa"
      },
      "execution_count": 63,
      "outputs": [
        {
          "output_type": "execute_result",
          "data": {
            "text/plain": [
              "'Alice throws Apples'"
            ],
            "application/vnd.google.colaboratory.intrinsic+json": {
              "type": "string"
            }
          },
          "metadata": {},
          "execution_count": 63
        }
      ]
    },
    {
      "cell_type": "code",
      "source": [
        "pattern = re.compile(r'(ALice|Bob|Carol)\\s(eats|pets|throws)\\s(apples|cats|baseballs)',re.IGNORECASE)\n",
        "str = 'BOB EATS CATS'\n",
        "searchResult = re.search(pattern,str)\n",
        "searchResult.group()"
      ],
      "metadata": {
        "colab": {
          "base_uri": "https://localhost:8080/",
          "height": 35
        },
        "id": "2i9zEt3YfYnt",
        "outputId": "4c7da1c4-4875-4805-95d9-9e354b4d8b16"
      },
      "execution_count": 64,
      "outputs": [
        {
          "output_type": "execute_result",
          "data": {
            "text/plain": [
              "'BOB EATS CATS'"
            ],
            "application/vnd.google.colaboratory.intrinsic+json": {
              "type": "string"
            }
          },
          "metadata": {},
          "execution_count": 64
        }
      ]
    },
    {
      "cell_type": "code",
      "source": [
        "pattern = re.compile(r'(ALice|Bob|Carol)\\s(eats|pets|throws)\\s(apples|cats|baseballs)',re.IGNORECASE)\n",
        "str = 'RoboCop eats apples.'\n",
        "searchResult = re.search(pattern,str)\n",
        "searchResult.group()"
      ],
      "metadata": {
        "colab": {
          "base_uri": "https://localhost:8080/",
          "height": 200
        },
        "id": "vq8YmTfHfeIT",
        "outputId": "ff4ef883-4dc4-4ad1-9393-5801184a0cf5"
      },
      "execution_count": 65,
      "outputs": [
        {
          "output_type": "error",
          "ename": "AttributeError",
          "evalue": "ignored",
          "traceback": [
            "\u001b[0;31m---------------------------------------------------------------------------\u001b[0m",
            "\u001b[0;31mAttributeError\u001b[0m                            Traceback (most recent call last)",
            "\u001b[0;32m<ipython-input-65-cdf36ea50963>\u001b[0m in \u001b[0;36m<module>\u001b[0;34m\u001b[0m\n\u001b[1;32m      2\u001b[0m \u001b[0mstr\u001b[0m \u001b[0;34m=\u001b[0m \u001b[0;34m'RoboCop eats apples.'\u001b[0m\u001b[0;34m\u001b[0m\u001b[0;34m\u001b[0m\u001b[0m\n\u001b[1;32m      3\u001b[0m \u001b[0msearchResult\u001b[0m \u001b[0;34m=\u001b[0m \u001b[0mre\u001b[0m\u001b[0;34m.\u001b[0m\u001b[0msearch\u001b[0m\u001b[0;34m(\u001b[0m\u001b[0mpattern\u001b[0m\u001b[0;34m,\u001b[0m\u001b[0mstr\u001b[0m\u001b[0;34m)\u001b[0m\u001b[0;34m\u001b[0m\u001b[0;34m\u001b[0m\u001b[0m\n\u001b[0;32m----> 4\u001b[0;31m \u001b[0msearchResult\u001b[0m\u001b[0;34m.\u001b[0m\u001b[0mgroup\u001b[0m\u001b[0;34m(\u001b[0m\u001b[0;34m)\u001b[0m\u001b[0;34m\u001b[0m\u001b[0;34m\u001b[0m\u001b[0m\n\u001b[0m",
            "\u001b[0;31mAttributeError\u001b[0m: 'NoneType' object has no attribute 'group'"
          ]
        }
      ]
    },
    {
      "cell_type": "code",
      "source": [
        "pattern = re.compile(r'(ALice|Bob|Carol)\\s(eats|pets|throws)\\s(apples|cats|baseballs)',re.IGNORECASE)\n",
        "str = 'ALICE THROWS FOOTBALLS.'\n",
        "searchResult = re.search(pattern,str)\n",
        "searchResult.group()"
      ],
      "metadata": {
        "colab": {
          "base_uri": "https://localhost:8080/",
          "height": 200
        },
        "id": "GjCP3UDlfijQ",
        "outputId": "0afd1cd7-9330-401c-91d4-fc60ce40f5f7"
      },
      "execution_count": 66,
      "outputs": [
        {
          "output_type": "error",
          "ename": "AttributeError",
          "evalue": "ignored",
          "traceback": [
            "\u001b[0;31m---------------------------------------------------------------------------\u001b[0m",
            "\u001b[0;31mAttributeError\u001b[0m                            Traceback (most recent call last)",
            "\u001b[0;32m<ipython-input-66-fe7720710587>\u001b[0m in \u001b[0;36m<module>\u001b[0;34m\u001b[0m\n\u001b[1;32m      2\u001b[0m \u001b[0mstr\u001b[0m \u001b[0;34m=\u001b[0m \u001b[0;34m'ALICE THROWS FOOTBALLS.'\u001b[0m\u001b[0;34m\u001b[0m\u001b[0;34m\u001b[0m\u001b[0m\n\u001b[1;32m      3\u001b[0m \u001b[0msearchResult\u001b[0m \u001b[0;34m=\u001b[0m \u001b[0mre\u001b[0m\u001b[0;34m.\u001b[0m\u001b[0msearch\u001b[0m\u001b[0;34m(\u001b[0m\u001b[0mpattern\u001b[0m\u001b[0;34m,\u001b[0m\u001b[0mstr\u001b[0m\u001b[0;34m)\u001b[0m\u001b[0;34m\u001b[0m\u001b[0;34m\u001b[0m\u001b[0m\n\u001b[0;32m----> 4\u001b[0;31m \u001b[0msearchResult\u001b[0m\u001b[0;34m.\u001b[0m\u001b[0mgroup\u001b[0m\u001b[0;34m(\u001b[0m\u001b[0;34m)\u001b[0m\u001b[0;34m\u001b[0m\u001b[0;34m\u001b[0m\u001b[0m\n\u001b[0m",
            "\u001b[0;31mAttributeError\u001b[0m: 'NoneType' object has no attribute 'group'"
          ]
        }
      ]
    },
    {
      "cell_type": "code",
      "source": [
        "pattern = re.compile(r'(ALice|Bob|Carol)\\s(eats|pets|throws)\\s(apples|cats|baseballs)',re.IGNORECASE)\n",
        "str = 'Carol eats 7 cats.'\n",
        "searchResult = re.search(pattern,str)\n",
        "searchResult.group()"
      ],
      "metadata": {
        "colab": {
          "base_uri": "https://localhost:8080/",
          "height": 200
        },
        "id": "7Lgu-Xbgfm2P",
        "outputId": "92f374dd-74fd-4c84-c1ad-8b78e2e49964"
      },
      "execution_count": 67,
      "outputs": [
        {
          "output_type": "error",
          "ename": "AttributeError",
          "evalue": "ignored",
          "traceback": [
            "\u001b[0;31m---------------------------------------------------------------------------\u001b[0m",
            "\u001b[0;31mAttributeError\u001b[0m                            Traceback (most recent call last)",
            "\u001b[0;32m<ipython-input-67-07c59c50771c>\u001b[0m in \u001b[0;36m<module>\u001b[0;34m\u001b[0m\n\u001b[1;32m      2\u001b[0m \u001b[0mstr\u001b[0m \u001b[0;34m=\u001b[0m \u001b[0;34m'Carol eats 7 cats.'\u001b[0m\u001b[0;34m\u001b[0m\u001b[0;34m\u001b[0m\u001b[0m\n\u001b[1;32m      3\u001b[0m \u001b[0msearchResult\u001b[0m \u001b[0;34m=\u001b[0m \u001b[0mre\u001b[0m\u001b[0;34m.\u001b[0m\u001b[0msearch\u001b[0m\u001b[0;34m(\u001b[0m\u001b[0mpattern\u001b[0m\u001b[0;34m,\u001b[0m\u001b[0mstr\u001b[0m\u001b[0;34m)\u001b[0m\u001b[0;34m\u001b[0m\u001b[0;34m\u001b[0m\u001b[0m\n\u001b[0;32m----> 4\u001b[0;31m \u001b[0msearchResult\u001b[0m\u001b[0;34m.\u001b[0m\u001b[0mgroup\u001b[0m\u001b[0;34m(\u001b[0m\u001b[0;34m)\u001b[0m\u001b[0;34m\u001b[0m\u001b[0;34m\u001b[0m\u001b[0m\n\u001b[0m",
            "\u001b[0;31mAttributeError\u001b[0m: 'NoneType' object has no attribute 'group'"
          ]
        }
      ]
    },
    {
      "cell_type": "code",
      "source": [],
      "metadata": {
        "id": "aZQrZZcSfsgL"
      },
      "execution_count": null,
      "outputs": []
    }
  ]
}