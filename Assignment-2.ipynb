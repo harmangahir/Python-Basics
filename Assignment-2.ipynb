{
 "cells": [
  {
   "cell_type": "markdown",
   "id": "83ac5692",
   "metadata": {},
   "source": [
    "Question 1: What are the two values of the Boolean data type? How do you write them?"
   ]
  },
  {
   "cell_type": "markdown",
   "id": "e4a415a6",
   "metadata": {},
   "source": [
    "Answer: Boolean data type has two values such as True or False. In Binary it will be either 0 or 1.\n",
    "        syntax b = True means assignment of True value to variable b"
   ]
  },
  {
   "cell_type": "markdown",
   "id": "d8dd7e2f",
   "metadata": {},
   "source": [
    "Question 2: What are the three different types of Boolean operators?"
   ]
  },
  {
   "cell_type": "markdown",
   "id": "318d71da",
   "metadata": {},
   "source": [
    "Answer: AND operator, OR Operator, NOT Operator "
   ]
  },
  {
   "cell_type": "markdown",
   "id": "307edd40",
   "metadata": {},
   "source": [
    "Question 3: Make a list of each Boolean operator's truth tables (i.e. every possible combination of Boolean values for the operator and what it evaluate )."
   ]
  },
  {
   "cell_type": "raw",
   "id": "381f0dbd",
   "metadata": {},
   "source": [
    "Answer:\n",
    "\n",
    "AND Operator:\n",
    "\n",
    "True and True = True\n",
    "True and False = False\n",
    "False and True = False\n",
    "False and False = False\n",
    "\n",
    "\n",
    "OR Operator:\n",
    "\n",
    "True or True = True\n",
    "True or False = True\n",
    "False or True = True\n",
    "False or False = False\n",
    "\n",
    "NOT Operator\n",
    "\n",
    "Not True = False\n",
    "Not False =True"
   ]
  },
  {
   "cell_type": "markdown",
   "id": "670c5e47",
   "metadata": {},
   "source": [
    "Question 4: What are the values of the following expressions?\n",
    "(5 > 4) and (3 == 5)\n",
    "not (5 > 4)\n",
    "(5 > 4) or (3 == 5)\n",
    "not ((5 > 4) or (3 == 5))\n",
    "(True and True) and (True == False)\n",
    "(not False) or (not True)"
   ]
  },
  {
   "cell_type": "code",
   "execution_count": 3,
   "id": "09042255",
   "metadata": {},
   "outputs": [
    {
     "name": "stdout",
     "output_type": "stream",
     "text": [
      "False\n",
      "False\n",
      "True\n",
      "False\n",
      "False\n",
      "True\n"
     ]
    }
   ],
   "source": [
    "print((5 > 4) and (3 == 5))\n",
    "print(not (5 > 4))\n",
    "print((5 > 4) or (3 == 5))\n",
    "print(not ((5 > 4) or (3 == 5)))\n",
    "print((True and True) and (True == False))\n",
    "print((not False) or (not True))"
   ]
  },
  {
   "cell_type": "markdown",
   "id": "91a49aed",
   "metadata": {},
   "source": [
    "Question 5: What are the six comparison operators?"
   ]
  },
  {
   "cell_type": "markdown",
   "id": "3c5fe462",
   "metadata": {},
   "source": [
    "Answer:\n",
    "    \n",
    "    1. == (equal to operator)\n",
    "    2. <= (less than or equal to operator)\n",
    "    3. >= (greater tahn or equal to operator)\n",
    "    4. != (Not equal to operator)\n",
    "    5. > (grater than operator)\n",
    "    6. < (less than operator )"
   ]
  },
  {
   "cell_type": "markdown",
   "id": "8b590a89",
   "metadata": {},
   "source": [
    "Question 6: How do you tell the difference between the equal to and assignment operators?Describe a condition and when you would use one."
   ]
  },
  {
   "cell_type": "markdown",
   "id": "0ac4daa9",
   "metadata": {},
   "source": [
    "Answer:\n",
    "    \n",
    "    Equal to == operator will compare the equality of two operands and return boolean result accordingly where as assignment operator = store value to variable."
   ]
  },
  {
   "cell_type": "markdown",
   "id": "a8ddcae4",
   "metadata": {},
   "source": [
    "Question 7: Identify the three blocks in this code:\n",
    "spam = 0\n",
    "if spam == 10:\n",
    "print('eggs')\n",
    "if spam > 5:\n",
    "print('bacon')\n",
    "else:\n",
    "print('ham')\n",
    "print('spam')\n",
    "print('spam')"
   ]
  },
  {
   "cell_type": "code",
   "execution_count": 7,
   "id": "94f3f60d",
   "metadata": {},
   "outputs": [
    {
     "name": "stdout",
     "output_type": "stream",
     "text": [
      "ham\n",
      "spam\n",
      "spam\n"
     ]
    }
   ],
   "source": [
    "spam = 0\n",
    "if spam == 10: \n",
    "    print('eggs')  # Block -1 \n",
    "if spam > 5: \n",
    "    print('bacon') # Block -2\n",
    "else:\n",
    "    print('ham')# Block -3 starts from here\n",
    "    print('spam')\n",
    "    print('spam')# Block -3 ends here"
   ]
  },
  {
   "cell_type": "markdown",
   "id": "da0585d2",
   "metadata": {},
   "source": [
    "Question 8: Write code that prints Hello if 1 is stored in spam, prints Howdy if 2 is stored in spam, and prints Greetings! if anything else is stored in spam."
   ]
  },
  {
   "cell_type": "code",
   "execution_count": 12,
   "id": "f8fb8d0a",
   "metadata": {},
   "outputs": [
    {
     "name": "stdout",
     "output_type": "stream",
     "text": [
      "Enter value for Spam:3\n",
      "Greetings\n"
     ]
    }
   ],
   "source": [
    "spam = int(input(\"Enter value for Spam:\"))\n",
    "if spam == 1: \n",
    "    print('Hello')  # Block -1 \n",
    "elif spam == 2: \n",
    "    print('Howdy') # Block -2\n",
    "else:\n",
    "    print('Greetings')# Block -3 starts from here\n",
    "    "
   ]
  },
  {
   "cell_type": "markdown",
   "id": "1c4b3d73",
   "metadata": {},
   "source": [
    "Question 9:If your programme is stuck in an endless loop, what keys you’ll press?"
   ]
  },
  {
   "cell_type": "markdown",
   "id": "8b4b1270",
   "metadata": {},
   "source": [
    "Answer : ctrl + c"
   ]
  },
  {
   "cell_type": "markdown",
   "id": "d12ca59a",
   "metadata": {},
   "source": [
    "Question 10: How can you tell the difference between break and continue?"
   ]
  },
  {
   "cell_type": "markdown",
   "id": "5dc5f12d",
   "metadata": {},
   "source": [
    "Answer:\n",
    "    \n",
    "    The break statement will halt the next iteration of the variable once itrative variable meet some condition given in loop and exit the loop whereas unlike break statement, continue statement will skip the code follow continue statement and next iteration of loop will begin."
   ]
  },
  {
   "cell_type": "markdown",
   "id": "fff3698d",
   "metadata": {},
   "source": [
    "Question 11: In a for loop, what is the difference between range(10), range(0, 10), and range(0, 10, 1)?"
   ]
  },
  {
   "cell_type": "markdown",
   "id": "71eb5b68",
   "metadata": {},
   "source": [
    "Answer :\n",
    "    range(10) will prints number from 0 to 9 because 10 is exclude.\n",
    "    range(0,10) will prints number from 0 to 9 and explicitly mentioned starts from 0 only and 10 is exclude.\n",
    "    range(0,10,1) will prints number from 0-9 with step size 1 because 10 is exclude."
   ]
  },
  {
   "cell_type": "code",
   "execution_count": 15,
   "id": "c531b4ff",
   "metadata": {},
   "outputs": [
    {
     "name": "stdout",
     "output_type": "stream",
     "text": [
      "0\n",
      "1\n",
      "2\n",
      "3\n",
      "4\n",
      "5\n",
      "6\n",
      "7\n",
      "8\n",
      "9\n"
     ]
    }
   ],
   "source": [
    "for i in range(10):\n",
    "    print(i)"
   ]
  },
  {
   "cell_type": "code",
   "execution_count": 16,
   "id": "d8bc490c",
   "metadata": {},
   "outputs": [
    {
     "name": "stdout",
     "output_type": "stream",
     "text": [
      "0\n",
      "1\n",
      "2\n",
      "3\n",
      "4\n",
      "5\n",
      "6\n",
      "7\n",
      "8\n",
      "9\n"
     ]
    }
   ],
   "source": [
    "for i in range(0,10):\n",
    "    print(i)"
   ]
  },
  {
   "cell_type": "code",
   "execution_count": 17,
   "id": "36db4cf0",
   "metadata": {},
   "outputs": [
    {
     "name": "stdout",
     "output_type": "stream",
     "text": [
      "0\n",
      "1\n",
      "2\n",
      "3\n",
      "4\n",
      "5\n",
      "6\n",
      "7\n",
      "8\n",
      "9\n"
     ]
    }
   ],
   "source": [
    "for i in range(0,10,1):\n",
    "    print(i)"
   ]
  },
  {
   "cell_type": "markdown",
   "id": "077a72b8",
   "metadata": {},
   "source": [
    "Question 12: Write a short program that prints the numbers 1 to 10 using a for loop. Then write an equivalent program that prints the numbers 1 to 10 using a while loop."
   ]
  },
  {
   "cell_type": "code",
   "execution_count": 18,
   "id": "82043773",
   "metadata": {},
   "outputs": [
    {
     "name": "stdout",
     "output_type": "stream",
     "text": [
      "1\n",
      "2\n",
      "3\n",
      "4\n",
      "5\n",
      "6\n",
      "7\n",
      "8\n",
      "9\n",
      "10\n"
     ]
    }
   ],
   "source": [
    "# For Loop\n",
    "for i in range(1,11,1):\n",
    "    print(i)"
   ]
  },
  {
   "cell_type": "code",
   "execution_count": 6,
   "id": "936486ba",
   "metadata": {},
   "outputs": [
    {
     "name": "stdout",
     "output_type": "stream",
     "text": [
      "1\n",
      "2\n",
      "3\n",
      "4\n",
      "5\n",
      "6\n",
      "7\n",
      "8\n",
      "9\n",
      "10\n"
     ]
    }
   ],
   "source": [
    "# while Loop\n",
    "i = 1\n",
    "while (i<=10):\n",
    "    print(i)\n",
    "    i += 1"
   ]
  },
  {
   "cell_type": "markdown",
   "id": "b4db1694",
   "metadata": {},
   "source": [
    "Question 13: If you had a function named bacon() inside a module named spam, how would you call it after importing spam?"
   ]
  },
  {
   "cell_type": "markdown",
   "id": "2219745f",
   "metadata": {},
   "source": [
    "Answer: spam.bacon()"
   ]
  },
  {
   "cell_type": "code",
   "execution_count": null,
   "id": "262aa8cc",
   "metadata": {},
   "outputs": [],
   "source": []
  }
 ],
 "metadata": {
  "kernelspec": {
   "display_name": "Python 3 (ipykernel)",
   "language": "python",
   "name": "python3"
  },
  "language_info": {
   "codemirror_mode": {
    "name": "ipython",
    "version": 3
   },
   "file_extension": ".py",
   "mimetype": "text/x-python",
   "name": "python",
   "nbconvert_exporter": "python",
   "pygments_lexer": "ipython3",
   "version": "3.9.12"
  }
 },
 "nbformat": 4,
 "nbformat_minor": 5
}
