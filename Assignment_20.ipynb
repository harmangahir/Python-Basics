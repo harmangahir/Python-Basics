{
  "nbformat": 4,
  "nbformat_minor": 0,
  "metadata": {
    "colab": {
      "provenance": []
    },
    "kernelspec": {
      "name": "python3",
      "display_name": "Python 3"
    },
    "language_info": {
      "name": "python"
    }
  },
  "cells": [
    {
      "cell_type": "markdown",
      "source": [
        "**Question 1:** Set the variable test1 to the string &#39;This is a test of the emergency text system,&#39; and save test1 to a\n",
        "file named test.txt."
      ],
      "metadata": {
        "id": "lafUjRHqOAFN"
      }
    },
    {
      "cell_type": "code",
      "execution_count": null,
      "metadata": {
        "colab": {
          "base_uri": "https://localhost:8080/"
        },
        "id": "Qgys9LWBN4-a",
        "outputId": "d915a9c4-8cf3-46db-8fe3-cf2266d3b91c"
      },
      "outputs": [
        {
          "output_type": "execute_result",
          "data": {
            "text/plain": [
              "43"
            ]
          },
          "metadata": {},
          "execution_count": 14
        }
      ],
      "source": [
        "test1 = 'This is a test of the emergency text system'\n",
        "file1 = open('test.txt','w')\n",
        "file1.write(test1)"
      ]
    },
    {
      "cell_type": "markdown",
      "source": [
        "**Question 2:** Read the contents of the file test.txt into the variable test2. Is there a difference between test 1\n",
        "and test 2?"
      ],
      "metadata": {
        "id": "9iqOctQPOgue"
      }
    },
    {
      "cell_type": "code",
      "source": [
        "file2 = open('test.txt','r')\n",
        "test2 = file2.readline()\n",
        "if test1 ==  test2:\n",
        "  print('Both are same')"
      ],
      "metadata": {
        "colab": {
          "base_uri": "https://localhost:8080/"
        },
        "id": "3EO1ZHbeOVqu",
        "outputId": "1c243c8b-3072-4c03-a1c0-8f727766f215"
      },
      "execution_count": null,
      "outputs": [
        {
          "output_type": "stream",
          "name": "stdout",
          "text": [
            "Both are same\n"
          ]
        }
      ]
    },
    {
      "cell_type": "markdown",
      "source": [
        "**Question 3:** Create a CSV file called books.csv by using these lines:\n",
        "title,author,year\n",
        "The Weirdstone of Brisingamen,Alan Garner,1960\n",
        "Perdido Street Station,China Miéville,2000\n",
        "Thud!,Terry Pratchett,2005\n",
        "The Spellman Files,Lisa Lutz,2007\n",
        "Small Gods,Terry Pratchett,1992"
      ],
      "metadata": {
        "id": "7jg82wRFPert"
      }
    },
    {
      "cell_type": "code",
      "source": [
        "import csv\n",
        "\n",
        "fields = ['title', 'author', 'year']\n",
        "rows = [['The Weirdstone of Brisingamen','Alan Garner',1960 ],\n",
        "        ['Perdido Street Station','China Miéville',2000],\n",
        "        ['Thud!','Terry Pratchett',2005],\n",
        "        ['The Spellman Files','Lisa Lutz',2007],\n",
        "        ['Small Gods','Terry Pratchett',1992]\n",
        "        ]\n",
        "\n",
        "with open('books.csv', 'w') as csvfile:\n",
        "  csv_Writer = csv.writer(csvfile)\n",
        "  csv_Writer.writerow(fields)\n",
        "  csv_Writer.writerows(rows)\n",
        "  "
      ],
      "metadata": {
        "id": "MBAYSb1POpgc"
      },
      "execution_count": 52,
      "outputs": []
    },
    {
      "cell_type": "markdown",
      "source": [
        "**Question 4:** Use the sqlite3 module to create a SQLite database called books.db, and a table called books with\n",
        "these fields: title (text), author (text), and year (integer). "
      ],
      "metadata": {
        "id": "GcBNvCd-Rbem"
      }
    },
    {
      "cell_type": "code",
      "source": [
        "import sqlite3\n",
        "\n",
        "file_Name = 'books.db'\n",
        "try:\n",
        "  con = sqlite3.connect('books.db')\n",
        "  print('Database Connected')\n",
        "  \n",
        "except:\n",
        "  print('Database not Connected')\n",
        "\n",
        "cursor_Object = con.cursor()\n",
        "cursor_Object.execute('drop table if exists books')\n",
        "create_Table_Query= 'create table books(title varchar(20)not null, author varchar(30), year int)'\n",
        "\n",
        "cursor_Object.execute(create_Table_Query)\n",
        "\n",
        "con.close()"
      ],
      "metadata": {
        "colab": {
          "base_uri": "https://localhost:8080/"
        },
        "id": "btsBAMuTQXiX",
        "outputId": "2a616935-28a1-4220-da61-53a07609fc85"
      },
      "execution_count": 37,
      "outputs": [
        {
          "output_type": "stream",
          "name": "stdout",
          "text": [
            "Database Connected\n"
          ]
        }
      ]
    },
    {
      "cell_type": "markdown",
      "source": [
        "**Question 5:** Read books.csv and insert its data into the book table."
      ],
      "metadata": {
        "id": "kN7-K7XQz0Gr"
      }
    },
    {
      "cell_type": "code",
      "source": [
        "try:\n",
        "  con = sqlite3.connect('books.db')\n",
        "  print('Database Connected')\n",
        "  insert_Query = 'insert into book values(?, ?, ?)'\n",
        "  cursor_Object = con.cursor() \n",
        "  with open('books.csv','r') as infile:\n",
        "    books = csv.DictReader(infile)\n",
        "    for book in books:\n",
        "        cursor_Object.execute(insert_Query, (book['title'], book['author'], book['year']))\n",
        "   \n",
        "  con.commit()\n",
        "  con.close()\n",
        "  \n",
        "except:\n",
        "  print('Database not Connected')\n"
      ],
      "metadata": {
        "id": "Ox3BdqR3SJOa",
        "colab": {
          "base_uri": "https://localhost:8080/"
        },
        "outputId": "3b719c93-738d-408c-82ee-8a9bdd372724"
      },
      "execution_count": 53,
      "outputs": [
        {
          "output_type": "stream",
          "name": "stdout",
          "text": [
            "Database Connected\n"
          ]
        }
      ]
    },
    {
      "cell_type": "code",
      "source": [
        "try:\n",
        "  con = sqlite3.connect('books.db')\n",
        "  print('Database Connected')\n",
        "  select_Query = '''select * from book'''\n",
        "  cursor_Object = con.cursor()  \n",
        "  cursor_Object.execute(select_Query)\n",
        "  \n",
        "  result_Cursor = cursor_Object.fetchall()\n",
        "  print(result_Cursor)\n",
        "  for item in result_Cursor:\n",
        "    print(item)\n",
        "  con.commit()\n",
        "  con.close()\n",
        "  \n",
        "except:\n",
        "  print('Database not Connected')"
      ],
      "metadata": {
        "colab": {
          "base_uri": "https://localhost:8080/"
        },
        "id": "lC0Veenp0R0J",
        "outputId": "b99713ea-54be-4966-81bd-82531e6503a9"
      },
      "execution_count": 55,
      "outputs": [
        {
          "output_type": "stream",
          "name": "stdout",
          "text": [
            "Database Connected\n",
            "[('The Weirdstone of Brisingamen', 'Alan Garner', 1960), ('Perdido Street Station', 'China Miéville', 2000), ('Thud!', 'Terry Pratchett', 2005), ('The Spellman Files', 'Lisa Lutz', 2007), ('Small Gods', 'Terry Pratchett', 1992)]\n",
            "('The Weirdstone of Brisingamen', 'Alan Garner', 1960)\n",
            "('Perdido Street Station', 'China Miéville', 2000)\n",
            "('Thud!', 'Terry Pratchett', 2005)\n",
            "('The Spellman Files', 'Lisa Lutz', 2007)\n",
            "('Small Gods', 'Terry Pratchett', 1992)\n"
          ]
        }
      ]
    },
    {
      "cell_type": "markdown",
      "source": [
        "**Question 6:** Select and print the title column from the book table in alphabetical order."
      ],
      "metadata": {
        "id": "pteR2wDu3nh-"
      }
    },
    {
      "cell_type": "code",
      "source": [
        "try:\n",
        "  con = sqlite3.connect('books.db')\n",
        "  print('Database Connected')\n",
        "  select_Query = '''select title from book order by title'''\n",
        "  cursor_Object = con.cursor()  \n",
        "  cursor_Object.execute(select_Query)\n",
        "  \n",
        "  result_Cursor = cursor_Object.fetchall()\n",
        "  print(result_Cursor)\n",
        "  for item in result_Cursor:\n",
        "    print(item)\n",
        "  con.commit()\n",
        "  con.close()\n",
        "  \n",
        "except:\n",
        "  print('Database not Connected')"
      ],
      "metadata": {
        "colab": {
          "base_uri": "https://localhost:8080/"
        },
        "id": "-cRvnMto1q0R",
        "outputId": "cba63cb3-b0e7-4f19-bdc3-4b4b411f45f2"
      },
      "execution_count": 56,
      "outputs": [
        {
          "output_type": "stream",
          "name": "stdout",
          "text": [
            "Database Connected\n",
            "[('Perdido Street Station',), ('Small Gods',), ('The Spellman Files',), ('The Weirdstone of Brisingamen',), ('Thud!',)]\n",
            "('Perdido Street Station',)\n",
            "('Small Gods',)\n",
            "('The Spellman Files',)\n",
            "('The Weirdstone of Brisingamen',)\n",
            "('Thud!',)\n"
          ]
        }
      ]
    },
    {
      "cell_type": "markdown",
      "source": [
        "**Question 7:** From the book table, select and print all columns in the order of publication."
      ],
      "metadata": {
        "id": "N_ZiFx-p34Zh"
      }
    },
    {
      "cell_type": "code",
      "source": [
        "try:\n",
        "  con = sqlite3.connect('books.db')\n",
        "  print('Database Connected')\n",
        "  select_Query = '''select * from book order by year'''\n",
        "  cursor_Object = con.cursor()  \n",
        "  cursor_Object.execute(select_Query)\n",
        "  \n",
        "  result_Cursor = cursor_Object.fetchall()\n",
        "  print(result_Cursor)\n",
        "  for item in result_Cursor:\n",
        "    print(item)\n",
        "  con.commit()\n",
        "  con.close()\n",
        "  \n",
        "except:\n",
        "  print('Database not Connected')"
      ],
      "metadata": {
        "colab": {
          "base_uri": "https://localhost:8080/"
        },
        "id": "a9_Gwcx93yDR",
        "outputId": "5a0f8e7c-f682-48f8-c777-f561e11ecbb5"
      },
      "execution_count": 57,
      "outputs": [
        {
          "output_type": "stream",
          "name": "stdout",
          "text": [
            "Database Connected\n",
            "[('The Weirdstone of Brisingamen', 'Alan Garner', 1960), ('Small Gods', 'Terry Pratchett', 1992), ('Perdido Street Station', 'China Miéville', 2000), ('Thud!', 'Terry Pratchett', 2005), ('The Spellman Files', 'Lisa Lutz', 2007)]\n",
            "('The Weirdstone of Brisingamen', 'Alan Garner', 1960)\n",
            "('Small Gods', 'Terry Pratchett', 1992)\n",
            "('Perdido Street Station', 'China Miéville', 2000)\n",
            "('Thud!', 'Terry Pratchett', 2005)\n",
            "('The Spellman Files', 'Lisa Lutz', 2007)\n"
          ]
        }
      ]
    },
    {
      "cell_type": "markdown",
      "source": [
        "**Question 8:** Use the sqlalchemy module to connect to the sqlite3 database books.db that you just made in\n",
        "exercise 6."
      ],
      "metadata": {
        "id": "jqib8Ykw4Fjc"
      }
    },
    {
      "cell_type": "code",
      "source": [
        "pip install sqlalchemy"
      ],
      "metadata": {
        "colab": {
          "base_uri": "https://localhost:8080/"
        },
        "id": "wlLbts1N4CYc",
        "outputId": "7ac10f8d-4760-43f5-e732-30f68b125180"
      },
      "execution_count": 42,
      "outputs": [
        {
          "output_type": "stream",
          "name": "stdout",
          "text": [
            "Looking in indexes: https://pypi.org/simple, https://us-python.pkg.dev/colab-wheels/public/simple/\n",
            "Requirement already satisfied: sqlalchemy in /usr/local/lib/python3.7/dist-packages (1.4.42)\n",
            "Requirement already satisfied: importlib-metadata in /usr/local/lib/python3.7/dist-packages (from sqlalchemy) (4.13.0)\n",
            "Requirement already satisfied: greenlet!=0.4.17 in /usr/local/lib/python3.7/dist-packages (from sqlalchemy) (1.1.3.post0)\n",
            "Requirement already satisfied: zipp>=0.5 in /usr/local/lib/python3.7/dist-packages (from importlib-metadata->sqlalchemy) (3.9.0)\n",
            "Requirement already satisfied: typing-extensions>=3.6.4 in /usr/local/lib/python3.7/dist-packages (from importlib-metadata->sqlalchemy) (4.1.1)\n"
          ]
        }
      ]
    },
    {
      "cell_type": "code",
      "source": [
        "import sqlalchemy\n",
        "sqlalchemy.__version__"
      ],
      "metadata": {
        "colab": {
          "base_uri": "https://localhost:8080/",
          "height": 35
        },
        "id": "L3KdfDH-4aMB",
        "outputId": "fe21d8d0-d8e4-4a7b-97c4-a66d241dc2ea"
      },
      "execution_count": 45,
      "outputs": [
        {
          "output_type": "execute_result",
          "data": {
            "text/plain": [
              "'1.4.42'"
            ],
            "application/vnd.google.colaboratory.intrinsic+json": {
              "type": "string"
            }
          },
          "metadata": {},
          "execution_count": 45
        }
      ]
    },
    {
      "cell_type": "code",
      "source": [
        "engine = sqlalchemy.create_engine(\"sqlite:///books.db\")\n",
        "rows = engine.execute('select * from book')\n",
        "for item in rows:\n",
        "    print(item)"
      ],
      "metadata": {
        "colab": {
          "base_uri": "https://localhost:8080/"
        },
        "id": "_cRCLB1n4hia",
        "outputId": "9b16d2ad-1c5f-464c-db4c-790ee6d71415"
      },
      "execution_count": 58,
      "outputs": [
        {
          "output_type": "stream",
          "name": "stdout",
          "text": [
            "('The Weirdstone of Brisingamen', 'Alan Garner', 1960)\n",
            "('Perdido Street Station', 'China Miéville', 2000)\n",
            "('Thud!', 'Terry Pratchett', 2005)\n",
            "('The Spellman Files', 'Lisa Lutz', 2007)\n",
            "('Small Gods', 'Terry Pratchett', 1992)\n"
          ]
        }
      ]
    },
    {
      "cell_type": "markdown",
      "source": [
        "**Question 9:** Install the Redis server and the Python redis library (pip install redis) on your computer. Create a\n",
        "Redis hash called test with the fields count (1) and name (&#39;Fester Bestertester&#39;). Print all the fields for\n",
        "test."
      ],
      "metadata": {
        "id": "gdiAOE0v5ZBn"
      }
    },
    {
      "cell_type": "code",
      "source": [
        "pip install redis"
      ],
      "metadata": {
        "colab": {
          "base_uri": "https://localhost:8080/"
        },
        "id": "xGJPMJcK5N22",
        "outputId": "297f118e-c25d-4f62-a102-00c0ed22903b"
      },
      "execution_count": 48,
      "outputs": [
        {
          "output_type": "stream",
          "name": "stdout",
          "text": [
            "Looking in indexes: https://pypi.org/simple, https://us-python.pkg.dev/colab-wheels/public/simple/\n",
            "Collecting redis\n",
            "  Downloading redis-4.3.4-py3-none-any.whl (246 kB)\n",
            "\u001b[K     |████████████████████████████████| 246 kB 4.3 MB/s \n",
            "\u001b[?25hCollecting deprecated>=1.2.3\n",
            "  Downloading Deprecated-1.2.13-py2.py3-none-any.whl (9.6 kB)\n",
            "Requirement already satisfied: packaging>=20.4 in /usr/local/lib/python3.7/dist-packages (from redis) (21.3)\n",
            "Requirement already satisfied: importlib-metadata>=1.0 in /usr/local/lib/python3.7/dist-packages (from redis) (4.13.0)\n",
            "Requirement already satisfied: async-timeout>=4.0.2 in /usr/local/lib/python3.7/dist-packages (from redis) (4.0.2)\n",
            "Requirement already satisfied: typing-extensions in /usr/local/lib/python3.7/dist-packages (from redis) (4.1.1)\n",
            "Requirement already satisfied: wrapt<2,>=1.10 in /usr/local/lib/python3.7/dist-packages (from deprecated>=1.2.3->redis) (1.14.1)\n",
            "Requirement already satisfied: zipp>=0.5 in /usr/local/lib/python3.7/dist-packages (from importlib-metadata>=1.0->redis) (3.9.0)\n",
            "Requirement already satisfied: pyparsing!=3.0.5,>=2.0.2 in /usr/local/lib/python3.7/dist-packages (from packaging>=20.4->redis) (3.0.9)\n",
            "Installing collected packages: deprecated, redis\n",
            "Successfully installed deprecated-1.2.13 redis-4.3.4\n"
          ]
        }
      ]
    },
    {
      "cell_type": "markdown",
      "source": [
        "import redis\n",
        "\n",
        "con = redis.Redis()\n",
        "\n",
        "con.delete('test')\n",
        "\n",
        "con.hmset('test', {'count': 1, 'name': 'Fester Bestertester'})\n",
        "\n",
        "con.hgetall('test')"
      ],
      "metadata": {
        "id": "G6qvKcq68v1Z"
      }
    },
    {
      "cell_type": "markdown",
      "source": [
        "**Question 10:** Increment the count field of test and print it."
      ],
      "metadata": {
        "id": "RrgxCEaV82mK"
      }
    },
    {
      "cell_type": "markdown",
      "source": [
        "con.hincrby('test','count', 3)"
      ],
      "metadata": {
        "id": "MY_atuXA9AJm"
      }
    },
    {
      "cell_type": "code",
      "source": [],
      "metadata": {
        "id": "noorX8AV5lCh"
      },
      "execution_count": null,
      "outputs": []
    }
  ]
}