{
  "nbformat": 4,
  "nbformat_minor": 0,
  "metadata": {
    "colab": {
      "provenance": []
    },
    "kernelspec": {
      "name": "python3",
      "display_name": "Python 3"
    },
    "language_info": {
      "name": "python"
    }
  },
  "cells": [
    {
      "cell_type": "markdown",
      "source": [
        "Question 1: What advantages do Excel spreadsheets have over CSV spreadsheets?\n",
        "\n",
        "Answer: \n",
        "\n",
        "\n",
        "*   Excel provides facility to enter any type of data such as number, string,char, float etc\n",
        "*   Apart from alphanumeric, excel too provides facilty to draw graph, pivot table. \n",
        "*   One can perform operations on excel data either row wise or column wise\n",
        "*   Excel give liverage to perform analysis such as conditional formatting, autosum, Sort, Filter and many more.\n",
        "*   Mathematical/Trignimetric/statistical functions can perform on data.\n",
        "*   Excel cell width/height can easily be adjustable\n",
        "\n",
        "\n",
        "\n",
        "\n"
      ],
      "metadata": {
        "id": "L5DSmr92z9XA"
      }
    },
    {
      "cell_type": "markdown",
      "source": [
        "Question 2: What do you pass to csv.reader() and csv.writer() to create reader and writer objects?\n",
        "\n",
        "Answer: File object"
      ],
      "metadata": {
        "id": "orTI9Ygl1Wda"
      }
    },
    {
      "cell_type": "code",
      "source": [
        "import csv\n",
        "\n",
        "fields = ['UID','Name','Course','Batch']\n",
        "rows = [['21MCA1001','Harmanjeet Singh','MCA',2021],\n",
        "        ['21MCA1002','Sartaaj Singh','MCA',2021],\n",
        "        ['21MCA1003','Avlyn Kaur','MCA',2021],\n",
        "        ['21MCA1004','Jimps','MCA',2021],\n",
        "        ]\n",
        "with open('sample.csv', mode='w') as file:\n",
        "  csvFileWriter = csv.writer(file)\n",
        "  csvFileWriter.writerow(fields)\n",
        "  csvFileWriter.writerow(rows)\n"
      ],
      "metadata": {
        "id": "sLsADJgh1R7g"
      },
      "execution_count": 2,
      "outputs": []
    },
    {
      "cell_type": "code",
      "source": [
        "import csv\n",
        "\n",
        "with open('sample.csv', mode='r') as file:\n",
        "  csvFileReader = csv.reader(file)\n",
        "  for lines in csvFileReader:\n",
        "    print(lines)"
      ],
      "metadata": {
        "colab": {
          "base_uri": "https://localhost:8080/"
        },
        "id": "XGOivDQW2EVX",
        "outputId": "64ed7afd-0662-4b78-975c-8611690845f0"
      },
      "execution_count": 3,
      "outputs": [
        {
          "output_type": "stream",
          "name": "stdout",
          "text": [
            "['UID', 'Name', 'Course', 'Batch']\n",
            "[\"['21MCA1001', 'Harmanjeet Singh', 'MCA', 2021]\", \"['21MCA1002', 'Sartaaj Singh', 'MCA', 2021]\", \"['21MCA1003', 'Avlyn Kaur', 'MCA', 2021]\", \"['21MCA1004', 'Jimps', 'MCA', 2021]\"]\n"
          ]
        }
      ]
    },
    {
      "cell_type": "markdown",
      "source": [
        "Question 3: What modes do File objects for reader and writer objects need to be opened in?\n",
        "\n",
        "Answer: For file reader, one needs to open reader objects in 'read-binary' ('rb') and for file writer, one needs to open writer object in 'write-binary' ('wb')"
      ],
      "metadata": {
        "id": "mIYJMT-c3F4q"
      }
    },
    {
      "cell_type": "markdown",
      "source": [
        "Question 4: What method takes a list argument and writes it to a CSV file?\n",
        "\n",
        "Answer: writerow() method will used to take list argument."
      ],
      "metadata": {
        "id": "BjbN_u8o3qp3"
      }
    },
    {
      "cell_type": "code",
      "source": [
        "with open('sample.csv',mode='w') as file:\n",
        "  fileWriter = csv.writer(file)\n",
        "  csv.writer(file).writerow(['21MCA1001','Harman','MCA',2021])\n",
        "\n",
        "with open('sample.csv',mode='r') as file:\n",
        "  fileReader = csv.reader(file)\n",
        "  for lines in fileReader:\n",
        "    print(lines)"
      ],
      "metadata": {
        "colab": {
          "base_uri": "https://localhost:8080/"
        },
        "id": "2ac2i1zj27pZ",
        "outputId": "fbd40ba1-b847-49cc-b2ce-9cc94d0a30d8"
      },
      "execution_count": 5,
      "outputs": [
        {
          "output_type": "stream",
          "name": "stdout",
          "text": [
            "['21MCA1001', 'Harman', 'MCA', '2021']\n"
          ]
        }
      ]
    },
    {
      "cell_type": "markdown",
      "source": [
        "Question 5: What do the keyword arguments delimiter and line terminator do?\n",
        "\n",
        "Answer: Delimiter used for separate cells in a row where as line terminator used to separate rows."
      ],
      "metadata": {
        "id": "9_y3YC1z4mWy"
      }
    },
    {
      "cell_type": "code",
      "source": [
        "import csv\n",
        "fileWriter = open('sample.csv', 'w', newline='')\n",
        "csvWriter = csv.writer(fileWriter, delimiter='\\t', lineterminator='\\n\\n')\n"
      ],
      "metadata": {
        "id": "HHGjLtnZ4MTZ"
      },
      "execution_count": 8,
      "outputs": []
    },
    {
      "cell_type": "markdown",
      "source": [
        "Question 6: What function takes a string of JSON data and returns a Python data structure?\n",
        "\n",
        "Answer: To load a valid JSON string into a Python dictionary, use the json.loads() function. The primary purpose of this module is to convert JSON data stored in a native string, byte, or byte array to a dictionary in Python."
      ],
      "metadata": {
        "id": "EX-yk71Y5VGf"
      }
    },
    {
      "cell_type": "code",
      "source": [
        "import json\n",
        "str = \"\"\"{\n",
        "    \"UID\": \"21MCA2001\",\n",
        "    \"Name\": \"Harmanjeet Singh\",\n",
        "    \"Email\": \"harmangahir@gmail.com\",\n",
        "    \"Courses\":[\"ML\", \"DL\", \"Big Data\"]\n",
        "    }\"\"\"\n",
        "\n",
        "jsonData = json.loads(str)\n",
        "print(jsonData)"
      ],
      "metadata": {
        "colab": {
          "base_uri": "https://localhost:8080/"
        },
        "id": "A14ltazk4yOb",
        "outputId": "61515c56-58c8-44ea-b2aa-3cf5029cc1d8"
      },
      "execution_count": 9,
      "outputs": [
        {
          "output_type": "stream",
          "name": "stdout",
          "text": [
            "{'UID': '21MCA2001', 'Name': 'Harmanjeet Singh', 'Email': 'harmangahir@gmail.com', 'Courses': ['ML', 'DL', 'Big Data']}\n"
          ]
        }
      ]
    },
    {
      "cell_type": "markdown",
      "source": [
        "Question 7: What function takes a Python data structure and returns a string of JSON data?\n",
        "\n",
        "Answer: One can use the json.dumps() method to serialise certain Python objects to the json format. It may need to establish a dictionary of data one desire to expose before serialising to JSON, since not all objects are convertible."
      ],
      "metadata": {
        "id": "1PwlFoxm6d4G"
      }
    },
    {
      "cell_type": "code",
      "source": [
        "import json\n",
        "dict ={'UID':'21MCA1001', 'Name':'Harmanjeet Singh','Email':'harmangahir@gmail.com','Courses':['ML','DL','Big Data']}\n",
        "\n",
        "json_string = json.dumps(dict)\n",
        "print(json_string)"
      ],
      "metadata": {
        "colab": {
          "base_uri": "https://localhost:8080/"
        },
        "id": "OC5VItWK6ZfL",
        "outputId": "15e34bfb-05f5-4ab3-db42-74873cc05966"
      },
      "execution_count": 13,
      "outputs": [
        {
          "output_type": "stream",
          "name": "stdout",
          "text": [
            "{\"UID\": \"21MCA1001\", \"Name\": \"Harmanjeet Singh\", \"Email\": \"harmangahir@gmail.com\", \"Courses\": [\"ML\", \"DL\", \"Big Data\"]}\n"
          ]
        }
      ]
    },
    {
      "cell_type": "code",
      "source": [],
      "metadata": {
        "id": "DfwA7S9J7YkI"
      },
      "execution_count": null,
      "outputs": []
    }
  ]
}