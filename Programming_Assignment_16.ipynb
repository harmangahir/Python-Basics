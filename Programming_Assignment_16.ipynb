{
  "nbformat": 4,
  "nbformat_minor": 0,
  "metadata": {
    "colab": {
      "provenance": []
    },
    "kernelspec": {
      "name": "python3",
      "display_name": "Python 3"
    },
    "language_info": {
      "name": "python"
    }
  },
  "cells": [
    {
      "cell_type": "markdown",
      "source": [
        "Question1. Write a function that stutters a word as if someone is struggling to read it. The\n",
        "first two letters are repeated twice with an ellipsis ... and space after each, and then the\n",
        "word is pronounced with a question mark ?.\n",
        "Examples\n",
        "stutter(&quot;incredible&quot;) ➞ &quot;in... in... incredible?&quot;\n",
        "stutter(&quot;enthusiastic&quot;) ➞ &quot;en... en... enthusiastic?&quot;\n",
        "stutter(&quot;outstanding&quot;) ➞ &quot;ou... ou... outstanding?&quot;\n",
        "\n",
        "Hint :- Assume all input is in lower case and at least two characters long."
      ],
      "metadata": {
        "id": "I7-o9nDgVzuJ"
      }
    },
    {
      "cell_type": "code",
      "execution_count": 6,
      "metadata": {
        "colab": {
          "base_uri": "https://localhost:8080/"
        },
        "id": "HPmma6GVVf1C",
        "outputId": "cd28361c-c262-4763-9f7f-60f720064465"
      },
      "outputs": [
        {
          "output_type": "stream",
          "name": "stdout",
          "text": [
            "Enter a string:enthusiastic\n",
            "en...en...enthusiastic?\n"
          ]
        }
      ],
      "source": [
        "def stutters(input_string):\n",
        "  if len(input_string) > 2:\n",
        "    return input_string[:2] +'...'+ input_string[:2] +'...'+input_string+'?'\n",
        "input_string = input('Enter a string:').lower()\n",
        "\n",
        "print(stutters(input_string))\n",
        "\n",
        "  \n"
      ]
    },
    {
      "cell_type": "markdown",
      "source": [
        "Question 2.Create a function that takes an angle in radians and returns the corresponding\n",
        "angle in degrees rounded to one decimal place.\n",
        "Examples\n",
        "radians_to_degrees(1) ➞ 57.3\n",
        "radians_to_degrees(20) ➞ 1145.9\n",
        "radians_to_degrees(50) ➞ 2864.8"
      ],
      "metadata": {
        "id": "5BKuXbtNYn_5"
      }
    },
    {
      "cell_type": "code",
      "source": [
        "import math\n",
        "def radians_to_degree(angle_in_radian):\n",
        "  return angle_in_radian * 180/3.14\n",
        "\n",
        "angle_in_radian = int(input('Enter angle in radian:'))\n",
        "print('Angle in degree:',round(radians_to_degree(angle_in_radian),1))\n"
      ],
      "metadata": {
        "colab": {
          "base_uri": "https://localhost:8080/"
        },
        "id": "eg9lbrM0YF_E",
        "outputId": "aa78920d-a57f-46b8-d9d0-487fda227d95"
      },
      "execution_count": 16,
      "outputs": [
        {
          "output_type": "stream",
          "name": "stdout",
          "text": [
            "Enter angle in radian:1\n",
            "Angle in degree: 57.3\n"
          ]
        }
      ]
    },
    {
      "cell_type": "markdown",
      "source": [
        "Question 3. In this challenge, establish if a given integer num is a Curzon number. If 1 plus\n",
        "2 elevated to num is exactly divisible by 1 plus 2 multiplied by num, then num is a Curzon\n",
        "number.\n",
        "Given a non-negative integer num, implement a function that returns True if num is a Curzon\n",
        "number, or False otherwise.\n",
        "Examples\n",
        "is_curzon(5) ➞ True\n",
        "# 2 ** 5 + 1 = 33\n",
        "# 2 * 5 + 1 = 11\n",
        "# 33 is a multiple of 11\n",
        "is_curzon(10) ➞ False\n",
        "# 2 ** 10 + 1 = 1025\n",
        "# 2 * 10 + 1 = 21\n",
        "# 1025 is not a multiple of 21\n",
        "is_curzon(14) ➞ True\n",
        "# 2 ** 14 + 1 = 16385\n",
        "# 2 * 14 + 1 = 29\n",
        "# 16385 is a multiple of 29"
      ],
      "metadata": {
        "id": "b6MU63qPZ_su"
      }
    },
    {
      "cell_type": "code",
      "source": [
        "def is_curzon(number):\n",
        "  square_number = 2 ** number + 1\n",
        "  multiple_number = 2 * number + 1\n",
        "  if square_number % multiple_number==0:\n",
        "    return True\n",
        "\n",
        "number = int(input('Enter a number:'))\n",
        "status = is_curzon(number)\n",
        "\n",
        "if status:\n",
        "  print('Number is curzon')\n",
        "else:\n",
        "  print('Number is not curzon')\n",
        "\n",
        "\n",
        "\n"
      ],
      "metadata": {
        "colab": {
          "base_uri": "https://localhost:8080/"
        },
        "id": "-URrAl6cZc9e",
        "outputId": "f42182cc-95a5-422a-dbb4-9d281a0e9531"
      },
      "execution_count": 21,
      "outputs": [
        {
          "output_type": "stream",
          "name": "stdout",
          "text": [
            "Enter a number:14\n",
            "Number is curzon\n"
          ]
        }
      ]
    },
    {
      "cell_type": "markdown",
      "source": [
        "Question 4.Given the side length x find the area of a hexagon.\n",
        "\n",
        "Examples\n",
        "area_of_hexagon(1) ➞ 2.6\n",
        "area_of_hexagon(2) ➞ 10.4\n",
        "area_of_hexagon(3) ➞ 23.4"
      ],
      "metadata": {
        "id": "x4W0v7cRcpcq"
      }
    },
    {
      "cell_type": "code",
      "source": [
        "import math\n",
        "def area_of_hexagon(number):\n",
        "  return math.floor(3 * math.sqrt(3) * number*number)/2\n",
        "\n",
        "number = int(input('Enter a number:'))\n",
        "print(area_of_hexagon(number))"
      ],
      "metadata": {
        "colab": {
          "base_uri": "https://localhost:8080/"
        },
        "id": "Y51FH-g7cJei",
        "outputId": "5edaa546-c411-4d28-ea3b-2157007c3757"
      },
      "execution_count": 24,
      "outputs": [
        {
          "output_type": "stream",
          "name": "stdout",
          "text": [
            "Enter a number:3\n",
            "23.0\n"
          ]
        }
      ]
    },
    {
      "cell_type": "markdown",
      "source": [
        "Question 5. Create a function that returns a base-2 (binary) representation of a base-10\n",
        "(decimal) string number. To convert is simple: ((2) means base-2 and (10) means base-10)\n",
        "010101001(2) = 1 + 8 + 32 + 128.\n",
        "Going from right to left, the value of the most right bit is 1, now from that every bit to the left\n",
        "will be x2 the value, value of an 8 bit binary numbers are (256, 128, 64, 32, 16, 8, 4, 2, 1).\n",
        "Examples\n",
        "binary(1) ➞ &quot;1&quot;\n",
        "# 1*1 = 1\n",
        "binary(5) ➞ &quot;101&quot;\n",
        "# 1*1 + 1*4 = 5\n",
        "binary(10) ➞ &quot;1010&quot;\n",
        "# 1*2 + 1*8 = 10"
      ],
      "metadata": {
        "id": "UXZtq1Q_dOw_"
      }
    },
    {
      "cell_type": "code",
      "source": [
        "def binary(number):\n",
        "  list1=[]\n",
        "  while(number > 0):\n",
        "    reminder = number % 2\n",
        "    number = number // 2\n",
        "    list1.append(reminder)\n",
        "  return list1\n",
        "\n",
        "result_list = []\n",
        "number = int(input('Enter a number:'))\n",
        "result_list = binary(number)\n",
        "result_list.reverse()\n",
        "\n",
        "result_str=\"\"\n",
        "\n",
        "result_str = ' '.join([str(item)for item in result_list])\n",
        "\n",
        "print(result_str)\n"
      ],
      "metadata": {
        "colab": {
          "base_uri": "https://localhost:8080/"
        },
        "id": "l57gBnhpdBxU",
        "outputId": "cbda40d1-7b5d-454b-877c-e90981a1e599"
      },
      "execution_count": 38,
      "outputs": [
        {
          "output_type": "stream",
          "name": "stdout",
          "text": [
            "Enter a number:10\n",
            "1 0 1 0\n"
          ]
        }
      ]
    },
    {
      "cell_type": "code",
      "source": [],
      "metadata": {
        "id": "PBFwNhSzeSzg"
      },
      "execution_count": 26,
      "outputs": []
    }
  ]
}