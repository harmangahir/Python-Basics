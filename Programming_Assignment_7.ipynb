{
  "nbformat": 4,
  "nbformat_minor": 0,
  "metadata": {
    "colab": {
      "provenance": []
    },
    "kernelspec": {
      "name": "python3",
      "display_name": "Python 3"
    },
    "language_info": {
      "name": "python"
    }
  },
  "cells": [
    {
      "cell_type": "markdown",
      "source": [
        "1. Write a Python Program to find sum of array?"
      ],
      "metadata": {
        "id": "U-scYUeV2YbN"
      }
    },
    {
      "cell_type": "code",
      "execution_count": null,
      "metadata": {
        "colab": {
          "base_uri": "https://localhost:8080/"
        },
        "id": "01aMU8XC2RXH",
        "outputId": "9fee6cad-c674-4e98-90f4-0da22c72b611"
      },
      "outputs": [
        {
          "output_type": "stream",
          "name": "stdout",
          "text": [
            "39\n"
          ]
        }
      ],
      "source": [
        "sum = 0\n",
        "list1 = [2,6,3,7,9,2,10]\n",
        "for item in range(0,len(list1)):\n",
        "  sum += list1[item]\n",
        "print(sum)"
      ]
    },
    {
      "cell_type": "markdown",
      "source": [
        "2. Write a Python Program to find largest element in an array?"
      ],
      "metadata": {
        "id": "0WaZiDSN2bEb"
      }
    },
    {
      "cell_type": "code",
      "source": [
        "def cal_maximum(list1, maximum):\n",
        "  for item in range(0,len(list1)):\n",
        "    if maximum < list1[item]:\n",
        "      maximum = list1[item]\n",
        "  return maximum\n",
        "\n",
        "\n",
        "list1 = [2,6,3,7,9,2,10]\n",
        "print('Largest element from an array {} is {}'.format(list1,(cal_maximum(list1,maximum = list1[0]))))\n",
        "      "
      ],
      "metadata": {
        "colab": {
          "base_uri": "https://localhost:8080/"
        },
        "id": "QdKvvoNc2bmM",
        "outputId": "111a006b-b812-479b-801a-96c59f5b4a1e"
      },
      "execution_count": null,
      "outputs": [
        {
          "output_type": "stream",
          "name": "stdout",
          "text": [
            "Largest element from an array [2, 6, 3, 7, 9, 2, 10] is 10\n"
          ]
        }
      ]
    },
    {
      "cell_type": "markdown",
      "source": [
        "3. Write a Python Program for array rotation?"
      ],
      "metadata": {
        "id": "1juhcRh32cxU"
      }
    },
    {
      "cell_type": "code",
      "source": [
        "def func_left_rotate(list1, rotator, length_array):\n",
        "    rotator = rotator % length_array\n",
        "    g_c_d = gcd(rotator, length_array)\n",
        "    for i in range(g_c_d):\n",
        " \n",
        "      \n",
        "        temp = list1[i]\n",
        "        j = i\n",
        "        while 1:\n",
        "            k = j + rotator\n",
        "            if k >= n:\n",
        "                k = k - length_array\n",
        "            if k == i:\n",
        "                break\n",
        "            list1[j] = list1[k]\n",
        "            j = k\n",
        "        list1[j] = temp\n",
        " \n",
        " \n",
        "def printArray(list1, size):\n",
        "    for i in range(size):\n",
        "        print(\"% d\" % list1[i], end=\" \")\n",
        " \n",
        " \n",
        "def gcd(a, b):\n",
        "    if b == 0:\n",
        "        return a\n",
        "    else:\n",
        "        return gcd(b, a % b)\n",
        " \n",
        "list1 = [1, 2, 3, 4, 5, 6, 7]\n",
        "length_array = len(list1)\n",
        "rotator = int(input('Enter rotator number:'))\n",
        "func_left_rotate(list1, rotator, length_array)\n",
        "printArray(list1, length_array)\n",
        " \n"
      ],
      "metadata": {
        "colab": {
          "base_uri": "https://localhost:8080/"
        },
        "id": "tVbOLh6R2dSk",
        "outputId": "7f748350-06da-4689-c3ba-6ed80d93e807"
      },
      "execution_count": null,
      "outputs": [
        {
          "output_type": "stream",
          "name": "stdout",
          "text": [
            "Enter rotator number:3\n",
            " 4  5  6  7  1  2  3 "
          ]
        }
      ]
    },
    {
      "cell_type": "markdown",
      "source": [
        "4. Write a Python Program to Split the array and add the first part to the end?"
      ],
      "metadata": {
        "id": "cEmbmu082mO6"
      }
    },
    {
      "cell_type": "code",
      "source": [
        "import math\n",
        "source_list = [1,2,3,4,5,6,7,8]\n",
        "target_list = []\n",
        "mid = math.ceil(len(source_list)//2)\n",
        "\n",
        "list1 = source_list[:mid]\n",
        "list2 = source_list[mid:]\n",
        "\n",
        "target_list.extend(list2)\n",
        "target_list.extend(list1)\n",
        "\n",
        "print('Original List:',source_list)\n",
        "print('Result List:',target_list)"
      ],
      "metadata": {
        "colab": {
          "base_uri": "https://localhost:8080/"
        },
        "id": "-QPPtdYT2mvb",
        "outputId": "56a8ae6c-165c-4596-9343-0f8faec5d87b"
      },
      "execution_count": 11,
      "outputs": [
        {
          "output_type": "stream",
          "name": "stdout",
          "text": [
            "Original List: [1, 2, 3, 4, 5, 6, 7, 8]\n",
            "Result List: [5, 6, 7, 8, 1, 2, 3, 4]\n"
          ]
        }
      ]
    },
    {
      "cell_type": "markdown",
      "source": [
        "5. Write a Python Program to check if given array is Monotonic?"
      ],
      "metadata": {
        "id": "f7HLMvOS2n5l"
      }
    },
    {
      "cell_type": "code",
      "source": [
        "def check_monotonic(source_list):\n",
        "  ascending = True\n",
        "  descending = True\n",
        "  for item in range(0, len(source_list)-1):\n",
        "    if source_list[item] < source_list[item+1]:\n",
        "      ascending = False\n",
        "\n",
        "  for item in range(0, len(source_list)-1):\n",
        "    if source_list[item] > source_list[item+1]:\n",
        "      descending = False\n",
        "\n",
        "  return ascending or descending\n",
        "\n",
        "source_list = [1,2,3,4,5,6,7,8]\n",
        "status = check_monotonic(source_list)\n",
        "if status:\n",
        "  print('Array is monotonic')\n",
        "else:\n",
        "  print('Array is not monotonic')\n"
      ],
      "metadata": {
        "colab": {
          "base_uri": "https://localhost:8080/"
        },
        "id": "O98CQ7X-2odQ",
        "outputId": "62e4b59b-49d1-4b3a-9a30-62162c0fac44"
      },
      "execution_count": 24,
      "outputs": [
        {
          "output_type": "stream",
          "name": "stdout",
          "text": [
            "Array is monotonic\n"
          ]
        }
      ]
    },
    {
      "cell_type": "code",
      "source": [],
      "metadata": {
        "id": "jZ0KG3TkdDt0"
      },
      "execution_count": null,
      "outputs": []
    }
  ]
}