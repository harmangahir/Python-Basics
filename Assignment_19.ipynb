{
  "nbformat": 4,
  "nbformat_minor": 0,
  "metadata": {
    "colab": {
      "provenance": []
    },
    "kernelspec": {
      "name": "python3",
      "display_name": "Python 3"
    },
    "language_info": {
      "name": "python"
    }
  },
  "cells": [
    {
      "cell_type": "markdown",
      "source": [
        "**Question 1:** Make a class called Thing with no contents and print it. Then, create an object called example\n",
        "from this class and also print it. Are the printed values the same or different?"
      ],
      "metadata": {
        "id": "eFRB7ACv-ixw"
      }
    },
    {
      "cell_type": "code",
      "execution_count": null,
      "metadata": {
        "colab": {
          "base_uri": "https://localhost:8080/"
        },
        "id": "rC4ZM9WK-cOE",
        "outputId": "b6195ade-b232-4b46-abfb-4acff8b36e06"
      },
      "outputs": [
        {
          "output_type": "stream",
          "name": "stdout",
          "text": [
            "<class '__main__.Thing'>\n",
            "<__main__.Thing object at 0x7fe9b97c6c90>\n"
          ]
        }
      ],
      "source": [
        "class Thing:\n",
        "  pass\n",
        "\n",
        "print(Thing)\n",
        "\n",
        "example = Thing()\n",
        "\n",
        "print(example)"
      ]
    },
    {
      "cell_type": "markdown",
      "source": [
        "From above, it has been observed that printed values are not same"
      ],
      "metadata": {
        "id": "NElhj6Ve_LNy"
      }
    },
    {
      "cell_type": "markdown",
      "source": [
        "**Question 2:** Create a new class called Thing2 and add the value &#39;abc&#39; to the letters class attribute. Letters\n",
        "should be printed."
      ],
      "metadata": {
        "id": "8VfUs8Zv_Uam"
      }
    },
    {
      "cell_type": "code",
      "source": [
        "class Things2:\n",
        "  attribute = 'abc'\n",
        "\n",
        "object = Things2()\n",
        "print(object.attribute)# Using object\n",
        "\n",
        "print(Things2.attribute)#Using Class"
      ],
      "metadata": {
        "colab": {
          "base_uri": "https://localhost:8080/"
        },
        "id": "5oAUokfC-ljz",
        "outputId": "ab877947-1df8-46e9-eb84-26fbff3d8de6"
      },
      "execution_count": null,
      "outputs": [
        {
          "output_type": "stream",
          "name": "stdout",
          "text": [
            "abc\n",
            "abc\n"
          ]
        }
      ]
    },
    {
      "cell_type": "markdown",
      "source": [
        "**Question3:** Make yet another class called, of course, Thing3. This time, assign the value &#39;xyz&#39; to an instance\n",
        "(object) attribute called letters. Print letters. Do you need to make an object from the class to do\n",
        "this?"
      ],
      "metadata": {
        "id": "rW2WvRJ-_9Df"
      }
    },
    {
      "cell_type": "code",
      "source": [
        "class Thing3:\n",
        "  def __init__(self):\n",
        "    self.letters = 'xyz'\n",
        "\n",
        "  def __str__(self):\n",
        "    return self.letters\n",
        "\n",
        "object = Thing3()\n",
        "print(object)\n",
        "  "
      ],
      "metadata": {
        "colab": {
          "base_uri": "https://localhost:8080/"
        },
        "id": "uW1hqcsT-sG-",
        "outputId": "98faf939-6a8c-4507-860d-f06a623bd6b3"
      },
      "execution_count": null,
      "outputs": [
        {
          "output_type": "stream",
          "name": "stdout",
          "text": [
            "xyz\n"
          ]
        }
      ]
    },
    {
      "cell_type": "markdown",
      "source": [
        "From above, Yes we do require object "
      ],
      "metadata": {
        "id": "xRA9foGWBQFI"
      }
    },
    {
      "cell_type": "markdown",
      "source": [
        "**Question 4:**  Create an Element class with the instance attributes name, symbol, and number. Create a class\n",
        "object with the values &#39;Hydrogen,&#39; &#39;H,&#39; and 1."
      ],
      "metadata": {
        "id": "keEqxPnkBe9z"
      }
    },
    {
      "cell_type": "code",
      "source": [
        "class Element:\n",
        "  def __init__(self, name, symbol, number):\n",
        "    self.name = name\n",
        "    self.symbol = symbol\n",
        "    self.number = number\n",
        "\n",
        "object = Element('Hydrogen','H',1)"
      ],
      "metadata": {
        "id": "5H1eBz7HAHTO"
      },
      "execution_count": null,
      "outputs": []
    },
    {
      "cell_type": "markdown",
      "source": [
        "**Question 5:** Make a dictionary with these keys and values: &#39;name&#39;: &#39;Hydrogen&#39;, &#39;symbol&#39;: &#39;H&#39;, &#39;number&#39;: 1. Then,\n",
        "create an object called hydrogen from class Element using this dictionary."
      ],
      "metadata": {
        "id": "SAoghqnSCYGy"
      }
    },
    {
      "cell_type": "code",
      "source": [
        "dict1 = {'name':'Hydrogen', 'symbol':'H', 'number':1}\n",
        "\n",
        "hydrogen = Element(dict1['name'],dict1['symbol'],dict1['number'])\n"
      ],
      "metadata": {
        "id": "VUWoMu3aB1FH"
      },
      "execution_count": null,
      "outputs": []
    },
    {
      "cell_type": "markdown",
      "source": [
        "**Question 6:** For the Element class, define a method called dump() that prints the values of the object’s\n",
        "attributes (name, symbol, and number). Create the hydrogen object from this new definition and\n",
        "use dump() to print its attributes.\n"
      ],
      "metadata": {
        "id": "AFyA_FQfC9ta"
      }
    },
    {
      "cell_type": "code",
      "source": [
        "class Element:\n",
        "  def __init__(self, name, symbol, number):\n",
        "    self.name = name\n",
        "    self.symbol = symbol\n",
        "    self.number = number\n",
        "\n",
        "  def dump(self):\n",
        "    print(self.name)\n",
        "    print(self.symbol)\n",
        "    print(self.number)\n",
        "\n",
        "hydrogen = Element('hydrogen','H',1)\n",
        "hydrogen.dump()"
      ],
      "metadata": {
        "colab": {
          "base_uri": "https://localhost:8080/"
        },
        "id": "kJyTBFbhCn_g",
        "outputId": "9c64e294-3a93-4c61-a798-569d2aba2694"
      },
      "execution_count": null,
      "outputs": [
        {
          "output_type": "stream",
          "name": "stdout",
          "text": [
            "hydrogen\n",
            "H\n",
            "1\n"
          ]
        }
      ]
    },
    {
      "cell_type": "markdown",
      "source": [
        "**Question 7:** Call print(hydrogen). In the definition of Element, change the name of method dump to __str__,\n",
        "create a new hydrogen object, and call print(hydrogen) again."
      ],
      "metadata": {
        "id": "Yn9powRZDj8N"
      }
    },
    {
      "cell_type": "code",
      "source": [
        "class Element:\n",
        "  def __init__(self, name, symbol, number):\n",
        "    self.name = name\n",
        "    self.symbol = symbol\n",
        "    self.number = number\n",
        "\n",
        "  def __str__(self):\n",
        "    return \"Name:\" + self.name + '\\n'+\"Symbol:\" + self.symbol + '\\n'+\"Number:\" +self.number\n",
        "\n",
        "hydrogen = Element('hydrogen','H',1)\n",
        "print(hydrogen)"
      ],
      "metadata": {
        "colab": {
          "base_uri": "https://localhost:8080/"
        },
        "id": "xNH-kwyzDWK3",
        "outputId": "73fec718-6efc-4610-b1f4-ca14b6b9b907"
      },
      "execution_count": null,
      "outputs": [
        {
          "output_type": "stream",
          "name": "stdout",
          "text": [
            "Name:hydrogen\n",
            "Symbol:H\n",
            "Number:\n"
          ]
        }
      ]
    },
    {
      "cell_type": "markdown",
      "source": [
        "**Question 8:** Modify Element to make the attributes name, symbol, and number private. Define a getter\n",
        "property for each to return its value."
      ],
      "metadata": {
        "id": "nDfpqbxlHJlZ"
      }
    },
    {
      "cell_type": "code",
      "source": [
        "class Element:\n",
        "  def __init__(self,name,symbol,number):\n",
        "    self.__name__=name\n",
        "    self.__symbol__=symbol\n",
        "    self.__number__=number\n",
        "  \n",
        "  @property\n",
        "  def name(self):\n",
        "    return self.__name__\n",
        "  \n",
        "  @property\n",
        "  def symbol(self):\n",
        "    return self.__symbol__\n",
        "\n",
        "  @property\n",
        "  def number(self):\n",
        "    return self.__number__"
      ],
      "metadata": {
        "id": "FcvWku8ODq59"
      },
      "execution_count": 5,
      "outputs": []
    },
    {
      "cell_type": "code",
      "source": [
        "object = Element('Hydrogen','H',1)\n",
        "print(object.name)\n",
        "print(object.symbol)\n",
        "print(object.number)"
      ],
      "metadata": {
        "colab": {
          "base_uri": "https://localhost:8080/"
        },
        "id": "wrbHGwEJITQq",
        "outputId": "7508ce91-aca7-4457-bcaa-ae01a5229bfd"
      },
      "execution_count": 8,
      "outputs": [
        {
          "output_type": "stream",
          "name": "stdout",
          "text": [
            "Hydrogen\n",
            "H\n",
            "1\n"
          ]
        }
      ]
    },
    {
      "cell_type": "markdown",
      "source": [
        "**Question 9:** Define three classes: Bear, Rabbit, and Octothorpe. For each, define only one method: eats(). This\n",
        "should return &#39;berries&#39; (Bear), &#39;clover&#39; (Rabbit), or &#39;campers&#39; (Octothorpe). Create one object from\n",
        "each and print what it eats."
      ],
      "metadata": {
        "id": "XwScO9gUJOLz"
      }
    },
    {
      "cell_type": "code",
      "source": [
        "class Bear:\n",
        "  def eats(self):\n",
        "    return 'berries'\n",
        "\n",
        "class Rabbit:\n",
        "  def eats(self):\n",
        "    return 'clover'\n",
        "\n",
        "class Octothorpe:\n",
        "  def eats(self):\n",
        "    return 'campers'"
      ],
      "metadata": {
        "id": "Pu8h1XIjIzaV"
      },
      "execution_count": 9,
      "outputs": []
    },
    {
      "cell_type": "code",
      "source": [
        "bear_Object = Bear()\n",
        "bear_Object.eats()"
      ],
      "metadata": {
        "colab": {
          "base_uri": "https://localhost:8080/",
          "height": 35
        },
        "id": "G2Cmb2toJqIM",
        "outputId": "a2e50f97-6719-4906-f3d2-a43ef28f22b3"
      },
      "execution_count": 11,
      "outputs": [
        {
          "output_type": "execute_result",
          "data": {
            "text/plain": [
              "'berries'"
            ],
            "application/vnd.google.colaboratory.intrinsic+json": {
              "type": "string"
            }
          },
          "metadata": {},
          "execution_count": 11
        }
      ]
    },
    {
      "cell_type": "code",
      "source": [
        "rabbit_Object = Rabbit()\n",
        "rabbit_Object.eats()"
      ],
      "metadata": {
        "colab": {
          "base_uri": "https://localhost:8080/",
          "height": 35
        },
        "id": "NdnBhuizJtd5",
        "outputId": "5575c788-c8e3-400d-80f2-b28a5bbe65f7"
      },
      "execution_count": 12,
      "outputs": [
        {
          "output_type": "execute_result",
          "data": {
            "text/plain": [
              "'clover'"
            ],
            "application/vnd.google.colaboratory.intrinsic+json": {
              "type": "string"
            }
          },
          "metadata": {},
          "execution_count": 12
        }
      ]
    },
    {
      "cell_type": "code",
      "source": [
        "octothorpe_Object = Octothorpe()\n",
        "octothorpe_Object.eats()"
      ],
      "metadata": {
        "colab": {
          "base_uri": "https://localhost:8080/",
          "height": 35
        },
        "id": "olutXmkXJ9Cd",
        "outputId": "4dee9b04-fe3a-4a2f-ce9a-36362a705843"
      },
      "execution_count": 13,
      "outputs": [
        {
          "output_type": "execute_result",
          "data": {
            "text/plain": [
              "'campers'"
            ],
            "application/vnd.google.colaboratory.intrinsic+json": {
              "type": "string"
            }
          },
          "metadata": {},
          "execution_count": 13
        }
      ]
    },
    {
      "cell_type": "markdown",
      "source": [
        "**Question 10:** Define these classes: Laser, Claw, and SmartPhone. Each has only one method: does(). This\n",
        "returns &#39;disintegrate&#39; (Laser), &#39;crush&#39; (Claw), or &#39;ring&#39; (SmartPhone). Then, define the class Robot that\n",
        "has one instance (object) of each of these. Define a does() method for the Robot that prints what its\n",
        "component objects do."
      ],
      "metadata": {
        "id": "hZ-Y5opLKIY1"
      }
    },
    {
      "cell_type": "code",
      "source": [
        "class Laser:\n",
        "  def does(self):\n",
        "    return 'disintegrate'\n",
        "\n",
        "class Claw:\n",
        "  def does(self):\n",
        "    return 'crush'\n",
        "\n",
        "class SmartPhone:\n",
        "  def does(self):\n",
        "    return 'ring'\n",
        "\n",
        "class Robot:\n",
        "  def __init__(self):\n",
        "    self.laser_Object = Laser()\n",
        "    self.claw_Object = Claw()\n",
        "    self.smartphone_Object = SmartPhone()\n",
        "  def does(self):\n",
        "    return 'Laser: %s, Claw: %s, SmartPhone: %s' %(self.laser_Object.does(),self.claw_Object.does(),self.smartphone_Object.does())\n",
        "\n"
      ],
      "metadata": {
        "id": "oqQzsw4sKCgb"
      },
      "execution_count": 37,
      "outputs": []
    },
    {
      "cell_type": "code",
      "source": [
        "robot_Object = Robot()\n",
        "robot_Object.does()\n"
      ],
      "metadata": {
        "colab": {
          "base_uri": "https://localhost:8080/",
          "height": 35
        },
        "id": "ko-6eOe6Lo4b",
        "outputId": "6c43fa27-0ed5-424b-ff37-27d55345ed9d"
      },
      "execution_count": 38,
      "outputs": [
        {
          "output_type": "execute_result",
          "data": {
            "text/plain": [
              "'Laser: disintegrate, Claw: crush, SmartPhone: ring'"
            ],
            "application/vnd.google.colaboratory.intrinsic+json": {
              "type": "string"
            }
          },
          "metadata": {},
          "execution_count": 38
        }
      ]
    },
    {
      "cell_type": "code",
      "source": [],
      "metadata": {
        "id": "st6W3EzSLxYh"
      },
      "execution_count": null,
      "outputs": []
    }
  ]
}