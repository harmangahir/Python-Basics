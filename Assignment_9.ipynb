{
  "nbformat": 4,
  "nbformat_minor": 0,
  "metadata": {
    "colab": {
      "provenance": []
    },
    "kernelspec": {
      "name": "python3",
      "display_name": "Python 3"
    },
    "language_info": {
      "name": "python"
    }
  },
  "cells": [
    {
      "cell_type": "markdown",
      "source": [
        "**Question 1:** To what does a relative path refer?\n",
        "\n",
        "**Answer:** Relative path refers to the current directory where user actually working.For instance: pwd (Present Working Directory)"
      ],
      "metadata": {
        "id": "keZHchvs5dIc"
      }
    },
    {
      "cell_type": "code",
      "source": [
        "pwd\n"
      ],
      "metadata": {
        "colab": {
          "base_uri": "https://localhost:8080/",
          "height": 35
        },
        "id": "jusVkOiY5yRX",
        "outputId": "11dd47fd-e670-4890-a87e-6cac2e8b3af1"
      },
      "execution_count": 1,
      "outputs": [
        {
          "output_type": "execute_result",
          "data": {
            "text/plain": [
              "'/content'"
            ],
            "application/vnd.google.colaboratory.intrinsic+json": {
              "type": "string"
            }
          },
          "metadata": {},
          "execution_count": 1
        }
      ]
    },
    {
      "cell_type": "markdown",
      "source": [
        "**Question 2:** What does an absolute path start with your operating system?\n",
        "\n",
        "**Answer:** Absolute path is a path starts from root directory to the current directory where user is working. For instance: In windows, If C:\\ is a drive where my windows installed and I am working in Ineuron subdirectory inside C:\\ then my absolute path will be C:\\Ineuron\\"
      ],
      "metadata": {
        "id": "rJmKrF4f6BVF"
      }
    },
    {
      "cell_type": "markdown",
      "source": [
        "**Question 3:** What do the functions os.getcwd() and os.chdir() do?\n",
        "\n",
        "**Answer:** \n",
        "os.getcwd() means 'get working directory' where python is currently installed ans running.\n",
        "\n",
        "os.chdir() means 'change directory' where user needs to change python path from current directory to user's specific directory\n",
        "\n",
        "\n"
      ],
      "metadata": {
        "id": "ugPbXmNm6qU1"
      }
    },
    {
      "cell_type": "markdown",
      "source": [
        "**Question 4:** What are the . and .. folders?\n",
        "\n",
        "**Answer:**\n",
        "\n",
        ". returns current directory on which user is working.\n",
        "\n",
        ".. returns the main or parent directory of a system"
      ],
      "metadata": {
        "id": "S6DbChi87V3i"
      }
    },
    {
      "cell_type": "markdown",
      "source": [
        "**Question 5:** In C:\\bacon\\eggs\\spam.txt, which part is the dir name, and which part is the base name?\n",
        "\n",
        "**Answer:**\n",
        "\n",
        "Directory name is C:\\bacon\\eggs\n",
        "\n",
        "Base Name is spam.txt"
      ],
      "metadata": {
        "id": "8I7xACnE7tfE"
      }
    },
    {
      "cell_type": "markdown",
      "source": [
        "**Question 6:** What are the three “mode” arguments that can be passed to the open() function?\n",
        "\n",
        "**Answer:** Following modes can be passed to the open() function:\n",
        "\n",
        "\n",
        "\n",
        "1.   'r' mode = This mode is used for open a file in read mode.For instance, open('sample.txt',r). It will raise an exception if file does not exist.\n",
        "\n",
        "2.   'w' mode = This mode is used for open a file in write mode.For instance, open('sample.txt',w). It will create a file if file does not exist.\n",
        "\n",
        "3. 'a' mode = This mode is used for open a file in append mode.For instance, open('sample.txt',a). It will open a file and move cursor at the end of the content inside a file.\n",
        "\n"
      ],
      "metadata": {
        "id": "PEjgxbmk8Dgf"
      }
    },
    {
      "cell_type": "markdown",
      "source": [
        "**Question 7:** What happens if an existing file is opened in write mode?\n",
        "\n",
        "**Answer:** If file exist and opened with write mode then whatever content present inside existing file will get overwritten. If file already does not contains any content then cursor will move at the start of a file  "
      ],
      "metadata": {
        "id": "fm6vz0Gq9CCK"
      }
    },
    {
      "cell_type": "markdown",
      "source": [
        "**Question 8:**  How do you tell the difference between read() and readlines()?\n",
        "\n",
        "Answer: read() function will either read the entire text from a file or read the text till specific given condition.\n",
        "\n",
        "readlines() function will read the text from a file as line by line order. It means read one line at a time."
      ],
      "metadata": {
        "id": "a6EsNI4j9q58"
      }
    },
    {
      "cell_type": "markdown",
      "source": [
        "**Question 9:** What data structure does a shelf value resemble?\n",
        "\n",
        "**Answer:** Dictionary. It stores data in key:value pair where keys() return key value and value() return value associated to corresponding keys."
      ],
      "metadata": {
        "id": "wF8bjmVj-gC2"
      }
    },
    {
      "cell_type": "code",
      "source": [],
      "metadata": {
        "id": "9ltmxrK55zSU"
      },
      "execution_count": null,
      "outputs": []
    }
  ]
}