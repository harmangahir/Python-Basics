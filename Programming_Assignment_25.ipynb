{
  "cells": [
    {
      "cell_type": "markdown",
      "metadata": {
        "id": "pX9jptZfBPa5"
      },
      "source": [
        "### Question1\n",
        "    Create a function that takes three integer arguments (a, b, c) and returns the amount of\n",
        "    integers which are of equal value.\n",
        "    Examples\n",
        "    equal(3, 4, 3) ➞ 2\n",
        "    equal(1, 1, 1) ➞ 3\n",
        "    equal(3, 4, 1) ➞ 0\n",
        "    Notes\n",
        "    Your function must return 0, 2 or 3.\n",
        "\n"
      ]
    },
    {
      "cell_type": "code",
      "execution_count": 2,
      "metadata": {
        "colab": {
          "base_uri": "https://localhost:8080/"
        },
        "id": "gbaMLPREBPa7",
        "outputId": "aac27fc2-7d23-46cf-8791-ca7f637d1d0a"
      },
      "outputs": [
        {
          "output_type": "stream",
          "name": "stdout",
          "text": [
            "2\n",
            "3\n",
            "0\n"
          ]
        }
      ],
      "source": [
        "def equal(a,b,c):\n",
        "    num = 0\n",
        "    if a == b and a == c :\n",
        "        num = 3\n",
        "    elif a == b or a == c :\n",
        "        num = 2\n",
        "    else:\n",
        "        num = 0\n",
        "    return num\n",
        "print(equal(3, 4, 3))\n",
        "print(equal(1, 1, 1))\n",
        "print(equal(3, 4, 1))"
      ]
    },
    {
      "cell_type": "markdown",
      "metadata": {
        "id": "msnguuQ3BPbD"
      },
      "source": [
        "### Question2\n",
        "    Write a function that converts a dictionary into a list of keys-values tuples.\n",
        "    Examples\n",
        "    dict_to_list({\n",
        "    'D': 1,\n",
        "    'B': 2,\n",
        "    'C': 3\n",
        "    }) ➞ [('B', 2), ('C', 3), ('D', 1)]\n",
        "    dict_to_list({\n",
        "    'likes': 2,\n",
        "    'dislikes': 3,\n",
        "    'followers': 10\n",
        "    }) ➞ [('dislikes', 3), ('followers', 10), ('likes', 2)]\n",
        "    Notes\n",
        "    Return the elements in the list in alphabetical order.\n",
        "\n"
      ]
    },
    {
      "cell_type": "code",
      "execution_count": 6,
      "metadata": {
        "id": "OV4wgpuJBPbE"
      },
      "outputs": [],
      "source": [
        "def dict_to_list(d):\n",
        "    return list(d.items())\n"
      ]
    },
    {
      "cell_type": "code",
      "execution_count": 7,
      "metadata": {
        "colab": {
          "base_uri": "https://localhost:8080/"
        },
        "id": "RM3tZXz0BPbF",
        "outputId": "a5153b0f-614e-46a2-d617-c714a7107afa"
      },
      "outputs": [
        {
          "output_type": "execute_result",
          "data": {
            "text/plain": [
              "[('D', 1), ('B', 2), ('C', 3)]"
            ]
          },
          "metadata": {},
          "execution_count": 7
        }
      ],
      "source": [
        "dict_to_list({\n",
        "    'D': 1,\n",
        "    'B': 2,\n",
        "    'C': 3\n",
        "    })"
      ]
    },
    {
      "cell_type": "code",
      "execution_count": 8,
      "metadata": {
        "colab": {
          "base_uri": "https://localhost:8080/"
        },
        "id": "_mKpYUIwBPbG",
        "outputId": "24036e50-fbb5-427a-9cad-67ef8096d3b0"
      },
      "outputs": [
        {
          "output_type": "execute_result",
          "data": {
            "text/plain": [
              "[('likes', 2), ('dislikes', 3), ('followers', 10)]"
            ]
          },
          "metadata": {},
          "execution_count": 8
        }
      ],
      "source": [
        "dict_to_list({\n",
        "    'likes': 2,\n",
        "    'dislikes': 3,\n",
        "    'followers': 10\n",
        "    })"
      ]
    },
    {
      "cell_type": "markdown",
      "metadata": {
        "id": "ROWIjpHgBPbH"
      },
      "source": [
        "### Question3\n",
        "    Write a function that creates a dictionary with each (key, value) pair being the (lower case,\n",
        "    upper case) versions of a letter, respectively.\n",
        "    Examples\n",
        "    mapping(['p', 's']) ➞ { 'p': 'P', 's': 'S' }\n",
        "\n",
        "    mapping(['a', 'b', 'c']) ➞ { 'a': 'A', 'b': 'B', 'c': 'C' }\n",
        "    mapping(['a', 'v', 'y', 'z']) ➞ { 'a': 'A', 'v': 'V', 'y': 'Y', 'z': 'Z' }\n",
        "    Notes\n",
        "    All of the letters in the input list will always be lowercase.\n",
        "\n"
      ]
    },
    {
      "cell_type": "code",
      "execution_count": 4,
      "metadata": {
        "id": "Id0vc584BPbI"
      },
      "outputs": [],
      "source": [
        "def mapping(lst):\n",
        "    return {v.lower():v.upper() for v in lst}\n"
      ]
    },
    {
      "cell_type": "code",
      "execution_count": 5,
      "metadata": {
        "colab": {
          "base_uri": "https://localhost:8080/"
        },
        "id": "kBB1EZpRBPbI",
        "outputId": "e13cba9a-7d33-4f70-adde-d37e14384ad0"
      },
      "outputs": [
        {
          "output_type": "stream",
          "name": "stdout",
          "text": [
            "{'p': 'P', 's': 'S'}\n",
            "{'a': 'A', 'b': 'B', 'c': 'C'}\n",
            "{'a': 'A', 'v': 'V', 'y': 'Y', 'z': 'Z'}\n",
            "{'a': 'A', 'v': 'V', 'y': 'Y', 'z': 'Z'}\n"
          ]
        }
      ],
      "source": [
        "print(mapping(['p', 's']))\n",
        "print(mapping(['a', 'b', 'c']))\n",
        "print(mapping(['a', 'v', 'y', 'z']))\n",
        "print(mapping(['A', 'v', 'Y', 'z']))\n"
      ]
    },
    {
      "cell_type": "markdown",
      "metadata": {
        "id": "a7xpEEgqBPbM"
      },
      "source": [
        "### Question4\n",
        "    Write a function, that replaces all vowels in a string with a specified vowel.\n",
        "    Examples\n",
        "    vow_replace('apples and bananas', 'u') ➞ 'upplus und bununus'\n",
        "    vow_replace('cheese casserole', 'o') ➞ 'chooso cossorolo'\n",
        "    vow_replace('stuffed jalapeno poppers', 'e') ➞ 'steffed jelepene peppers'\n",
        "    Notes\n",
        "    All words will be lowercase. Y is not considered a vowel.\n",
        "\n"
      ]
    },
    {
      "cell_type": "code",
      "execution_count": 9,
      "metadata": {
        "id": "XeL7UXdFBPbM"
      },
      "outputs": [],
      "source": [
        "def vow_replace(s,ch):\n",
        "    vowel ='AEIOUaeiuo'\n",
        "    s1 = []\n",
        "    for i in range(len(s)):\n",
        "        if s[i] in vowel:\n",
        "            s1.append(ch)\n",
        "        else:\n",
        "            s1.append(s[i])\n",
        "\n",
        "    return ''.join((s1))"
      ]
    },
    {
      "cell_type": "code",
      "execution_count": 18,
      "metadata": {
        "colab": {
          "base_uri": "https://localhost:8080/"
        },
        "id": "LzUKrAaCBPbN",
        "outputId": "2520172d-edd0-4961-95c6-ec552aeb6281"
      },
      "outputs": [
        {
          "output_type": "stream",
          "name": "stdout",
          "text": [
            "upplus und bununus\n",
            "chooso cossorolo\n",
            "steffed jelepene peppers\n"
          ]
        }
      ],
      "source": [
        "print(vow_replace('apples and bananas', 'u'))\n",
        "print(vow_replace('cheese casserole', 'o'))\n",
        "print(vow_replace('stuffed jalapeno poppers', 'e'))"
      ]
    },
    {
      "cell_type": "markdown",
      "metadata": {
        "id": "yEOJ7ThiBPbO"
      },
      "source": [
        "### Question5\n",
        "    Create a function that takes a string as input and capitalizes a letter if its ASCII code is even\n",
        "    and returns its lower case version if its ASCII code is odd.\n",
        "    Examples\n",
        "    ascii_capitalize('to be or not to be!') ➞ 'To Be oR NoT To Be!'\n",
        "    ascii_capitalize('THE LITTLE MERMAID') ➞ 'THe LiTTLe meRmaiD'\n",
        "    ascii_capitalize('Oh what a beautiful morning.') ➞ 'oH wHaT a BeauTiFuL\n",
        "    moRNiNg.'"
      ]
    },
    {
      "cell_type": "code",
      "execution_count": 13,
      "metadata": {
        "id": "UC6zUNnJBPbO"
      },
      "outputs": [],
      "source": [
        "def ascii_capitalize(s):\n",
        "    s1 = []\n",
        "    for i in range(len(s)):\n",
        "        if ord(s[i]) % 2 == 0:\n",
        "            s1.append(s[i].upper())\n",
        "        else:\n",
        "            s1.append(s[i].lower())\n",
        "\n",
        "    return \"\".join((s1))"
      ]
    },
    {
      "cell_type": "code",
      "execution_count": 17,
      "metadata": {
        "colab": {
          "base_uri": "https://localhost:8080/"
        },
        "id": "4tTFA3M-BPbP",
        "outputId": "b9cbd9ca-691c-4ddb-824b-ab428f822607"
      },
      "outputs": [
        {
          "output_type": "stream",
          "name": "stdout",
          "text": [
            "To Be oR NoT To Be!\n",
            "THe LiTTLe meRmaiD\n",
            "oH wHaT a BeauTiFuL moRNiNg.\n"
          ]
        }
      ],
      "source": [
        "print(ascii_capitalize('to be or not to be!'))\n",
        "print(ascii_capitalize('THE LITTLE MERMAID'))\n",
        "print(ascii_capitalize('Oh what a beautiful morning.'))"
      ]
    },
    {
      "cell_type": "code",
      "source": [],
      "metadata": {
        "id": "TXTZ7QIpB-li"
      },
      "execution_count": null,
      "outputs": []
    }
  ],
  "metadata": {
    "kernelspec": {
      "display_name": "Python 3",
      "language": "python",
      "name": "python3"
    },
    "language_info": {
      "codemirror_mode": {
        "name": "ipython",
        "version": 3
      },
      "file_extension": ".py",
      "mimetype": "text/x-python",
      "name": "python",
      "nbconvert_exporter": "python",
      "pygments_lexer": "ipython3",
      "version": "3.8.3"
    },
    "colab": {
      "provenance": []
    }
  },
  "nbformat": 4,
  "nbformat_minor": 0
}