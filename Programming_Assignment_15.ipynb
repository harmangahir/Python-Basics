{
  "nbformat": 4,
  "nbformat_minor": 0,
  "metadata": {
    "colab": {
      "provenance": []
    },
    "kernelspec": {
      "name": "python3",
      "display_name": "Python 3"
    },
    "language_info": {
      "name": "python"
    }
  },
  "cells": [
    {
      "cell_type": "markdown",
      "source": [
        "Question 1:\n",
        "Please write a program using generator to print the numbers which can be divisible by 5 and\n",
        "7 between 0 and n in comma separated form while n is input by console.\n",
        "Example:\n",
        "If the following n is given as input to the program:\n",
        "100\n",
        "Then, the output of the program should be:\n",
        "0,35,70"
      ],
      "metadata": {
        "id": "BM64khVvAluC"
      }
    },
    {
      "cell_type": "code",
      "execution_count": 5,
      "metadata": {
        "colab": {
          "base_uri": "https://localhost:8080/"
        },
        "id": "I3TeXcBGAJcM",
        "outputId": "fc5c0ea8-d955-4ddc-92a0-e736ba7fcbc3"
      },
      "outputs": [
        {
          "output_type": "stream",
          "name": "stdout",
          "text": [
            "Enter number:100\n",
            "[0, 35, 70]\n"
          ]
        }
      ],
      "source": [
        "def divisible(number):\n",
        "  result_list = []\n",
        "  \n",
        "  for item in range(0, number):\n",
        "    if item % 7 ==0 and item % 5 ==0:\n",
        "      result_list.append(item)\n",
        "  yield result_list\n",
        "\n",
        "number = int(input('Enter number:'))\n",
        "result_list = divisible(number)\n",
        "for item in result_list:\n",
        "  print(item)\n"
      ]
    },
    {
      "cell_type": "markdown",
      "source": [
        "Question 2: Please write a program using generator to print the even numbers between 0 and n in comma\n",
        "separated form while n is input by console.\n",
        "Example:\n",
        "If the following n is given as input to the program:\n",
        "10\n",
        "Then, the output of the program should be:\n",
        "0,2,4,6,8,10"
      ],
      "metadata": {
        "id": "4JjsZe0rBHpY"
      }
    },
    {
      "cell_type": "code",
      "source": [
        "def even(number):\n",
        "  result_list = []\n",
        "  \n",
        "  for item in range(0, number+1):\n",
        "    if item % 2 ==0:\n",
        "      result_list.append(item)\n",
        "  yield result_list\n",
        "\n",
        "number = int(input('Enter number:'))\n",
        "result_list = even(number)\n",
        "for item in result_list:\n",
        "  print(item)"
      ],
      "metadata": {
        "colab": {
          "base_uri": "https://localhost:8080/"
        },
        "id": "WOAP2VjeBAMC",
        "outputId": "93c807dd-65a7-4081-ac77-e4c6c05df92f"
      },
      "execution_count": 8,
      "outputs": [
        {
          "output_type": "stream",
          "name": "stdout",
          "text": [
            "Enter number:10\n",
            "[0, 2, 4, 6, 8, 10]\n"
          ]
        }
      ]
    },
    {
      "cell_type": "markdown",
      "source": [
        "Question 3: The Fibonacci Sequence is computed based on the following formula:\n",
        "f(n)=0 if n=0\n",
        "f(n)=1 if n=1\n",
        "f(n)=f(n-1)+f(n-2) if n&gt;1\n",
        "Please write a program using list comprehension to print the Fibonacci Sequence in comma\n",
        "separated form with a given n input by console.\n",
        "Example:\n",
        "If the following n is given as input to the program:Then, the output of the program should be:\n",
        "0,1,1,2,3,5,8,13"
      ],
      "metadata": {
        "id": "LoJHp2RoCIa3"
      }
    },
    {
      "cell_type": "code",
      "source": [
        "def cal_fibonacci(number):\n",
        "  if number == 0:\n",
        "    return 0\n",
        "  elif number == 1:\n",
        "    return number\n",
        "  else:\n",
        "    return cal_fibonacci(number-1) + cal_fibonacci(number-2)\n",
        "\n",
        "number = int(input('Enter number:'))\n",
        "result_list = []\n",
        "result_list = [cal_fibonacci(item) for item in range(0,number+1)]\n",
        "print(result_list)\n",
        "\n"
      ],
      "metadata": {
        "colab": {
          "base_uri": "https://localhost:8080/"
        },
        "id": "0zs35cX3B304",
        "outputId": "dcf96261-5151-4acc-a1ab-4336c5193f4b"
      },
      "execution_count": 12,
      "outputs": [
        {
          "output_type": "stream",
          "name": "stdout",
          "text": [
            "Enter number:7\n",
            "[0, 1, 1, 2, 3, 5, 8, 13]\n"
          ]
        }
      ]
    },
    {
      "cell_type": "markdown",
      "source": [
        "Question 4:\n",
        "Assuming that we have some email addresses in the &quot;username@companyname.com&quot; format,\n",
        "please write program to print the user name of a given email address. Both user names and\n",
        "company names are composed of letters only.\n",
        "Example:\n",
        "If the following email address is given as input to the program:\n",
        "john@google.com\n",
        "Then, the output of the program should be:\n",
        "john"
      ],
      "metadata": {
        "id": "YH3d2q2lDtia"
      }
    },
    {
      "cell_type": "code",
      "source": [
        "import re\n",
        "email = 'john@google.com'\n",
        "result = re.search('(\\w+)@(\\w+)\\.(com)',email)\n",
        "print(result.group(1))"
      ],
      "metadata": {
        "colab": {
          "base_uri": "https://localhost:8080/"
        },
        "id": "QbYuZq8UC0Pt",
        "outputId": "2c073afa-9b29-4ebc-d964-21b081c807bf"
      },
      "execution_count": 19,
      "outputs": [
        {
          "output_type": "stream",
          "name": "stdout",
          "text": [
            "john\n"
          ]
        }
      ]
    },
    {
      "cell_type": "code",
      "source": [],
      "metadata": {
        "id": "Jx7at0Q8T_Fd"
      },
      "execution_count": null,
      "outputs": []
    }
  ]
}