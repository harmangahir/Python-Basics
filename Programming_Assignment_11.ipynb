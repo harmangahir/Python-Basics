{
  "nbformat": 4,
  "nbformat_minor": 0,
  "metadata": {
    "colab": {
      "provenance": []
    },
    "kernelspec": {
      "name": "python3",
      "display_name": "Python 3"
    },
    "language_info": {
      "name": "python"
    }
  },
  "cells": [
    {
      "cell_type": "markdown",
      "source": [
        "1. Write a Python program to find words which are greater than given length k?"
      ],
      "metadata": {
        "id": "sZKoccEIRdIt"
      }
    },
    {
      "cell_type": "code",
      "source": [
        "def cal_words(str,length):\n",
        "    list1 = []\n",
        "    txt = str.split()    \n",
        "    for item in txt:\n",
        "        if len(item) > length:\n",
        "            list1.append(item)\n",
        "    return list1\n",
        "\n",
        "str = input(\"Enter a string : \")\n",
        "length = int(input(\"Enter the lenth K : \"))\n",
        "\n",
        "result = cal_words(str,length)\n",
        "print(result)\n",
        " "
      ],
      "metadata": {
        "colab": {
          "base_uri": "https://localhost:8080/"
        },
        "id": "ZhShTyhJR0RP",
        "outputId": "d1c949ec-f4ba-4141-e90f-2ba13ade4e0b"
      },
      "execution_count": 2,
      "outputs": [
        {
          "output_type": "stream",
          "name": "stdout",
          "text": [
            "Enter a string : This is a INeuron Session on Machine Learning\n",
            "Enter the lenth K : 2\n",
            "['This', 'INeuron', 'Session', 'Machine', 'Learning']\n"
          ]
        }
      ]
    },
    {
      "cell_type": "markdown",
      "source": [
        "2. Write a Python program for removing i-th character from a string?"
      ],
      "metadata": {
        "id": "Www5WgeuRgdG"
      }
    },
    {
      "cell_type": "code",
      "source": [
        "def cal_remove(str, index): \n",
        "    for item in range(0,len(str)):\n",
        "        if item == index:\n",
        "            str = str.replace(str[item], \"\", 1)\n",
        "    return str      \n",
        "\n",
        "str = input(\"Enter a string : \")\n",
        "index = int(input(\"Enter the index : \"))    \n",
        "\n",
        "print(\"Result string : \", cal_remove(str, index))"
      ],
      "metadata": {
        "colab": {
          "base_uri": "https://localhost:8080/"
        },
        "id": "jwtTwxAxSnJg",
        "outputId": "2b025952-5105-45dd-d89a-f0bc09b46bac"
      },
      "execution_count": 4,
      "outputs": [
        {
          "output_type": "stream",
          "name": "stdout",
          "text": [
            "Enter a string : This is a INeuron session on Machine Learning\n",
            "Enter the index : 3\n",
            "Result string :  Thi is a INeuron session on Machine Learning\n"
          ]
        }
      ]
    },
    {
      "cell_type": "markdown",
      "source": [
        "3. Write a Python program to split and join a string?"
      ],
      "metadata": {
        "id": "CRRY6HK0RkAl"
      }
    },
    {
      "cell_type": "code",
      "source": [
        "str1 = \"This is a INeuron session on Machine Learning\"\n",
        "str1 = str1.split(\" \") \n",
        "print(\"Spliting a string : \",str1)\n",
        "\n",
        "str2 = \"-\".join(str1)\n",
        "print(\"Joining a string : \",str2)"
      ],
      "metadata": {
        "colab": {
          "base_uri": "https://localhost:8080/"
        },
        "id": "pvAiCUBqTVIh",
        "outputId": "6eed4cf1-9455-408a-e621-e828b057eff4"
      },
      "execution_count": 7,
      "outputs": [
        {
          "output_type": "stream",
          "name": "stdout",
          "text": [
            "Spliting a string :  ['This', 'is', 'a', 'INeuron', 'session', 'on', 'Machine', 'Learning']\n",
            "Joining a string :  This-is-a-INeuron-session-on-Machine-Learning\n"
          ]
        }
      ]
    },
    {
      "cell_type": "markdown",
      "source": [
        "4. Write a Python to check if a given string is binary string or not?"
      ],
      "metadata": {
        "id": "kGAj_i_MRnjb"
      }
    },
    {
      "cell_type": "code",
      "source": [
        "def check_binary(str):\n",
        "    binary = '01'\n",
        "    for i in range(len(str)):\n",
        "        if str[i] not in binary:\n",
        "            print('Not Binary')\n",
        "            break\n",
        "    else:\n",
        "        print('Its a Binary')\n",
        "        \n",
        "str = input(\"Enter the string : \")\n",
        "check_binary(str)        "
      ],
      "metadata": {
        "colab": {
          "base_uri": "https://localhost:8080/"
        },
        "id": "_E4XJT4CTo08",
        "outputId": "ab9ff935-ff55-4bd7-a48e-ef2a1dbc8637"
      },
      "execution_count": 8,
      "outputs": [
        {
          "output_type": "stream",
          "name": "stdout",
          "text": [
            "Enter the string : 101010111010101\n",
            "Its a Binary\n"
          ]
        }
      ]
    },
    {
      "cell_type": "markdown",
      "source": [
        "5. Write a Python program to find uncommon words from two Strings?"
      ],
      "metadata": {
        "id": "RkVVXhnARp7A"
      }
    },
    {
      "cell_type": "code",
      "source": [
        "def check_uncommon(str1,str2):\n",
        "    list_a = str1.split()\n",
        "    list_b = str2.split()\n",
        "    result_list = []\n",
        "    \n",
        "    for item in list_a:\n",
        "        if item not in list_b:\n",
        "            result_list.append(item)\n",
        "    for item in list_b:\n",
        "        if item not in list_a:\n",
        "            result_list.append(item)\n",
        "    return result_list\n",
        "\n",
        "str1 = input(\"Enter the string-1 : \")\n",
        "str2 = input(\"Enter the string-2 : \")\n",
        "\n",
        "print(\"Result list of uncommon words: \", check_uncommon(str1,str2))           "
      ],
      "metadata": {
        "colab": {
          "base_uri": "https://localhost:8080/"
        },
        "id": "-1EQ0UvaT2Hu",
        "outputId": "6dbe3ad5-7f95-46fb-d592-e933333ea4ac"
      },
      "execution_count": 10,
      "outputs": [
        {
          "output_type": "stream",
          "name": "stdout",
          "text": [
            "Enter the string-1 : This is INeuron session\n",
            "Enter the string-2 : This is Machine Learning session\n",
            "Result list of uncommon words:  ['INeuron', 'Machine', 'Learning']\n"
          ]
        }
      ]
    },
    {
      "cell_type": "markdown",
      "source": [
        "6. Write a Python to find all duplicate characters in string?"
      ],
      "metadata": {
        "id": "LuwZpBx7RsGj"
      }
    },
    {
      "cell_type": "code",
      "source": [
        "str = input(\"Enter the string a : \")\n",
        "duplicate = []\n",
        "\n",
        "for item in str:\n",
        "    if str.count(item) > 1:\n",
        "      if item not in duplicate:\n",
        "        duplicate.append(item)\n",
        "        \n",
        "print(duplicate)"
      ],
      "metadata": {
        "colab": {
          "base_uri": "https://localhost:8080/"
        },
        "id": "0KZoT07MUsFB",
        "outputId": "7f211d00-8d33-4600-95bb-efd0dea468de"
      },
      "execution_count": 17,
      "outputs": [
        {
          "output_type": "stream",
          "name": "stdout",
          "text": [
            "Enter the string a : Learning\n",
            "['n']\n"
          ]
        }
      ]
    },
    {
      "cell_type": "markdown",
      "source": [
        "7. Write a Python Program to check if a string contains any special character?"
      ],
      "metadata": {
        "id": "IHzZzQWkRvU_"
      }
    },
    {
      "cell_type": "code",
      "source": [
        "import string\n",
        "punctuation = string.punctuation\n",
        "result = []\n",
        "str = input(\"Enter the string a : \")\n",
        "\n",
        "for item in str:\n",
        "    if item in punctuation:\n",
        "        result.append(item)\n",
        "\n",
        "print(result)"
      ],
      "metadata": {
        "colab": {
          "base_uri": "https://localhost:8080/"
        },
        "id": "-8jmasGdU7RO",
        "outputId": "91cd205b-d8f4-4069-9757-63287cea9edb"
      },
      "execution_count": 18,
      "outputs": [
        {
          "output_type": "stream",
          "name": "stdout",
          "text": [
            "Enter the string a : This is iNeuron's session @ Machine Learning\n",
            "[\"'\", '@']\n"
          ]
        }
      ]
    },
    {
      "cell_type": "code",
      "source": [],
      "metadata": {
        "id": "W3REk1VSVpjB"
      },
      "execution_count": 18,
      "outputs": []
    }
  ]
}