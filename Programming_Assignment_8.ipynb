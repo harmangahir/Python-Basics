{
  "nbformat": 4,
  "nbformat_minor": 0,
  "metadata": {
    "colab": {
      "provenance": []
    },
    "kernelspec": {
      "name": "python3",
      "display_name": "Python 3"
    },
    "language_info": {
      "name": "python"
    }
  },
  "cells": [
    {
      "cell_type": "markdown",
      "source": [
        "1. Write a Python Program to Add Two Matrices?"
      ],
      "metadata": {
        "id": "aRPkyDxUfNLt"
      }
    },
    {
      "cell_type": "code",
      "source": [
        "import numpy as np\n",
        "\n",
        "matrix1 = [[1,2,3],[4,5,6],[7,8,9]]\n",
        "matrix2 = [[1,2,3],[4,5,6],[7,8,9]]\n",
        "\n",
        "result_matrix = [[0,0,0],[0,0,0],[0,0,0]]\n",
        "\n",
        "for item1 in range(len(matrix1)):\n",
        "  for item2 in range(len(matrix2)):\n",
        "      result_matrix[item1][item2] = matrix1[item1][item2] + matrix2[item1][item2]\n",
        "\n",
        "for item in result_matrix:\n",
        "  print(item)"
      ],
      "metadata": {
        "colab": {
          "base_uri": "https://localhost:8080/"
        },
        "id": "5cK7M6UKfRA1",
        "outputId": "d7744f6c-af95-4574-ceb2-c8a61f9bd0b7"
      },
      "execution_count": null,
      "outputs": [
        {
          "output_type": "stream",
          "name": "stdout",
          "text": [
            "[2, 4, 6]\n",
            "[8, 10, 12]\n",
            "[14, 16, 18]\n"
          ]
        }
      ]
    },
    {
      "cell_type": "markdown",
      "source": [
        "2. Write a Python Program to Multiply Two Matrices?"
      ],
      "metadata": {
        "id": "s0JpCmLCfSs4"
      }
    },
    {
      "cell_type": "code",
      "source": [
        "import numpy as np\n",
        "\n",
        "matrix1 = [[1,2,3],[4,5,6],[7,8,9]]\n",
        "matrix2 = [[1,2,3],[4,5,6],[7,8,9]]\n",
        "\n",
        "result_matrix = [[0,0,0],[0,0,0],[0,0,0]]\n",
        "\n",
        "for item1 in range(len(matrix1)):\n",
        "  for item2 in range(len(matrix2[0])):\n",
        "    for item3 in range(len(matrix2)):\n",
        "      result_matrix[item1][item2] += matrix1[item1][item3] * matrix2[item3][item2]\n",
        "\n",
        "for item in result_matrix:\n",
        "  print(item)"
      ],
      "metadata": {
        "colab": {
          "base_uri": "https://localhost:8080/"
        },
        "id": "sG6UUfbynann",
        "outputId": "b2bfc539-fe62-42f9-f6b3-8be3ffd92e4d"
      },
      "execution_count": null,
      "outputs": [
        {
          "output_type": "stream",
          "name": "stdout",
          "text": [
            "[30, 36, 42]\n",
            "[66, 81, 96]\n",
            "[102, 126, 150]\n"
          ]
        }
      ]
    },
    {
      "cell_type": "markdown",
      "source": [
        "3. Write a Python Program to Transpose a Matrix?"
      ],
      "metadata": {
        "id": "yrMrK20ZfVMu"
      }
    },
    {
      "cell_type": "code",
      "source": [
        "import numpy as np\n",
        "matrix1 = [[1,2,3],[4,5,6],[7,8,9]]\n",
        "print(np.transpose(matrix1))"
      ],
      "metadata": {
        "id": "MbMP96uVfVry",
        "colab": {
          "base_uri": "https://localhost:8080/"
        },
        "outputId": "9da93d6f-0075-4f83-faa9-14e6b7e86071"
      },
      "execution_count": 1,
      "outputs": [
        {
          "output_type": "stream",
          "name": "stdout",
          "text": [
            "[[1 4 7]\n",
            " [2 5 8]\n",
            " [3 6 9]]\n"
          ]
        }
      ]
    },
    {
      "cell_type": "markdown",
      "source": [
        "4. Write a Python Program to Sort Words in Alphabetic Order?"
      ],
      "metadata": {
        "id": "q_46UVN_fXP5"
      }
    },
    {
      "cell_type": "code",
      "source": [
        "list1 = ['e','r','w','a','d','q','c','t','b','o','y','o']\n",
        "list1.sort()\n",
        "print(list1)\n"
      ],
      "metadata": {
        "id": "PzoldiCHfXux",
        "colab": {
          "base_uri": "https://localhost:8080/"
        },
        "outputId": "1dbb1e0b-dd35-4ba9-bf23-c2c9ba8e8d48"
      },
      "execution_count": 8,
      "outputs": [
        {
          "output_type": "stream",
          "name": "stdout",
          "text": [
            "['a', 'b', 'c', 'd', 'e', 'o', 'o', 'q', 'r', 't', 'w', 'y']\n"
          ]
        }
      ]
    },
    {
      "cell_type": "markdown",
      "source": [
        "5. Write a Python Program to Remove Punctuation From a String?"
      ],
      "metadata": {
        "id": "3v3GcSnxfZnq"
      }
    },
    {
      "cell_type": "code",
      "source": [
        "string  = '''This is an ! INeuron %  Assignment. Further,I'wll'''\n",
        "punctuation_string = '''!@#$%^&*(){]{']<>,.?/'''\n",
        "for item in string:\n",
        "  if item in punctuation_string:\n",
        "    string = string.replace(item,\"\")\n",
        "print(string)"
      ],
      "metadata": {
        "id": "_aGZSWj5faj6",
        "colab": {
          "base_uri": "https://localhost:8080/"
        },
        "outputId": "b4d8a8ef-dbe7-46be-cf80-8e054135fc1f"
      },
      "execution_count": 21,
      "outputs": [
        {
          "output_type": "stream",
          "name": "stdout",
          "text": [
            "This is an  INeuron   Assignment FurtherIwll\n"
          ]
        }
      ]
    },
    {
      "cell_type": "code",
      "source": [],
      "metadata": {
        "id": "9uyC-wq6UCDx"
      },
      "execution_count": null,
      "outputs": []
    },
    {
      "cell_type": "code",
      "source": [],
      "metadata": {
        "id": "0_7vokzTUUrw"
      },
      "execution_count": null,
      "outputs": []
    }
  ]
}