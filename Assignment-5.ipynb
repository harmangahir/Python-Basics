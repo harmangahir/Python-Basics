{
 "cells": [
  {
   "cell_type": "markdown",
   "id": "724e16ce",
   "metadata": {},
   "source": [
    "# Question 1: What does an empty dictionary's code look like?"
   ]
  },
  {
   "cell_type": "markdown",
   "id": "841662a0",
   "metadata": {},
   "source": [
    "Answer: {}\n",
    "    \n",
    "        or\n",
    "        \n",
    "        dict1 = {}"
   ]
  },
  {
   "cell_type": "markdown",
   "id": "dc571af6",
   "metadata": {},
   "source": [
    "# Question 2: What is the value of a dictionary value with the key 'foo' and the value 42?"
   ]
  },
  {
   "cell_type": "markdown",
   "id": "5a492677",
   "metadata": {},
   "source": [
    "Answer: {'foo' : 42}"
   ]
  },
  {
   "cell_type": "markdown",
   "id": "5daa9550",
   "metadata": {},
   "source": [
    "# Question 3: What is the most significant distinction between a dictionary and a list?"
   ]
  },
  {
   "cell_type": "markdown",
   "id": "85edce3a",
   "metadata": {},
   "source": [
    "Answer: Dictionary contains elements in key value pair and its Unordered \n",
    "        \n",
    "        List contains elements as\n",
    "        1. hetrogenous elements \n",
    "        2. Ordered\n",
    "        3. Indexed"
   ]
  },
  {
   "cell_type": "markdown",
   "id": "86f0508d",
   "metadata": {},
   "source": [
    "# Question 4: What happens if you try to access spam['foo'] if spam is {'bar': 100}?\n",
    "\n"
   ]
  },
  {
   "cell_type": "markdown",
   "id": "88f1d417",
   "metadata": {},
   "source": [
    "Answer: Key 'foo' is not available in dictionary.It gives keyerror"
   ]
  },
  {
   "cell_type": "code",
   "execution_count": 4,
   "id": "b3ae0345",
   "metadata": {},
   "outputs": [
    {
     "ename": "KeyError",
     "evalue": "'foo'",
     "output_type": "error",
     "traceback": [
      "\u001b[1;31m---------------------------------------------------------------------------\u001b[0m",
      "\u001b[1;31mKeyError\u001b[0m                                  Traceback (most recent call last)",
      "Input \u001b[1;32mIn [4]\u001b[0m, in \u001b[0;36m<cell line: 2>\u001b[1;34m()\u001b[0m\n\u001b[0;32m      1\u001b[0m spam  \u001b[38;5;241m=\u001b[39m {\u001b[38;5;124m'\u001b[39m\u001b[38;5;124mbar\u001b[39m\u001b[38;5;124m'\u001b[39m:\u001b[38;5;241m100\u001b[39m}\n\u001b[1;32m----> 2\u001b[0m \u001b[43mspam\u001b[49m\u001b[43m[\u001b[49m\u001b[38;5;124;43m'\u001b[39;49m\u001b[38;5;124;43mfoo\u001b[39;49m\u001b[38;5;124;43m'\u001b[39;49m\u001b[43m]\u001b[49m\n",
      "\u001b[1;31mKeyError\u001b[0m: 'foo'"
     ]
    }
   ],
   "source": [
    "spam  = {'bar':100}\n",
    "spam['foo']"
   ]
  },
  {
   "cell_type": "markdown",
   "id": "b6022fb2",
   "metadata": {},
   "source": [
    "# Question 5: If a dictionary is stored in spam, what is the difference between the expressions 'cat' in spam and 'cat' in spam.keys()?"
   ]
  },
  {
   "cell_type": "markdown",
   "id": "d04fc979",
   "metadata": {},
   "source": [
    "Answer: No difference observed in both cases: Code snippet is availabe in below section:"
   ]
  },
  {
   "cell_type": "code",
   "execution_count": 5,
   "id": "a99cd630",
   "metadata": {},
   "outputs": [],
   "source": [
    " spam = {'cat':23}"
   ]
  },
  {
   "cell_type": "code",
   "execution_count": 8,
   "id": "18523c22",
   "metadata": {},
   "outputs": [],
   "source": [
    "def check():\n",
    "    if 'cat' in spam:\n",
    "        return True"
   ]
  },
  {
   "cell_type": "code",
   "execution_count": 10,
   "id": "9c6a7abd",
   "metadata": {},
   "outputs": [
    {
     "data": {
      "text/plain": [
       "True"
      ]
     },
     "execution_count": 10,
     "metadata": {},
     "output_type": "execute_result"
    }
   ],
   "source": [
    "check()"
   ]
  },
  {
   "cell_type": "code",
   "execution_count": 11,
   "id": "9167943b",
   "metadata": {},
   "outputs": [
    {
     "data": {
      "text/plain": [
       "True"
      ]
     },
     "execution_count": 11,
     "metadata": {},
     "output_type": "execute_result"
    }
   ],
   "source": [
    "'cat' in spam.keys()"
   ]
  },
  {
   "cell_type": "markdown",
   "id": "0f1cd6c6",
   "metadata": {},
   "source": [
    "# Question 6: If a dictionary is stored in spam, what is the difference between the expressions 'cat' in spam and 'cat' in spam.values()?"
   ]
  },
  {
   "cell_type": "markdown",
   "id": "1d2c655c",
   "metadata": {},
   "source": [
    "Answer: 'cat' in expression means availability of 'cat' in dictionary, that is True. However, 'cat' is key here so return false in spam.values()\n",
    "    \n",
    "    "
   ]
  },
  {
   "cell_type": "code",
   "execution_count": 15,
   "id": "a721131e",
   "metadata": {},
   "outputs": [],
   "source": [
    " spam = {'cat':23}"
   ]
  },
  {
   "cell_type": "code",
   "execution_count": 16,
   "id": "4ce42ee3",
   "metadata": {},
   "outputs": [
    {
     "data": {
      "text/plain": [
       "True"
      ]
     },
     "execution_count": 16,
     "metadata": {},
     "output_type": "execute_result"
    }
   ],
   "source": [
    "'cat' in spam"
   ]
  },
  {
   "cell_type": "code",
   "execution_count": 17,
   "id": "58a65657",
   "metadata": {},
   "outputs": [
    {
     "data": {
      "text/plain": [
       "False"
      ]
     },
     "execution_count": 17,
     "metadata": {},
     "output_type": "execute_result"
    }
   ],
   "source": [
    "'cat' in spam.values()"
   ]
  },
  {
   "cell_type": "markdown",
   "id": "2a6112ff",
   "metadata": {},
   "source": [
    "# Question 7; What is a shortcut for the following code?\n",
    "if 'color' not in spam:\n",
    "spam['color'] = 'black'"
   ]
  },
  {
   "cell_type": "code",
   "execution_count": 22,
   "id": "8fb2568a",
   "metadata": {},
   "outputs": [
    {
     "data": {
      "text/plain": [
       "'black'"
      ]
     },
     "execution_count": 22,
     "metadata": {},
     "output_type": "execute_result"
    }
   ],
   "source": [
    "spam.setdefault('color','black')"
   ]
  },
  {
   "cell_type": "markdown",
   "id": "d950d25e",
   "metadata": {},
   "source": [
    "# Question 8: How do you \"pretty print\" dictionary values using which module and function?"
   ]
  },
  {
   "cell_type": "code",
   "execution_count": 23,
   "id": "fa4d4f7d",
   "metadata": {},
   "outputs": [],
   "source": [
    "dict = [{'UID': '21MCA1001', 'Name':'Harmanjeet Singh','Course':'MCA','Batch':2021},\n",
    "        {'UID': '21MCA1002', 'Name':'Harmanjeet Singh','Course':'MCA','Batch':2021},\n",
    "        {'UID': '21MCA1003', 'Name':'Harmanjeet Singh','Course':'MCA','Batch':2021}\n",
    "       ]"
   ]
  },
  {
   "cell_type": "code",
   "execution_count": 25,
   "id": "0a08cea7",
   "metadata": {},
   "outputs": [
    {
     "name": "stdout",
     "output_type": "stream",
     "text": [
      "[{'Batch': 2021,\n",
      "  'Course': 'MCA',\n",
      "  'Name': 'Harmanjeet Singh',\n",
      "  'UID': '21MCA1001'},\n",
      " {'Batch': 2021,\n",
      "  'Course': 'MCA',\n",
      "  'Name': 'Harmanjeet Singh',\n",
      "  'UID': '21MCA1002'},\n",
      " {'Batch': 2021,\n",
      "  'Course': 'MCA',\n",
      "  'Name': 'Harmanjeet Singh',\n",
      "  'UID': '21MCA1003'}]\n"
     ]
    }
   ],
   "source": [
    "import pprint\n",
    "pprint.pprint(dict)"
   ]
  },
  {
   "cell_type": "code",
   "execution_count": null,
   "id": "df537634",
   "metadata": {},
   "outputs": [],
   "source": []
  }
 ],
 "metadata": {
  "kernelspec": {
   "display_name": "Python 3 (ipykernel)",
   "language": "python",
   "name": "python3"
  },
  "language_info": {
   "codemirror_mode": {
    "name": "ipython",
    "version": 3
   },
   "file_extension": ".py",
   "mimetype": "text/x-python",
   "name": "python",
   "nbconvert_exporter": "python",
   "pygments_lexer": "ipython3",
   "version": "3.9.12"
  }
 },
 "nbformat": 4,
 "nbformat_minor": 5
}
