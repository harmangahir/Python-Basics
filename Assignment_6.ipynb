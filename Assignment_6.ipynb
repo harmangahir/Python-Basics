{
  "nbformat": 4,
  "nbformat_minor": 0,
  "metadata": {
    "colab": {
      "provenance": []
    },
    "kernelspec": {
      "name": "python3",
      "display_name": "Python 3"
    },
    "language_info": {
      "name": "python"
    }
  },
  "cells": [
    {
      "cell_type": "markdown",
      "source": [
        "**Question 1:**  What are escape characters, and how do you use them?\n",
        "\n",
        "**Answer:** \n",
        "\n",
        "The backslash \\ is a special character, known as an \"escape\" character, in python. Some whitespace characters, like as tabs '\\t' and newlines '\\n' are represented by this sequence.\n",
        "If I put a \\ in front of a special character(!@#$%^&*()|), it becomes a regular letter. The term for this is \"escape.\" "
      ],
      "metadata": {
        "id": "X-VLupdGhemr"
      }
    },
    {
      "cell_type": "code",
      "source": [
        "print('This is Ineuron\\'s session')"
      ],
      "metadata": {
        "colab": {
          "base_uri": "https://localhost:8080/"
        },
        "id": "HdRAOdDtisfg",
        "outputId": "51fcb1ff-ee97-4048-e94e-1049fbc3d7ba"
      },
      "execution_count": 9,
      "outputs": [
        {
          "output_type": "stream",
          "name": "stdout",
          "text": [
            "This is Ineuron's session\n"
          ]
        }
      ]
    },
    {
      "cell_type": "markdown",
      "source": [
        "**Question 2:** What do the escape characters n and t stand for?\n",
        "\n",
        "**Answer:**\n",
        "\n",
        "*  \\n new line\n",
        "*  \\t tab\n",
        "\n",
        "\n"
      ],
      "metadata": {
        "id": "k5g4PKRDjYlc"
      }
    },
    {
      "cell_type": "code",
      "execution_count": 11,
      "metadata": {
        "colab": {
          "base_uri": "https://localhost:8080/"
        },
        "id": "YOrL58ZjhSmc",
        "outputId": "da813411-f15c-4b5e-a861-0bba8a5d193c"
      },
      "outputs": [
        {
          "output_type": "stream",
          "name": "stdout",
          "text": [
            "AI \n",
            "DS \n",
            "ML \n",
            "DL\n"
          ]
        }
      ],
      "source": [
        "print('AI \\nDS \\nML \\nDL')"
      ]
    },
    {
      "cell_type": "code",
      "source": [
        "print('AI\\tDS\\tML\\tDL')"
      ],
      "metadata": {
        "colab": {
          "base_uri": "https://localhost:8080/"
        },
        "id": "m2FcXlOGjqIQ",
        "outputId": "7f6c9f04-f89a-47f5-95fe-bd1a0c8a32f7"
      },
      "execution_count": 12,
      "outputs": [
        {
          "output_type": "stream",
          "name": "stdout",
          "text": [
            "AI\tDS\tML\tDL\n"
          ]
        }
      ]
    },
    {
      "cell_type": "markdown",
      "source": [
        "**QUestion 3:** What is the way to include backslash characters in a string?\n",
        "\n",
        "**Answer:**\n",
        "Insert one more backslash before actual backslash"
      ],
      "metadata": {
        "id": "4he_5rh9j0oz"
      }
    },
    {
      "cell_type": "code",
      "source": [
        "print('Today\\'s date is 02\\\\10\\\\2022')"
      ],
      "metadata": {
        "colab": {
          "base_uri": "https://localhost:8080/"
        },
        "id": "tnbstw5Sjxy9",
        "outputId": "f84ec7a1-edc0-43ff-91d2-753a1b4b6762"
      },
      "execution_count": 15,
      "outputs": [
        {
          "output_type": "stream",
          "name": "stdout",
          "text": [
            "Today's date is 02\\10\\2022\n"
          ]
        }
      ]
    },
    {
      "cell_type": "markdown",
      "source": [
        "**Question 4:** The string \"Howl's Moving Castle\" is a correct value. Why isn't the single quote character in the word Howl's not escaped a problem?\n",
        "\n",
        "**Answer**:\n",
        "\n",
        "The reason behind this is we are using single quote in a strind which acually enclosed by pair of double quotes.\n",
        "\n",
        "Exampple is given below"
      ],
      "metadata": {
        "id": "EawKX3JTkazG"
      }
    },
    {
      "cell_type": "code",
      "source": [
        "print(\"Howl's Moving Castle\")"
      ],
      "metadata": {
        "colab": {
          "base_uri": "https://localhost:8080/"
        },
        "id": "UX3dmtS4kBKY",
        "outputId": "6fc2a8c9-7a0c-4c22-d532-c89c502ffb0b"
      },
      "execution_count": 16,
      "outputs": [
        {
          "output_type": "stream",
          "name": "stdout",
          "text": [
            "Howl's Moving Castle\n"
          ]
        }
      ]
    },
    {
      "cell_type": "code",
      "source": [
        "print('Howl\"s Moving Castle')# Here we are using double quote is a string where string enclosed by pair of single quote"
      ],
      "metadata": {
        "colab": {
          "base_uri": "https://localhost:8080/"
        },
        "id": "EAdbPSNxkt3f",
        "outputId": "0e39c433-1c04-47b2-896a-22dd7aa3fc33"
      },
      "execution_count": 18,
      "outputs": [
        {
          "output_type": "stream",
          "name": "stdout",
          "text": [
            "Howl\"s Moving Castle\n"
          ]
        }
      ]
    },
    {
      "cell_type": "markdown",
      "source": [
        "**Question 5:** How do you write a string of newlines if you don't want to use the n character?\n",
        "\n",
        "**Answer:**"
      ],
      "metadata": {
        "id": "JMWur0m_lXh-"
      }
    },
    {
      "cell_type": "code",
      "source": [
        "print('This is Ineuron course full stack data science course under boot camp 2.0 \\nIt starts from 17-09-2022\\nThis is 6th assignment pf python fundamentals')"
      ],
      "metadata": {
        "colab": {
          "base_uri": "https://localhost:8080/"
        },
        "id": "Ui_6WGmjkx7C",
        "outputId": "079f6106-b6fd-48e1-95f6-b191f6c1f4bb"
      },
      "execution_count": 20,
      "outputs": [
        {
          "output_type": "stream",
          "name": "stdout",
          "text": [
            "This is Ineuron course full stack data science course under boot camp 2.0 \n",
            "It starts from 17-09-2022\n",
            "This is 6th assignment pf python fundamentals\n"
          ]
        }
      ]
    },
    {
      "cell_type": "markdown",
      "source": [
        "**Question 6:** What are the values of the given expressions?\n",
        "'Hello, world!'[1]\n",
        "'Hello, world!'[0:5]\n",
        "'Hello, world!'[:5]\n",
        "'Hello, world!'[3:]\n",
        "\n",
        "\n",
        "**Answer:**\n",
        "\n",
        "*   print('Hello, world!'[1]) returns 'e' \n",
        "*   print('Hello, world!'[0:5]) returns 'Hello'\n",
        "*   print('Hello, world!'[:5]) returns 'Hello' \n",
        "*   print('Hello, world!'[3:]) returns 'lo, world' \n",
        "\n"
      ],
      "metadata": {
        "id": "8dOncJyPl_nr"
      }
    },
    {
      "cell_type": "code",
      "source": [
        "print('Hello, world!'[1])\n",
        "print('Hello, world!'[0:5])\n",
        "print('Hello, world!'[:5])\n",
        "print('Hello, world!'[3:])\n"
      ],
      "metadata": {
        "colab": {
          "base_uri": "https://localhost:8080/"
        },
        "id": "mDj9IaDDl1Gn",
        "outputId": "0ec78b3c-fcbf-4a82-e7ee-4322b4a8d3fa"
      },
      "execution_count": 22,
      "outputs": [
        {
          "output_type": "stream",
          "name": "stdout",
          "text": [
            "e\n",
            "Hello\n",
            "Hello\n",
            "lo, world!\n"
          ]
        }
      ]
    },
    {
      "cell_type": "markdown",
      "source": [
        "**Question 7:** What are the values of the following expressions?\n",
        "'Hello'.upper()\n",
        "'Hello'.upper().isupper()\n",
        "'Hello'.upper().lower()\n",
        "\n",
        "**Answer:**"
      ],
      "metadata": {
        "id": "ohcixyzfm08-"
      }
    },
    {
      "cell_type": "code",
      "source": [
        "'Hello'.upper()"
      ],
      "metadata": {
        "colab": {
          "base_uri": "https://localhost:8080/",
          "height": 35
        },
        "id": "rwBkDXFomLL-",
        "outputId": "8726e801-a7f8-4afd-cf7e-b263e6d5b7e7"
      },
      "execution_count": 27,
      "outputs": [
        {
          "output_type": "execute_result",
          "data": {
            "text/plain": [
              "'HELLO'"
            ],
            "application/vnd.google.colaboratory.intrinsic+json": {
              "type": "string"
            }
          },
          "metadata": {},
          "execution_count": 27
        }
      ]
    },
    {
      "cell_type": "code",
      "source": [
        "'Hello'.upper().isupper()"
      ],
      "metadata": {
        "colab": {
          "base_uri": "https://localhost:8080/"
        },
        "id": "U_M-VB8rm9oZ",
        "outputId": "ec0846c5-05b1-44fa-856e-f337b11e72b3"
      },
      "execution_count": 25,
      "outputs": [
        {
          "output_type": "execute_result",
          "data": {
            "text/plain": [
              "True"
            ]
          },
          "metadata": {},
          "execution_count": 25
        }
      ]
    },
    {
      "cell_type": "code",
      "source": [
        "'Hello'.upper().lower()"
      ],
      "metadata": {
        "colab": {
          "base_uri": "https://localhost:8080/",
          "height": 35
        },
        "id": "7ckEAsXFnECA",
        "outputId": "2372d0f3-b39f-4640-be8d-b82c1912894e"
      },
      "execution_count": 26,
      "outputs": [
        {
          "output_type": "execute_result",
          "data": {
            "text/plain": [
              "'hello'"
            ],
            "application/vnd.google.colaboratory.intrinsic+json": {
              "type": "string"
            }
          },
          "metadata": {},
          "execution_count": 26
        }
      ]
    },
    {
      "cell_type": "markdown",
      "source": [
        "**Question 8:** What are the values of the following expressions?\n",
        "'Remember, remember, the fifth of July.'.split()\n",
        "'-'.join('There can only one.'.split())\n",
        "\n",
        "**Answer:**\n"
      ],
      "metadata": {
        "id": "PiEJNPWXpIBo"
      }
    },
    {
      "cell_type": "code",
      "source": [
        "'Remember, remember, the fifth of July.'.split()"
      ],
      "metadata": {
        "colab": {
          "base_uri": "https://localhost:8080/"
        },
        "id": "EBBjnsd9nFZ0",
        "outputId": "7825d795-fb82-4bd1-e6b3-a2337312bdcf"
      },
      "execution_count": 32,
      "outputs": [
        {
          "output_type": "execute_result",
          "data": {
            "text/plain": [
              "['Remember,', 'remember,', 'the', 'fifth', 'of', 'July.']"
            ]
          },
          "metadata": {},
          "execution_count": 32
        }
      ]
    },
    {
      "cell_type": "code",
      "source": [
        "'-'.join('There can only one.'.split())"
      ],
      "metadata": {
        "colab": {
          "base_uri": "https://localhost:8080/",
          "height": 35
        },
        "id": "4QHcS65gpdAg",
        "outputId": "dcd3f1f6-ee34-41ad-d531-8bdc0ffa3124"
      },
      "execution_count": 34,
      "outputs": [
        {
          "output_type": "execute_result",
          "data": {
            "text/plain": [
              "'There-can-only-one.'"
            ],
            "application/vnd.google.colaboratory.intrinsic+json": {
              "type": "string"
            }
          },
          "metadata": {},
          "execution_count": 34
        }
      ]
    },
    {
      "cell_type": "markdown",
      "source": [
        "**Question** 9: What are the methods for right-justifying, left-justifying, and centering a string?\n",
        "\n",
        "**Answer:**\n",
        "\n",
        "\n",
        "*   ljust()\n",
        "*   rjust()\n",
        "*   center()\n",
        "\n",
        "\n"
      ],
      "metadata": {
        "id": "KrAxmR8spto2"
      }
    },
    {
      "cell_type": "code",
      "source": [
        "string = 'This is INeuron'\n",
        "print(string.ljust(20,'*'))\n",
        "print(string.rjust(20,'*'))\n",
        "print(string.center(20,'*'))\n"
      ],
      "metadata": {
        "colab": {
          "base_uri": "https://localhost:8080/"
        },
        "id": "3GKJJJT2pe6u",
        "outputId": "8859835e-9dde-4b56-9272-ae3a20db91df"
      },
      "execution_count": 51,
      "outputs": [
        {
          "output_type": "stream",
          "name": "stdout",
          "text": [
            "This is INeuron*****\n",
            "*****This is INeuron\n",
            "**This is INeuron***\n"
          ]
        }
      ]
    },
    {
      "cell_type": "markdown",
      "source": [
        "**Question 10:** What is the best way to remove whitespace characters from the start or end?\n",
        "\n",
        "**Answer:**\n",
        "\n",
        "\n",
        "\n",
        "*   lstrip(): Remove white spaces from left\n",
        "*   rstrip(): Remove white spaces from right\n",
        "*   strip(): Remove white spaces from both left and right\n",
        "\n"
      ],
      "metadata": {
        "id": "RYrrp-znrOHH"
      }
    },
    {
      "cell_type": "code",
      "source": [
        "string = '    This is INeuron    ' \n",
        "string.lstrip()"
      ],
      "metadata": {
        "colab": {
          "base_uri": "https://localhost:8080/",
          "height": 35
        },
        "id": "2KgZWXFTqND3",
        "outputId": "58d3254e-672b-4551-c2d0-14ca86eb2b8d"
      },
      "execution_count": 60,
      "outputs": [
        {
          "output_type": "execute_result",
          "data": {
            "text/plain": [
              "'This is INeuron    '"
            ],
            "application/vnd.google.colaboratory.intrinsic+json": {
              "type": "string"
            }
          },
          "metadata": {},
          "execution_count": 60
        }
      ]
    },
    {
      "cell_type": "code",
      "source": [
        "string.rstrip()"
      ],
      "metadata": {
        "colab": {
          "base_uri": "https://localhost:8080/",
          "height": 35
        },
        "id": "NCPjy-K1rW5h",
        "outputId": "b9d60da1-50d2-4564-cb5b-1a0edfb683fa"
      },
      "execution_count": 61,
      "outputs": [
        {
          "output_type": "execute_result",
          "data": {
            "text/plain": [
              "'    This is INeuron'"
            ],
            "application/vnd.google.colaboratory.intrinsic+json": {
              "type": "string"
            }
          },
          "metadata": {},
          "execution_count": 61
        }
      ]
    },
    {
      "cell_type": "code",
      "source": [
        "string.strip()"
      ],
      "metadata": {
        "colab": {
          "base_uri": "https://localhost:8080/",
          "height": 35
        },
        "id": "wHqdG37QsAhY",
        "outputId": "656659f7-a822-464e-bd0c-23aea0dc2a60"
      },
      "execution_count": 62,
      "outputs": [
        {
          "output_type": "execute_result",
          "data": {
            "text/plain": [
              "'This is INeuron'"
            ],
            "application/vnd.google.colaboratory.intrinsic+json": {
              "type": "string"
            }
          },
          "metadata": {},
          "execution_count": 62
        }
      ]
    },
    {
      "cell_type": "code",
      "source": [],
      "metadata": {
        "id": "szxH3gezsB9C"
      },
      "execution_count": null,
      "outputs": []
    }
  ]
}