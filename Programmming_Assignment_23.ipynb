{
  "nbformat": 4,
  "nbformat_minor": 0,
  "metadata": {
    "colab": {
      "provenance": []
    },
    "kernelspec": {
      "name": "python3",
      "display_name": "Python 3"
    },
    "language_info": {
      "name": "python"
    }
  },
  "cells": [
    {
      "cell_type": "markdown",
      "source": [
        "Question 1\n",
        "Create a function that takes a number as an argument and returns True or False depending\n",
        "on whether the number is symmetrical or not. A number is symmetrical when it is the same as\n",
        "its reverse.\n",
        "Examples\n",
        "is_symmetrical(7227) ➞ True\n",
        "is_symmetrical(12567) ➞ False\n",
        "is_symmetrical(44444444) ➞ True\n",
        "is_symmetrical(9939) ➞ False\n",
        "is_symmetrical(1112111) ➞ True"
      ],
      "metadata": {
        "id": "MzVMjslT2WZZ"
      }
    },
    {
      "cell_type": "code",
      "execution_count": null,
      "metadata": {
        "colab": {
          "base_uri": "https://localhost:8080/"
        },
        "id": "1XFtpBUu2CBM",
        "outputId": "da0fb076-7185-4d5d-a669-b31ed7c0aa18"
      },
      "outputs": [
        {
          "output_type": "stream",
          "name": "stdout",
          "text": [
            "True\n",
            "False\n",
            "True\n",
            "False\n",
            "True\n"
          ]
        }
      ],
      "source": [
        "def is_symmetrical(number):\n",
        "  test = number\n",
        "  count = 0\n",
        "  while(test>0):\n",
        "    remainder = test % 10\n",
        "    count = (count * 10) + remainder\n",
        "    test = test // 10\n",
        "\n",
        "  \n",
        "  return True if number==count else False\n",
        "\n",
        "print(is_symmetrical(7227))\n",
        "print(is_symmetrical(12567))\n",
        "print(is_symmetrical(44444444))\n",
        "print(is_symmetrical(9939))\n",
        "print(is_symmetrical(1112111))\n",
        "\n"
      ]
    },
    {
      "cell_type": "markdown",
      "source": [
        "Question 2\n",
        "Given a string of numbers separated by a comma and space, return the product of the\n",
        "numbers.\n",
        "Examples\n",
        "multiply_nums(&quot;2, 3&quot;) ➞ 6\n",
        "multiply_nums(&quot;1, 2, 3, 4&quot;) ➞ 24\n",
        "multiply_nums(&quot;54, 75, 453, 0&quot;) ➞ 0\n",
        "multiply_nums(&quot;10, -2&quot;) ➞ -20"
      ],
      "metadata": {
        "id": "-hpMAJpO7N3i"
      }
    },
    {
      "cell_type": "code",
      "source": [
        "def multiply_nums(string):\n",
        "  string = string.replace(' ', '')\n",
        "  string = string.split(',')\n",
        "  multiply = 1\n",
        "  for item in string:\n",
        "    multiply*=int(item)\n",
        "  return multiply\n",
        "\n",
        "  \n",
        "\n",
        "print(multiply_nums('2, 3'))\n",
        "print(multiply_nums('1, 2, 3, 4'))\n",
        "print(multiply_nums('54, 75, 453, 0'))\n",
        "print(multiply_nums('10, -2'))"
      ],
      "metadata": {
        "colab": {
          "base_uri": "https://localhost:8080/"
        },
        "id": "kmFtQjrA3stc",
        "outputId": "c7c371b2-d096-4a77-d1cf-05a263526587"
      },
      "execution_count": 17,
      "outputs": [
        {
          "output_type": "stream",
          "name": "stdout",
          "text": [
            "6\n",
            "24\n",
            "0\n",
            "-20\n"
          ]
        }
      ]
    },
    {
      "cell_type": "markdown",
      "source": [
        "Question 3\n",
        "Create a function that squares every digit of a number.\n",
        "Examples\n",
        "square_digits(9119) ➞ 811181\n",
        "square_digits(2483) ➞ 416649\n",
        "square_digits(3212) ➞ 9414\n",
        "Notes\n",
        "The function receives an integer and must return an integer."
      ],
      "metadata": {
        "id": "FWUgfhmSvSXZ"
      }
    },
    {
      "cell_type": "code",
      "source": [
        "import math\n",
        "def square_digits(number):\n",
        "  return  int(''.join(str(int(math.pow(int(item),2))) for item in str(number)))\n",
        "  \n",
        "\n",
        "print(square_digits(9119))\n",
        "print(square_digits(2483))\n",
        "print(square_digits(3212))\n",
        "\n",
        "\n"
      ],
      "metadata": {
        "id": "e7NndvPx7pVP",
        "colab": {
          "base_uri": "https://localhost:8080/"
        },
        "outputId": "1335ef7d-0d01-4214-8542-413c5b0e8dd3"
      },
      "execution_count": 52,
      "outputs": [
        {
          "output_type": "stream",
          "name": "stdout",
          "text": [
            "811181\n",
            "416649\n",
            "9414\n"
          ]
        }
      ]
    },
    {
      "cell_type": "markdown",
      "source": [
        "Question 4\n",
        "Create a function that sorts a list and removes all duplicate items from it.\n",
        "Examples\n",
        "setify([1, 3, 3, 5, 5]) ➞ [1, 3, 5]\n",
        "setify([4, 4, 4, 4]) ➞ [4]\n",
        "setify([5, 7, 8, 9, 10, 15]) ➞ [5, 7, 8, 9, 10, 15]\n",
        "setify([3, 3, 3, 2, 1]) ➞ [1, 2, 3]"
      ],
      "metadata": {
        "id": "EFNR3YhD05TQ"
      }
    },
    {
      "cell_type": "code",
      "source": [
        "def setify(list1):\n",
        "  list1.sort()\n",
        "  list2=[]\n",
        "  for item in list1:\n",
        "    if list2.count(item)==0:\n",
        "      list2.append(item)\n",
        "    else:\n",
        "      continue\n",
        "  return list2\n",
        "\n",
        "print(setify([1 ,3, 3, 5, 5]))\n",
        "print(setify([4, 4, 4, 4]))\n",
        "print(setify([5, 7, 8, 9, 10, 15]))\n",
        "print(setify([3, 3, 3, 2, 1]))"
      ],
      "metadata": {
        "colab": {
          "base_uri": "https://localhost:8080/"
        },
        "id": "hXartsu8vtJ1",
        "outputId": "bd61f215-18bc-4dfe-89b8-a7fa18bb4e92"
      },
      "execution_count": 64,
      "outputs": [
        {
          "output_type": "stream",
          "name": "stdout",
          "text": [
            "[1, 3, 5]\n",
            "[4]\n",
            "[5, 7, 8, 9, 10, 15]\n",
            "[1, 2, 3]\n"
          ]
        }
      ]
    },
    {
      "cell_type": "markdown",
      "source": [
        "Question 5\n",
        "Create a function that returns the mean of all digits.\n",
        "Examples\n",
        "mean(42) ➞ 3\n",
        "mean(12345) ➞ 3\n",
        "mean(666) ➞ 6\n",
        "Notes\n",
        " The mean of all digits is the sum of digits / how many digits there are (e.g. mean of digits in\n",
        "512 is (5+1+2)/3(number of digits) = 8/3=2).\n",
        " The mean will always be an integer."
      ],
      "metadata": {
        "id": "ppPmjbl32Wxi"
      }
    },
    {
      "cell_type": "code",
      "source": [
        "import math\n",
        "def mean(number):\n",
        "\n",
        "  list1 = []\n",
        "  sum=result=count = 0\n",
        "  while(number>0):\n",
        "    reminder = number % 10\n",
        "    count = count+1\n",
        "    list1.append(reminder)\n",
        "    number = number // 10\n",
        "  \n",
        "  for item in list1:\n",
        "    sum+=item\n",
        "  result=sum/count\n",
        "  return int(result)\n",
        "\n",
        "print(mean(42))\n",
        "print(mean(12345))\n",
        "print(mean(666))"
      ],
      "metadata": {
        "colab": {
          "base_uri": "https://localhost:8080/"
        },
        "id": "4Fu38t211Omm",
        "outputId": "a0f730c3-434e-4d45-96a3-d879a1505c1c"
      },
      "execution_count": 82,
      "outputs": [
        {
          "output_type": "stream",
          "name": "stdout",
          "text": [
            "3\n",
            "3\n",
            "6\n"
          ]
        }
      ]
    },
    {
      "cell_type": "code",
      "source": [],
      "metadata": {
        "id": "cpfBFyZ62r4f"
      },
      "execution_count": null,
      "outputs": []
    }
  ]
}