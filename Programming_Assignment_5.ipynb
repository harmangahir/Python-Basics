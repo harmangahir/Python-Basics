{
  "nbformat": 4,
  "nbformat_minor": 0,
  "metadata": {
    "colab": {
      "provenance": []
    },
    "kernelspec": {
      "name": "python3",
      "display_name": "Python 3"
    },
    "language_info": {
      "name": "python"
    }
  },
  "cells": [
    {
      "cell_type": "markdown",
      "source": [
        "1. Write a Python Program to Find LCM?"
      ],
      "metadata": {
        "id": "vokYrjyCnMeu"
      }
    },
    {
      "cell_type": "code",
      "execution_count": 2,
      "metadata": {
        "colab": {
          "base_uri": "https://localhost:8080/"
        },
        "id": "PXJWwdGJnFkQ",
        "outputId": "d01997c2-0e67-4801-d54f-cafec3d7c8a1"
      },
      "outputs": [
        {
          "output_type": "stream",
          "name": "stdout",
          "text": [
            "Enter Number1:10\n",
            "Enter Number2:16\n",
            "LCM of 10 and 16 is 80\n"
          ]
        }
      ],
      "source": [
        "def LCM_Calculate(num1, num2):\n",
        "  if num1 > num2:\n",
        "    greater = num1\n",
        "  else:\n",
        "    greater = num2\n",
        "  \n",
        "  while(True):\n",
        "    if((greater % num1 == 0) and (greater % num2 == 0)):\n",
        "      lcm = greater\n",
        "      break\n",
        "    else:\n",
        "      greater += 1\n",
        "  return lcm\n",
        "\n",
        "number1 = int(input('Enter Number1:'))\n",
        "number2 = int(input('Enter Number2:'))\n",
        "\n",
        "print('LCM of {0} and {1} is {2}'.format(number1,number2,LCM_Calculate(number1,number2)))\n",
        "\n"
      ]
    },
    {
      "cell_type": "markdown",
      "source": [
        "162. Write a Python Program to Find HCF?"
      ],
      "metadata": {
        "id": "-mHFYT8-plyC"
      }
    },
    {
      "cell_type": "code",
      "source": [
        "def HCF_Calculate(num1, num2):\n",
        "  if num1 > num2:\n",
        "    smaller = num2\n",
        "  else:\n",
        "    smaller = num1\n",
        "  \n",
        "  for item in range(1, smaller + 1):\n",
        "    if((num1 % item == 0) and (num2 % item == 0)):\n",
        "      hcf = item\n",
        "  return hcf\n",
        "\n",
        "number1 = int(input('Enter Number1:'))\n",
        "number2 = int(input('Enter Number2:'))\n",
        "\n",
        "print('HCF of {0} and {1} is {2}'.format(number1,number2,HCF_Calculate(number1,number2)))\n"
      ],
      "metadata": {
        "colab": {
          "base_uri": "https://localhost:8080/"
        },
        "id": "fyUyuQvXpmkA",
        "outputId": "4a39d403-2212-4ede-fbdc-a84b74212daf"
      },
      "execution_count": null,
      "outputs": [
        {
          "output_type": "stream",
          "name": "stdout",
          "text": [
            "Enter Number1:4\n",
            "Enter Number2:8\n",
            "HCF of 4 and 8 is 4\n"
          ]
        }
      ]
    },
    {
      "cell_type": "markdown",
      "source": [
        "3. Write a Python Program to Convert Decimal to Binary, Octal and Hexadecimal?8"
      ],
      "metadata": {
        "id": "LHC04kaTppUm"
      }
    },
    {
      "cell_type": "code",
      "source": [
        "def calculate_binary(number):\n",
        "  binary_result = [0] * number\n",
        "  binary = []\n",
        "  i = 0\n",
        "  while(number > 0):\n",
        "    binary_result[i] = number % 2\n",
        "    number = int(number / 2)\n",
        "    i+=1\n",
        "\n",
        "  for item in range(i-1,-1,-1):\n",
        "    print(binary_result[item],end=\"\")\n",
        "  \n",
        "\n",
        "def calculate_octal(number):\n",
        "  octal_result = [0] * number\n",
        "  i = 0\n",
        "  while(number != 0):\n",
        "    octal_result[i] = number % 8\n",
        "    number = int(number / 8)\n",
        "    i+=1\n",
        "\n",
        "  for item in range(i-1,-1,-1):\n",
        "    print(octal_result[item],end = \"\")\n",
        "\n",
        "  print('\\n')  \n",
        "\n",
        "\n",
        "def calculate_hexa(number):\n",
        "  hexaDec = [\"0\"]*100\n",
        "  i = 0\n",
        "  while(number !=0):\n",
        "    tmp = 0\n",
        "    tmp = number % 16\n",
        "    if(tmp < 10):\n",
        "      hexaDec[i] = chr(tmp + 48)\n",
        "      i = i + 1\n",
        "    else:\n",
        "      hexaDec[i] = chr(tmp +55)\n",
        "      i = i + 1\n",
        "    number = int(number / 16)\n",
        "    j = i -1\n",
        "    while(j >= 0):\n",
        "      print((hexaDec[j]),end=\"\")\n",
        "      j = j - 1\n",
        "\n",
        "print('\\n')  \n",
        "\n",
        "number = int(input('Enter a number:'))\n",
        "print('Binary is:')\n",
        "calculate_binary(number)\n",
        "\n",
        "print('\\n')\n",
        "print('Octal is:')\n",
        "calculate_octal(number)\n",
        "\n",
        "\n",
        "print('\\n')\n",
        "print('Hexa is:')\n",
        "calculate_hexa(number)\n"
      ],
      "metadata": {
        "id": "_7ZpWAtVpp97",
        "colab": {
          "base_uri": "https://localhost:8080/"
        },
        "outputId": "90796a73-9817-4ec7-ed0f-f7ebfcfb255f"
      },
      "execution_count": 49,
      "outputs": [
        {
          "output_type": "stream",
          "name": "stdout",
          "text": [
            "\n",
            "\n",
            "Enter a number:16\n",
            "Binary is:\n",
            "10000\n",
            "\n",
            "Octal is:\n",
            "20\n",
            "\n",
            "\n",
            "\n",
            "Hexa is:\n",
            "010"
          ]
        }
      ]
    },
    {
      "cell_type": "markdown",
      "source": [
        "4. Write a Python Program To Find ASCII value of a character?"
      ],
      "metadata": {
        "id": "J1dZEjM9prq6"
      }
    },
    {
      "cell_type": "code",
      "source": [
        "character = input(\"Enter a character : \")\n",
        "\n",
        "print(\"The ASCII value of {} is {}\".format(character,ord(character)))"
      ],
      "metadata": {
        "id": "R6YeYuN7psOW",
        "colab": {
          "base_uri": "https://localhost:8080/"
        },
        "outputId": "fcf41182-a339-430e-9160-4180cf56e875"
      },
      "execution_count": 51,
      "outputs": [
        {
          "output_type": "stream",
          "name": "stdout",
          "text": [
            "Enter a character : z\n",
            "The ASCII value of z is 122\n"
          ]
        }
      ]
    },
    {
      "cell_type": "markdown",
      "source": [
        "5. Write a Python Program to Make a Simple Calculator with 4 basic mathematical operations?"
      ],
      "metadata": {
        "id": "dzJPrrMOpulU"
      }
    },
    {
      "cell_type": "code",
      "source": [
        "def add(x, y):\n",
        "    return x + y\n",
        "\n",
        "def subtract(x, y):\n",
        "    return x - y\n",
        "\n",
        "def multiply(x, y):\n",
        "    return x * y\n",
        "\n",
        "def divide(x, y):\n",
        "    return x / y\n",
        "\n",
        "\n",
        "print(\"Menu:\")\n",
        "print(\"1.Add\")\n",
        "print(\"2.Subtract\")\n",
        "print(\"3.Multiply\")\n",
        "print(\"4.Divide\")\n",
        "\n",
        "while True:\n",
        "    choice = input(\"Enter choice(1/2/3/4): \")\n",
        "    if choice in ('1', '2', '3', '4'):\n",
        "        number1 = float(input(\"Enter first number: \"))\n",
        "        number2 = float(input(\"Enter second number: \"))\n",
        "\n",
        "        if choice == '1':\n",
        "            print(number1, \"+\", number2, \"=\", add(number1, number2))\n",
        "\n",
        "        elif choice == '2':\n",
        "            print(number1, \"-\", number2, \"=\", subtract(number1, number2))\n",
        "\n",
        "        elif choice == '3':\n",
        "            print(number1, \"*\", number2, \"=\", multiply(number1, number2))\n",
        "\n",
        "        elif choice == '4':\n",
        "            print(number1, \"/\", number2, \"=\", divide(number1, number2))\n",
        "        \n",
        "        next_calculation = input(\"Let's do next calculation? (yes/no): \")\n",
        "        if next_calculation == \"no\":\n",
        "          break\n",
        "    \n",
        "    else:\n",
        "        print(\"Invalid Input\")"
      ],
      "metadata": {
        "id": "W8JN8u5lpvxo",
        "colab": {
          "base_uri": "https://localhost:8080/"
        },
        "outputId": "c317bea5-95eb-499e-f217-fcbc4d113915"
      },
      "execution_count": 52,
      "outputs": [
        {
          "name": "stdout",
          "output_type": "stream",
          "text": [
            "Menu:\n",
            "1.Add\n",
            "2.Subtract\n",
            "3.Multiply\n",
            "4.Divide\n",
            "Enter choice(1/2/3/4): 4\n",
            "Enter first number: 23\n",
            "Enter second number: 12\n",
            "23.0 / 12.0 = 1.9166666666666667\n",
            "Let's do next calculation? (yes/no): no\n"
          ]
        }
      ]
    },
    {
      "cell_type": "code",
      "source": [],
      "metadata": {
        "id": "lfE5k0IDLAkw"
      },
      "execution_count": null,
      "outputs": []
    }
  ]
}