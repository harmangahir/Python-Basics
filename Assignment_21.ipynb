{
  "nbformat": 4,
  "nbformat_minor": 0,
  "metadata": {
    "colab": {
      "provenance": []
    },
    "kernelspec": {
      "name": "python3",
      "display_name": "Python 3"
    },
    "language_info": {
      "name": "python"
    }
  },
  "cells": [
    {
      "cell_type": "markdown",
      "source": [
        "**Question 1:** Add the current date to the text file today.txt as a string."
      ],
      "metadata": {
        "id": "-DX6qKKhS7SA"
      }
    },
    {
      "cell_type": "code",
      "execution_count": 13,
      "metadata": {
        "id": "ziCvRlr1S07Q"
      },
      "outputs": [],
      "source": [
        "from datetime import date\n",
        "\n",
        "with open('today.txt','w') as file:\n",
        "  file.write(str(date.today()))\n"
      ]
    },
    {
      "cell_type": "markdown",
      "source": [
        "**Question 2:** Read the text file today.txt into the string today_string"
      ],
      "metadata": {
        "id": "LiZoZbkKUr7d"
      }
    },
    {
      "cell_type": "code",
      "source": [
        "with open('today.txt','r') as file:\n",
        "  today_string = file.read()\n",
        "\n",
        "today_string"
      ],
      "metadata": {
        "colab": {
          "base_uri": "https://localhost:8080/",
          "height": 35
        },
        "id": "XQcBrt6ZTM77",
        "outputId": "4d2f66db-f0b1-4c27-81e5-c3b164e86ded"
      },
      "execution_count": 12,
      "outputs": [
        {
          "output_type": "execute_result",
          "data": {
            "text/plain": [
              "'2022-11-01'"
            ],
            "application/vnd.google.colaboratory.intrinsic+json": {
              "type": "string"
            }
          },
          "metadata": {},
          "execution_count": 12
        }
      ]
    },
    {
      "cell_type": "markdown",
      "source": [
        "**Question 3:** Parse the date from today_string."
      ],
      "metadata": {
        "id": "G1f4l7XcWV0v"
      }
    },
    {
      "cell_type": "code",
      "source": [
        "from datetime import datetime\n",
        "format = '%Y-%m-%d'\n",
        "datetime.strptime(today_string,format)"
      ],
      "metadata": {
        "colab": {
          "base_uri": "https://localhost:8080/"
        },
        "id": "pOs87t8PVx5p",
        "outputId": "996b922d-d13d-486f-83ca-0b72eae2b857"
      },
      "execution_count": 45,
      "outputs": [
        {
          "output_type": "execute_result",
          "data": {
            "text/plain": [
              "datetime.datetime(2022, 11, 1, 0, 0)"
            ]
          },
          "metadata": {},
          "execution_count": 45
        }
      ]
    },
    {
      "cell_type": "markdown",
      "source": [
        "**Question 4:** List the files in your current directory"
      ],
      "metadata": {
        "id": "X06iYwcSXR4l"
      }
    },
    {
      "cell_type": "code",
      "source": [
        "import os\n",
        "os.listdir()"
      ],
      "metadata": {
        "colab": {
          "base_uri": "https://localhost:8080/"
        },
        "id": "U-3x3VpsXGXn",
        "outputId": "5612379e-8c7c-4273-ab99-7cda303d2c70"
      },
      "execution_count": 46,
      "outputs": [
        {
          "output_type": "execute_result",
          "data": {
            "text/plain": [
              "['.config', 'today.txt', 'sample_data']"
            ]
          },
          "metadata": {},
          "execution_count": 46
        }
      ]
    },
    {
      "cell_type": "markdown",
      "source": [
        "**Question 5:** Create a list of all of the files in your parent directory (minimum five files should be available)."
      ],
      "metadata": {
        "id": "8730kU-sXrdg"
      }
    },
    {
      "cell_type": "code",
      "source": [
        "os.listdir('..')"
      ],
      "metadata": {
        "colab": {
          "base_uri": "https://localhost:8080/"
        },
        "id": "9j2GeO5HXZmv",
        "outputId": "a1ff15a6-6f9f-49c7-ae6d-27adc1226b96"
      },
      "execution_count": 48,
      "outputs": [
        {
          "output_type": "execute_result",
          "data": {
            "text/plain": [
              "['bin',\n",
              " 'home',\n",
              " 'proc',\n",
              " 'lib',\n",
              " 'dev',\n",
              " 'tmp',\n",
              " 'lib64',\n",
              " 'var',\n",
              " 'usr',\n",
              " 'media',\n",
              " 'boot',\n",
              " 'root',\n",
              " 'sbin',\n",
              " 'mnt',\n",
              " 'sys',\n",
              " 'etc',\n",
              " 'opt',\n",
              " 'run',\n",
              " 'srv',\n",
              " 'content',\n",
              " '.dockerenv',\n",
              " 'tools',\n",
              " 'datalab',\n",
              " 'python-apt',\n",
              " 'lib32',\n",
              " 'NGC-DL-CONTAINER-LICENSE']"
            ]
          },
          "metadata": {},
          "execution_count": 48
        }
      ]
    },
    {
      "cell_type": "markdown",
      "source": [
        "**Question 6:** Use multiprocessing to create three separate processes. Make each one wait a random number of\n",
        "seconds between one and five, print the current time, and then exit."
      ],
      "metadata": {
        "id": "U-vxMxPZX4xB"
      }
    },
    {
      "cell_type": "code",
      "source": [
        "import multiprocessing\n",
        "def printsec(seconds):\n",
        "    from datetime import datetime\n",
        "    from time import sleep\n",
        "    sleep(seconds)\n",
        "    print('wait', seconds, 'seconds, time is', datetime.utcnow())\n",
        "    \n",
        "if __name__ == '__main__':\n",
        "    import random    \n",
        "    for n in range(3):\n",
        "        seconds = random.random()\n",
        "        proc = multiprocessing.Process(target=printsec, args=(seconds,))\n",
        "        proc.start()"
      ],
      "metadata": {
        "id": "iAUjjVT4X82i"
      },
      "execution_count": 50,
      "outputs": []
    },
    {
      "cell_type": "markdown",
      "source": [
        "**Question 7:** Create a date object of your day of birth."
      ],
      "metadata": {
        "id": "ItqRcDy2X_Ma"
      }
    },
    {
      "cell_type": "code",
      "source": [
        "date_Object = date(1985,1,17)"
      ],
      "metadata": {
        "id": "ufex1ZacYB8M"
      },
      "execution_count": 40,
      "outputs": []
    },
    {
      "cell_type": "markdown",
      "source": [
        "**Question 8:** What day of the week was your day of birth?"
      ],
      "metadata": {
        "id": "Kx4YQaByYQwv"
      }
    },
    {
      "cell_type": "code",
      "source": [
        "import calendar\n",
        "date_Object = datetime.strptime(str(date_Object),'%Y-%m-%d').weekday()\n",
        "calendar.day_name[date_Object]"
      ],
      "metadata": {
        "colab": {
          "base_uri": "https://localhost:8080/",
          "height": 35
        },
        "id": "jphJ3siFYH8s",
        "outputId": "8e89f6e3-cea5-429a-d97c-7708a690a53c"
      },
      "execution_count": 41,
      "outputs": [
        {
          "output_type": "execute_result",
          "data": {
            "text/plain": [
              "'Thursday'"
            ],
            "application/vnd.google.colaboratory.intrinsic+json": {
              "type": "string"
            }
          },
          "metadata": {},
          "execution_count": 41
        }
      ]
    },
    {
      "cell_type": "markdown",
      "source": [
        "**Question 9:** When will you be (or when were you) 10,000 days old?"
      ],
      "metadata": {
        "id": "QapqVAt0aLAu"
      }
    },
    {
      "cell_type": "code",
      "source": [
        "from datetime import  timedelta\n",
        "date_Object = date(1985,1,17)\n",
        "new_Date=date_Object + timedelta(10000)\n",
        "new_Date"
      ],
      "metadata": {
        "colab": {
          "base_uri": "https://localhost:8080/"
        },
        "id": "SU80q90wYV8q",
        "outputId": "d6503d87-076c-427c-8a21-bc31a1dd9d22"
      },
      "execution_count": 43,
      "outputs": [
        {
          "output_type": "execute_result",
          "data": {
            "text/plain": [
              "datetime.date(2012, 6, 4)"
            ]
          },
          "metadata": {},
          "execution_count": 43
        }
      ]
    }
  ]
}