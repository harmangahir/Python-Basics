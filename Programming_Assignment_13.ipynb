{
  "nbformat": 4,
  "nbformat_minor": 0,
  "metadata": {
    "colab": {
      "provenance": []
    },
    "kernelspec": {
      "name": "python3",
      "display_name": "Python 3"
    },
    "language_info": {
      "name": "python"
    }
  },
  "cells": [
    {
      "cell_type": "markdown",
      "source": [
        "Question 1. \n",
        "Write a program that calculates and prints the value according to the given formula:\n",
        "Q = Square root of [(2 * C * D)/H]\n",
        "Following are the fixed values of C and H:\n",
        "C is 50. H is 30.\n",
        "D is the variable whose values should be input to your program in a comma-separated\n",
        "sequence.\n",
        "Example\n",
        "Let us assume the following comma separated input sequence is given to the program:\n",
        "100,150,180\n",
        "The output of the program should be:\n",
        "18,22,24"
      ],
      "metadata": {
        "id": "25n6_ju4JoPz"
      }
    },
    {
      "cell_type": "code",
      "execution_count": 75,
      "metadata": {
        "id": "WAIRkFwuY8Jf",
        "colab": {
          "base_uri": "https://localhost:8080/"
        },
        "outputId": "76915a3b-5454-4363-be8f-347fdb28570d"
      },
      "outputs": [
        {
          "output_type": "stream",
          "name": "stdout",
          "text": [
            "Enter a number:100,150,180\n",
            "[18, 22, 24]\n"
          ]
        }
      ],
      "source": [
        "import math\n",
        "c = 50\n",
        "h = 30\n",
        "number = input('Enter a number:')\n",
        "list1 = number.split(',')\n",
        "list2 = []\n",
        "for item in list1:\n",
        "  list2.append(int(item))\n",
        "\n",
        "result = []\n",
        "\n",
        "for item in list2:\n",
        "  result.append(int(math.sqrt((2*c*item)/h)))\n",
        "\n",
        "print(result)"
      ]
    },
    {
      "cell_type": "markdown",
      "source": [
        "Question 2:\n",
        "Write a program which takes 2 digits, X,Y as input and generates a 2-dimensional array. The\n",
        "element value in the i-th row and j-th column of the array should be i*j.\n",
        "Note: i=0,1.., X-1; j=0,1,¡Y-1.\n",
        "Example\n",
        "Suppose the following inputs are given to the program:\n",
        "3,5\n",
        "Then, the output of the program should be:\n",
        "[[0, 0, 0, 0, 0], [0, 1, 2, 3, 4], [0, 2, 4, 6, 8]]"
      ],
      "metadata": {
        "id": "4PEsQsI8MO5z"
      }
    },
    {
      "cell_type": "code",
      "source": [
        "X = int(input('Enter X:'))\n",
        "Y = int(input('Enter Y:')) \n",
        "array = []\n",
        "for i in range(X):\n",
        "  sub = []\n",
        "  for j in range(Y):\n",
        "    sub.append(i*j)\n",
        "  array.append(sub)\n",
        "\n",
        "print(array)\n",
        "\n"
      ],
      "metadata": {
        "colab": {
          "base_uri": "https://localhost:8080/"
        },
        "id": "mrbZvCRsKlCJ",
        "outputId": "036f336a-e1c4-4950-a444-ba87d3e85626"
      },
      "execution_count": 12,
      "outputs": [
        {
          "output_type": "stream",
          "name": "stdout",
          "text": [
            "Enter X:3\n",
            "Enter Y:5\n",
            "[[0, 0, 0, 0, 0], [0, 1, 2, 3, 4], [0, 2, 4, 6, 8]]\n"
          ]
        }
      ]
    },
    {
      "cell_type": "markdown",
      "source": [
        "Question 3:\n",
        "Write a program that accepts a comma separated sequence of words as input and prints the\n",
        "words in a comma-separated sequence after sorting them alphabetically.\n",
        "Suppose the following input is supplied to the program:\n",
        "without,hello,bag,world\n",
        "Then, the output should be:\n",
        "bag,hello,without,world"
      ],
      "metadata": {
        "id": "xtOFjl-cNwTT"
      }
    },
    {
      "cell_type": "code",
      "source": [
        "input_string = input('Enter a string:')\n",
        "string1 = input_string.split(',')\n",
        "string1.sort()\n",
        "print(','.join(string1))\n"
      ],
      "metadata": {
        "colab": {
          "base_uri": "https://localhost:8080/"
        },
        "id": "2AYhZ-UOM4W_",
        "outputId": "b97380ca-459e-4eb0-c969-dfc261102674"
      },
      "execution_count": 17,
      "outputs": [
        {
          "output_type": "stream",
          "name": "stdout",
          "text": [
            "Enter a string:without,hello,bag,world\n",
            "bag,hello,without,world\n"
          ]
        }
      ]
    },
    {
      "cell_type": "markdown",
      "source": [
        "Question 4:\n",
        "Write a program that accepts a sequence of whitespace separated words as input and prints\n",
        "the words after removing all duplicate words and sorting them alphanumerically.\n",
        "Suppose the following input is supplied to the program:\n",
        "hello world and practice makes perfect and hello world again\n",
        "Then, the output should be:\n",
        "again and hello makes perfect practice world"
      ],
      "metadata": {
        "id": "3RvQcVlWQT9Y"
      }
    },
    {
      "cell_type": "code",
      "source": [
        "input_string = input('Enter a string:')\n",
        "string = input_string.split(' ')\n",
        "duplicate = []\n",
        "\n",
        "for item in string:\n",
        "  if item not in duplicate:\n",
        "    duplicate.append(item)\n",
        "  else:\n",
        "    continue\n",
        "  \n",
        "    \n",
        "\n",
        "print(duplicate)"
      ],
      "metadata": {
        "colab": {
          "base_uri": "https://localhost:8080/"
        },
        "id": "AARijaVHOCf7",
        "outputId": "d6dff026-3787-4167-876a-73cdfbf0c2d9"
      },
      "execution_count": 56,
      "outputs": [
        {
          "output_type": "stream",
          "name": "stdout",
          "text": [
            "Enter a string:hello world and practice makes perfect and hello world again\n",
            "['hello', 'world', 'and', 'practice', 'makes', 'perfect', 'again']\n"
          ]
        }
      ]
    },
    {
      "cell_type": "markdown",
      "source": [
        "Question 5: Write a program that accepts a sentence and calculate the number of letters and digits.\n",
        "Suppose the following input is supplied to the program:\n",
        "hello world! 123\n",
        "Then, the output should be:\n",
        "LETTERS 10"
      ],
      "metadata": {
        "id": "omkQlEuwVk3L"
      }
    },
    {
      "cell_type": "code",
      "source": [
        "input_String = input('Enter string:')\n",
        "alphabet = 0\n",
        "number = 0\n",
        "alphabet_list = ['a','b','c','d','e','f','g','h','i','j','k','l','m','n','o','p','q','r','s','t','u','v','w','x','y','z']\n",
        "number_list = ['1','2','3','4','5','6','7','8','9','0']\n",
        "for item in range(len(input_String)):\n",
        "  if(input_String[item] in alphabet_list):\n",
        "    alphabet += 1\n",
        "  elif(input_String[item] in number_list):\n",
        "    number += 1\n",
        "  else:\n",
        "    continue\n",
        "\n",
        "print('LETTERS:', alphabet)\n",
        "print('DIGITS:',number)"
      ],
      "metadata": {
        "colab": {
          "base_uri": "https://localhost:8080/"
        },
        "id": "RPPOM8fCQuse",
        "outputId": "9bad9e71-9b73-4aff-e504-831ad2fd86e9"
      },
      "execution_count": 63,
      "outputs": [
        {
          "output_type": "stream",
          "name": "stdout",
          "text": [
            "Enter string:hello world! 123\n",
            "LETTERS: 10\n",
            "DIGITS: 3\n"
          ]
        }
      ]
    },
    {
      "cell_type": "markdown",
      "source": [
        "Question 6:\n",
        "A website requires the users to input username and password to register. Write a program to\n",
        "check the validity of password input by users.\n",
        "Following are the criteria for checking the password:\n",
        "1. At least 1 letter between [a-z]\n",
        "2. At least 1 number between [0-9]\n",
        "1. At least 1 letter between [A-Z]\n",
        "3. At least 1 character from [$#@]\n",
        "4. Minimum length of transaction password: 6\n",
        "5. Maximum length of transaction password: 12\n",
        "Your program should accept a sequence of comma separated passwords and will check them\n",
        "according to the above criteria. Passwords that match the criteria are to be printed, each\n",
        "separated by a comma."
      ],
      "metadata": {
        "id": "rWqFpYf-XrFH"
      }
    },
    {
      "cell_type": "code",
      "source": [
        "import string\n",
        "import re\n",
        "password = input('Enter password:')\n",
        "split_password = password.split(',')\n",
        "result = []\n",
        "\n",
        "for item in split_password:\n",
        "  if not(re.search('([a-z])+', item)):\n",
        "    continue\n",
        "  \n",
        "  elif not(re.search('([0-9])',item)):\n",
        "    continue\n",
        "  \n",
        "  elif not(re.search('([A-Z])+',item)):\n",
        "    continue\n",
        "\n",
        "  elif not(re.search('([!@#$%^&*()])+',item)):\n",
        "    continue\n",
        "  \n",
        "  elif (len(item)<6) or len(item)>12:\n",
        "    continue\n",
        "\n",
        "  else:\n",
        "    result.append(item)\n",
        "\n",
        "print(result)"
      ],
      "metadata": {
        "colab": {
          "base_uri": "https://localhost:8080/"
        },
        "id": "3zc0o3cmUTIf",
        "outputId": "a49c5f6f-000d-4c2c-8f09-4fa05de51beb"
      },
      "execution_count": 74,
      "outputs": [
        {
          "output_type": "stream",
          "name": "stdout",
          "text": [
            "Enter password:ABd1234@1,a F1#,2w3E*,2We3345\n",
            "['ABd1234@1']\n"
          ]
        }
      ]
    },
    {
      "cell_type": "code",
      "source": [],
      "metadata": {
        "id": "sK6ayXI7afOe"
      },
      "execution_count": 67,
      "outputs": []
    }
  ]
}