{
  "nbformat": 4,
  "nbformat_minor": 0,
  "metadata": {
    "colab": {
      "provenance": []
    },
    "kernelspec": {
      "name": "python3",
      "display_name": "Python 3"
    },
    "language_info": {
      "name": "python"
    }
  },
  "cells": [
    {
      "cell_type": "markdown",
      "source": [
        "**Question 1:** What is the result of the code, and why?\n",
        "&gt;&gt;&gt; def func(a, b=6, c=8):\n",
        "print(a, b, c)\n",
        "&gt;&gt;&gt; func(1, 2)"
      ],
      "metadata": {
        "id": "5Dt9jBcTGGDP"
      }
    },
    {
      "cell_type": "markdown",
      "source": [
        "**Answer:** In above, 1 will assign to a, 2 will overwrite the value of b and because third argument didn't pass in function calling so c's value will remains 8. Now question might be why it didn't raise any error in function calling because of only two arguments passed. The reason behind this is in function definition value of c and b are already assign."
      ],
      "metadata": {
        "id": "A5THy3YyGcED"
      }
    },
    {
      "cell_type": "code",
      "execution_count": 7,
      "metadata": {
        "colab": {
          "base_uri": "https://localhost:8080/"
        },
        "id": "3ohfFMm3F8y1",
        "outputId": "f0733229-37c2-4d2d-92b1-944d735a045c"
      },
      "outputs": [
        {
          "output_type": "stream",
          "name": "stdout",
          "text": [
            "1 2 8\n"
          ]
        }
      ],
      "source": [
        "def func(a,b=6, c=8):\n",
        "  print(a,b,c)\n",
        "\n",
        "func(1,2)"
      ]
    },
    {
      "cell_type": "markdown",
      "source": [
        "**Question 2:** What is the result of this code, and why?\n",
        "&gt;&gt;&gt; def func(a, b, c=5):\n",
        "print(a, b, c)\n",
        "&gt;&gt;&gt; func(1, c=3, b=2)"
      ],
      "metadata": {
        "id": "PMS720vDHUqX"
      }
    },
    {
      "cell_type": "markdown",
      "source": [
        "**Answer:** In above, even order of arguments change but during function calling explicitly values are passing to corresponding variable."
      ],
      "metadata": {
        "id": "6PRlkQ_THiVz"
      }
    },
    {
      "cell_type": "code",
      "source": [
        "def func(a, b, c=5):\n",
        "  print(a, b, c)\n",
        "\n",
        "func(1, c=3, b=2)"
      ],
      "metadata": {
        "colab": {
          "base_uri": "https://localhost:8080/"
        },
        "id": "Qy8EJiE6GTQp",
        "outputId": "b814e9b6-8d61-4c00-95d5-6fb6466db221"
      },
      "execution_count": 8,
      "outputs": [
        {
          "output_type": "stream",
          "name": "stdout",
          "text": [
            "1 2 3\n"
          ]
        }
      ]
    },
    {
      "cell_type": "markdown",
      "source": [
        "**Question 3:** How about this code: what is its result, and why?\n",
        "&gt;&gt;&gt; def func(a, *pargs):\n",
        "print(a, pargs)\n",
        "&gt;&gt;&gt; func(1, 2, 3)"
      ],
      "metadata": {
        "id": "3jjMN4YLH1AD"
      }
    },
    {
      "cell_type": "markdown",
      "source": [
        "**Answer:** In above, 1 will assign to variable a and because *pargs will consider as variable size arguments. In this case, argument 2 and argument 3 will pass on to *pargs"
      ],
      "metadata": {
        "id": "NQtFnNW2Llvl"
      }
    },
    {
      "cell_type": "code",
      "source": [
        "def func(a, *pargs):\n",
        "  print(a, pargs)\n",
        "\n",
        "func(1, 2, 3)"
      ],
      "metadata": {
        "colab": {
          "base_uri": "https://localhost:8080/"
        },
        "id": "TMgTgfxKHfkJ",
        "outputId": "1e4eeebb-ff7d-4490-a2e3-7686dee1a0a3"
      },
      "execution_count": 9,
      "outputs": [
        {
          "output_type": "stream",
          "name": "stdout",
          "text": [
            "1 (2, 3)\n"
          ]
        }
      ]
    },
    {
      "cell_type": "markdown",
      "source": [
        "**Question 4:** What does this code print, and why?\n",
        "&gt;&gt;&gt; def func(a, **kargs):\n",
        "print(a, kargs)\n",
        "&gt;&gt;&gt; func(a=1, c=3, b=2)"
      ],
      "metadata": {
        "id": "dVxCJ5zwL5q1"
      }
    },
    {
      "cell_type": "markdown",
      "source": [
        "**Answer:** In above, keyword arguments passed to func. Keyword arguments work like a dictionary. value of a=1 will pass on to argument a in func and rest will pass on to **kargs as dictionary items"
      ],
      "metadata": {
        "id": "_D__TQNLMA36"
      }
    },
    {
      "cell_type": "code",
      "source": [
        "def func(a, **kargs):\n",
        "  print(a, kargs)\n",
        "func(a=1, c=3, b=2)"
      ],
      "metadata": {
        "colab": {
          "base_uri": "https://localhost:8080/"
        },
        "id": "xZyYJBpfLIYw",
        "outputId": "1ca9d83a-dfd7-40a6-ab00-3bf427660cd3"
      },
      "execution_count": 13,
      "outputs": [
        {
          "output_type": "stream",
          "name": "stdout",
          "text": [
            "1 {'c': 3, 'b': 2}\n"
          ]
        }
      ]
    },
    {
      "cell_type": "markdown",
      "source": [
        "**Question 5:** What gets printed by this, and explain?\n",
        "&gt;&gt;&gt; def func(a, b, c=8, d=5): print(a, b, c, d)\n",
        "&gt;&gt;&gt; func(1, *(5, 6))"
      ],
      "metadata": {
        "id": "lXo9c002MfKe"
      }
    },
    {
      "cell_type": "markdown",
      "source": [
        "**Answer:** In above, 1 will pass to a, *(5,6) is variable size arguments pass on to b and c while call function func(). AT last d=5 will remain same."
      ],
      "metadata": {
        "id": "oW5OrqZzOg67"
      }
    },
    {
      "cell_type": "code",
      "source": [
        "def func(a, b, c=8, d=5): \n",
        "  print(a,b,c,d)\n",
        "\n",
        "func(1, *(5, 6))"
      ],
      "metadata": {
        "colab": {
          "base_uri": "https://localhost:8080/"
        },
        "id": "0s5628DrMONf",
        "outputId": "1a790b0c-6bd3-4529-c7b4-16caa5b036bc"
      },
      "execution_count": 22,
      "outputs": [
        {
          "output_type": "stream",
          "name": "stdout",
          "text": [
            "1 5 6 5\n"
          ]
        }
      ]
    },
    {
      "cell_type": "markdown",
      "source": [
        "**Question 6:** what is the result of this, and explain?\n",
        "&gt;&gt;&gt; def func(a, b, c): a = 2; b[0] = &#39;x&#39;; c[&#39;a&#39;] = &#39;y&#39;\n",
        "&gt;&gt;&gt; l=1; m=[1]; n={&#39;a&#39;:0}\n",
        "&gt;&gt;&gt; func(l, m, n)\n",
        "\n",
        "&gt;&gt;&gt; l, m, n\n",
        "\n",
        "\n",
        "\n"
      ],
      "metadata": {
        "id": "jY3R8kQzM3yk"
      }
    },
    {
      "cell_type": "markdown",
      "source": [
        "**Answer:** In above, l=1 will pass on to a and inside function value of a will overwrite with 2. m=[1] as list passon to b and inside function because m has only one list element at index 0 is 1. so b[0] will overwrite value with 'x'. At last, dictionary n={'a':0} passed to c and inside function key's value overwrite with 'y'"
      ],
      "metadata": {
        "id": "ZaytyXkfNlxG"
      }
    },
    {
      "cell_type": "code",
      "source": [
        "def func(a, b, c):\n",
        "  a = 2; \n",
        "  b[0] = 'x';\n",
        "  c['a'] = 'y' \n",
        "  \n",
        "l=1;\n",
        "m=[1];\n",
        "n={'a':0}\n",
        "  \n",
        "func(l, m, n)\n",
        "\n",
        "print(l, m, n)"
      ],
      "metadata": {
        "colab": {
          "base_uri": "https://localhost:8080/"
        },
        "id": "NojubbU1MoI0",
        "outputId": "43f96837-762e-478c-9270-d5086f4b9859"
      },
      "execution_count": 21,
      "outputs": [
        {
          "output_type": "stream",
          "name": "stdout",
          "text": [
            "1 ['x'] {'a': 'y'}\n"
          ]
        }
      ]
    },
    {
      "cell_type": "code",
      "source": [],
      "metadata": {
        "id": "HrZsLLqQNGVR"
      },
      "execution_count": null,
      "outputs": []
    }
  ]
}