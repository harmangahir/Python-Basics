{
 "cells": [
  {
   "cell_type": "markdown",
   "id": "ece1bf03",
   "metadata": {},
   "source": [
    "# Question 1: Why are functions advantageous to have in your programs?"
   ]
  },
  {
   "cell_type": "markdown",
   "id": "831177c2",
   "metadata": {},
   "source": [
    "Answer: Functions are block or container which contains single or multiple statements and further can be reused \n",
    "    whenever require in any program."
   ]
  },
  {
   "cell_type": "markdown",
   "id": "cabf68ea",
   "metadata": {},
   "source": [
    "# Question 2: When does the code in a function run: when it's specified or when it's called?"
   ]
  },
  {
   "cell_type": "markdown",
   "id": "0f7108fd",
   "metadata": {},
   "source": [
    "Answer: Function will run when it is called only"
   ]
  },
  {
   "cell_type": "markdown",
   "id": "022eed92",
   "metadata": {},
   "source": [
    "# Question 3: What statement creates a function?"
   ]
  },
  {
   "cell_type": "markdown",
   "id": "6ec3950e",
   "metadata": {},
   "source": [
    "Answer: A function will create with keyword def. Example: def test1() creates test1 function\n",
    "    "
   ]
  },
  {
   "cell_type": "markdown",
   "id": "034627f4",
   "metadata": {},
   "source": [
    "# Question 4: What is the difference between a function and a function call?"
   ]
  },
  {
   "cell_type": "markdown",
   "id": "2df9d92c",
   "metadata": {},
   "source": [
    "Answer: A function is a block/container of single or multiple statements. A function may has return statement. It may has parameter or mutiple parameters and return result accordingly.\n",
    "\n",
    "Function Call is passing a control to function definition. Generally it is call for exection of function"
   ]
  },
  {
   "cell_type": "markdown",
   "id": "505c6691",
   "metadata": {},
   "source": [
    "# QUestion 5: How many global scopes are there in a Python program? How many local scopes?"
   ]
  },
  {
   "cell_type": "markdown",
   "id": "6d544f8d",
   "metadata": {},
   "source": [
    "Answer: In Python, there should be one global and one local scope for a function "
   ]
  },
  {
   "cell_type": "markdown",
   "id": "9f6fb296",
   "metadata": {},
   "source": [
    "# Question 6: What happens to variables in a local scope when the function call returns?"
   ]
  },
  {
   "cell_type": "markdown",
   "id": "edf63fa9",
   "metadata": {},
   "source": [
    "Answer: At the time function call returns, all the local variables inside function gets destroyed or deallocated from memory and cannot accessible later"
   ]
  },
  {
   "cell_type": "markdown",
   "id": "a1d34eab",
   "metadata": {},
   "source": [
    "# Question 7: What is the concept of a return value? Is it possible to have a return value in an expression?"
   ]
  },
  {
   "cell_type": "markdown",
   "id": "40984f9a",
   "metadata": {},
   "source": [
    "Answer: A value return after execution/evaluation of statements inside by a function called as return value. Yes, return value can be a part of expression too."
   ]
  },
  {
   "cell_type": "markdown",
   "id": "50b7e516",
   "metadata": {},
   "source": [
    "# Question 8: If a function does not have a return statement, what is the return value of a call to that function?"
   ]
  },
  {
   "cell_type": "markdown",
   "id": "22ea594d",
   "metadata": {},
   "source": [
    "Answer: NoneType"
   ]
  },
  {
   "cell_type": "markdown",
   "id": "7127c677",
   "metadata": {},
   "source": [
    "# Question 9: How do you make a function variable refer to the global variable?"
   ]
  },
  {
   "cell_type": "markdown",
   "id": "6546de0c",
   "metadata": {},
   "source": [
    "Answer: A global variable can be refer inside a functtion with keyword \"global\".\n",
    "    \n",
    "        "
   ]
  },
  {
   "cell_type": "code",
   "execution_count": 1,
   "id": "fa2bdd03",
   "metadata": {},
   "outputs": [],
   "source": [
    "#Example\n",
    "global_variable = 10\n",
    "\n",
    "def function_Test():\n",
    "    global global_variable\n",
    "    global_variable = 20\n",
    "    "
   ]
  },
  {
   "cell_type": "markdown",
   "id": "870c6a14",
   "metadata": {},
   "source": [
    "# Quesrtion 10: What is the data type of None?"
   ]
  },
  {
   "cell_type": "markdown",
   "id": "1413a390",
   "metadata": {},
   "source": [
    "Answer: NoneType"
   ]
  },
  {
   "cell_type": "markdown",
   "id": "6b6ccded",
   "metadata": {},
   "source": [
    "# Question 11: What does the sentence import areallyourpetsnamederic do?"
   ]
  },
  {
   "cell_type": "markdown",
   "id": "fb5bb840",
   "metadata": {},
   "source": [
    "Answer: This module is not present in Python. ModuleNotFoundError occured"
   ]
  },
  {
   "cell_type": "markdown",
   "id": "0b8b1c60",
   "metadata": {},
   "source": [
    "# Question 12:If you had a bacon() feature in a spam module, what would you call it after importing spam?"
   ]
  },
  {
   "cell_type": "markdown",
   "id": "044cd5bc",
   "metadata": {},
   "source": [
    "Answer: \n",
    "\n",
    "import spam\n",
    "spam.bacon()        "
   ]
  },
  {
   "cell_type": "markdown",
   "id": "7611c50f",
   "metadata": {},
   "source": [
    "# Question 13: What can you do to save a programme from crashing if it encounters an error?"
   ]
  },
  {
   "cell_type": "markdown",
   "id": "bf0ec1e8",
   "metadata": {},
   "source": [
    "Answer: I will put code inside try block to avoid program crash"
   ]
  },
  {
   "cell_type": "markdown",
   "id": "dd6e96ee",
   "metadata": {},
   "source": [
    "# Question 14: What is the purpose of the try clause? What is the purpose of the except clause?"
   ]
  },
  {
   "cell_type": "markdown",
   "id": "580e5faf",
   "metadata": {},
   "source": [
    "Answer: Try block conatins a code which could cause an error whereas except clause will handle exception generate by try block with corresponding exception object"
   ]
  }
 ],
 "metadata": {
  "kernelspec": {
   "display_name": "Python 3 (ipykernel)",
   "language": "python",
   "name": "python3"
  },
  "language_info": {
   "codemirror_mode": {
    "name": "ipython",
    "version": 3
   },
   "file_extension": ".py",
   "mimetype": "text/x-python",
   "name": "python",
   "nbconvert_exporter": "python",
   "pygments_lexer": "ipython3",
   "version": "3.9.12"
  }
 },
 "nbformat": 4,
 "nbformat_minor": 5
}
