{
  "nbformat": 4,
  "nbformat_minor": 0,
  "metadata": {
    "colab": {
      "provenance": []
    },
    "kernelspec": {
      "name": "python3",
      "display_name": "Python 3"
    },
    "language_info": {
      "name": "python"
    }
  },
  "cells": [
    {
      "cell_type": "markdown",
      "source": [
        "Question 1: 1.How many seconds are in an hour? Use the interactive interpreter as a calculator and multiply the number of seconds in a minute (60) by the number of minutes in an hour (also 60)."
      ],
      "metadata": {
        "id": "jnqhBKQLDtIJ"
      }
    },
    {
      "cell_type": "code",
      "execution_count": 2,
      "metadata": {
        "colab": {
          "base_uri": "https://localhost:8080/"
        },
        "id": "wXb74W-dDqLz",
        "outputId": "891ac461-b1da-4d65-eaf9-2a08b256ad63"
      },
      "outputs": [
        {
          "output_type": "execute_result",
          "data": {
            "text/plain": [
              "3600"
            ]
          },
          "metadata": {},
          "execution_count": 2
        }
      ],
      "source": [
        "60 * 60"
      ]
    },
    {
      "cell_type": "markdown",
      "source": [
        "Question 2: Assign the result from the previous task (seconds in an hour) to a variable called seconds_per_hour."
      ],
      "metadata": {
        "id": "hgylrSf9EBm-"
      }
    },
    {
      "cell_type": "code",
      "source": [
        "seconds_per_hour = 60 * 60\n",
        "print(seconds_per_hour)"
      ],
      "metadata": {
        "colab": {
          "base_uri": "https://localhost:8080/"
        },
        "id": "3KjN4KY8D_e_",
        "outputId": "592e3a00-d700-40c0-e823-b08656e0902a"
      },
      "execution_count": 3,
      "outputs": [
        {
          "output_type": "stream",
          "name": "stdout",
          "text": [
            "3600\n"
          ]
        }
      ]
    },
    {
      "cell_type": "markdown",
      "source": [
        "Question 3: How many seconds do you think there are in a day? Make use of the variables seconds per hour and minutes per hour."
      ],
      "metadata": {
        "id": "PzdPrApqEPO5"
      }
    },
    {
      "cell_type": "code",
      "source": [
        "seconds_per_hour = 60 * 60\n",
        "seconds_in_a_day = seconds_per_hour*24\n",
        "print(seconds_in_a_day)"
      ],
      "metadata": {
        "colab": {
          "base_uri": "https://localhost:8080/"
        },
        "id": "-397wn5YEL98",
        "outputId": "8553b6e3-fb56-44e9-b972-e22150269813"
      },
      "execution_count": 8,
      "outputs": [
        {
          "output_type": "stream",
          "name": "stdout",
          "text": [
            "86400\n"
          ]
        }
      ]
    },
    {
      "cell_type": "markdown",
      "source": [
        "Question 4: Calculate seconds per day again, but this time save the result in a variable called seconds_per_day"
      ],
      "metadata": {
        "id": "ksgCiJqlFK1V"
      }
    },
    {
      "cell_type": "code",
      "source": [
        "seconds_per_day = seconds_per_hour*24\n",
        "print(seconds_per_day)"
      ],
      "metadata": {
        "colab": {
          "base_uri": "https://localhost:8080/"
        },
        "id": "BEUPtY9lEqM3",
        "outputId": "4ca915e7-2773-4a7a-f8a1-527c2cc7db5f"
      },
      "execution_count": 10,
      "outputs": [
        {
          "output_type": "stream",
          "name": "stdout",
          "text": [
            "86400\n"
          ]
        }
      ]
    },
    {
      "cell_type": "markdown",
      "source": [
        "Question 5: Divide seconds_per_day by seconds_per_hour. Use floating-point (/) division."
      ],
      "metadata": {
        "id": "r8V7689WFZBI"
      }
    },
    {
      "cell_type": "code",
      "source": [
        "seconds_per_day / seconds_per_hour"
      ],
      "metadata": {
        "colab": {
          "base_uri": "https://localhost:8080/"
        },
        "id": "CMrIC88cE6EN",
        "outputId": "d8e6f03a-382b-40c8-b4c8-ab79dbcfe094"
      },
      "execution_count": 12,
      "outputs": [
        {
          "output_type": "execute_result",
          "data": {
            "text/plain": [
              "24.0"
            ]
          },
          "metadata": {},
          "execution_count": 12
        }
      ]
    },
    {
      "cell_type": "markdown",
      "source": [
        "Question 6: Divide seconds_per_day by seconds_per_hour, using integer (//) division. Did this number agree with the floating-point value from the previous question, aside from the final .0?\n",
        "\n",
        "Answer: Yes"
      ],
      "metadata": {
        "id": "SnCEDV8yFnoW"
      }
    },
    {
      "cell_type": "code",
      "source": [
        "seconds_per_day // seconds_per_hour"
      ],
      "metadata": {
        "colab": {
          "base_uri": "https://localhost:8080/"
        },
        "id": "p4RTIoJcFfK3",
        "outputId": "a709869b-dfdb-48da-9d4a-9df42dc640d9"
      },
      "execution_count": 13,
      "outputs": [
        {
          "output_type": "execute_result",
          "data": {
            "text/plain": [
              "24"
            ]
          },
          "metadata": {},
          "execution_count": 13
        }
      ]
    },
    {
      "cell_type": "markdown",
      "source": [
        "Question 7: Write a generator, genPrimes, that returns the sequence of prime numbers on successive calls to its next() method: 2, 3, 5, 7, 11, ..."
      ],
      "metadata": {
        "id": "Y3xajfugF6Kj"
      }
    },
    {
      "cell_type": "code",
      "source": [
        "def genPrimes():\n",
        "    n = 2\n",
        "    primes = []\n",
        "    while True:\n",
        "        for p in primes:\n",
        "            if n % p == 0:\n",
        "                break\n",
        "        else:\n",
        "            primes.append(n)\n",
        "            yield n\n",
        "        n += 1"
      ],
      "metadata": {
        "id": "TMQofVonFunG"
      },
      "execution_count": 16,
      "outputs": []
    },
    {
      "cell_type": "code",
      "source": [],
      "metadata": {
        "id": "2NhbCgfRGEmA"
      },
      "execution_count": null,
      "outputs": []
    }
  ]
}