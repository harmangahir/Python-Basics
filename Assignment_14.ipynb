{
  "nbformat": 4,
  "nbformat_minor": 0,
  "metadata": {
    "colab": {
      "provenance": []
    },
    "kernelspec": {
      "name": "python3",
      "display_name": "Python 3"
    },
    "language_info": {
      "name": "python"
    }
  },
  "cells": [
    {
      "cell_type": "markdown",
      "source": [
        "Question 1: What does RGBA stand for?\n",
        "\n",
        "Answer: In the world of colour theory, RGBA refers to the red, green, blue, and alpha (transparency) channels.All four of an RGBA value's digits may be anywhere from 0 to 255, making the value a tuple of four numbers. The red, green, blue, and alpha (transparency) values in the colour correspond to the four numbers."
      ],
      "metadata": {
        "id": "PzfsK3KY8b10"
      }
    },
    {
      "cell_type": "markdown",
      "source": [
        "Question 2: From the Pillow module, how do you get the RGBA value of any images?\n",
        "\n",
        "Answer: "
      ],
      "metadata": {
        "id": "Z52DQl128uHG"
      }
    },
    {
      "cell_type": "code",
      "source": [
        "from PIL import ImageColor\n",
        "ImageColor.getcolor('red', 'RGBA')\n",
        "ImageColor.getcolor('green', 'RGBA')"
      ],
      "metadata": {
        "colab": {
          "base_uri": "https://localhost:8080/"
        },
        "id": "U0STC-qI8tTP",
        "outputId": "7fe7085d-e8b1-4fbc-b53b-9a45188dc3c9"
      },
      "execution_count": 1,
      "outputs": [
        {
          "output_type": "execute_result",
          "data": {
            "text/plain": [
              "(0, 128, 0, 255)"
            ]
          },
          "metadata": {},
          "execution_count": 1
        }
      ]
    },
    {
      "cell_type": "markdown",
      "source": [
        "Question 3: What is a box tuple, and how does it work?\n",
        "\n",
        "Answer: A box tuple has four values: the x-coordinate of the left edge, the y-coordinate of the top edge, the width, and the height."
      ],
      "metadata": {
        "id": "EEISu89K_bzQ"
      }
    },
    {
      "cell_type": "markdown",
      "source": [
        "Question4: Use your image and load in notebook then, How can you find out the width and height of an Image object?\n",
        "\n",
        "Answer: "
      ],
      "metadata": {
        "id": "RocDA0vi_8z0"
      }
    },
    {
      "cell_type": "code",
      "source": [
        "from google.colab import drive\n",
        "drive.mount('/content/gdrive')\n",
        "from PIL import Image\n",
        "imageFile = Image.open('/content/gdrive/MyDrive/INeuron/Modules Assignments/Python Fundamentals(Submitted)/Misc Files/Harman.JPG')\n",
        "print(imageFile.size)"
      ],
      "metadata": {
        "colab": {
          "base_uri": "https://localhost:8080/"
        },
        "id": "bT__0wSe_Uh4",
        "outputId": "9c49314a-d077-4b47-b614-97e5ab8d4ae6"
      },
      "execution_count": 5,
      "outputs": [
        {
          "output_type": "stream",
          "name": "stdout",
          "text": [
            "Drive already mounted at /content/gdrive; to attempt to forcibly remount, call drive.mount(\"/content/gdrive\", force_remount=True).\n",
            "(4000, 5534)\n"
          ]
        }
      ]
    },
    {
      "cell_type": "markdown",
      "source": [
        "Question 5: What method would you call to get Image object for a 100×100 image, excluding the lower-left quarter of it?\n",
        "\n",
        "Answeer: ImageObject.crop((0, 50, 50, 50))"
      ],
      "metadata": {
        "id": "21Uixt2RA0Ot"
      }
    },
    {
      "cell_type": "markdown",
      "source": [
        "Question 6: After making changes to an Image object, how could you save it as an image file?\n",
        "\n",
        "Answer: imageObj.save('fileName.png')"
      ],
      "metadata": {
        "id": "UwhRQ9byBAIY"
      }
    },
    {
      "cell_type": "markdown",
      "source": [
        "Question 7: What module contains Pillow’s shape-drawing code?\n",
        "\n",
        "Answer: ImageDraw"
      ],
      "metadata": {
        "id": "G1Vqt1OdBOno"
      }
    },
    {
      "cell_type": "code",
      "source": [
        "from PIL import Image, ImageDraw\n",
        "imageFile = Image.open('/content/gdrive/MyDrive/INeuron/Modules Assignments/Python Fundamentals(Submitted)/Misc Files/Harman.JPG')\n",
        "draw = ImageDraw.Draw(imageFile)\n",
        "draw.rectangle(xy = (50, 50, 150, 150),\n",
        "               fill = (0, 127, 0),\n",
        "               outline = (255, 255, 255),\n",
        "               width = 5)\n",
        "  \n",
        "imageFile.show()"
      ],
      "metadata": {
        "id": "EGZi9zgqAET7"
      },
      "execution_count": 7,
      "outputs": []
    },
    {
      "cell_type": "markdown",
      "source": [
        "Question 8: Image objects do not have drawing methods. What kind of object does? How do you get this kind of object?\n",
        "\n",
        "Answer: The point(), line(), and rectangle() methods of the ImageDraw object class allow for the creation of various geometric shapes ().One may get them back by using ImageDraw.Draw() Method with the Image object. "
      ],
      "metadata": {
        "id": "3bVerEJJBwpe"
      }
    },
    {
      "cell_type": "code",
      "source": [],
      "metadata": {
        "id": "86DoY283BlMz"
      },
      "execution_count": null,
      "outputs": []
    }
  ]
}