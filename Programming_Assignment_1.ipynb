{
  "nbformat": 4,
  "nbformat_minor": 0,
  "metadata": {
    "colab": {
      "provenance": []
    },
    "kernelspec": {
      "name": "python3",
      "display_name": "Python 3"
    },
    "language_info": {
      "name": "python"
    }
  },
  "cells": [
    {
      "cell_type": "markdown",
      "source": [
        "1: Write a Python program to print &quot;Hello Python&quot;?"
      ],
      "metadata": {
        "id": "Pw24cvP4zQMl"
      }
    },
    {
      "cell_type": "code",
      "execution_count": 1,
      "metadata": {
        "colab": {
          "base_uri": "https://localhost:8080/"
        },
        "id": "Mh1isfYjzGXl",
        "outputId": "3f2fdde3-276a-46dd-83fb-4d5156c6eb83"
      },
      "outputs": [
        {
          "output_type": "stream",
          "name": "stdout",
          "text": [
            "Hello Python\n"
          ]
        }
      ],
      "source": [
        "print('Hello Python')"
      ]
    },
    {
      "cell_type": "markdown",
      "source": [
        "2. Write a Python program to do arithmetical operations addition and division.?"
      ],
      "metadata": {
        "id": "wAClmzPfzUml"
      }
    },
    {
      "cell_type": "code",
      "source": [
        "def function_add(num1, num2):\n",
        "  return num1 + num2\n",
        "\n",
        "def function_division(num1,num2):\n",
        "  if num2 > 0:\n",
        "    return num1/num2\n",
        "  else:\n",
        "    return 'Divide by Zero Exception'\n",
        "\n",
        "print('Addition result: {0}'.format(function_add(3,4)))\n",
        "print('Division result: {0}'.format(function_division(12,4)))"
      ],
      "metadata": {
        "colab": {
          "base_uri": "https://localhost:8080/"
        },
        "id": "3jdEfunQzSzv",
        "outputId": "33d2d93f-91c0-4644-e34e-27ce9bd7cb74"
      },
      "execution_count": 3,
      "outputs": [
        {
          "output_type": "stream",
          "name": "stdout",
          "text": [
            "Addition result: 7\n",
            "Division result: 3.0\n"
          ]
        }
      ]
    },
    {
      "cell_type": "markdown",
      "source": [
        "3. Write a Python program to find the area of a triangle?"
      ],
      "metadata": {
        "id": "nBGKF3AQ0IfW"
      }
    },
    {
      "cell_type": "code",
      "source": [
        "base = int(input('Enter base of triangle:'))\n",
        "perpendicular_height = int(input('Enter perpendicular height of triangle:'))\n",
        "area = 1/2 * base * perpendicular_height\n",
        "print('Area of triangle is:{0}'.format(area))"
      ],
      "metadata": {
        "colab": {
          "base_uri": "https://localhost:8080/"
        },
        "id": "TpFKC5a_z_zG",
        "outputId": "a5e05669-7bda-4567-eb0a-f5dd7222c4b1"
      },
      "execution_count": 4,
      "outputs": [
        {
          "output_type": "stream",
          "name": "stdout",
          "text": [
            "Enter base of triangle:12\n",
            "Enter perpendicular height of triangle:11\n",
            "Area of triangle is:66.0\n"
          ]
        }
      ]
    },
    {
      "cell_type": "markdown",
      "source": [
        "4. Write a Python program to swap two variables?"
      ],
      "metadata": {
        "id": "crmDQt5M0wsk"
      }
    },
    {
      "cell_type": "code",
      "source": [
        "num1 = 10\n",
        "num2 = 15\n",
        "print('Before swapping Number_1 is {0} and Number_2 is {1}'.format(num1,num2))\n",
        "\n",
        "temp = num1\n",
        "num1 = num2\n",
        "num2 = temp\n",
        "\n",
        "print('Before swapping Number_1 is {0} and Number_2 is {1}'.format(num1,num2))\n",
        "\n"
      ],
      "metadata": {
        "colab": {
          "base_uri": "https://localhost:8080/"
        },
        "id": "IR_ZXY6_0sLe",
        "outputId": "ff2c4a39-7b68-4c74-e92f-aa180c7555e0"
      },
      "execution_count": 6,
      "outputs": [
        {
          "output_type": "stream",
          "name": "stdout",
          "text": [
            "Before swapping Number_1 is 10 and Number_2 is 15\n",
            "Before swapping Number_1 is 15 and Number_2 is 10\n"
          ]
        }
      ]
    },
    {
      "cell_type": "markdown",
      "source": [
        "5. Write a Python program to generate a random number?"
      ],
      "metadata": {
        "id": "-wv01FoG1JMI"
      }
    },
    {
      "cell_type": "code",
      "source": [
        "import random\n",
        "random_numbers = random.random()\n",
        "print(random_numbers)"
      ],
      "metadata": {
        "colab": {
          "base_uri": "https://localhost:8080/"
        },
        "id": "iOhmosw40-kM",
        "outputId": "fcfeca04-47d6-4516-de88-3e6b380ab34d"
      },
      "execution_count": 7,
      "outputs": [
        {
          "output_type": "stream",
          "name": "stdout",
          "text": [
            "0.13021659606391367\n"
          ]
        }
      ]
    },
    {
      "cell_type": "code",
      "source": [],
      "metadata": {
        "id": "OtGELyAo1WjW"
      },
      "execution_count": null,
      "outputs": []
    }
  ]
}