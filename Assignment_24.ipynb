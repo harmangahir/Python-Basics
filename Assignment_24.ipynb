{
  "nbformat": 4,
  "nbformat_minor": 0,
  "metadata": {
    "colab": {
      "provenance": []
    },
    "kernelspec": {
      "name": "python3",
      "display_name": "Python 3"
    },
    "language_info": {
      "name": "python"
    }
  },
  "cells": [
    {
      "cell_type": "markdown",
      "source": [
        "**Question 1:** What is the relationship between def statements and lambda expressions ?\n"
      ],
      "metadata": {
        "id": "Uy9UjNCRPs_m"
      }
    },
    {
      "cell_type": "markdown",
      "source": [
        "**Answer:**  def statements as function header begins with the def keyword. Uniquely identify the function with a name.Python's rules for naming identifiers also apply to naming functions where as lambda expression are similar to regular Python methods in every way except that they can only have one expression, are not allowed to include any statements, and return a function object."
      ],
      "metadata": {
        "id": "8Ut7zkN_PxJw"
      }
    },
    {
      "cell_type": "code",
      "execution_count": 1,
      "metadata": {
        "colab": {
          "base_uri": "https://localhost:8080/"
        },
        "id": "sB7lxRE2Pmh7",
        "outputId": "4e86fa84-39d3-4616-f8a1-80b7142cada5"
      },
      "outputs": [
        {
          "output_type": "stream",
          "name": "stdout",
          "text": [
            "13\n"
          ]
        }
      ],
      "source": [
        "def function(a,b):\n",
        "  c = a + b\n",
        "  return c\n",
        "\n",
        "print(function(10,3))"
      ]
    },
    {
      "cell_type": "code",
      "source": [
        "result = lambda a,b: a+b\n",
        "\n",
        "print(result(10,3))"
      ],
      "metadata": {
        "colab": {
          "base_uri": "https://localhost:8080/"
        },
        "id": "CcPyqnX2QiYw",
        "outputId": "3f24c989-b162-4c5b-d2e3-13f1d47b869d"
      },
      "execution_count": 4,
      "outputs": [
        {
          "output_type": "stream",
          "name": "stdout",
          "text": [
            "13\n"
          ]
        }
      ]
    },
    {
      "cell_type": "markdown",
      "source": [
        "**Question 2:** What is the benefit of lambda?"
      ],
      "metadata": {
        "id": "varzjbTHQuuc"
      }
    },
    {
      "cell_type": "markdown",
      "source": [
        "**Answer:** \n",
        "\n",
        "*   Lambda function mostly used for short calculation or solve short expression. Mostly single line expression\n",
        "*   It provides leverage of code readability\n",
        "\n"
      ],
      "metadata": {
        "id": "c6ywnIwyQx1F"
      }
    },
    {
      "cell_type": "markdown",
      "source": [
        "**Question 3:** Compare and contrast map, filter, and reduce."
      ],
      "metadata": {
        "id": "Yg4mLpo1RQ29"
      }
    },
    {
      "cell_type": "markdown",
      "source": [
        "**Answer:** \n",
        "The map() method performs the function we gave as an input on each iterable object.map(function, iterable(s))\n",
        "\n",
        "\n",
        "Filter collects only conditional elements.\n",
        "filter() creates a new list containing only elements that meet a criterion (the function we gave). True filter()\n",
        "\n",
        "\n",
        "reduce combines all immutable elements into one value.\n",
        "reduce() calls the first two sequence items' function. The function's return value is used in another function call with the next (third) element. reduce(function, sequence[, initial]) (function, sequence[, initial])"
      ],
      "metadata": {
        "id": "jJOosIlDVFUB"
      }
    },
    {
      "cell_type": "code",
      "source": [
        "#Map\n",
        "titles = ['UID','Name','Course','Batch']\n",
        "row = ['22MCA1001','Harman','Machine Learning',2022]\n",
        "\n",
        "result = list(map(lambda x,y: {x,y}, titles,row))\n",
        "result"
      ],
      "metadata": {
        "colab": {
          "base_uri": "https://localhost:8080/"
        },
        "id": "uTbeRMDASjdj",
        "outputId": "53e2c2d0-6fb6-4662-fee4-a27a1b9bb949"
      },
      "execution_count": 12,
      "outputs": [
        {
          "output_type": "execute_result",
          "data": {
            "text/plain": [
              "[{'22MCA1001', 'UID'},\n",
              " {'Harman', 'Name'},\n",
              " {'Course', 'Machine Learning'},\n",
              " {2022, 'Batch'}]"
            ]
          },
          "metadata": {},
          "execution_count": 12
        }
      ]
    },
    {
      "cell_type": "code",
      "source": [
        "#Filter\n",
        "list1 = [1,2,3,4,5,6,7,8,9,10]\n",
        "def even(element):\n",
        "  if element%2==0:\n",
        "      return element\n",
        "\n",
        "result = list(filter(even,list1))\n",
        "print(result)"
      ],
      "metadata": {
        "colab": {
          "base_uri": "https://localhost:8080/"
        },
        "id": "LjCsuj1zQlPK",
        "outputId": "91ee2d38-f366-437b-ca96-a368e98ac29e"
      },
      "execution_count": 8,
      "outputs": [
        {
          "output_type": "stream",
          "name": "stdout",
          "text": [
            "[2, 4, 6, 8, 10]\n"
          ]
        }
      ]
    },
    {
      "cell_type": "code",
      "source": [
        "#Reduce\n",
        "from functools import reduce\n",
        "list1 = [1,2,3,4,5,6,7,8,9,10]\n",
        "\n",
        "def sum(element1, element2):\n",
        "  return element1 + element2\n",
        "\n",
        "result = reduce(sum,list1)\n",
        "print(result)"
      ],
      "metadata": {
        "colab": {
          "base_uri": "https://localhost:8080/"
        },
        "id": "KM3immZDRghm",
        "outputId": "e52f6e00-21c4-41ba-8c36-08636142ca08"
      },
      "execution_count": 14,
      "outputs": [
        {
          "output_type": "stream",
          "name": "stdout",
          "text": [
            "55\n"
          ]
        }
      ]
    },
    {
      "cell_type": "markdown",
      "source": [
        "**Question 4:** What are function annotations, and how are they used?"
      ],
      "metadata": {
        "id": "RUU6QQWsUC8D"
      }
    },
    {
      "cell_type": "markdown",
      "source": [
        "**Answer:** Annotating a function with its arguments and the value it returns has become the de facto standard for retrieving that function's metadata.\n",
        "These are simply arbitrary Python expressions that can be associated with various parts of the function.They are only relevant during the compilation process and have no effect on the code at runtime.In the absence of certain third-party libraries, they have no inherent value or meaning.They help with function type checking by specifying the expected data types for arguments and results.Using string annotations, we are able to refine the help text."
      ],
      "metadata": {
        "id": "Q1FxB7FjUfd8"
      }
    },
    {
      "cell_type": "markdown",
      "source": [
        "**Question 5:** What are recursive functions, and how are they used?"
      ],
      "metadata": {
        "id": "9ba5jZ12VNx4"
      }
    },
    {
      "cell_type": "markdown",
      "source": [
        "**Answer:** Recursive functions execute themselves.\n",
        "The function will keep calling itself until a condition is met to return a result."
      ],
      "metadata": {
        "id": "vqOaYVI0VQv-"
      }
    },
    {
      "cell_type": "code",
      "source": [
        "def factorial(item):\n",
        "    if item == 1 :\n",
        "        return 1\n",
        "    else :\n",
        "        return item * factorial(item-1)\n",
        "    \n",
        "factorial(10)"
      ],
      "metadata": {
        "colab": {
          "base_uri": "https://localhost:8080/"
        },
        "id": "e60y9yQ7Tc0g",
        "outputId": "77316484-33a3-4cd5-ee52-15bf198668e0"
      },
      "execution_count": 16,
      "outputs": [
        {
          "output_type": "execute_result",
          "data": {
            "text/plain": [
              "3628800"
            ]
          },
          "metadata": {},
          "execution_count": 16
        }
      ]
    },
    {
      "cell_type": "markdown",
      "source": [
        "**Question 6:** What are some general design guidelines for coding functions?"
      ],
      "metadata": {
        "id": "54lj7i2rVs1y"
      }
    },
    {
      "cell_type": "markdown",
      "source": [
        "**Answer:**\n",
        "\n",
        "\n",
        "\n",
        "1. The letters 'l' (lowercase el), 'O' (uppercase oh), and 'I' (uppercase eye) as single-character variable names should not be used since they resemble the numbers 1 and 0.\n",
        "2. Always use self as the initial argument when naming a function or method.\n",
        "Indent with four spaces and don't use tabs.\n",
        "3. Naming Convevtions\n",
        "4. Make use of docstrings \n",
        "5. Identifiers should only contain ASCII letters\n",
        "6. Use consistent class and method names\n",
        "\n"
      ],
      "metadata": {
        "id": "AWGuUt_EVwUU"
      }
    },
    {
      "cell_type": "markdown",
      "source": [
        "**Question 7:** Name three or more ways that functions can communicate results to a caller."
      ],
      "metadata": {
        "id": "-OdFV7ADWlpJ"
      }
    },
    {
      "cell_type": "markdown",
      "source": [
        "**Answer:** \n",
        "\n",
        "\n",
        "1. A function can only ever return a single value.\n",
        "2. In addition to a single item, a tuple of values can be returned.\n",
        "3. Able to bring back a list or dictionary\n",
        "4. Capable of Returning Objects from Functions\n",
        "five.\n",
        "5. Capable of bringing back an item of a specific kind\n",
        "\n",
        "\n"
      ],
      "metadata": {
        "id": "97ANBuSJWzFg"
      }
    },
    {
      "cell_type": "code",
      "source": [],
      "metadata": {
        "id": "aR2tuFA8VkT0"
      },
      "execution_count": null,
      "outputs": []
    }
  ]
}