{
  "nbformat": 4,
  "nbformat_minor": 0,
  "metadata": {
    "colab": {
      "provenance": []
    },
    "kernelspec": {
      "name": "python3",
      "display_name": "Python 3"
    },
    "language_info": {
      "name": "python"
    }
  },
  "cells": [
    {
      "cell_type": "markdown",
      "source": [
        "Question 1: Assign the value 7 to the variable guess_me. Then, write the conditional tests (if, else, and elif) to\n",
        "print the string &#39;too low&#39; if guess_me is less than 7, &#39;too high&#39; if greater than 7, and &#39;just right&#39; if equal\n",
        "to 7."
      ],
      "metadata": {
        "id": "_5Ti2dw_O1KX"
      }
    },
    {
      "cell_type": "code",
      "source": [
        "guess_me = int(input('Enter a value:'))\n",
        "if (guess_me < 7) :\n",
        "  print('Too low')\n",
        "elif (guess_me > 7):\n",
        "  print('Too high')\n",
        "else:\n",
        "  print('Just right')"
      ],
      "metadata": {
        "colab": {
          "base_uri": "https://localhost:8080/"
        },
        "id": "0URDoEjFO4ph",
        "outputId": "fe816c3b-9308-416e-e865-7aba0fda7450"
      },
      "execution_count": 1,
      "outputs": [
        {
          "output_type": "stream",
          "name": "stdout",
          "text": [
            "Enter a value:7\n",
            "Just right\n"
          ]
        }
      ]
    },
    {
      "cell_type": "markdown",
      "source": [
        "Question 2: Assign the value 7 to the variable guess_me and the value 1 to the variable start. Write a while\n",
        "loop that compares start with guess_me. Print too low if start is less than guess me. If start equals\n",
        "guess_me, print &#39;found it!&#39; and exit the loop. If start is greater than guess_me, print &#39;oops&#39; and exit\n",
        "the loop. Increment start at the end of the loop."
      ],
      "metadata": {
        "id": "Krau3VDEPbdF"
      }
    },
    {
      "cell_type": "code",
      "source": [
        "guess_me = 7\n",
        "start = 1\n",
        "while (start <= guess_me):\n",
        "  if(start < guess_me):\n",
        "    print('Too low')\n",
        "  elif(start == guess_me):\n",
        "    print('Found it')\n",
        "  else:\n",
        "    print('oops')\n",
        "    break\n",
        "  start+=1"
      ],
      "metadata": {
        "colab": {
          "base_uri": "https://localhost:8080/"
        },
        "id": "fPenHC6YPX9I",
        "outputId": "97da033d-75e3-4337-c5a2-0bf185133c62"
      },
      "execution_count": 7,
      "outputs": [
        {
          "output_type": "stream",
          "name": "stdout",
          "text": [
            "Too low\n",
            "Too low\n",
            "Too low\n",
            "Too low\n",
            "Too low\n",
            "Too low\n",
            "Found it\n"
          ]
        }
      ]
    },
    {
      "cell_type": "markdown",
      "source": [
        "Question 3: Print the following values of the list [3, 2, 1, 0] using a for loop."
      ],
      "metadata": {
        "id": "TZr7Bw-rQhoo"
      }
    },
    {
      "cell_type": "code",
      "source": [
        "list1 = []\n",
        "for i in range(3,-1,-1):\n",
        "  list1.append(i)\n",
        "\n",
        "list1"
      ],
      "metadata": {
        "colab": {
          "base_uri": "https://localhost:8080/"
        },
        "id": "O18N_NkNQIsQ",
        "outputId": "619bd39b-6793-4a27-a215-fb23333ef6da"
      },
      "execution_count": 14,
      "outputs": [
        {
          "output_type": "execute_result",
          "data": {
            "text/plain": [
              "[3, 2, 1, 0]"
            ]
          },
          "metadata": {},
          "execution_count": 14
        }
      ]
    },
    {
      "cell_type": "markdown",
      "source": [
        "Question 4: Use a list comprehension to make a list of the even numbers in range(10)"
      ],
      "metadata": {
        "id": "iO0DrWs8Q6EE"
      }
    },
    {
      "cell_type": "code",
      "source": [
        "list1 = list(i for i in range(1,10) if i % 2==0)\n",
        "list1"
      ],
      "metadata": {
        "colab": {
          "base_uri": "https://localhost:8080/"
        },
        "id": "z42iuKJwQnuE",
        "outputId": "bdc2ff64-7c62-4f4b-ad1e-fb8af03a9784"
      },
      "execution_count": 18,
      "outputs": [
        {
          "output_type": "execute_result",
          "data": {
            "text/plain": [
              "[2, 4, 6, 8]"
            ]
          },
          "metadata": {},
          "execution_count": 18
        }
      ]
    },
    {
      "cell_type": "markdown",
      "source": [
        "Question 5: Use a dictionary comprehension to create the dictionary squares. Use range(10) to return the\n",
        "keys, and use the square of each key as its value."
      ],
      "metadata": {
        "id": "8TtFXS0NRNzP"
      }
    },
    {
      "cell_type": "code",
      "source": [
        "squares = {i : i * i for i in range(1,10)}\n",
        "squares"
      ],
      "metadata": {
        "colab": {
          "base_uri": "https://localhost:8080/"
        },
        "id": "gP4uwyM9RDr2",
        "outputId": "f1a2c5b8-efab-4462-ab4f-d688cf0a4ee1"
      },
      "execution_count": 22,
      "outputs": [
        {
          "output_type": "execute_result",
          "data": {
            "text/plain": [
              "{1: 1, 2: 4, 3: 9, 4: 16, 5: 25, 6: 36, 7: 49, 8: 64, 9: 81}"
            ]
          },
          "metadata": {},
          "execution_count": 22
        }
      ]
    },
    {
      "cell_type": "markdown",
      "source": [
        "Question 6: Construct the set odd from the odd numbers in the range using a set comprehension (10)."
      ],
      "metadata": {
        "id": "MvfSK0yXR1RM"
      }
    },
    {
      "cell_type": "code",
      "source": [
        "odd = set(i for i in range(10) if i%2 != 0)\n",
        "odd"
      ],
      "metadata": {
        "colab": {
          "base_uri": "https://localhost:8080/"
        },
        "id": "YzW1eB-pRnDV",
        "outputId": "6689d381-0ea3-4692-ee88-f6f9e6c29932"
      },
      "execution_count": 27,
      "outputs": [
        {
          "output_type": "execute_result",
          "data": {
            "text/plain": [
              "{1, 3, 5, 7, 9}"
            ]
          },
          "metadata": {},
          "execution_count": 27
        }
      ]
    },
    {
      "cell_type": "markdown",
      "source": [
        "Question 7: Use a generator comprehension to return the string &#39;Got &#39; and a number for the numbers in\n",
        "range(10). Iterate through this by using a for loop."
      ],
      "metadata": {
        "id": "GxeiLF_OSUcM"
      }
    },
    {
      "cell_type": "code",
      "source": [
        "string_generator = ('Got ' + str(num) for num in range(10))\n",
        "for item in string_generator:\n",
        "    print(item)"
      ],
      "metadata": {
        "colab": {
          "base_uri": "https://localhost:8080/"
        },
        "id": "2H3jx6TdSA0J",
        "outputId": "98001caf-729e-4f3b-92a0-7d477db3bf5c"
      },
      "execution_count": 28,
      "outputs": [
        {
          "output_type": "stream",
          "name": "stdout",
          "text": [
            "Got 0\n",
            "Got 1\n",
            "Got 2\n",
            "Got 3\n",
            "Got 4\n",
            "Got 5\n",
            "Got 6\n",
            "Got 7\n",
            "Got 8\n",
            "Got 9\n"
          ]
        }
      ]
    },
    {
      "cell_type": "markdown",
      "source": [
        "Question 8: Define a function called good that returns the list [&#39;Harry&#39;, &#39;Ron&#39;, &#39;Hermione&#39;]."
      ],
      "metadata": {
        "id": "6v7NZcW-S1Ou"
      }
    },
    {
      "cell_type": "code",
      "source": [
        "def List():\n",
        "    return ['Harry', 'Ron', 'Hermione']\n",
        "    \n",
        "List()\n"
      ],
      "metadata": {
        "colab": {
          "base_uri": "https://localhost:8080/"
        },
        "id": "x1tOcteVSE_c",
        "outputId": "76b23102-59b6-4e1a-d012-c0c7fbfd6915"
      },
      "execution_count": 30,
      "outputs": [
        {
          "output_type": "execute_result",
          "data": {
            "text/plain": [
              "['Harry', 'Ron', 'Hermione']"
            ]
          },
          "metadata": {},
          "execution_count": 30
        }
      ]
    },
    {
      "cell_type": "markdown",
      "source": [
        "Question 9: Define a generator function called get_odds that returns the odd numbers from range(10). Use a\n",
        "for loop to find and print the third value returned."
      ],
      "metadata": {
        "id": "uCY4IQKXTP-w"
      }
    },
    {
      "cell_type": "code",
      "source": [
        "get_odds = (i for i in range(10) if i%2 != 0)\n",
        "count = 0\n",
        "for item in get_odds:\n",
        "  if (count==2):\n",
        "      print(item)\n",
        "  count+=1\n"
      ],
      "metadata": {
        "colab": {
          "base_uri": "https://localhost:8080/"
        },
        "id": "OcXbeT33TL9w",
        "outputId": "1fa520fa-edff-4fe3-8bdd-db47880ecfeb"
      },
      "execution_count": 33,
      "outputs": [
        {
          "output_type": "stream",
          "name": "stdout",
          "text": [
            "5\n"
          ]
        }
      ]
    },
    {
      "cell_type": "markdown",
      "source": [
        "Question 10: Define an exception called OopsException. Raise this exception to see what happens. Then write\n",
        "the code to catch this exception and print &#39;Caught an oops&#39;."
      ],
      "metadata": {
        "id": "FFWHOVe9UAZO"
      }
    },
    {
      "cell_type": "code",
      "source": [
        "class OopsException(Exception):\n",
        "    pass\n",
        "\n",
        "def raiseException(num):\n",
        "    if num < 0:\n",
        "        raise OopsException(num)\n",
        "try:\n",
        "    raiseException(-1)\n",
        "except OopsException as err:\n",
        "    print('Caught an oops')"
      ],
      "metadata": {
        "colab": {
          "base_uri": "https://localhost:8080/"
        },
        "id": "dPEaD4wKTh33",
        "outputId": "ab63d09f-3510-44a4-a104-aa9e7fd15059"
      },
      "execution_count": 36,
      "outputs": [
        {
          "output_type": "stream",
          "name": "stdout",
          "text": [
            "Caught an oops\n"
          ]
        }
      ]
    },
    {
      "cell_type": "markdown",
      "source": [
        "Question 11: Use zip() to make a dictionary called movies that pairs these lists: titles = [&#39;Creature of Habit&#39;,\n",
        "&#39;Crewel Fate&#39;] and plots = [&#39;A nun turns into a monster&#39;, &#39;A haunted yarn shop&#39;]."
      ],
      "metadata": {
        "id": "pMYhOwEDUNZw"
      }
    },
    {
      "cell_type": "code",
      "source": [
        "titles = ['Creature of Habit', 'Crewel Fate']\n",
        "plots = ['A nun turns into a monster', 'A haunted yarn shop']\n",
        "\n",
        "movies = {}\n",
        "for title, plot in zip(titles, plots):\n",
        "    movies[title] = plot\n",
        "\n",
        "\n",
        "movies = dict(zip(titles, plots))\n",
        "print(movies)"
      ],
      "metadata": {
        "colab": {
          "base_uri": "https://localhost:8080/"
        },
        "id": "2oiQvhGbUEoS",
        "outputId": "0d3b03be-e3c3-4fe3-88da-ae8bf883fdf5"
      },
      "execution_count": 38,
      "outputs": [
        {
          "output_type": "stream",
          "name": "stdout",
          "text": [
            "{'Creature of Habit': 'A nun turns into a monster', 'Crewel Fate': 'A haunted yarn shop'}\n"
          ]
        }
      ]
    },
    {
      "cell_type": "code",
      "source": [],
      "metadata": {
        "id": "Tr9IQ9NOUTYL"
      },
      "execution_count": null,
      "outputs": []
    }
  ]
}